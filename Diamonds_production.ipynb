{
 "cells": [
  {
   "cell_type": "code",
   "execution_count": 1,
   "id": "7cef5407",
   "metadata": {},
   "outputs": [],
   "source": [
    "import pandas as pd\n",
    "import numpy as np\n",
    "import nannyml as nml\n",
    "import matplotlib.pyplot as plt\n",
    "%matplotlib inline\n",
    "import seaborn as sns\n",
    "import sklearn\n",
    "import pickle\n",
    "\n",
    "import warnings\n",
    "warnings.filterwarnings(\"ignore\")"
   ]
  },
  {
   "cell_type": "code",
   "execution_count": 2,
   "id": "5cd5c754",
   "metadata": {},
   "outputs": [],
   "source": [
    "# load model\n",
    "with open('model_lgbm.pkl', 'rb') as f:\n",
    "    model_lgbm = pickle.load(f)"
   ]
  },
  {
   "cell_type": "code",
   "execution_count": 3,
   "id": "5444abec",
   "metadata": {
    "scrolled": true
   },
   "outputs": [
    {
     "data": {
      "text/plain": [
       "Pipeline(steps=[('scaler', RobustScaler()),\n",
       "                ('regressor',\n",
       "                 LGBMClassifier(bagging_fraction=0.76, bagging_freq=1,\n",
       "                                bagging_seed=14,\n",
       "                                feature_fraction=0.8600000000000001,\n",
       "                                feature_fraction_seed=14,\n",
       "                                learning_rate=0.017475148203262847,\n",
       "                                min_data_in_leaf=19, n_estimators=620,\n",
       "                                num_leaves=73, objective='multiclass'))])"
      ]
     },
     "execution_count": 3,
     "metadata": {},
     "output_type": "execute_result"
    }
   ],
   "source": [
    "model_lgbm"
   ]
  },
  {
   "cell_type": "code",
   "execution_count": 261,
   "id": "228ec571",
   "metadata": {},
   "outputs": [],
   "source": [
    "# load dataset prod\n",
    "df = pd.read_csv('dataset_production.csv')\n",
    "\n",
    "def preprocess_data(df):\n",
    "    \n",
    "    df.drop('Unnamed: 0', axis=1, inplace=True)\n",
    "    df['clarity'].replace({'I1':1, 'SI2':2, 'SI1':3, 'VS2':4, 'VS1':5, 'VVS2':6, 'VVS1':7, 'IF':8}, inplace=True)\n",
    "    df['color'].replace({'J':1, 'I':2, 'H':3, 'G':4, 'F':5, 'E':6, 'D':7}, inplace=True)\n",
    "    df['cut'].replace({'Fair':1, 'Good':2, 'Very Good':3, 'Premium':4, 'Ideal':5}, inplace=True)\n",
    "    \n",
    "    # lets add id col\n",
    "    df['identifier'] = df.index\n",
    "    \n",
    "    return df\n",
    "\n",
    "# get data for nannyml\n",
    "def get_data_nml(df, model):\n",
    "    \n",
    "    # preporcess data\n",
    "    df = preprocess_data(df)\n",
    "    # get X and Y to predict\n",
    "    X, y = df.drop(['Timestamp', 'identifier', 'cut'], axis=1), df.cut.values\n",
    "    # still watch the score of the model\n",
    "    print(f'score of the model on production is: {model_lgbm.score(X, y):.2%}')\n",
    "    \n",
    "    # get pred and proba\n",
    "    y_pred = model_lgbm.predict(X)\n",
    "    y_pred_proba_ = model_lgbm.predict_proba(X)\n",
    "    # to df and replace by original vals for understanding purpose (cat var)\n",
    "    df_proba = pd.DataFrame(y_pred_proba_, columns=['y_pred_proba_fair', 'y_pred_proba_good', \n",
    "                                                    'y_pred_proba_very_good', 'y_pred_proba_premium', \n",
    "                                                    'y_pred_proba_ideal'])\n",
    "#     df_proba = pd.DataFrame(y_pred_proba_, columns=['y_pred_proba_1', 'y_pred_proba_2', \n",
    "#                                                     'y_pred_proba_3', 'y_pred_proba_4', \n",
    "#                                                     'y_pred_proba_5'])\n",
    "\n",
    "    df_proba['y_pred'] = y_pred\n",
    "    df_proba['y_pred'].replace({1:'fair', 2:'good', 3:'very_good', 4:'premium', 5:'ideal'}, inplace=True)\n",
    "    \n",
    "    df = df.join(df_proba)\n",
    "    \n",
    "    df['y_true'] = df['cut'].replace({1:'fair', 2:'good', 3:'very_good', 4:'premium', 5:'ideal'})\n",
    "    # df['y_true'] = df['cut']\n",
    "    df.drop('cut', axis=1, inplace=True)\n",
    "    \n",
    "    # actually need to put timestamp with a t\n",
    "    df.rename(columns={'Timestamp':'timestamp'}, inplace=True)\n",
    "    \n",
    "    return df\n"
   ]
  },
  {
   "cell_type": "code",
   "execution_count": 262,
   "id": "ac7ff5fb",
   "metadata": {},
   "outputs": [
    {
     "name": "stdout",
     "output_type": "stream",
     "text": [
      "score of the model on production is: 73.44%\n"
     ]
    }
   ],
   "source": [
    "df = get_data_nml(df, model_lgbm)"
   ]
  },
  {
   "cell_type": "code",
   "execution_count": 263,
   "id": "9af685b2",
   "metadata": {},
   "outputs": [
    {
     "name": "stdout",
     "output_type": "stream",
     "text": [
      "<class 'pandas.core.frame.DataFrame'>\n",
      "RangeIndex: 32364 entries, 0 to 32363\n",
      "Data columns (total 18 columns):\n",
      " #   Column                  Non-Null Count  Dtype  \n",
      "---  ------                  --------------  -----  \n",
      " 0   carat                   32364 non-null  float64\n",
      " 1   color                   32364 non-null  int64  \n",
      " 2   clarity                 32364 non-null  int64  \n",
      " 3   depth                   32364 non-null  float64\n",
      " 4   table                   32364 non-null  float64\n",
      " 5   price                   32364 non-null  int64  \n",
      " 6   x                       32364 non-null  float64\n",
      " 7   y                       32364 non-null  float64\n",
      " 8   z                       32364 non-null  float64\n",
      " 9   timestamp               32364 non-null  object \n",
      " 10  identifier              32364 non-null  int64  \n",
      " 11  y_pred_proba_fair       32364 non-null  float64\n",
      " 12  y_pred_proba_good       32364 non-null  float64\n",
      " 13  y_pred_proba_very_good  32364 non-null  float64\n",
      " 14  y_pred_proba_premium    32364 non-null  float64\n",
      " 15  y_pred_proba_ideal      32364 non-null  float64\n",
      " 16  y_pred                  32364 non-null  object \n",
      " 17  y_true                  32364 non-null  object \n",
      "dtypes: float64(11), int64(4), object(3)\n",
      "memory usage: 4.4+ MB\n"
     ]
    }
   ],
   "source": [
    "df.info()"
   ]
  },
  {
   "cell_type": "code",
   "execution_count": 264,
   "id": "b028c180",
   "metadata": {},
   "outputs": [],
   "source": [
    "# separate into reference and analysis \n",
    "\n",
    "\"\"\"\n",
    "Don’t use training data as a reference data set to prevent overfitting, e.g during model score calibration.\n",
    "\"\"\"\n",
    "\n",
    "reference = df.loc[:15000] # +/- 40% for ref --> chunk by 5000\n",
    "reference['partition'] = 'reference'\n",
    "analysis = df.loc[15001:] # 60 % for analysis\n",
    "analysis['partition'] = 'analysis'\n",
    "\n",
    "# create analysis target and remove y_true from target\n",
    "analysis_targets = analysis.loc[:, ['identifier', 'y_true']]\n",
    "# remove y_pred from analysis\n",
    "analysis.drop(['y_true'], axis=1, inplace=True)"
   ]
  },
  {
   "cell_type": "code",
   "execution_count": 265,
   "id": "bfc3e77d",
   "metadata": {},
   "outputs": [],
   "source": [
    "# lets try something else"
   ]
  },
  {
   "cell_type": "code",
   "execution_count": 266,
   "id": "ac1cfc30",
   "metadata": {},
   "outputs": [
    {
     "name": "stdout",
     "output_type": "stream",
     "text": [
      "<class 'pandas.core.frame.DataFrame'>\n",
      "RangeIndex: 17363 entries, 15001 to 32363\n",
      "Data columns (total 18 columns):\n",
      " #   Column                  Non-Null Count  Dtype  \n",
      "---  ------                  --------------  -----  \n",
      " 0   carat                   17363 non-null  float64\n",
      " 1   color                   17363 non-null  int64  \n",
      " 2   clarity                 17363 non-null  int64  \n",
      " 3   depth                   17363 non-null  float64\n",
      " 4   table                   17363 non-null  float64\n",
      " 5   price                   17363 non-null  int64  \n",
      " 6   x                       17363 non-null  float64\n",
      " 7   y                       17363 non-null  float64\n",
      " 8   z                       17363 non-null  float64\n",
      " 9   timestamp               17363 non-null  object \n",
      " 10  identifier              17363 non-null  int64  \n",
      " 11  y_pred_proba_fair       17363 non-null  float64\n",
      " 12  y_pred_proba_good       17363 non-null  float64\n",
      " 13  y_pred_proba_very_good  17363 non-null  float64\n",
      " 14  y_pred_proba_premium    17363 non-null  float64\n",
      " 15  y_pred_proba_ideal      17363 non-null  float64\n",
      " 16  y_pred                  17363 non-null  object \n",
      " 17  partition               17363 non-null  object \n",
      "dtypes: float64(11), int64(4), object(3)\n",
      "memory usage: 2.4+ MB\n"
     ]
    }
   ],
   "source": [
    "analysis.info()"
   ]
  },
  {
   "cell_type": "code",
   "execution_count": 267,
   "id": "70a33219",
   "metadata": {},
   "outputs": [
    {
     "data": {
      "text/html": [
       "<div>\n",
       "<style scoped>\n",
       "    .dataframe tbody tr th:only-of-type {\n",
       "        vertical-align: middle;\n",
       "    }\n",
       "\n",
       "    .dataframe tbody tr th {\n",
       "        vertical-align: top;\n",
       "    }\n",
       "\n",
       "    .dataframe thead th {\n",
       "        text-align: right;\n",
       "    }\n",
       "</style>\n",
       "<table border=\"1\" class=\"dataframe\">\n",
       "  <thead>\n",
       "    <tr style=\"text-align: right;\">\n",
       "      <th></th>\n",
       "      <th>carat</th>\n",
       "      <th>color</th>\n",
       "      <th>clarity</th>\n",
       "      <th>depth</th>\n",
       "      <th>table</th>\n",
       "      <th>price</th>\n",
       "      <th>x</th>\n",
       "      <th>y</th>\n",
       "      <th>z</th>\n",
       "      <th>timestamp</th>\n",
       "      <th>identifier</th>\n",
       "      <th>y_pred_proba_fair</th>\n",
       "      <th>y_pred_proba_good</th>\n",
       "      <th>y_pred_proba_very_good</th>\n",
       "      <th>y_pred_proba_premium</th>\n",
       "      <th>y_pred_proba_ideal</th>\n",
       "      <th>y_pred</th>\n",
       "      <th>y_true</th>\n",
       "      <th>partition</th>\n",
       "    </tr>\n",
       "  </thead>\n",
       "  <tbody>\n",
       "    <tr>\n",
       "      <th>15001</th>\n",
       "      <td>0.4</td>\n",
       "      <td>4</td>\n",
       "      <td>6</td>\n",
       "      <td>59.2</td>\n",
       "      <td>63.0</td>\n",
       "      <td>945</td>\n",
       "      <td>4.88</td>\n",
       "      <td>4.81</td>\n",
       "      <td>2.87</td>\n",
       "      <td>2060-02-22</td>\n",
       "      <td>NaN</td>\n",
       "      <td>0.000033</td>\n",
       "      <td>0.017206</td>\n",
       "      <td>0.981077</td>\n",
       "      <td>0.000821</td>\n",
       "      <td>0.000863</td>\n",
       "      <td>very_good</td>\n",
       "      <td>very_good</td>\n",
       "      <td>analysis</td>\n",
       "    </tr>\n",
       "    <tr>\n",
       "      <th>15002</th>\n",
       "      <td>0.4</td>\n",
       "      <td>5</td>\n",
       "      <td>3</td>\n",
       "      <td>62.0</td>\n",
       "      <td>56.0</td>\n",
       "      <td>945</td>\n",
       "      <td>4.77</td>\n",
       "      <td>4.72</td>\n",
       "      <td>2.94</td>\n",
       "      <td>2060-02-23</td>\n",
       "      <td>NaN</td>\n",
       "      <td>0.000008</td>\n",
       "      <td>0.001001</td>\n",
       "      <td>0.076323</td>\n",
       "      <td>0.006916</td>\n",
       "      <td>0.915752</td>\n",
       "      <td>ideal</td>\n",
       "      <td>premium</td>\n",
       "      <td>analysis</td>\n",
       "    </tr>\n",
       "    <tr>\n",
       "      <th>15003</th>\n",
       "      <td>0.4</td>\n",
       "      <td>6</td>\n",
       "      <td>3</td>\n",
       "      <td>61.3</td>\n",
       "      <td>61.0</td>\n",
       "      <td>945</td>\n",
       "      <td>4.76</td>\n",
       "      <td>4.73</td>\n",
       "      <td>2.91</td>\n",
       "      <td>2060-02-24</td>\n",
       "      <td>NaN</td>\n",
       "      <td>0.000188</td>\n",
       "      <td>0.124595</td>\n",
       "      <td>0.760167</td>\n",
       "      <td>0.106926</td>\n",
       "      <td>0.008124</td>\n",
       "      <td>very_good</td>\n",
       "      <td>premium</td>\n",
       "      <td>analysis</td>\n",
       "    </tr>\n",
       "  </tbody>\n",
       "</table>\n",
       "</div>"
      ],
      "text/plain": [
       "       carat  color  clarity  depth  table  price     x     y     z  \\\n",
       "15001    0.4      4        6   59.2   63.0    945  4.88  4.81  2.87   \n",
       "15002    0.4      5        3   62.0   56.0    945  4.77  4.72  2.94   \n",
       "15003    0.4      6        3   61.3   61.0    945  4.76  4.73  2.91   \n",
       "\n",
       "        timestamp  identifier  y_pred_proba_fair  y_pred_proba_good  \\\n",
       "15001  2060-02-22         NaN           0.000033           0.017206   \n",
       "15002  2060-02-23         NaN           0.000008           0.001001   \n",
       "15003  2060-02-24         NaN           0.000188           0.124595   \n",
       "\n",
       "       y_pred_proba_very_good  y_pred_proba_premium  y_pred_proba_ideal  \\\n",
       "15001                0.981077              0.000821            0.000863   \n",
       "15002                0.076323              0.006916            0.915752   \n",
       "15003                0.760167              0.106926            0.008124   \n",
       "\n",
       "          y_pred     y_true partition  \n",
       "15001  very_good  very_good  analysis  \n",
       "15002      ideal    premium  analysis  \n",
       "15003  very_good    premium  analysis  "
      ]
     },
     "metadata": {},
     "output_type": "display_data"
    }
   ],
   "source": [
    "data = pd.concat([\n",
    "    reference,\n",
    "    analysis.set_index('identifier').join(analysis_targets.set_index('identifier'), on='identifier', rsuffix='_r')\n",
    "], ignore_index=True).reset_index(drop=True)\n",
    "display(data.loc[data['partition'] == 'analysis'].head(3))"
   ]
  },
  {
   "cell_type": "code",
   "execution_count": 268,
   "id": "92c92101",
   "metadata": {},
   "outputs": [
    {
     "data": {
      "text/plain": [
       "(True, [])"
      ]
     },
     "metadata": {},
     "output_type": "display_data"
    }
   ],
   "source": [
    "metadata = nml.extract_metadata(\n",
    "    reference,\n",
    "    model_name='lgbm',\n",
    "    model_type='classification_multiclass',\n",
    "    exclude_columns=['identifier']\n",
    ")\n",
    "metadata.target_column_name = 'y_true'\n",
    "display(metadata.is_complete())"
   ]
  },
  {
   "cell_type": "code",
   "execution_count": 269,
   "id": "aa632562",
   "metadata": {},
   "outputs": [],
   "source": [
    "performance_calculator = nml.PerformanceCalculator(\n",
    "    model_metadata=metadata,\n",
    "    metrics=['roc_auc', 'f1'],\n",
    "    chunk_size=6000\n",
    ").fit(reference_data=reference)\n",
    "\n",
    "# always got an error with the CPBE estimator ? \n",
    "# - could be for chunk size between ref and analysis?\n",
    "# [FIXED] TypeError: '<' not supported between instances of 'NoneType' and 'float' for the sklearn roc_auc_score but\n",
    "# all my data were the same type in all cols (checks), maybe the missing vals ?"
   ]
  },
  {
   "cell_type": "code",
   "execution_count": 270,
   "id": "c1d10664",
   "metadata": {},
   "outputs": [],
   "source": [
    "realized_performance = performance_calculator.calculate(data)"
   ]
  },
  {
   "cell_type": "code",
   "execution_count": 271,
   "id": "dd6ef1fe",
   "metadata": {},
   "outputs": [
    {
     "data": {
      "text/html": [
       "<div>\n",
       "<style scoped>\n",
       "    .dataframe tbody tr th:only-of-type {\n",
       "        vertical-align: middle;\n",
       "    }\n",
       "\n",
       "    .dataframe tbody tr th {\n",
       "        vertical-align: top;\n",
       "    }\n",
       "\n",
       "    .dataframe thead th {\n",
       "        text-align: right;\n",
       "    }\n",
       "</style>\n",
       "<table border=\"1\" class=\"dataframe\">\n",
       "  <thead>\n",
       "    <tr style=\"text-align: right;\">\n",
       "      <th></th>\n",
       "      <th>key</th>\n",
       "      <th>start_index</th>\n",
       "      <th>end_index</th>\n",
       "      <th>start_date</th>\n",
       "      <th>end_date</th>\n",
       "      <th>partition</th>\n",
       "      <th>targets_missing_rate</th>\n",
       "      <th>roc_auc</th>\n",
       "      <th>roc_auc_thresholds</th>\n",
       "      <th>roc_auc_alert</th>\n",
       "      <th>f1</th>\n",
       "      <th>f1_thresholds</th>\n",
       "      <th>f1_alert</th>\n",
       "    </tr>\n",
       "  </thead>\n",
       "  <tbody>\n",
       "    <tr>\n",
       "      <th>0</th>\n",
       "      <td>[0:5999]</td>\n",
       "      <td>0</td>\n",
       "      <td>5999</td>\n",
       "      <td>2019-01-27</td>\n",
       "      <td>2035-07-01</td>\n",
       "      <td>reference</td>\n",
       "      <td>0.0</td>\n",
       "      <td>0.912055</td>\n",
       "      <td>(0.8998266524807966, 0.9347221255209291)</td>\n",
       "      <td>False</td>\n",
       "      <td>0.752268</td>\n",
       "      <td>(0.6130630360820146, 0.8273928899213809)</td>\n",
       "      <td>False</td>\n",
       "    </tr>\n",
       "    <tr>\n",
       "      <th>1</th>\n",
       "      <td>[6000:11999]</td>\n",
       "      <td>6000</td>\n",
       "      <td>11999</td>\n",
       "      <td>2035-07-02</td>\n",
       "      <td>2051-12-04</td>\n",
       "      <td>reference</td>\n",
       "      <td>0.0</td>\n",
       "      <td>0.925389</td>\n",
       "      <td>(0.8998266524807966, 0.9347221255209291)</td>\n",
       "      <td>False</td>\n",
       "      <td>0.738033</td>\n",
       "      <td>(0.6130630360820146, 0.8273928899213809)</td>\n",
       "      <td>False</td>\n",
       "    </tr>\n",
       "    <tr>\n",
       "      <th>2</th>\n",
       "      <td>[12000:17999]</td>\n",
       "      <td>12000</td>\n",
       "      <td>17999</td>\n",
       "      <td>2051-12-05</td>\n",
       "      <td>2068-05-08</td>\n",
       "      <td>analysis</td>\n",
       "      <td>0.0</td>\n",
       "      <td>0.910279</td>\n",
       "      <td>(0.8998266524807966, 0.9347221255209291)</td>\n",
       "      <td>False</td>\n",
       "      <td>0.671407</td>\n",
       "      <td>(0.6130630360820146, 0.8273928899213809)</td>\n",
       "      <td>False</td>\n",
       "    </tr>\n",
       "  </tbody>\n",
       "</table>\n",
       "</div>"
      ],
      "text/plain": [
       "             key  start_index  end_index start_date   end_date  partition  \\\n",
       "0       [0:5999]            0       5999 2019-01-27 2035-07-01  reference   \n",
       "1   [6000:11999]         6000      11999 2035-07-02 2051-12-04  reference   \n",
       "2  [12000:17999]        12000      17999 2051-12-05 2068-05-08   analysis   \n",
       "\n",
       "   targets_missing_rate   roc_auc                        roc_auc_thresholds  \\\n",
       "0                   0.0  0.912055  (0.8998266524807966, 0.9347221255209291)   \n",
       "1                   0.0  0.925389  (0.8998266524807966, 0.9347221255209291)   \n",
       "2                   0.0  0.910279  (0.8998266524807966, 0.9347221255209291)   \n",
       "\n",
       "   roc_auc_alert        f1                             f1_thresholds  f1_alert  \n",
       "0          False  0.752268  (0.6130630360820146, 0.8273928899213809)     False  \n",
       "1          False  0.738033  (0.6130630360820146, 0.8273928899213809)     False  \n",
       "2          False  0.671407  (0.6130630360820146, 0.8273928899213809)     False  "
      ]
     },
     "metadata": {},
     "output_type": "display_data"
    }
   ],
   "source": [
    "display(realized_performance.data.head(3))"
   ]
  },
  {
   "cell_type": "code",
   "execution_count": 272,
   "id": "e21c48f5",
   "metadata": {},
   "outputs": [
    {
     "data": {
      "application/vnd.plotly.v1+json": {
       "config": {
        "plotlyServerURL": "https://plot.ly"
       },
       "data": [
        {
         "hoverinfo": "skip",
         "legendgroup": "1",
         "line": {
          "color": "#00c8e5",
          "shape": "hv",
          "width": 2
         },
         "mode": "lines",
         "name": "Reference period",
         "type": "scatter",
         "x": [
          "2019-01-27T00:00:00",
          "2035-07-02T00:00:00",
          "2051-12-04T00:00:00"
         ],
         "y": [
          0.9120550415363443,
          0.9253891567964188,
          0.9253891567964188
         ]
        },
        {
         "hoverinfo": "skip",
         "legendgroup": "1",
         "line": {
          "color": "#3b0280",
          "shape": "hv",
          "width": 2
         },
         "mode": "lines",
         "name": "Analysis period",
         "type": "scatter",
         "x": [
          "2051-12-05T00:00:00",
          "2068-05-09T00:00:00",
          "2084-10-12T00:00:00",
          "2101-03-18T00:00:00",
          "2107-09-06T00:00:00"
         ],
         "y": [
          0.9102790382927395,
          0.8934298024788487,
          0.9125388783948074,
          0.9319335007692858,
          0.9319335007692858
         ]
        },
        {
         "hoverinfo": "skip",
         "legendgroup": "1",
         "line": {
          "color": "#3b0280",
          "dash": "dot",
          "shape": "hv",
          "width": 2
         },
         "mode": "lines",
         "name": "Incomplete target data",
         "type": "scatter",
         "x": [
          "2051-12-05T00:00:00",
          "2068-05-09T00:00:00",
          "2084-10-12T00:00:00",
          "2101-03-18T00:00:00",
          "2107-09-06T00:00:00"
         ],
         "y": [
          0.9102790382927395,
          0.8934298024788487,
          0.9125388783948074,
          0.9319335007692858,
          0.9319335007692858
         ]
        },
        {
         "customdata": [
          [
           "[0:5999]",
           "Jan-27-2019",
           "Jul-01-2035",
           "0.9121",
           "<b style=\"color:#00c8e5;line-height:60px\">Reference</b>",
           "",
           "Data: <span ><b>0.00% missing</b></span>  &nbsp; &nbsp;"
          ],
          [
           "[6000:11999]",
           "Jul-02-2035",
           "Dec-04-2051",
           "0.9254",
           "<b style=\"color:#00c8e5;line-height:60px\">Reference</b>",
           "",
           "Data: <span ><b>0.00% missing</b></span>  &nbsp; &nbsp;"
          ]
         ],
         "hovertemplate": "%{customdata[4]} &nbsp; &nbsp; <span style=\"color:#AD0000\">%{customdata[5]}</span><br>Chunk: <b>%{customdata[0]}</b> &nbsp; &nbsp; From <b>%{customdata[1]}</b> to <b>%{customdata[2]}</b> &nbsp; &nbsp; <br>ROC AUC: <b>%{customdata[3]}</b>  &nbsp; &nbsp; %{customdata[6]} <extra></extra>",
         "marker": {
          "color": "#00c8e5",
          "size": 6,
          "symbol": "square"
         },
         "mode": "markers",
         "name": "Reference",
         "showlegend": false,
         "type": "scatter",
         "x": [
          "2027-04-14T12:00:00",
          "2043-09-17T12:00:00"
         ],
         "y": [
          0.9120550415363443,
          0.9253891567964188
         ]
        },
        {
         "customdata": [
          [
           "[12000:17999]",
           "Dec-05-2051",
           "May-08-2068",
           "0.9103",
           "<b style=\"color:#3b0280;line-height:60px\">Analysis</b>",
           "",
           "Data: <span ><b>0.00% missing</b></span>  &nbsp; &nbsp;"
          ],
          [
           "[24000:29999]",
           "Oct-12-2084",
           "Mar-17-2101",
           "0.9125",
           "<b style=\"color:#3b0280;line-height:60px\">Analysis</b>",
           "",
           "Data: <span ><b>0.00% missing</b></span>  &nbsp; &nbsp;"
          ],
          [
           "[30000:32363]",
           "Mar-18-2101",
           "Sep-06-2107",
           "0.9319",
           "<b style=\"color:#3b0280;line-height:60px\">Analysis</b>",
           "",
           "Data: <span ><b>0.00% missing</b></span>  &nbsp; &nbsp;"
          ]
         ],
         "hovertemplate": "%{customdata[4]} &nbsp; &nbsp; <span style=\"color:#AD0000\">%{customdata[5]}</span><br>Chunk: <b>%{customdata[0]}</b> &nbsp; &nbsp; From <b>%{customdata[1]}</b> to <b>%{customdata[2]}</b> &nbsp; &nbsp; <br>ROC AUC: <b>%{customdata[3]}</b>  &nbsp; &nbsp; %{customdata[6]} <extra></extra>",
         "marker": {
          "color": "#3b0280",
          "size": 6,
          "symbol": "square"
         },
         "mode": "markers",
         "name": "No change",
         "showlegend": false,
         "type": "scatter",
         "x": [
          "2060-02-20T12:00:00",
          "2092-12-28T12:00:00",
          "2104-06-11T12:00:00"
         ],
         "y": [
          0.9102790382927395,
          0.9125388783948074,
          0.9319335007692858
         ]
        },
        {
         "customdata": [
          [
           "[18000:23999]",
           "May-09-2068",
           "Oct-11-2084",
           "0.8934",
           "<b style=\"color:#3b0280;line-height:60px\">Analysis</b>",
           "⚠ <b>Drift detected</b>",
           "Data: <span ><b>0.00% missing</b></span>  &nbsp; &nbsp;"
          ]
         ],
         "hovertemplate": "%{customdata[4]} &nbsp; &nbsp; <span style=\"color:#AD0000\">%{customdata[5]}</span><br>Chunk: <b>%{customdata[0]}</b> &nbsp; &nbsp; From <b>%{customdata[1]}</b> to <b>%{customdata[2]}</b> &nbsp; &nbsp; <br>ROC AUC: <b>%{customdata[3]}</b>  &nbsp; &nbsp; %{customdata[6]} <extra></extra>",
         "marker": {
          "color": "#DD4040",
          "size": 6,
          "symbol": "diamond"
         },
         "mode": "markers",
         "name": "Change",
         "showlegend": false,
         "type": "scatter",
         "x": [
          "2076-07-25T12:00:00"
         ],
         "y": [
          0.8934298024788487
         ]
        },
        {
         "legendgroup": "1",
         "line": {
          "color": "#DD4040",
          "dash": "dash",
          "width": 1
         },
         "mode": "lines",
         "name": "Performance threshold",
         "type": "scatter",
         "x": [
          [
           1807704000000000000
          ],
          [
           4242628800000000000
          ]
         ],
         "y": [
          null,
          null
         ]
        },
        {
         "line": {
          "color": "rgba(0,0,0,0)"
         },
         "mode": "lines",
         "showlegend": false,
         "type": "scatter",
         "x": [
          [
           1807704000000000000
          ],
          [
           4242628800000000000
          ]
         ],
         "y": [
          null,
          null
         ]
        },
        {
         "fill": "tonexty",
         "fillcolor": "rgba(0.8666666666666667, 0.25098039215686274, 0.25098039215686274, 0.2)",
         "legendgroup": "1",
         "line": {
          "color": "rgba(0,0,0,0)"
         },
         "marker": {
          "color": "#DD4040",
          "size": 6,
          "symbol": "diamond"
         },
         "mode": "lines+markers",
         "name": "Degraded performance",
         "type": "scatter",
         "x": [
          [
           1807704000000000000
          ],
          [
           4242628800000000000
          ]
         ],
         "y": [
          null,
          null
         ]
        }
       ],
       "layout": {
        "annotations": [
         {
          "font": {
           "color": "#DD4040"
          },
          "showarrow": false,
          "text": "0.90",
          "x": 1,
          "xanchor": "right",
          "xref": "x domain",
          "y": 0.8998266524807966,
          "yanchor": "bottom",
          "yref": "y"
         },
         {
          "font": {
           "color": "#DD4040"
          },
          "showarrow": false,
          "text": "0.93",
          "x": 1,
          "xanchor": "right",
          "xref": "x domain",
          "y": 0.9347221255209291,
          "yanchor": "bottom",
          "yref": "y"
         }
        ],
        "hoverlabel": {
         "bgcolor": "white",
         "font": {
          "size": 14
         }
        },
        "legend": {
         "itemclick": false,
         "itemdoubleclick": false,
         "orientation": "h",
         "traceorder": "normal",
         "x": 0,
         "xanchor": "left",
         "y": -0.25,
         "yanchor": "top"
        },
        "paper_bgcolor": "rgba(255,255,255,1)",
        "plot_bgcolor": "rgba(255,255,255,1)",
        "shapes": [
         {
          "layer": "below",
          "line": {
           "color": "#DD4040",
           "dash": "dash",
           "width": 1
          },
          "type": "line",
          "x0": 0,
          "x1": 1,
          "xref": "x domain",
          "y0": 0.8998266524807966,
          "y1": 0.8998266524807966,
          "yref": "y"
         },
         {
          "layer": "below",
          "line": {
           "color": "#DD4040",
           "dash": "dash",
           "width": 1
          },
          "type": "line",
          "x0": 0,
          "x1": 1,
          "xref": "x domain",
          "y0": 0.9347221255209291,
          "y1": 0.9347221255209291,
          "yref": "y"
         },
         {
          "layer": "below",
          "line": {
           "color": "#3b0280",
           "dash": "dash",
           "width": 1
          },
          "type": "line",
          "x0": "2051-12-05T00:00:00",
          "x1": "2051-12-05T00:00:00",
          "xref": "x",
          "y0": 0,
          "y1": 1,
          "yref": "y domain"
         },
         {
          "fillcolor": "#DD4040",
          "layer": "below",
          "line": {
           "width": 0
          },
          "opacity": 0.2,
          "type": "rect",
          "x0": "2068-05-09T00:00:00",
          "x1": "2084-10-11T00:00:00",
          "xref": "x",
          "y0": 0,
          "y1": 1,
          "yref": "y domain"
         }
        ],
        "template": {
         "data": {
          "bar": [
           {
            "error_x": {
             "color": "#2a3f5f"
            },
            "error_y": {
             "color": "#2a3f5f"
            },
            "marker": {
             "line": {
              "color": "#E5ECF6",
              "width": 0.5
             },
             "pattern": {
              "fillmode": "overlay",
              "size": 10,
              "solidity": 0.2
             }
            },
            "type": "bar"
           }
          ],
          "barpolar": [
           {
            "marker": {
             "line": {
              "color": "#E5ECF6",
              "width": 0.5
             },
             "pattern": {
              "fillmode": "overlay",
              "size": 10,
              "solidity": 0.2
             }
            },
            "type": "barpolar"
           }
          ],
          "carpet": [
           {
            "aaxis": {
             "endlinecolor": "#2a3f5f",
             "gridcolor": "white",
             "linecolor": "white",
             "minorgridcolor": "white",
             "startlinecolor": "#2a3f5f"
            },
            "baxis": {
             "endlinecolor": "#2a3f5f",
             "gridcolor": "white",
             "linecolor": "white",
             "minorgridcolor": "white",
             "startlinecolor": "#2a3f5f"
            },
            "type": "carpet"
           }
          ],
          "choropleth": [
           {
            "colorbar": {
             "outlinewidth": 0,
             "ticks": ""
            },
            "type": "choropleth"
           }
          ],
          "contour": [
           {
            "colorbar": {
             "outlinewidth": 0,
             "ticks": ""
            },
            "colorscale": [
             [
              0,
              "#0d0887"
             ],
             [
              0.1111111111111111,
              "#46039f"
             ],
             [
              0.2222222222222222,
              "#7201a8"
             ],
             [
              0.3333333333333333,
              "#9c179e"
             ],
             [
              0.4444444444444444,
              "#bd3786"
             ],
             [
              0.5555555555555556,
              "#d8576b"
             ],
             [
              0.6666666666666666,
              "#ed7953"
             ],
             [
              0.7777777777777778,
              "#fb9f3a"
             ],
             [
              0.8888888888888888,
              "#fdca26"
             ],
             [
              1,
              "#f0f921"
             ]
            ],
            "type": "contour"
           }
          ],
          "contourcarpet": [
           {
            "colorbar": {
             "outlinewidth": 0,
             "ticks": ""
            },
            "type": "contourcarpet"
           }
          ],
          "heatmap": [
           {
            "colorbar": {
             "outlinewidth": 0,
             "ticks": ""
            },
            "colorscale": [
             [
              0,
              "#0d0887"
             ],
             [
              0.1111111111111111,
              "#46039f"
             ],
             [
              0.2222222222222222,
              "#7201a8"
             ],
             [
              0.3333333333333333,
              "#9c179e"
             ],
             [
              0.4444444444444444,
              "#bd3786"
             ],
             [
              0.5555555555555556,
              "#d8576b"
             ],
             [
              0.6666666666666666,
              "#ed7953"
             ],
             [
              0.7777777777777778,
              "#fb9f3a"
             ],
             [
              0.8888888888888888,
              "#fdca26"
             ],
             [
              1,
              "#f0f921"
             ]
            ],
            "type": "heatmap"
           }
          ],
          "heatmapgl": [
           {
            "colorbar": {
             "outlinewidth": 0,
             "ticks": ""
            },
            "colorscale": [
             [
              0,
              "#0d0887"
             ],
             [
              0.1111111111111111,
              "#46039f"
             ],
             [
              0.2222222222222222,
              "#7201a8"
             ],
             [
              0.3333333333333333,
              "#9c179e"
             ],
             [
              0.4444444444444444,
              "#bd3786"
             ],
             [
              0.5555555555555556,
              "#d8576b"
             ],
             [
              0.6666666666666666,
              "#ed7953"
             ],
             [
              0.7777777777777778,
              "#fb9f3a"
             ],
             [
              0.8888888888888888,
              "#fdca26"
             ],
             [
              1,
              "#f0f921"
             ]
            ],
            "type": "heatmapgl"
           }
          ],
          "histogram": [
           {
            "marker": {
             "pattern": {
              "fillmode": "overlay",
              "size": 10,
              "solidity": 0.2
             }
            },
            "type": "histogram"
           }
          ],
          "histogram2d": [
           {
            "colorbar": {
             "outlinewidth": 0,
             "ticks": ""
            },
            "colorscale": [
             [
              0,
              "#0d0887"
             ],
             [
              0.1111111111111111,
              "#46039f"
             ],
             [
              0.2222222222222222,
              "#7201a8"
             ],
             [
              0.3333333333333333,
              "#9c179e"
             ],
             [
              0.4444444444444444,
              "#bd3786"
             ],
             [
              0.5555555555555556,
              "#d8576b"
             ],
             [
              0.6666666666666666,
              "#ed7953"
             ],
             [
              0.7777777777777778,
              "#fb9f3a"
             ],
             [
              0.8888888888888888,
              "#fdca26"
             ],
             [
              1,
              "#f0f921"
             ]
            ],
            "type": "histogram2d"
           }
          ],
          "histogram2dcontour": [
           {
            "colorbar": {
             "outlinewidth": 0,
             "ticks": ""
            },
            "colorscale": [
             [
              0,
              "#0d0887"
             ],
             [
              0.1111111111111111,
              "#46039f"
             ],
             [
              0.2222222222222222,
              "#7201a8"
             ],
             [
              0.3333333333333333,
              "#9c179e"
             ],
             [
              0.4444444444444444,
              "#bd3786"
             ],
             [
              0.5555555555555556,
              "#d8576b"
             ],
             [
              0.6666666666666666,
              "#ed7953"
             ],
             [
              0.7777777777777778,
              "#fb9f3a"
             ],
             [
              0.8888888888888888,
              "#fdca26"
             ],
             [
              1,
              "#f0f921"
             ]
            ],
            "type": "histogram2dcontour"
           }
          ],
          "mesh3d": [
           {
            "colorbar": {
             "outlinewidth": 0,
             "ticks": ""
            },
            "type": "mesh3d"
           }
          ],
          "parcoords": [
           {
            "line": {
             "colorbar": {
              "outlinewidth": 0,
              "ticks": ""
             }
            },
            "type": "parcoords"
           }
          ],
          "pie": [
           {
            "automargin": true,
            "type": "pie"
           }
          ],
          "scatter": [
           {
            "fillpattern": {
             "fillmode": "overlay",
             "size": 10,
             "solidity": 0.2
            },
            "type": "scatter"
           }
          ],
          "scatter3d": [
           {
            "line": {
             "colorbar": {
              "outlinewidth": 0,
              "ticks": ""
             }
            },
            "marker": {
             "colorbar": {
              "outlinewidth": 0,
              "ticks": ""
             }
            },
            "type": "scatter3d"
           }
          ],
          "scattercarpet": [
           {
            "marker": {
             "colorbar": {
              "outlinewidth": 0,
              "ticks": ""
             }
            },
            "type": "scattercarpet"
           }
          ],
          "scattergeo": [
           {
            "marker": {
             "colorbar": {
              "outlinewidth": 0,
              "ticks": ""
             }
            },
            "type": "scattergeo"
           }
          ],
          "scattergl": [
           {
            "marker": {
             "colorbar": {
              "outlinewidth": 0,
              "ticks": ""
             }
            },
            "type": "scattergl"
           }
          ],
          "scattermapbox": [
           {
            "marker": {
             "colorbar": {
              "outlinewidth": 0,
              "ticks": ""
             }
            },
            "type": "scattermapbox"
           }
          ],
          "scatterpolar": [
           {
            "marker": {
             "colorbar": {
              "outlinewidth": 0,
              "ticks": ""
             }
            },
            "type": "scatterpolar"
           }
          ],
          "scatterpolargl": [
           {
            "marker": {
             "colorbar": {
              "outlinewidth": 0,
              "ticks": ""
             }
            },
            "type": "scatterpolargl"
           }
          ],
          "scatterternary": [
           {
            "marker": {
             "colorbar": {
              "outlinewidth": 0,
              "ticks": ""
             }
            },
            "type": "scatterternary"
           }
          ],
          "surface": [
           {
            "colorbar": {
             "outlinewidth": 0,
             "ticks": ""
            },
            "colorscale": [
             [
              0,
              "#0d0887"
             ],
             [
              0.1111111111111111,
              "#46039f"
             ],
             [
              0.2222222222222222,
              "#7201a8"
             ],
             [
              0.3333333333333333,
              "#9c179e"
             ],
             [
              0.4444444444444444,
              "#bd3786"
             ],
             [
              0.5555555555555556,
              "#d8576b"
             ],
             [
              0.6666666666666666,
              "#ed7953"
             ],
             [
              0.7777777777777778,
              "#fb9f3a"
             ],
             [
              0.8888888888888888,
              "#fdca26"
             ],
             [
              1,
              "#f0f921"
             ]
            ],
            "type": "surface"
           }
          ],
          "table": [
           {
            "cells": {
             "fill": {
              "color": "#EBF0F8"
             },
             "line": {
              "color": "white"
             }
            },
            "header": {
             "fill": {
              "color": "#C8D4E3"
             },
             "line": {
              "color": "white"
             }
            },
            "type": "table"
           }
          ]
         },
         "layout": {
          "annotationdefaults": {
           "arrowcolor": "#2a3f5f",
           "arrowhead": 0,
           "arrowwidth": 1
          },
          "autotypenumbers": "strict",
          "coloraxis": {
           "colorbar": {
            "outlinewidth": 0,
            "ticks": ""
           }
          },
          "colorscale": {
           "diverging": [
            [
             0,
             "#8e0152"
            ],
            [
             0.1,
             "#c51b7d"
            ],
            [
             0.2,
             "#de77ae"
            ],
            [
             0.3,
             "#f1b6da"
            ],
            [
             0.4,
             "#fde0ef"
            ],
            [
             0.5,
             "#f7f7f7"
            ],
            [
             0.6,
             "#e6f5d0"
            ],
            [
             0.7,
             "#b8e186"
            ],
            [
             0.8,
             "#7fbc41"
            ],
            [
             0.9,
             "#4d9221"
            ],
            [
             1,
             "#276419"
            ]
           ],
           "sequential": [
            [
             0,
             "#0d0887"
            ],
            [
             0.1111111111111111,
             "#46039f"
            ],
            [
             0.2222222222222222,
             "#7201a8"
            ],
            [
             0.3333333333333333,
             "#9c179e"
            ],
            [
             0.4444444444444444,
             "#bd3786"
            ],
            [
             0.5555555555555556,
             "#d8576b"
            ],
            [
             0.6666666666666666,
             "#ed7953"
            ],
            [
             0.7777777777777778,
             "#fb9f3a"
            ],
            [
             0.8888888888888888,
             "#fdca26"
            ],
            [
             1,
             "#f0f921"
            ]
           ],
           "sequentialminus": [
            [
             0,
             "#0d0887"
            ],
            [
             0.1111111111111111,
             "#46039f"
            ],
            [
             0.2222222222222222,
             "#7201a8"
            ],
            [
             0.3333333333333333,
             "#9c179e"
            ],
            [
             0.4444444444444444,
             "#bd3786"
            ],
            [
             0.5555555555555556,
             "#d8576b"
            ],
            [
             0.6666666666666666,
             "#ed7953"
            ],
            [
             0.7777777777777778,
             "#fb9f3a"
            ],
            [
             0.8888888888888888,
             "#fdca26"
            ],
            [
             1,
             "#f0f921"
            ]
           ]
          },
          "colorway": [
           "#636efa",
           "#EF553B",
           "#00cc96",
           "#ab63fa",
           "#FFA15A",
           "#19d3f3",
           "#FF6692",
           "#B6E880",
           "#FF97FF",
           "#FECB52"
          ],
          "font": {
           "color": "#2a3f5f"
          },
          "geo": {
           "bgcolor": "white",
           "lakecolor": "white",
           "landcolor": "#E5ECF6",
           "showlakes": true,
           "showland": true,
           "subunitcolor": "white"
          },
          "hoverlabel": {
           "align": "left"
          },
          "hovermode": "closest",
          "mapbox": {
           "style": "light"
          },
          "paper_bgcolor": "white",
          "plot_bgcolor": "#E5ECF6",
          "polar": {
           "angularaxis": {
            "gridcolor": "white",
            "linecolor": "white",
            "ticks": ""
           },
           "bgcolor": "#E5ECF6",
           "radialaxis": {
            "gridcolor": "white",
            "linecolor": "white",
            "ticks": ""
           }
          },
          "scene": {
           "xaxis": {
            "backgroundcolor": "#E5ECF6",
            "gridcolor": "white",
            "gridwidth": 2,
            "linecolor": "white",
            "showbackground": true,
            "ticks": "",
            "zerolinecolor": "white"
           },
           "yaxis": {
            "backgroundcolor": "#E5ECF6",
            "gridcolor": "white",
            "gridwidth": 2,
            "linecolor": "white",
            "showbackground": true,
            "ticks": "",
            "zerolinecolor": "white"
           },
           "zaxis": {
            "backgroundcolor": "#E5ECF6",
            "gridcolor": "white",
            "gridwidth": 2,
            "linecolor": "white",
            "showbackground": true,
            "ticks": "",
            "zerolinecolor": "white"
           }
          },
          "shapedefaults": {
           "line": {
            "color": "#2a3f5f"
           }
          },
          "ternary": {
           "aaxis": {
            "gridcolor": "white",
            "linecolor": "white",
            "ticks": ""
           },
           "baxis": {
            "gridcolor": "white",
            "linecolor": "white",
            "ticks": ""
           },
           "bgcolor": "#E5ECF6",
           "caxis": {
            "gridcolor": "white",
            "linecolor": "white",
            "ticks": ""
           }
          },
          "title": {
           "x": 0.05
          },
          "xaxis": {
           "automargin": true,
           "gridcolor": "white",
           "linecolor": "white",
           "ticks": "",
           "title": {
            "standoff": 15
           },
           "zerolinecolor": "white",
           "zerolinewidth": 2
          },
          "yaxis": {
           "automargin": true,
           "gridcolor": "white",
           "linecolor": "white",
           "ticks": "",
           "title": {
            "standoff": 15
           },
           "zerolinecolor": "white",
           "zerolinewidth": 2
          }
         }
        },
        "title": {
         "text": "Realized performance: ROC AUC"
        },
        "xaxis": {
         "linecolor": "#666666",
         "mirror": true,
         "showgrid": false,
         "title": {
          "text": "Time"
         },
         "zeroline": false
        },
        "yaxis": {
         "linecolor": "#666666",
         "mirror": true,
         "showgrid": false,
         "title": {
          "text": "Realized performance"
         },
         "zeroline": false
        }
       }
      },
      "text/html": [
       "<div>                            <div id=\"31c3d6de-243c-4346-8b75-d2459b6d7c3a\" class=\"plotly-graph-div\" style=\"height:525px; width:100%;\"></div>            <script type=\"text/javascript\">                require([\"plotly\"], function(Plotly) {                    window.PLOTLYENV=window.PLOTLYENV || {};                                    if (document.getElementById(\"31c3d6de-243c-4346-8b75-d2459b6d7c3a\")) {                    Plotly.newPlot(                        \"31c3d6de-243c-4346-8b75-d2459b6d7c3a\",                        [{\"hoverinfo\":\"skip\",\"legendgroup\":\"1\",\"line\":{\"color\":\"#00c8e5\",\"shape\":\"hv\",\"width\":2},\"mode\":\"lines\",\"name\":\"Reference period\",\"x\":[\"2019-01-27T00:00:00\",\"2035-07-02T00:00:00\",\"2051-12-04T00:00:00\"],\"y\":[0.9120550415363443,0.9253891567964188,0.9253891567964188],\"type\":\"scatter\"},{\"hoverinfo\":\"skip\",\"legendgroup\":\"1\",\"line\":{\"color\":\"#3b0280\",\"shape\":\"hv\",\"width\":2},\"mode\":\"lines\",\"name\":\"Analysis period\",\"x\":[\"2051-12-05T00:00:00\",\"2068-05-09T00:00:00\",\"2084-10-12T00:00:00\",\"2101-03-18T00:00:00\",\"2107-09-06T00:00:00\"],\"y\":[0.9102790382927395,0.8934298024788487,0.9125388783948074,0.9319335007692858,0.9319335007692858],\"type\":\"scatter\"},{\"hoverinfo\":\"skip\",\"legendgroup\":\"1\",\"line\":{\"color\":\"#3b0280\",\"dash\":\"dot\",\"shape\":\"hv\",\"width\":2},\"mode\":\"lines\",\"name\":\"Incomplete target data\",\"x\":[\"2051-12-05T00:00:00\",\"2068-05-09T00:00:00\",\"2084-10-12T00:00:00\",\"2101-03-18T00:00:00\",\"2107-09-06T00:00:00\"],\"y\":[0.9102790382927395,0.8934298024788487,0.9125388783948074,0.9319335007692858,0.9319335007692858],\"type\":\"scatter\"},{\"customdata\":[[\"[0:5999]\",\"Jan-27-2019\",\"Jul-01-2035\",\"0.9121\",\"<b style=\\\"color:#00c8e5;line-height:60px\\\">Reference</b>\",\"\",\"Data: <span ><b>0.00% missing</b></span>  &nbsp; &nbsp;\"],[\"[6000:11999]\",\"Jul-02-2035\",\"Dec-04-2051\",\"0.9254\",\"<b style=\\\"color:#00c8e5;line-height:60px\\\">Reference</b>\",\"\",\"Data: <span ><b>0.00% missing</b></span>  &nbsp; &nbsp;\"]],\"hovertemplate\":\"%{customdata[4]} &nbsp; &nbsp; <span style=\\\"color:#AD0000\\\">%{customdata[5]}</span><br>Chunk: <b>%{customdata[0]}</b> &nbsp; &nbsp; From <b>%{customdata[1]}</b> to <b>%{customdata[2]}</b> &nbsp; &nbsp; <br>ROC AUC: <b>%{customdata[3]}</b>  &nbsp; &nbsp; %{customdata[6]} <extra></extra>\",\"marker\":{\"color\":\"#00c8e5\",\"size\":6,\"symbol\":\"square\"},\"mode\":\"markers\",\"name\":\"Reference\",\"showlegend\":false,\"x\":[\"2027-04-14T12:00:00\",\"2043-09-17T12:00:00\"],\"y\":[0.9120550415363443,0.9253891567964188],\"type\":\"scatter\"},{\"customdata\":[[\"[12000:17999]\",\"Dec-05-2051\",\"May-08-2068\",\"0.9103\",\"<b style=\\\"color:#3b0280;line-height:60px\\\">Analysis</b>\",\"\",\"Data: <span ><b>0.00% missing</b></span>  &nbsp; &nbsp;\"],[\"[24000:29999]\",\"Oct-12-2084\",\"Mar-17-2101\",\"0.9125\",\"<b style=\\\"color:#3b0280;line-height:60px\\\">Analysis</b>\",\"\",\"Data: <span ><b>0.00% missing</b></span>  &nbsp; &nbsp;\"],[\"[30000:32363]\",\"Mar-18-2101\",\"Sep-06-2107\",\"0.9319\",\"<b style=\\\"color:#3b0280;line-height:60px\\\">Analysis</b>\",\"\",\"Data: <span ><b>0.00% missing</b></span>  &nbsp; &nbsp;\"]],\"hovertemplate\":\"%{customdata[4]} &nbsp; &nbsp; <span style=\\\"color:#AD0000\\\">%{customdata[5]}</span><br>Chunk: <b>%{customdata[0]}</b> &nbsp; &nbsp; From <b>%{customdata[1]}</b> to <b>%{customdata[2]}</b> &nbsp; &nbsp; <br>ROC AUC: <b>%{customdata[3]}</b>  &nbsp; &nbsp; %{customdata[6]} <extra></extra>\",\"marker\":{\"color\":\"#3b0280\",\"size\":6,\"symbol\":\"square\"},\"mode\":\"markers\",\"name\":\"No change\",\"showlegend\":false,\"x\":[\"2060-02-20T12:00:00\",\"2092-12-28T12:00:00\",\"2104-06-11T12:00:00\"],\"y\":[0.9102790382927395,0.9125388783948074,0.9319335007692858],\"type\":\"scatter\"},{\"customdata\":[[\"[18000:23999]\",\"May-09-2068\",\"Oct-11-2084\",\"0.8934\",\"<b style=\\\"color:#3b0280;line-height:60px\\\">Analysis</b>\",\"\\u26a0 <b>Drift detected</b>\",\"Data: <span ><b>0.00% missing</b></span>  &nbsp; &nbsp;\"]],\"hovertemplate\":\"%{customdata[4]} &nbsp; &nbsp; <span style=\\\"color:#AD0000\\\">%{customdata[5]}</span><br>Chunk: <b>%{customdata[0]}</b> &nbsp; &nbsp; From <b>%{customdata[1]}</b> to <b>%{customdata[2]}</b> &nbsp; &nbsp; <br>ROC AUC: <b>%{customdata[3]}</b>  &nbsp; &nbsp; %{customdata[6]} <extra></extra>\",\"marker\":{\"color\":\"#DD4040\",\"size\":6,\"symbol\":\"diamond\"},\"mode\":\"markers\",\"name\":\"Change\",\"showlegend\":false,\"x\":[\"2076-07-25T12:00:00\"],\"y\":[0.8934298024788487],\"type\":\"scatter\"},{\"legendgroup\":\"1\",\"line\":{\"color\":\"#DD4040\",\"dash\":\"dash\",\"width\":1},\"mode\":\"lines\",\"name\":\"Performance threshold\",\"x\":[[1807704000000000000],[4242628800000000000]],\"y\":[null,null],\"type\":\"scatter\"},{\"line\":{\"color\":\"rgba(0,0,0,0)\"},\"mode\":\"lines\",\"showlegend\":false,\"x\":[[1807704000000000000],[4242628800000000000]],\"y\":[null,null],\"type\":\"scatter\"},{\"fill\":\"tonexty\",\"fillcolor\":\"rgba(0.8666666666666667, 0.25098039215686274, 0.25098039215686274, 0.2)\",\"legendgroup\":\"1\",\"line\":{\"color\":\"rgba(0,0,0,0)\"},\"marker\":{\"color\":\"#DD4040\",\"size\":6,\"symbol\":\"diamond\"},\"mode\":\"lines+markers\",\"name\":\"Degraded performance\",\"x\":[[1807704000000000000],[4242628800000000000]],\"y\":[null,null],\"type\":\"scatter\"}],                        {\"hoverlabel\":{\"bgcolor\":\"white\",\"font\":{\"size\":14}},\"legend\":{\"itemclick\":false,\"itemdoubleclick\":false,\"traceorder\":\"normal\",\"yanchor\":\"top\",\"y\":-0.25,\"xanchor\":\"left\",\"x\":0,\"orientation\":\"h\"},\"paper_bgcolor\":\"rgba(255,255,255,1)\",\"plot_bgcolor\":\"rgba(255,255,255,1)\",\"title\":{\"text\":\"Realized performance: ROC AUC\"},\"xaxis\":{\"linecolor\":\"#666666\",\"mirror\":true,\"showgrid\":false,\"title\":{\"text\":\"Time\"},\"zeroline\":false},\"yaxis\":{\"linecolor\":\"#666666\",\"mirror\":true,\"showgrid\":false,\"title\":{\"text\":\"Realized performance\"},\"zeroline\":false},\"template\":{\"data\":{\"histogram2dcontour\":[{\"type\":\"histogram2dcontour\",\"colorbar\":{\"outlinewidth\":0,\"ticks\":\"\"},\"colorscale\":[[0.0,\"#0d0887\"],[0.1111111111111111,\"#46039f\"],[0.2222222222222222,\"#7201a8\"],[0.3333333333333333,\"#9c179e\"],[0.4444444444444444,\"#bd3786\"],[0.5555555555555556,\"#d8576b\"],[0.6666666666666666,\"#ed7953\"],[0.7777777777777778,\"#fb9f3a\"],[0.8888888888888888,\"#fdca26\"],[1.0,\"#f0f921\"]]}],\"choropleth\":[{\"type\":\"choropleth\",\"colorbar\":{\"outlinewidth\":0,\"ticks\":\"\"}}],\"histogram2d\":[{\"type\":\"histogram2d\",\"colorbar\":{\"outlinewidth\":0,\"ticks\":\"\"},\"colorscale\":[[0.0,\"#0d0887\"],[0.1111111111111111,\"#46039f\"],[0.2222222222222222,\"#7201a8\"],[0.3333333333333333,\"#9c179e\"],[0.4444444444444444,\"#bd3786\"],[0.5555555555555556,\"#d8576b\"],[0.6666666666666666,\"#ed7953\"],[0.7777777777777778,\"#fb9f3a\"],[0.8888888888888888,\"#fdca26\"],[1.0,\"#f0f921\"]]}],\"heatmap\":[{\"type\":\"heatmap\",\"colorbar\":{\"outlinewidth\":0,\"ticks\":\"\"},\"colorscale\":[[0.0,\"#0d0887\"],[0.1111111111111111,\"#46039f\"],[0.2222222222222222,\"#7201a8\"],[0.3333333333333333,\"#9c179e\"],[0.4444444444444444,\"#bd3786\"],[0.5555555555555556,\"#d8576b\"],[0.6666666666666666,\"#ed7953\"],[0.7777777777777778,\"#fb9f3a\"],[0.8888888888888888,\"#fdca26\"],[1.0,\"#f0f921\"]]}],\"heatmapgl\":[{\"type\":\"heatmapgl\",\"colorbar\":{\"outlinewidth\":0,\"ticks\":\"\"},\"colorscale\":[[0.0,\"#0d0887\"],[0.1111111111111111,\"#46039f\"],[0.2222222222222222,\"#7201a8\"],[0.3333333333333333,\"#9c179e\"],[0.4444444444444444,\"#bd3786\"],[0.5555555555555556,\"#d8576b\"],[0.6666666666666666,\"#ed7953\"],[0.7777777777777778,\"#fb9f3a\"],[0.8888888888888888,\"#fdca26\"],[1.0,\"#f0f921\"]]}],\"contourcarpet\":[{\"type\":\"contourcarpet\",\"colorbar\":{\"outlinewidth\":0,\"ticks\":\"\"}}],\"contour\":[{\"type\":\"contour\",\"colorbar\":{\"outlinewidth\":0,\"ticks\":\"\"},\"colorscale\":[[0.0,\"#0d0887\"],[0.1111111111111111,\"#46039f\"],[0.2222222222222222,\"#7201a8\"],[0.3333333333333333,\"#9c179e\"],[0.4444444444444444,\"#bd3786\"],[0.5555555555555556,\"#d8576b\"],[0.6666666666666666,\"#ed7953\"],[0.7777777777777778,\"#fb9f3a\"],[0.8888888888888888,\"#fdca26\"],[1.0,\"#f0f921\"]]}],\"surface\":[{\"type\":\"surface\",\"colorbar\":{\"outlinewidth\":0,\"ticks\":\"\"},\"colorscale\":[[0.0,\"#0d0887\"],[0.1111111111111111,\"#46039f\"],[0.2222222222222222,\"#7201a8\"],[0.3333333333333333,\"#9c179e\"],[0.4444444444444444,\"#bd3786\"],[0.5555555555555556,\"#d8576b\"],[0.6666666666666666,\"#ed7953\"],[0.7777777777777778,\"#fb9f3a\"],[0.8888888888888888,\"#fdca26\"],[1.0,\"#f0f921\"]]}],\"mesh3d\":[{\"type\":\"mesh3d\",\"colorbar\":{\"outlinewidth\":0,\"ticks\":\"\"}}],\"scatter\":[{\"fillpattern\":{\"fillmode\":\"overlay\",\"size\":10,\"solidity\":0.2},\"type\":\"scatter\"}],\"parcoords\":[{\"type\":\"parcoords\",\"line\":{\"colorbar\":{\"outlinewidth\":0,\"ticks\":\"\"}}}],\"scatterpolargl\":[{\"type\":\"scatterpolargl\",\"marker\":{\"colorbar\":{\"outlinewidth\":0,\"ticks\":\"\"}}}],\"bar\":[{\"error_x\":{\"color\":\"#2a3f5f\"},\"error_y\":{\"color\":\"#2a3f5f\"},\"marker\":{\"line\":{\"color\":\"#E5ECF6\",\"width\":0.5},\"pattern\":{\"fillmode\":\"overlay\",\"size\":10,\"solidity\":0.2}},\"type\":\"bar\"}],\"scattergeo\":[{\"type\":\"scattergeo\",\"marker\":{\"colorbar\":{\"outlinewidth\":0,\"ticks\":\"\"}}}],\"scatterpolar\":[{\"type\":\"scatterpolar\",\"marker\":{\"colorbar\":{\"outlinewidth\":0,\"ticks\":\"\"}}}],\"histogram\":[{\"marker\":{\"pattern\":{\"fillmode\":\"overlay\",\"size\":10,\"solidity\":0.2}},\"type\":\"histogram\"}],\"scattergl\":[{\"type\":\"scattergl\",\"marker\":{\"colorbar\":{\"outlinewidth\":0,\"ticks\":\"\"}}}],\"scatter3d\":[{\"type\":\"scatter3d\",\"line\":{\"colorbar\":{\"outlinewidth\":0,\"ticks\":\"\"}},\"marker\":{\"colorbar\":{\"outlinewidth\":0,\"ticks\":\"\"}}}],\"scattermapbox\":[{\"type\":\"scattermapbox\",\"marker\":{\"colorbar\":{\"outlinewidth\":0,\"ticks\":\"\"}}}],\"scatterternary\":[{\"type\":\"scatterternary\",\"marker\":{\"colorbar\":{\"outlinewidth\":0,\"ticks\":\"\"}}}],\"scattercarpet\":[{\"type\":\"scattercarpet\",\"marker\":{\"colorbar\":{\"outlinewidth\":0,\"ticks\":\"\"}}}],\"carpet\":[{\"aaxis\":{\"endlinecolor\":\"#2a3f5f\",\"gridcolor\":\"white\",\"linecolor\":\"white\",\"minorgridcolor\":\"white\",\"startlinecolor\":\"#2a3f5f\"},\"baxis\":{\"endlinecolor\":\"#2a3f5f\",\"gridcolor\":\"white\",\"linecolor\":\"white\",\"minorgridcolor\":\"white\",\"startlinecolor\":\"#2a3f5f\"},\"type\":\"carpet\"}],\"table\":[{\"cells\":{\"fill\":{\"color\":\"#EBF0F8\"},\"line\":{\"color\":\"white\"}},\"header\":{\"fill\":{\"color\":\"#C8D4E3\"},\"line\":{\"color\":\"white\"}},\"type\":\"table\"}],\"barpolar\":[{\"marker\":{\"line\":{\"color\":\"#E5ECF6\",\"width\":0.5},\"pattern\":{\"fillmode\":\"overlay\",\"size\":10,\"solidity\":0.2}},\"type\":\"barpolar\"}],\"pie\":[{\"automargin\":true,\"type\":\"pie\"}]},\"layout\":{\"autotypenumbers\":\"strict\",\"colorway\":[\"#636efa\",\"#EF553B\",\"#00cc96\",\"#ab63fa\",\"#FFA15A\",\"#19d3f3\",\"#FF6692\",\"#B6E880\",\"#FF97FF\",\"#FECB52\"],\"font\":{\"color\":\"#2a3f5f\"},\"hovermode\":\"closest\",\"hoverlabel\":{\"align\":\"left\"},\"paper_bgcolor\":\"white\",\"plot_bgcolor\":\"#E5ECF6\",\"polar\":{\"bgcolor\":\"#E5ECF6\",\"angularaxis\":{\"gridcolor\":\"white\",\"linecolor\":\"white\",\"ticks\":\"\"},\"radialaxis\":{\"gridcolor\":\"white\",\"linecolor\":\"white\",\"ticks\":\"\"}},\"ternary\":{\"bgcolor\":\"#E5ECF6\",\"aaxis\":{\"gridcolor\":\"white\",\"linecolor\":\"white\",\"ticks\":\"\"},\"baxis\":{\"gridcolor\":\"white\",\"linecolor\":\"white\",\"ticks\":\"\"},\"caxis\":{\"gridcolor\":\"white\",\"linecolor\":\"white\",\"ticks\":\"\"}},\"coloraxis\":{\"colorbar\":{\"outlinewidth\":0,\"ticks\":\"\"}},\"colorscale\":{\"sequential\":[[0.0,\"#0d0887\"],[0.1111111111111111,\"#46039f\"],[0.2222222222222222,\"#7201a8\"],[0.3333333333333333,\"#9c179e\"],[0.4444444444444444,\"#bd3786\"],[0.5555555555555556,\"#d8576b\"],[0.6666666666666666,\"#ed7953\"],[0.7777777777777778,\"#fb9f3a\"],[0.8888888888888888,\"#fdca26\"],[1.0,\"#f0f921\"]],\"sequentialminus\":[[0.0,\"#0d0887\"],[0.1111111111111111,\"#46039f\"],[0.2222222222222222,\"#7201a8\"],[0.3333333333333333,\"#9c179e\"],[0.4444444444444444,\"#bd3786\"],[0.5555555555555556,\"#d8576b\"],[0.6666666666666666,\"#ed7953\"],[0.7777777777777778,\"#fb9f3a\"],[0.8888888888888888,\"#fdca26\"],[1.0,\"#f0f921\"]],\"diverging\":[[0,\"#8e0152\"],[0.1,\"#c51b7d\"],[0.2,\"#de77ae\"],[0.3,\"#f1b6da\"],[0.4,\"#fde0ef\"],[0.5,\"#f7f7f7\"],[0.6,\"#e6f5d0\"],[0.7,\"#b8e186\"],[0.8,\"#7fbc41\"],[0.9,\"#4d9221\"],[1,\"#276419\"]]},\"xaxis\":{\"gridcolor\":\"white\",\"linecolor\":\"white\",\"ticks\":\"\",\"title\":{\"standoff\":15},\"zerolinecolor\":\"white\",\"automargin\":true,\"zerolinewidth\":2},\"yaxis\":{\"gridcolor\":\"white\",\"linecolor\":\"white\",\"ticks\":\"\",\"title\":{\"standoff\":15},\"zerolinecolor\":\"white\",\"automargin\":true,\"zerolinewidth\":2},\"scene\":{\"xaxis\":{\"backgroundcolor\":\"#E5ECF6\",\"gridcolor\":\"white\",\"linecolor\":\"white\",\"showbackground\":true,\"ticks\":\"\",\"zerolinecolor\":\"white\",\"gridwidth\":2},\"yaxis\":{\"backgroundcolor\":\"#E5ECF6\",\"gridcolor\":\"white\",\"linecolor\":\"white\",\"showbackground\":true,\"ticks\":\"\",\"zerolinecolor\":\"white\",\"gridwidth\":2},\"zaxis\":{\"backgroundcolor\":\"#E5ECF6\",\"gridcolor\":\"white\",\"linecolor\":\"white\",\"showbackground\":true,\"ticks\":\"\",\"zerolinecolor\":\"white\",\"gridwidth\":2}},\"shapedefaults\":{\"line\":{\"color\":\"#2a3f5f\"}},\"annotationdefaults\":{\"arrowcolor\":\"#2a3f5f\",\"arrowhead\":0,\"arrowwidth\":1},\"geo\":{\"bgcolor\":\"white\",\"landcolor\":\"#E5ECF6\",\"subunitcolor\":\"white\",\"showland\":true,\"showlakes\":true,\"lakecolor\":\"white\"},\"title\":{\"x\":0.05},\"mapbox\":{\"style\":\"light\"}}},\"shapes\":[{\"layer\":\"below\",\"line\":{\"color\":\"#DD4040\",\"dash\":\"dash\",\"width\":1},\"type\":\"line\",\"x0\":0,\"x1\":1,\"xref\":\"x domain\",\"y0\":0.8998266524807966,\"y1\":0.8998266524807966,\"yref\":\"y\"},{\"layer\":\"below\",\"line\":{\"color\":\"#DD4040\",\"dash\":\"dash\",\"width\":1},\"type\":\"line\",\"x0\":0,\"x1\":1,\"xref\":\"x domain\",\"y0\":0.9347221255209291,\"y1\":0.9347221255209291,\"yref\":\"y\"},{\"layer\":\"below\",\"line\":{\"color\":\"#3b0280\",\"dash\":\"dash\",\"width\":1},\"type\":\"line\",\"x0\":\"2051-12-05T00:00:00\",\"x1\":\"2051-12-05T00:00:00\",\"xref\":\"x\",\"y0\":0,\"y1\":1,\"yref\":\"y domain\"},{\"fillcolor\":\"#DD4040\",\"layer\":\"below\",\"line\":{\"width\":0},\"opacity\":0.2,\"type\":\"rect\",\"x0\":\"2068-05-09T00:00:00\",\"x1\":\"2084-10-11T00:00:00\",\"xref\":\"x\",\"y0\":0,\"y1\":1,\"yref\":\"y domain\"}],\"annotations\":[{\"font\":{\"color\":\"#DD4040\"},\"showarrow\":false,\"text\":\"0.90\",\"x\":1,\"xanchor\":\"right\",\"xref\":\"x domain\",\"y\":0.8998266524807966,\"yanchor\":\"bottom\",\"yref\":\"y\"},{\"font\":{\"color\":\"#DD4040\"},\"showarrow\":false,\"text\":\"0.93\",\"x\":1,\"xanchor\":\"right\",\"xref\":\"x domain\",\"y\":0.9347221255209291,\"yanchor\":\"bottom\",\"yref\":\"y\"}]},                        {\"responsive\": true}                    ).then(function(){\n",
       "                            \n",
       "var gd = document.getElementById('31c3d6de-243c-4346-8b75-d2459b6d7c3a');\n",
       "var x = new MutationObserver(function (mutations, observer) {{\n",
       "        var display = window.getComputedStyle(gd).display;\n",
       "        if (!display || display === 'none') {{\n",
       "            console.log([gd, 'removed!']);\n",
       "            Plotly.purge(gd);\n",
       "            observer.disconnect();\n",
       "        }}\n",
       "}});\n",
       "\n",
       "// Listen for the removal of the full notebook cells\n",
       "var notebookContainer = gd.closest('#notebook-container');\n",
       "if (notebookContainer) {{\n",
       "    x.observe(notebookContainer, {childList: true});\n",
       "}}\n",
       "\n",
       "// Listen for the clearing of the current output cell\n",
       "var outputEl = gd.closest('.output');\n",
       "if (outputEl) {{\n",
       "    x.observe(outputEl, {childList: true});\n",
       "}}\n",
       "\n",
       "                        })                };                });            </script>        </div>"
      ]
     },
     "metadata": {},
     "output_type": "display_data"
    },
    {
     "data": {
      "application/vnd.plotly.v1+json": {
       "config": {
        "plotlyServerURL": "https://plot.ly"
       },
       "data": [
        {
         "hoverinfo": "skip",
         "legendgroup": "1",
         "line": {
          "color": "#00c8e5",
          "shape": "hv",
          "width": 2
         },
         "mode": "lines",
         "name": "Reference period",
         "type": "scatter",
         "x": [
          "2019-01-27T00:00:00",
          "2035-07-02T00:00:00",
          "2051-12-04T00:00:00"
         ],
         "y": [
          0.7522682837879161,
          0.7380326008571224,
          0.7380326008571224
         ]
        },
        {
         "hoverinfo": "skip",
         "legendgroup": "1",
         "line": {
          "color": "#3b0280",
          "shape": "hv",
          "width": 2
         },
         "mode": "lines",
         "name": "Analysis period",
         "type": "scatter",
         "x": [
          "2051-12-05T00:00:00",
          "2068-05-09T00:00:00",
          "2084-10-12T00:00:00",
          "2101-03-18T00:00:00",
          "2107-09-06T00:00:00"
         ],
         "y": [
          0.6714069900377899,
          0.6686115050247432,
          0.7219044452067698,
          0.741048826657193,
          0.741048826657193
         ]
        },
        {
         "hoverinfo": "skip",
         "legendgroup": "1",
         "line": {
          "color": "#3b0280",
          "dash": "dot",
          "shape": "hv",
          "width": 2
         },
         "mode": "lines",
         "name": "Incomplete target data",
         "type": "scatter",
         "x": [
          "2051-12-05T00:00:00",
          "2068-05-09T00:00:00",
          "2084-10-12T00:00:00",
          "2101-03-18T00:00:00",
          "2107-09-06T00:00:00"
         ],
         "y": [
          0.6714069900377899,
          0.6686115050247432,
          0.7219044452067698,
          0.741048826657193,
          0.741048826657193
         ]
        },
        {
         "customdata": [
          [
           "[0:5999]",
           "Jan-27-2019",
           "Jul-01-2035",
           "0.7523",
           "<b style=\"color:#00c8e5;line-height:60px\">Reference</b>",
           "",
           "Data: <span ><b>0.00% missing</b></span>  &nbsp; &nbsp;"
          ],
          [
           "[6000:11999]",
           "Jul-02-2035",
           "Dec-04-2051",
           "0.7380",
           "<b style=\"color:#00c8e5;line-height:60px\">Reference</b>",
           "",
           "Data: <span ><b>0.00% missing</b></span>  &nbsp; &nbsp;"
          ]
         ],
         "hovertemplate": "%{customdata[4]} &nbsp; &nbsp; <span style=\"color:#AD0000\">%{customdata[5]}</span><br>Chunk: <b>%{customdata[0]}</b> &nbsp; &nbsp; From <b>%{customdata[1]}</b> to <b>%{customdata[2]}</b> &nbsp; &nbsp; <br>F1: <b>%{customdata[3]}</b>  &nbsp; &nbsp; %{customdata[6]} <extra></extra>",
         "marker": {
          "color": "#00c8e5",
          "size": 6,
          "symbol": "square"
         },
         "mode": "markers",
         "name": "Reference",
         "showlegend": false,
         "type": "scatter",
         "x": [
          "2027-04-14T12:00:00",
          "2043-09-17T12:00:00"
         ],
         "y": [
          0.7522682837879161,
          0.7380326008571224
         ]
        },
        {
         "customdata": [
          [
           "[12000:17999]",
           "Dec-05-2051",
           "May-08-2068",
           "0.6714",
           "<b style=\"color:#3b0280;line-height:60px\">Analysis</b>",
           "",
           "Data: <span ><b>0.00% missing</b></span>  &nbsp; &nbsp;"
          ],
          [
           "[18000:23999]",
           "May-09-2068",
           "Oct-11-2084",
           "0.6686",
           "<b style=\"color:#3b0280;line-height:60px\">Analysis</b>",
           "",
           "Data: <span ><b>0.00% missing</b></span>  &nbsp; &nbsp;"
          ],
          [
           "[24000:29999]",
           "Oct-12-2084",
           "Mar-17-2101",
           "0.7219",
           "<b style=\"color:#3b0280;line-height:60px\">Analysis</b>",
           "",
           "Data: <span ><b>0.00% missing</b></span>  &nbsp; &nbsp;"
          ],
          [
           "[30000:32363]",
           "Mar-18-2101",
           "Sep-06-2107",
           "0.7410",
           "<b style=\"color:#3b0280;line-height:60px\">Analysis</b>",
           "",
           "Data: <span ><b>0.00% missing</b></span>  &nbsp; &nbsp;"
          ]
         ],
         "hovertemplate": "%{customdata[4]} &nbsp; &nbsp; <span style=\"color:#AD0000\">%{customdata[5]}</span><br>Chunk: <b>%{customdata[0]}</b> &nbsp; &nbsp; From <b>%{customdata[1]}</b> to <b>%{customdata[2]}</b> &nbsp; &nbsp; <br>F1: <b>%{customdata[3]}</b>  &nbsp; &nbsp; %{customdata[6]} <extra></extra>",
         "marker": {
          "color": "#3b0280",
          "size": 6,
          "symbol": "square"
         },
         "mode": "markers",
         "name": "No change",
         "showlegend": false,
         "type": "scatter",
         "x": [
          "2060-02-20T12:00:00",
          "2076-07-25T12:00:00",
          "2092-12-28T12:00:00",
          "2104-06-11T12:00:00"
         ],
         "y": [
          0.6714069900377899,
          0.6686115050247432,
          0.7219044452067698,
          0.741048826657193
         ]
        },
        {
         "customdata": [],
         "hovertemplate": "%{customdata[4]} &nbsp; &nbsp; <span style=\"color:#AD0000\">%{customdata[5]}</span><br>Chunk: <b>%{customdata[0]}</b> &nbsp; &nbsp; From <b>%{customdata[1]}</b> to <b>%{customdata[2]}</b> &nbsp; &nbsp; <br>F1: <b>%{customdata[3]}</b>  &nbsp; &nbsp; %{customdata[6]} <extra></extra>",
         "marker": {
          "color": "#DD4040",
          "size": 6,
          "symbol": "diamond"
         },
         "mode": "markers",
         "name": "Change",
         "showlegend": false,
         "type": "scatter",
         "x": [],
         "y": []
        },
        {
         "legendgroup": "1",
         "line": {
          "color": "#DD4040",
          "dash": "dash",
          "width": 1
         },
         "mode": "lines",
         "name": "Performance threshold",
         "type": "scatter",
         "x": [
          [
           1807704000000000000
          ],
          [
           4242628800000000000
          ]
         ],
         "y": [
          null,
          null
         ]
        },
        {
         "line": {
          "color": "rgba(0,0,0,0)"
         },
         "mode": "lines",
         "showlegend": false,
         "type": "scatter",
         "x": [
          [
           1807704000000000000
          ],
          [
           4242628800000000000
          ]
         ],
         "y": [
          null,
          null
         ]
        },
        {
         "fill": "tonexty",
         "fillcolor": "rgba(0.8666666666666667, 0.25098039215686274, 0.25098039215686274, 0.2)",
         "legendgroup": "1",
         "line": {
          "color": "rgba(0,0,0,0)"
         },
         "marker": {
          "color": "#DD4040",
          "size": 6,
          "symbol": "diamond"
         },
         "mode": "lines+markers",
         "name": "Degraded performance",
         "type": "scatter",
         "x": [
          [
           1807704000000000000
          ],
          [
           4242628800000000000
          ]
         ],
         "y": [
          null,
          null
         ]
        }
       ],
       "layout": {
        "annotations": [
         {
          "font": {
           "color": "#DD4040"
          },
          "showarrow": false,
          "text": "0.61",
          "x": 1,
          "xanchor": "right",
          "xref": "x domain",
          "y": 0.6130630360820146,
          "yanchor": "bottom",
          "yref": "y"
         },
         {
          "font": {
           "color": "#DD4040"
          },
          "showarrow": false,
          "text": "0.83",
          "x": 1,
          "xanchor": "right",
          "xref": "x domain",
          "y": 0.8273928899213809,
          "yanchor": "bottom",
          "yref": "y"
         }
        ],
        "hoverlabel": {
         "bgcolor": "white",
         "font": {
          "size": 14
         }
        },
        "legend": {
         "itemclick": false,
         "itemdoubleclick": false,
         "orientation": "h",
         "traceorder": "normal",
         "x": 0,
         "xanchor": "left",
         "y": -0.25,
         "yanchor": "top"
        },
        "paper_bgcolor": "rgba(255,255,255,1)",
        "plot_bgcolor": "rgba(255,255,255,1)",
        "shapes": [
         {
          "layer": "below",
          "line": {
           "color": "#DD4040",
           "dash": "dash",
           "width": 1
          },
          "type": "line",
          "x0": 0,
          "x1": 1,
          "xref": "x domain",
          "y0": 0.6130630360820146,
          "y1": 0.6130630360820146,
          "yref": "y"
         },
         {
          "layer": "below",
          "line": {
           "color": "#DD4040",
           "dash": "dash",
           "width": 1
          },
          "type": "line",
          "x0": 0,
          "x1": 1,
          "xref": "x domain",
          "y0": 0.8273928899213809,
          "y1": 0.8273928899213809,
          "yref": "y"
         },
         {
          "layer": "below",
          "line": {
           "color": "#3b0280",
           "dash": "dash",
           "width": 1
          },
          "type": "line",
          "x0": "2051-12-05T00:00:00",
          "x1": "2051-12-05T00:00:00",
          "xref": "x",
          "y0": 0,
          "y1": 1,
          "yref": "y domain"
         }
        ],
        "template": {
         "data": {
          "bar": [
           {
            "error_x": {
             "color": "#2a3f5f"
            },
            "error_y": {
             "color": "#2a3f5f"
            },
            "marker": {
             "line": {
              "color": "#E5ECF6",
              "width": 0.5
             },
             "pattern": {
              "fillmode": "overlay",
              "size": 10,
              "solidity": 0.2
             }
            },
            "type": "bar"
           }
          ],
          "barpolar": [
           {
            "marker": {
             "line": {
              "color": "#E5ECF6",
              "width": 0.5
             },
             "pattern": {
              "fillmode": "overlay",
              "size": 10,
              "solidity": 0.2
             }
            },
            "type": "barpolar"
           }
          ],
          "carpet": [
           {
            "aaxis": {
             "endlinecolor": "#2a3f5f",
             "gridcolor": "white",
             "linecolor": "white",
             "minorgridcolor": "white",
             "startlinecolor": "#2a3f5f"
            },
            "baxis": {
             "endlinecolor": "#2a3f5f",
             "gridcolor": "white",
             "linecolor": "white",
             "minorgridcolor": "white",
             "startlinecolor": "#2a3f5f"
            },
            "type": "carpet"
           }
          ],
          "choropleth": [
           {
            "colorbar": {
             "outlinewidth": 0,
             "ticks": ""
            },
            "type": "choropleth"
           }
          ],
          "contour": [
           {
            "colorbar": {
             "outlinewidth": 0,
             "ticks": ""
            },
            "colorscale": [
             [
              0,
              "#0d0887"
             ],
             [
              0.1111111111111111,
              "#46039f"
             ],
             [
              0.2222222222222222,
              "#7201a8"
             ],
             [
              0.3333333333333333,
              "#9c179e"
             ],
             [
              0.4444444444444444,
              "#bd3786"
             ],
             [
              0.5555555555555556,
              "#d8576b"
             ],
             [
              0.6666666666666666,
              "#ed7953"
             ],
             [
              0.7777777777777778,
              "#fb9f3a"
             ],
             [
              0.8888888888888888,
              "#fdca26"
             ],
             [
              1,
              "#f0f921"
             ]
            ],
            "type": "contour"
           }
          ],
          "contourcarpet": [
           {
            "colorbar": {
             "outlinewidth": 0,
             "ticks": ""
            },
            "type": "contourcarpet"
           }
          ],
          "heatmap": [
           {
            "colorbar": {
             "outlinewidth": 0,
             "ticks": ""
            },
            "colorscale": [
             [
              0,
              "#0d0887"
             ],
             [
              0.1111111111111111,
              "#46039f"
             ],
             [
              0.2222222222222222,
              "#7201a8"
             ],
             [
              0.3333333333333333,
              "#9c179e"
             ],
             [
              0.4444444444444444,
              "#bd3786"
             ],
             [
              0.5555555555555556,
              "#d8576b"
             ],
             [
              0.6666666666666666,
              "#ed7953"
             ],
             [
              0.7777777777777778,
              "#fb9f3a"
             ],
             [
              0.8888888888888888,
              "#fdca26"
             ],
             [
              1,
              "#f0f921"
             ]
            ],
            "type": "heatmap"
           }
          ],
          "heatmapgl": [
           {
            "colorbar": {
             "outlinewidth": 0,
             "ticks": ""
            },
            "colorscale": [
             [
              0,
              "#0d0887"
             ],
             [
              0.1111111111111111,
              "#46039f"
             ],
             [
              0.2222222222222222,
              "#7201a8"
             ],
             [
              0.3333333333333333,
              "#9c179e"
             ],
             [
              0.4444444444444444,
              "#bd3786"
             ],
             [
              0.5555555555555556,
              "#d8576b"
             ],
             [
              0.6666666666666666,
              "#ed7953"
             ],
             [
              0.7777777777777778,
              "#fb9f3a"
             ],
             [
              0.8888888888888888,
              "#fdca26"
             ],
             [
              1,
              "#f0f921"
             ]
            ],
            "type": "heatmapgl"
           }
          ],
          "histogram": [
           {
            "marker": {
             "pattern": {
              "fillmode": "overlay",
              "size": 10,
              "solidity": 0.2
             }
            },
            "type": "histogram"
           }
          ],
          "histogram2d": [
           {
            "colorbar": {
             "outlinewidth": 0,
             "ticks": ""
            },
            "colorscale": [
             [
              0,
              "#0d0887"
             ],
             [
              0.1111111111111111,
              "#46039f"
             ],
             [
              0.2222222222222222,
              "#7201a8"
             ],
             [
              0.3333333333333333,
              "#9c179e"
             ],
             [
              0.4444444444444444,
              "#bd3786"
             ],
             [
              0.5555555555555556,
              "#d8576b"
             ],
             [
              0.6666666666666666,
              "#ed7953"
             ],
             [
              0.7777777777777778,
              "#fb9f3a"
             ],
             [
              0.8888888888888888,
              "#fdca26"
             ],
             [
              1,
              "#f0f921"
             ]
            ],
            "type": "histogram2d"
           }
          ],
          "histogram2dcontour": [
           {
            "colorbar": {
             "outlinewidth": 0,
             "ticks": ""
            },
            "colorscale": [
             [
              0,
              "#0d0887"
             ],
             [
              0.1111111111111111,
              "#46039f"
             ],
             [
              0.2222222222222222,
              "#7201a8"
             ],
             [
              0.3333333333333333,
              "#9c179e"
             ],
             [
              0.4444444444444444,
              "#bd3786"
             ],
             [
              0.5555555555555556,
              "#d8576b"
             ],
             [
              0.6666666666666666,
              "#ed7953"
             ],
             [
              0.7777777777777778,
              "#fb9f3a"
             ],
             [
              0.8888888888888888,
              "#fdca26"
             ],
             [
              1,
              "#f0f921"
             ]
            ],
            "type": "histogram2dcontour"
           }
          ],
          "mesh3d": [
           {
            "colorbar": {
             "outlinewidth": 0,
             "ticks": ""
            },
            "type": "mesh3d"
           }
          ],
          "parcoords": [
           {
            "line": {
             "colorbar": {
              "outlinewidth": 0,
              "ticks": ""
             }
            },
            "type": "parcoords"
           }
          ],
          "pie": [
           {
            "automargin": true,
            "type": "pie"
           }
          ],
          "scatter": [
           {
            "fillpattern": {
             "fillmode": "overlay",
             "size": 10,
             "solidity": 0.2
            },
            "type": "scatter"
           }
          ],
          "scatter3d": [
           {
            "line": {
             "colorbar": {
              "outlinewidth": 0,
              "ticks": ""
             }
            },
            "marker": {
             "colorbar": {
              "outlinewidth": 0,
              "ticks": ""
             }
            },
            "type": "scatter3d"
           }
          ],
          "scattercarpet": [
           {
            "marker": {
             "colorbar": {
              "outlinewidth": 0,
              "ticks": ""
             }
            },
            "type": "scattercarpet"
           }
          ],
          "scattergeo": [
           {
            "marker": {
             "colorbar": {
              "outlinewidth": 0,
              "ticks": ""
             }
            },
            "type": "scattergeo"
           }
          ],
          "scattergl": [
           {
            "marker": {
             "colorbar": {
              "outlinewidth": 0,
              "ticks": ""
             }
            },
            "type": "scattergl"
           }
          ],
          "scattermapbox": [
           {
            "marker": {
             "colorbar": {
              "outlinewidth": 0,
              "ticks": ""
             }
            },
            "type": "scattermapbox"
           }
          ],
          "scatterpolar": [
           {
            "marker": {
             "colorbar": {
              "outlinewidth": 0,
              "ticks": ""
             }
            },
            "type": "scatterpolar"
           }
          ],
          "scatterpolargl": [
           {
            "marker": {
             "colorbar": {
              "outlinewidth": 0,
              "ticks": ""
             }
            },
            "type": "scatterpolargl"
           }
          ],
          "scatterternary": [
           {
            "marker": {
             "colorbar": {
              "outlinewidth": 0,
              "ticks": ""
             }
            },
            "type": "scatterternary"
           }
          ],
          "surface": [
           {
            "colorbar": {
             "outlinewidth": 0,
             "ticks": ""
            },
            "colorscale": [
             [
              0,
              "#0d0887"
             ],
             [
              0.1111111111111111,
              "#46039f"
             ],
             [
              0.2222222222222222,
              "#7201a8"
             ],
             [
              0.3333333333333333,
              "#9c179e"
             ],
             [
              0.4444444444444444,
              "#bd3786"
             ],
             [
              0.5555555555555556,
              "#d8576b"
             ],
             [
              0.6666666666666666,
              "#ed7953"
             ],
             [
              0.7777777777777778,
              "#fb9f3a"
             ],
             [
              0.8888888888888888,
              "#fdca26"
             ],
             [
              1,
              "#f0f921"
             ]
            ],
            "type": "surface"
           }
          ],
          "table": [
           {
            "cells": {
             "fill": {
              "color": "#EBF0F8"
             },
             "line": {
              "color": "white"
             }
            },
            "header": {
             "fill": {
              "color": "#C8D4E3"
             },
             "line": {
              "color": "white"
             }
            },
            "type": "table"
           }
          ]
         },
         "layout": {
          "annotationdefaults": {
           "arrowcolor": "#2a3f5f",
           "arrowhead": 0,
           "arrowwidth": 1
          },
          "autotypenumbers": "strict",
          "coloraxis": {
           "colorbar": {
            "outlinewidth": 0,
            "ticks": ""
           }
          },
          "colorscale": {
           "diverging": [
            [
             0,
             "#8e0152"
            ],
            [
             0.1,
             "#c51b7d"
            ],
            [
             0.2,
             "#de77ae"
            ],
            [
             0.3,
             "#f1b6da"
            ],
            [
             0.4,
             "#fde0ef"
            ],
            [
             0.5,
             "#f7f7f7"
            ],
            [
             0.6,
             "#e6f5d0"
            ],
            [
             0.7,
             "#b8e186"
            ],
            [
             0.8,
             "#7fbc41"
            ],
            [
             0.9,
             "#4d9221"
            ],
            [
             1,
             "#276419"
            ]
           ],
           "sequential": [
            [
             0,
             "#0d0887"
            ],
            [
             0.1111111111111111,
             "#46039f"
            ],
            [
             0.2222222222222222,
             "#7201a8"
            ],
            [
             0.3333333333333333,
             "#9c179e"
            ],
            [
             0.4444444444444444,
             "#bd3786"
            ],
            [
             0.5555555555555556,
             "#d8576b"
            ],
            [
             0.6666666666666666,
             "#ed7953"
            ],
            [
             0.7777777777777778,
             "#fb9f3a"
            ],
            [
             0.8888888888888888,
             "#fdca26"
            ],
            [
             1,
             "#f0f921"
            ]
           ],
           "sequentialminus": [
            [
             0,
             "#0d0887"
            ],
            [
             0.1111111111111111,
             "#46039f"
            ],
            [
             0.2222222222222222,
             "#7201a8"
            ],
            [
             0.3333333333333333,
             "#9c179e"
            ],
            [
             0.4444444444444444,
             "#bd3786"
            ],
            [
             0.5555555555555556,
             "#d8576b"
            ],
            [
             0.6666666666666666,
             "#ed7953"
            ],
            [
             0.7777777777777778,
             "#fb9f3a"
            ],
            [
             0.8888888888888888,
             "#fdca26"
            ],
            [
             1,
             "#f0f921"
            ]
           ]
          },
          "colorway": [
           "#636efa",
           "#EF553B",
           "#00cc96",
           "#ab63fa",
           "#FFA15A",
           "#19d3f3",
           "#FF6692",
           "#B6E880",
           "#FF97FF",
           "#FECB52"
          ],
          "font": {
           "color": "#2a3f5f"
          },
          "geo": {
           "bgcolor": "white",
           "lakecolor": "white",
           "landcolor": "#E5ECF6",
           "showlakes": true,
           "showland": true,
           "subunitcolor": "white"
          },
          "hoverlabel": {
           "align": "left"
          },
          "hovermode": "closest",
          "mapbox": {
           "style": "light"
          },
          "paper_bgcolor": "white",
          "plot_bgcolor": "#E5ECF6",
          "polar": {
           "angularaxis": {
            "gridcolor": "white",
            "linecolor": "white",
            "ticks": ""
           },
           "bgcolor": "#E5ECF6",
           "radialaxis": {
            "gridcolor": "white",
            "linecolor": "white",
            "ticks": ""
           }
          },
          "scene": {
           "xaxis": {
            "backgroundcolor": "#E5ECF6",
            "gridcolor": "white",
            "gridwidth": 2,
            "linecolor": "white",
            "showbackground": true,
            "ticks": "",
            "zerolinecolor": "white"
           },
           "yaxis": {
            "backgroundcolor": "#E5ECF6",
            "gridcolor": "white",
            "gridwidth": 2,
            "linecolor": "white",
            "showbackground": true,
            "ticks": "",
            "zerolinecolor": "white"
           },
           "zaxis": {
            "backgroundcolor": "#E5ECF6",
            "gridcolor": "white",
            "gridwidth": 2,
            "linecolor": "white",
            "showbackground": true,
            "ticks": "",
            "zerolinecolor": "white"
           }
          },
          "shapedefaults": {
           "line": {
            "color": "#2a3f5f"
           }
          },
          "ternary": {
           "aaxis": {
            "gridcolor": "white",
            "linecolor": "white",
            "ticks": ""
           },
           "baxis": {
            "gridcolor": "white",
            "linecolor": "white",
            "ticks": ""
           },
           "bgcolor": "#E5ECF6",
           "caxis": {
            "gridcolor": "white",
            "linecolor": "white",
            "ticks": ""
           }
          },
          "title": {
           "x": 0.05
          },
          "xaxis": {
           "automargin": true,
           "gridcolor": "white",
           "linecolor": "white",
           "ticks": "",
           "title": {
            "standoff": 15
           },
           "zerolinecolor": "white",
           "zerolinewidth": 2
          },
          "yaxis": {
           "automargin": true,
           "gridcolor": "white",
           "linecolor": "white",
           "ticks": "",
           "title": {
            "standoff": 15
           },
           "zerolinecolor": "white",
           "zerolinewidth": 2
          }
         }
        },
        "title": {
         "text": "Realized performance: F1"
        },
        "xaxis": {
         "linecolor": "#666666",
         "mirror": true,
         "showgrid": false,
         "title": {
          "text": "Time"
         },
         "zeroline": false
        },
        "yaxis": {
         "linecolor": "#666666",
         "mirror": true,
         "showgrid": false,
         "title": {
          "text": "Realized performance"
         },
         "zeroline": false
        }
       }
      },
      "text/html": [
       "<div>                            <div id=\"6773845b-ae66-449a-8bb3-c5db68a9c441\" class=\"plotly-graph-div\" style=\"height:525px; width:100%;\"></div>            <script type=\"text/javascript\">                require([\"plotly\"], function(Plotly) {                    window.PLOTLYENV=window.PLOTLYENV || {};                                    if (document.getElementById(\"6773845b-ae66-449a-8bb3-c5db68a9c441\")) {                    Plotly.newPlot(                        \"6773845b-ae66-449a-8bb3-c5db68a9c441\",                        [{\"hoverinfo\":\"skip\",\"legendgroup\":\"1\",\"line\":{\"color\":\"#00c8e5\",\"shape\":\"hv\",\"width\":2},\"mode\":\"lines\",\"name\":\"Reference period\",\"x\":[\"2019-01-27T00:00:00\",\"2035-07-02T00:00:00\",\"2051-12-04T00:00:00\"],\"y\":[0.7522682837879161,0.7380326008571224,0.7380326008571224],\"type\":\"scatter\"},{\"hoverinfo\":\"skip\",\"legendgroup\":\"1\",\"line\":{\"color\":\"#3b0280\",\"shape\":\"hv\",\"width\":2},\"mode\":\"lines\",\"name\":\"Analysis period\",\"x\":[\"2051-12-05T00:00:00\",\"2068-05-09T00:00:00\",\"2084-10-12T00:00:00\",\"2101-03-18T00:00:00\",\"2107-09-06T00:00:00\"],\"y\":[0.6714069900377899,0.6686115050247432,0.7219044452067698,0.741048826657193,0.741048826657193],\"type\":\"scatter\"},{\"hoverinfo\":\"skip\",\"legendgroup\":\"1\",\"line\":{\"color\":\"#3b0280\",\"dash\":\"dot\",\"shape\":\"hv\",\"width\":2},\"mode\":\"lines\",\"name\":\"Incomplete target data\",\"x\":[\"2051-12-05T00:00:00\",\"2068-05-09T00:00:00\",\"2084-10-12T00:00:00\",\"2101-03-18T00:00:00\",\"2107-09-06T00:00:00\"],\"y\":[0.6714069900377899,0.6686115050247432,0.7219044452067698,0.741048826657193,0.741048826657193],\"type\":\"scatter\"},{\"customdata\":[[\"[0:5999]\",\"Jan-27-2019\",\"Jul-01-2035\",\"0.7523\",\"<b style=\\\"color:#00c8e5;line-height:60px\\\">Reference</b>\",\"\",\"Data: <span ><b>0.00% missing</b></span>  &nbsp; &nbsp;\"],[\"[6000:11999]\",\"Jul-02-2035\",\"Dec-04-2051\",\"0.7380\",\"<b style=\\\"color:#00c8e5;line-height:60px\\\">Reference</b>\",\"\",\"Data: <span ><b>0.00% missing</b></span>  &nbsp; &nbsp;\"]],\"hovertemplate\":\"%{customdata[4]} &nbsp; &nbsp; <span style=\\\"color:#AD0000\\\">%{customdata[5]}</span><br>Chunk: <b>%{customdata[0]}</b> &nbsp; &nbsp; From <b>%{customdata[1]}</b> to <b>%{customdata[2]}</b> &nbsp; &nbsp; <br>F1: <b>%{customdata[3]}</b>  &nbsp; &nbsp; %{customdata[6]} <extra></extra>\",\"marker\":{\"color\":\"#00c8e5\",\"size\":6,\"symbol\":\"square\"},\"mode\":\"markers\",\"name\":\"Reference\",\"showlegend\":false,\"x\":[\"2027-04-14T12:00:00\",\"2043-09-17T12:00:00\"],\"y\":[0.7522682837879161,0.7380326008571224],\"type\":\"scatter\"},{\"customdata\":[[\"[12000:17999]\",\"Dec-05-2051\",\"May-08-2068\",\"0.6714\",\"<b style=\\\"color:#3b0280;line-height:60px\\\">Analysis</b>\",\"\",\"Data: <span ><b>0.00% missing</b></span>  &nbsp; &nbsp;\"],[\"[18000:23999]\",\"May-09-2068\",\"Oct-11-2084\",\"0.6686\",\"<b style=\\\"color:#3b0280;line-height:60px\\\">Analysis</b>\",\"\",\"Data: <span ><b>0.00% missing</b></span>  &nbsp; &nbsp;\"],[\"[24000:29999]\",\"Oct-12-2084\",\"Mar-17-2101\",\"0.7219\",\"<b style=\\\"color:#3b0280;line-height:60px\\\">Analysis</b>\",\"\",\"Data: <span ><b>0.00% missing</b></span>  &nbsp; &nbsp;\"],[\"[30000:32363]\",\"Mar-18-2101\",\"Sep-06-2107\",\"0.7410\",\"<b style=\\\"color:#3b0280;line-height:60px\\\">Analysis</b>\",\"\",\"Data: <span ><b>0.00% missing</b></span>  &nbsp; &nbsp;\"]],\"hovertemplate\":\"%{customdata[4]} &nbsp; &nbsp; <span style=\\\"color:#AD0000\\\">%{customdata[5]}</span><br>Chunk: <b>%{customdata[0]}</b> &nbsp; &nbsp; From <b>%{customdata[1]}</b> to <b>%{customdata[2]}</b> &nbsp; &nbsp; <br>F1: <b>%{customdata[3]}</b>  &nbsp; &nbsp; %{customdata[6]} <extra></extra>\",\"marker\":{\"color\":\"#3b0280\",\"size\":6,\"symbol\":\"square\"},\"mode\":\"markers\",\"name\":\"No change\",\"showlegend\":false,\"x\":[\"2060-02-20T12:00:00\",\"2076-07-25T12:00:00\",\"2092-12-28T12:00:00\",\"2104-06-11T12:00:00\"],\"y\":[0.6714069900377899,0.6686115050247432,0.7219044452067698,0.741048826657193],\"type\":\"scatter\"},{\"customdata\":[],\"hovertemplate\":\"%{customdata[4]} &nbsp; &nbsp; <span style=\\\"color:#AD0000\\\">%{customdata[5]}</span><br>Chunk: <b>%{customdata[0]}</b> &nbsp; &nbsp; From <b>%{customdata[1]}</b> to <b>%{customdata[2]}</b> &nbsp; &nbsp; <br>F1: <b>%{customdata[3]}</b>  &nbsp; &nbsp; %{customdata[6]} <extra></extra>\",\"marker\":{\"color\":\"#DD4040\",\"size\":6,\"symbol\":\"diamond\"},\"mode\":\"markers\",\"name\":\"Change\",\"showlegend\":false,\"x\":[],\"y\":[],\"type\":\"scatter\"},{\"legendgroup\":\"1\",\"line\":{\"color\":\"#DD4040\",\"dash\":\"dash\",\"width\":1},\"mode\":\"lines\",\"name\":\"Performance threshold\",\"x\":[[1807704000000000000],[4242628800000000000]],\"y\":[null,null],\"type\":\"scatter\"},{\"line\":{\"color\":\"rgba(0,0,0,0)\"},\"mode\":\"lines\",\"showlegend\":false,\"x\":[[1807704000000000000],[4242628800000000000]],\"y\":[null,null],\"type\":\"scatter\"},{\"fill\":\"tonexty\",\"fillcolor\":\"rgba(0.8666666666666667, 0.25098039215686274, 0.25098039215686274, 0.2)\",\"legendgroup\":\"1\",\"line\":{\"color\":\"rgba(0,0,0,0)\"},\"marker\":{\"color\":\"#DD4040\",\"size\":6,\"symbol\":\"diamond\"},\"mode\":\"lines+markers\",\"name\":\"Degraded performance\",\"x\":[[1807704000000000000],[4242628800000000000]],\"y\":[null,null],\"type\":\"scatter\"}],                        {\"hoverlabel\":{\"bgcolor\":\"white\",\"font\":{\"size\":14}},\"legend\":{\"itemclick\":false,\"itemdoubleclick\":false,\"traceorder\":\"normal\",\"yanchor\":\"top\",\"y\":-0.25,\"xanchor\":\"left\",\"x\":0,\"orientation\":\"h\"},\"paper_bgcolor\":\"rgba(255,255,255,1)\",\"plot_bgcolor\":\"rgba(255,255,255,1)\",\"title\":{\"text\":\"Realized performance: F1\"},\"xaxis\":{\"linecolor\":\"#666666\",\"mirror\":true,\"showgrid\":false,\"title\":{\"text\":\"Time\"},\"zeroline\":false},\"yaxis\":{\"linecolor\":\"#666666\",\"mirror\":true,\"showgrid\":false,\"title\":{\"text\":\"Realized performance\"},\"zeroline\":false},\"template\":{\"data\":{\"histogram2dcontour\":[{\"type\":\"histogram2dcontour\",\"colorbar\":{\"outlinewidth\":0,\"ticks\":\"\"},\"colorscale\":[[0.0,\"#0d0887\"],[0.1111111111111111,\"#46039f\"],[0.2222222222222222,\"#7201a8\"],[0.3333333333333333,\"#9c179e\"],[0.4444444444444444,\"#bd3786\"],[0.5555555555555556,\"#d8576b\"],[0.6666666666666666,\"#ed7953\"],[0.7777777777777778,\"#fb9f3a\"],[0.8888888888888888,\"#fdca26\"],[1.0,\"#f0f921\"]]}],\"choropleth\":[{\"type\":\"choropleth\",\"colorbar\":{\"outlinewidth\":0,\"ticks\":\"\"}}],\"histogram2d\":[{\"type\":\"histogram2d\",\"colorbar\":{\"outlinewidth\":0,\"ticks\":\"\"},\"colorscale\":[[0.0,\"#0d0887\"],[0.1111111111111111,\"#46039f\"],[0.2222222222222222,\"#7201a8\"],[0.3333333333333333,\"#9c179e\"],[0.4444444444444444,\"#bd3786\"],[0.5555555555555556,\"#d8576b\"],[0.6666666666666666,\"#ed7953\"],[0.7777777777777778,\"#fb9f3a\"],[0.8888888888888888,\"#fdca26\"],[1.0,\"#f0f921\"]]}],\"heatmap\":[{\"type\":\"heatmap\",\"colorbar\":{\"outlinewidth\":0,\"ticks\":\"\"},\"colorscale\":[[0.0,\"#0d0887\"],[0.1111111111111111,\"#46039f\"],[0.2222222222222222,\"#7201a8\"],[0.3333333333333333,\"#9c179e\"],[0.4444444444444444,\"#bd3786\"],[0.5555555555555556,\"#d8576b\"],[0.6666666666666666,\"#ed7953\"],[0.7777777777777778,\"#fb9f3a\"],[0.8888888888888888,\"#fdca26\"],[1.0,\"#f0f921\"]]}],\"heatmapgl\":[{\"type\":\"heatmapgl\",\"colorbar\":{\"outlinewidth\":0,\"ticks\":\"\"},\"colorscale\":[[0.0,\"#0d0887\"],[0.1111111111111111,\"#46039f\"],[0.2222222222222222,\"#7201a8\"],[0.3333333333333333,\"#9c179e\"],[0.4444444444444444,\"#bd3786\"],[0.5555555555555556,\"#d8576b\"],[0.6666666666666666,\"#ed7953\"],[0.7777777777777778,\"#fb9f3a\"],[0.8888888888888888,\"#fdca26\"],[1.0,\"#f0f921\"]]}],\"contourcarpet\":[{\"type\":\"contourcarpet\",\"colorbar\":{\"outlinewidth\":0,\"ticks\":\"\"}}],\"contour\":[{\"type\":\"contour\",\"colorbar\":{\"outlinewidth\":0,\"ticks\":\"\"},\"colorscale\":[[0.0,\"#0d0887\"],[0.1111111111111111,\"#46039f\"],[0.2222222222222222,\"#7201a8\"],[0.3333333333333333,\"#9c179e\"],[0.4444444444444444,\"#bd3786\"],[0.5555555555555556,\"#d8576b\"],[0.6666666666666666,\"#ed7953\"],[0.7777777777777778,\"#fb9f3a\"],[0.8888888888888888,\"#fdca26\"],[1.0,\"#f0f921\"]]}],\"surface\":[{\"type\":\"surface\",\"colorbar\":{\"outlinewidth\":0,\"ticks\":\"\"},\"colorscale\":[[0.0,\"#0d0887\"],[0.1111111111111111,\"#46039f\"],[0.2222222222222222,\"#7201a8\"],[0.3333333333333333,\"#9c179e\"],[0.4444444444444444,\"#bd3786\"],[0.5555555555555556,\"#d8576b\"],[0.6666666666666666,\"#ed7953\"],[0.7777777777777778,\"#fb9f3a\"],[0.8888888888888888,\"#fdca26\"],[1.0,\"#f0f921\"]]}],\"mesh3d\":[{\"type\":\"mesh3d\",\"colorbar\":{\"outlinewidth\":0,\"ticks\":\"\"}}],\"scatter\":[{\"fillpattern\":{\"fillmode\":\"overlay\",\"size\":10,\"solidity\":0.2},\"type\":\"scatter\"}],\"parcoords\":[{\"type\":\"parcoords\",\"line\":{\"colorbar\":{\"outlinewidth\":0,\"ticks\":\"\"}}}],\"scatterpolargl\":[{\"type\":\"scatterpolargl\",\"marker\":{\"colorbar\":{\"outlinewidth\":0,\"ticks\":\"\"}}}],\"bar\":[{\"error_x\":{\"color\":\"#2a3f5f\"},\"error_y\":{\"color\":\"#2a3f5f\"},\"marker\":{\"line\":{\"color\":\"#E5ECF6\",\"width\":0.5},\"pattern\":{\"fillmode\":\"overlay\",\"size\":10,\"solidity\":0.2}},\"type\":\"bar\"}],\"scattergeo\":[{\"type\":\"scattergeo\",\"marker\":{\"colorbar\":{\"outlinewidth\":0,\"ticks\":\"\"}}}],\"scatterpolar\":[{\"type\":\"scatterpolar\",\"marker\":{\"colorbar\":{\"outlinewidth\":0,\"ticks\":\"\"}}}],\"histogram\":[{\"marker\":{\"pattern\":{\"fillmode\":\"overlay\",\"size\":10,\"solidity\":0.2}},\"type\":\"histogram\"}],\"scattergl\":[{\"type\":\"scattergl\",\"marker\":{\"colorbar\":{\"outlinewidth\":0,\"ticks\":\"\"}}}],\"scatter3d\":[{\"type\":\"scatter3d\",\"line\":{\"colorbar\":{\"outlinewidth\":0,\"ticks\":\"\"}},\"marker\":{\"colorbar\":{\"outlinewidth\":0,\"ticks\":\"\"}}}],\"scattermapbox\":[{\"type\":\"scattermapbox\",\"marker\":{\"colorbar\":{\"outlinewidth\":0,\"ticks\":\"\"}}}],\"scatterternary\":[{\"type\":\"scatterternary\",\"marker\":{\"colorbar\":{\"outlinewidth\":0,\"ticks\":\"\"}}}],\"scattercarpet\":[{\"type\":\"scattercarpet\",\"marker\":{\"colorbar\":{\"outlinewidth\":0,\"ticks\":\"\"}}}],\"carpet\":[{\"aaxis\":{\"endlinecolor\":\"#2a3f5f\",\"gridcolor\":\"white\",\"linecolor\":\"white\",\"minorgridcolor\":\"white\",\"startlinecolor\":\"#2a3f5f\"},\"baxis\":{\"endlinecolor\":\"#2a3f5f\",\"gridcolor\":\"white\",\"linecolor\":\"white\",\"minorgridcolor\":\"white\",\"startlinecolor\":\"#2a3f5f\"},\"type\":\"carpet\"}],\"table\":[{\"cells\":{\"fill\":{\"color\":\"#EBF0F8\"},\"line\":{\"color\":\"white\"}},\"header\":{\"fill\":{\"color\":\"#C8D4E3\"},\"line\":{\"color\":\"white\"}},\"type\":\"table\"}],\"barpolar\":[{\"marker\":{\"line\":{\"color\":\"#E5ECF6\",\"width\":0.5},\"pattern\":{\"fillmode\":\"overlay\",\"size\":10,\"solidity\":0.2}},\"type\":\"barpolar\"}],\"pie\":[{\"automargin\":true,\"type\":\"pie\"}]},\"layout\":{\"autotypenumbers\":\"strict\",\"colorway\":[\"#636efa\",\"#EF553B\",\"#00cc96\",\"#ab63fa\",\"#FFA15A\",\"#19d3f3\",\"#FF6692\",\"#B6E880\",\"#FF97FF\",\"#FECB52\"],\"font\":{\"color\":\"#2a3f5f\"},\"hovermode\":\"closest\",\"hoverlabel\":{\"align\":\"left\"},\"paper_bgcolor\":\"white\",\"plot_bgcolor\":\"#E5ECF6\",\"polar\":{\"bgcolor\":\"#E5ECF6\",\"angularaxis\":{\"gridcolor\":\"white\",\"linecolor\":\"white\",\"ticks\":\"\"},\"radialaxis\":{\"gridcolor\":\"white\",\"linecolor\":\"white\",\"ticks\":\"\"}},\"ternary\":{\"bgcolor\":\"#E5ECF6\",\"aaxis\":{\"gridcolor\":\"white\",\"linecolor\":\"white\",\"ticks\":\"\"},\"baxis\":{\"gridcolor\":\"white\",\"linecolor\":\"white\",\"ticks\":\"\"},\"caxis\":{\"gridcolor\":\"white\",\"linecolor\":\"white\",\"ticks\":\"\"}},\"coloraxis\":{\"colorbar\":{\"outlinewidth\":0,\"ticks\":\"\"}},\"colorscale\":{\"sequential\":[[0.0,\"#0d0887\"],[0.1111111111111111,\"#46039f\"],[0.2222222222222222,\"#7201a8\"],[0.3333333333333333,\"#9c179e\"],[0.4444444444444444,\"#bd3786\"],[0.5555555555555556,\"#d8576b\"],[0.6666666666666666,\"#ed7953\"],[0.7777777777777778,\"#fb9f3a\"],[0.8888888888888888,\"#fdca26\"],[1.0,\"#f0f921\"]],\"sequentialminus\":[[0.0,\"#0d0887\"],[0.1111111111111111,\"#46039f\"],[0.2222222222222222,\"#7201a8\"],[0.3333333333333333,\"#9c179e\"],[0.4444444444444444,\"#bd3786\"],[0.5555555555555556,\"#d8576b\"],[0.6666666666666666,\"#ed7953\"],[0.7777777777777778,\"#fb9f3a\"],[0.8888888888888888,\"#fdca26\"],[1.0,\"#f0f921\"]],\"diverging\":[[0,\"#8e0152\"],[0.1,\"#c51b7d\"],[0.2,\"#de77ae\"],[0.3,\"#f1b6da\"],[0.4,\"#fde0ef\"],[0.5,\"#f7f7f7\"],[0.6,\"#e6f5d0\"],[0.7,\"#b8e186\"],[0.8,\"#7fbc41\"],[0.9,\"#4d9221\"],[1,\"#276419\"]]},\"xaxis\":{\"gridcolor\":\"white\",\"linecolor\":\"white\",\"ticks\":\"\",\"title\":{\"standoff\":15},\"zerolinecolor\":\"white\",\"automargin\":true,\"zerolinewidth\":2},\"yaxis\":{\"gridcolor\":\"white\",\"linecolor\":\"white\",\"ticks\":\"\",\"title\":{\"standoff\":15},\"zerolinecolor\":\"white\",\"automargin\":true,\"zerolinewidth\":2},\"scene\":{\"xaxis\":{\"backgroundcolor\":\"#E5ECF6\",\"gridcolor\":\"white\",\"linecolor\":\"white\",\"showbackground\":true,\"ticks\":\"\",\"zerolinecolor\":\"white\",\"gridwidth\":2},\"yaxis\":{\"backgroundcolor\":\"#E5ECF6\",\"gridcolor\":\"white\",\"linecolor\":\"white\",\"showbackground\":true,\"ticks\":\"\",\"zerolinecolor\":\"white\",\"gridwidth\":2},\"zaxis\":{\"backgroundcolor\":\"#E5ECF6\",\"gridcolor\":\"white\",\"linecolor\":\"white\",\"showbackground\":true,\"ticks\":\"\",\"zerolinecolor\":\"white\",\"gridwidth\":2}},\"shapedefaults\":{\"line\":{\"color\":\"#2a3f5f\"}},\"annotationdefaults\":{\"arrowcolor\":\"#2a3f5f\",\"arrowhead\":0,\"arrowwidth\":1},\"geo\":{\"bgcolor\":\"white\",\"landcolor\":\"#E5ECF6\",\"subunitcolor\":\"white\",\"showland\":true,\"showlakes\":true,\"lakecolor\":\"white\"},\"title\":{\"x\":0.05},\"mapbox\":{\"style\":\"light\"}}},\"shapes\":[{\"layer\":\"below\",\"line\":{\"color\":\"#DD4040\",\"dash\":\"dash\",\"width\":1},\"type\":\"line\",\"x0\":0,\"x1\":1,\"xref\":\"x domain\",\"y0\":0.6130630360820146,\"y1\":0.6130630360820146,\"yref\":\"y\"},{\"layer\":\"below\",\"line\":{\"color\":\"#DD4040\",\"dash\":\"dash\",\"width\":1},\"type\":\"line\",\"x0\":0,\"x1\":1,\"xref\":\"x domain\",\"y0\":0.8273928899213809,\"y1\":0.8273928899213809,\"yref\":\"y\"},{\"layer\":\"below\",\"line\":{\"color\":\"#3b0280\",\"dash\":\"dash\",\"width\":1},\"type\":\"line\",\"x0\":\"2051-12-05T00:00:00\",\"x1\":\"2051-12-05T00:00:00\",\"xref\":\"x\",\"y0\":0,\"y1\":1,\"yref\":\"y domain\"}],\"annotations\":[{\"font\":{\"color\":\"#DD4040\"},\"showarrow\":false,\"text\":\"0.61\",\"x\":1,\"xanchor\":\"right\",\"xref\":\"x domain\",\"y\":0.6130630360820146,\"yanchor\":\"bottom\",\"yref\":\"y\"},{\"font\":{\"color\":\"#DD4040\"},\"showarrow\":false,\"text\":\"0.83\",\"x\":1,\"xanchor\":\"right\",\"xref\":\"x domain\",\"y\":0.8273928899213809,\"yanchor\":\"bottom\",\"yref\":\"y\"}]},                        {\"responsive\": true}                    ).then(function(){\n",
       "                            \n",
       "var gd = document.getElementById('6773845b-ae66-449a-8bb3-c5db68a9c441');\n",
       "var x = new MutationObserver(function (mutations, observer) {{\n",
       "        var display = window.getComputedStyle(gd).display;\n",
       "        if (!display || display === 'none') {{\n",
       "            console.log([gd, 'removed!']);\n",
       "            Plotly.purge(gd);\n",
       "            observer.disconnect();\n",
       "        }}\n",
       "}});\n",
       "\n",
       "// Listen for the removal of the full notebook cells\n",
       "var notebookContainer = gd.closest('#notebook-container');\n",
       "if (notebookContainer) {{\n",
       "    x.observe(notebookContainer, {childList: true});\n",
       "}}\n",
       "\n",
       "// Listen for the clearing of the current output cell\n",
       "var outputEl = gd.closest('.output');\n",
       "if (outputEl) {{\n",
       "    x.observe(outputEl, {childList: true});\n",
       "}}\n",
       "\n",
       "                        })                };                });            </script>        </div>"
      ]
     },
     "metadata": {},
     "output_type": "display_data"
    }
   ],
   "source": [
    "for metric in performance_calculator.metrics:\n",
    "    figure = realized_performance.plot(kind='performance', metric=metric)\n",
    "    figure.show()"
   ]
  },
  {
   "cell_type": "code",
   "execution_count": 273,
   "id": "a4f1dbe8",
   "metadata": {},
   "outputs": [
    {
     "data": {
      "text/html": [
       "<div>\n",
       "<style scoped>\n",
       "    .dataframe tbody tr th:only-of-type {\n",
       "        vertical-align: middle;\n",
       "    }\n",
       "\n",
       "    .dataframe tbody tr th {\n",
       "        vertical-align: top;\n",
       "    }\n",
       "\n",
       "    .dataframe thead th {\n",
       "        text-align: right;\n",
       "    }\n",
       "</style>\n",
       "<table border=\"1\" class=\"dataframe\">\n",
       "  <thead>\n",
       "    <tr style=\"text-align: right;\">\n",
       "      <th></th>\n",
       "      <th>key</th>\n",
       "      <th>start_index</th>\n",
       "      <th>end_index</th>\n",
       "      <th>start_date</th>\n",
       "      <th>end_date</th>\n",
       "      <th>partition</th>\n",
       "      <th>reconstruction_error</th>\n",
       "      <th>lower_threshold</th>\n",
       "      <th>upper_threshold</th>\n",
       "      <th>alert</th>\n",
       "    </tr>\n",
       "  </thead>\n",
       "  <tbody>\n",
       "    <tr>\n",
       "      <th>0</th>\n",
       "      <td>[0:4999]</td>\n",
       "      <td>0</td>\n",
       "      <td>4999</td>\n",
       "      <td>2019-01-27</td>\n",
       "      <td>2032-10-04</td>\n",
       "      <td>reference</td>\n",
       "      <td>1.617294</td>\n",
       "      <td>0.205794</td>\n",
       "      <td>2.480967</td>\n",
       "      <td>False</td>\n",
       "    </tr>\n",
       "    <tr>\n",
       "      <th>1</th>\n",
       "      <td>[5000:9999]</td>\n",
       "      <td>5000</td>\n",
       "      <td>9999</td>\n",
       "      <td>2032-10-05</td>\n",
       "      <td>2046-06-13</td>\n",
       "      <td>reference</td>\n",
       "      <td>1.468679</td>\n",
       "      <td>0.205794</td>\n",
       "      <td>2.480967</td>\n",
       "      <td>False</td>\n",
       "    </tr>\n",
       "    <tr>\n",
       "      <th>2</th>\n",
       "      <td>[10000:14999]</td>\n",
       "      <td>10000</td>\n",
       "      <td>14999</td>\n",
       "      <td>2046-06-14</td>\n",
       "      <td>2060-02-20</td>\n",
       "      <td>reference</td>\n",
       "      <td>1.504991</td>\n",
       "      <td>0.205794</td>\n",
       "      <td>2.480967</td>\n",
       "      <td>False</td>\n",
       "    </tr>\n",
       "    <tr>\n",
       "      <th>3</th>\n",
       "      <td>[15000:19999]</td>\n",
       "      <td>15000</td>\n",
       "      <td>19999</td>\n",
       "      <td>2060-02-21</td>\n",
       "      <td>2073-10-29</td>\n",
       "      <td>analysis</td>\n",
       "      <td>1.535262</td>\n",
       "      <td>0.205794</td>\n",
       "      <td>2.480967</td>\n",
       "      <td>False</td>\n",
       "    </tr>\n",
       "    <tr>\n",
       "      <th>4</th>\n",
       "      <td>[20000:24999]</td>\n",
       "      <td>20000</td>\n",
       "      <td>24999</td>\n",
       "      <td>2073-10-30</td>\n",
       "      <td>2087-07-08</td>\n",
       "      <td>analysis</td>\n",
       "      <td>1.501110</td>\n",
       "      <td>0.205794</td>\n",
       "      <td>2.480967</td>\n",
       "      <td>False</td>\n",
       "    </tr>\n",
       "    <tr>\n",
       "      <th>5</th>\n",
       "      <td>[25000:29999]</td>\n",
       "      <td>25000</td>\n",
       "      <td>29999</td>\n",
       "      <td>2087-07-09</td>\n",
       "      <td>2101-03-17</td>\n",
       "      <td>analysis</td>\n",
       "      <td>1.643584</td>\n",
       "      <td>0.205794</td>\n",
       "      <td>2.480967</td>\n",
       "      <td>False</td>\n",
       "    </tr>\n",
       "    <tr>\n",
       "      <th>6</th>\n",
       "      <td>[30000:32363]</td>\n",
       "      <td>30000</td>\n",
       "      <td>32363</td>\n",
       "      <td>2101-03-18</td>\n",
       "      <td>2107-09-06</td>\n",
       "      <td>analysis</td>\n",
       "      <td>1.559058</td>\n",
       "      <td>0.205794</td>\n",
       "      <td>2.480967</td>\n",
       "      <td>False</td>\n",
       "    </tr>\n",
       "  </tbody>\n",
       "</table>\n",
       "</div>"
      ],
      "text/plain": [
       "             key  start_index  end_index start_date   end_date  partition  \\\n",
       "0       [0:4999]            0       4999 2019-01-27 2032-10-04  reference   \n",
       "1    [5000:9999]         5000       9999 2032-10-05 2046-06-13  reference   \n",
       "2  [10000:14999]        10000      14999 2046-06-14 2060-02-20  reference   \n",
       "3  [15000:19999]        15000      19999 2060-02-21 2073-10-29   analysis   \n",
       "4  [20000:24999]        20000      24999 2073-10-30 2087-07-08   analysis   \n",
       "5  [25000:29999]        25000      29999 2087-07-09 2101-03-17   analysis   \n",
       "6  [30000:32363]        30000      32363 2101-03-18 2107-09-06   analysis   \n",
       "\n",
       "   reconstruction_error  lower_threshold  upper_threshold  alert  \n",
       "0              1.617294         0.205794         2.480967  False  \n",
       "1              1.468679         0.205794         2.480967  False  \n",
       "2              1.504991         0.205794         2.480967  False  \n",
       "3              1.535262         0.205794         2.480967  False  \n",
       "4              1.501110         0.205794         2.480967  False  \n",
       "5              1.643584         0.205794         2.480967  False  \n",
       "6              1.559058         0.205794         2.480967  False  "
      ]
     },
     "metadata": {},
     "output_type": "display_data"
    },
    {
     "data": {
      "application/vnd.plotly.v1+json": {
       "config": {
        "plotlyServerURL": "https://plot.ly"
       },
       "data": [
        {
         "hoverinfo": "skip",
         "legendgroup": "1",
         "line": {
          "color": "#00c8e5",
          "shape": "hv",
          "width": 2
         },
         "mode": "lines",
         "name": "Reference period",
         "type": "scatter",
         "x": [
          "2019-01-27T00:00:00",
          "2032-10-05T00:00:00",
          "2046-06-14T00:00:00",
          "2060-02-20T00:00:00"
         ],
         "y": [
          1.61729354076278,
          1.468679481370092,
          1.504990554971237,
          1.504990554971237
         ]
        },
        {
         "hoverinfo": "skip",
         "legendgroup": "1",
         "line": {
          "color": "#3b0280",
          "shape": "hv",
          "width": 2
         },
         "mode": "lines",
         "name": "Analysis period",
         "type": "scatter",
         "x": [
          "2060-02-21T00:00:00",
          "2073-10-30T00:00:00",
          "2087-07-09T00:00:00",
          "2101-03-18T00:00:00",
          "2107-09-06T00:00:00"
         ],
         "y": [
          1.5352615288264633,
          1.501109981868666,
          1.6435842370643847,
          1.5590576160000924,
          1.5590576160000924
         ]
        },
        {
         "customdata": [
          [
           "[0:4999]",
           "Jan-27-2019",
           "Oct-04-2032",
           "1.6173",
           "<b style=\"color:#00c8e5;line-height:60px\">Reference</b>",
           "",
           ""
          ],
          [
           "[5000:9999]",
           "Oct-05-2032",
           "Jun-13-2046",
           "1.4687",
           "<b style=\"color:#00c8e5;line-height:60px\">Reference</b>",
           "",
           ""
          ],
          [
           "[10000:14999]",
           "Jun-14-2046",
           "Feb-20-2060",
           "1.5050",
           "<b style=\"color:#00c8e5;line-height:60px\">Reference</b>",
           "",
           ""
          ]
         ],
         "hovertemplate": "%{customdata[4]} &nbsp; &nbsp; <span style=\"color:#AD0000\">%{customdata[5]}</span><br>Chunk: <b>%{customdata[0]}</b> &nbsp; &nbsp; From <b>%{customdata[1]}</b> to <b>%{customdata[2]}</b> &nbsp; &nbsp; <br>Reconstruction error: <b>%{customdata[3]}</b>  &nbsp; &nbsp; %{customdata[6]} <extra></extra>",
         "marker": {
          "color": "#00c8e5",
          "size": 6,
          "symbol": "square"
         },
         "mode": "markers",
         "name": "Reference",
         "showlegend": false,
         "type": "scatter",
         "x": [
          "2025-11-30T12:00:00",
          "2039-08-09T12:00:00",
          "2053-04-17T12:00:00"
         ],
         "y": [
          1.61729354076278,
          1.468679481370092,
          1.504990554971237
         ]
        },
        {
         "customdata": [
          [
           "[15000:19999]",
           "Feb-21-2060",
           "Oct-29-2073",
           "1.5353",
           "<b style=\"color:#3b0280;line-height:60px\">Analysis</b>",
           "",
           ""
          ],
          [
           "[20000:24999]",
           "Oct-30-2073",
           "Jul-08-2087",
           "1.5011",
           "<b style=\"color:#3b0280;line-height:60px\">Analysis</b>",
           "",
           ""
          ],
          [
           "[25000:29999]",
           "Jul-09-2087",
           "Mar-17-2101",
           "1.6436",
           "<b style=\"color:#3b0280;line-height:60px\">Analysis</b>",
           "",
           ""
          ],
          [
           "[30000:32363]",
           "Mar-18-2101",
           "Sep-06-2107",
           "1.5591",
           "<b style=\"color:#3b0280;line-height:60px\">Analysis</b>",
           "",
           ""
          ]
         ],
         "hovertemplate": "%{customdata[4]} &nbsp; &nbsp; <span style=\"color:#AD0000\">%{customdata[5]}</span><br>Chunk: <b>%{customdata[0]}</b> &nbsp; &nbsp; From <b>%{customdata[1]}</b> to <b>%{customdata[2]}</b> &nbsp; &nbsp; <br>Reconstruction error: <b>%{customdata[3]}</b>  &nbsp; &nbsp; %{customdata[6]} <extra></extra>",
         "marker": {
          "color": "#3b0280",
          "size": 6,
          "symbol": "square"
         },
         "mode": "markers",
         "name": "No data drift",
         "showlegend": false,
         "type": "scatter",
         "x": [
          "2066-12-25T12:00:00",
          "2080-09-02T12:00:00",
          "2094-05-12T12:00:00",
          "2104-06-11T12:00:00"
         ],
         "y": [
          1.5352615288264633,
          1.501109981868666,
          1.6435842370643847,
          1.5590576160000924
         ]
        },
        {
         "customdata": [],
         "hovertemplate": "%{customdata[4]} &nbsp; &nbsp; <span style=\"color:#AD0000\">%{customdata[5]}</span><br>Chunk: <b>%{customdata[0]}</b> &nbsp; &nbsp; From <b>%{customdata[1]}</b> to <b>%{customdata[2]}</b> &nbsp; &nbsp; <br>Reconstruction error: <b>%{customdata[3]}</b>  &nbsp; &nbsp; %{customdata[6]} <extra></extra>",
         "marker": {
          "color": "#DD4040",
          "size": 6,
          "symbol": "diamond"
         },
         "mode": "markers",
         "name": "Data drift",
         "showlegend": false,
         "type": "scatter",
         "x": [],
         "y": []
        },
        {
         "legendgroup": "1",
         "line": {
          "color": "#DD4040",
          "dash": "dash",
          "width": 1
         },
         "mode": "lines",
         "name": "Data drift threshold",
         "type": "scatter",
         "x": [
          [
           1764504000000000000
          ],
          [
           4242628800000000000
          ]
         ],
         "y": [
          null,
          null
         ]
        },
        {
         "line": {
          "color": "rgba(0,0,0,0)"
         },
         "mode": "lines",
         "showlegend": false,
         "type": "scatter",
         "x": [
          [
           1764504000000000000
          ],
          [
           4242628800000000000
          ]
         ],
         "y": [
          null,
          null
         ]
        },
        {
         "fill": "tonexty",
         "fillcolor": "rgba(0.8666666666666667, 0.25098039215686274, 0.25098039215686274, 0.2)",
         "legendgroup": "1",
         "line": {
          "color": "rgba(0,0,0,0)"
         },
         "marker": {
          "color": "#DD4040",
          "size": 6,
          "symbol": "diamond"
         },
         "mode": "lines+markers",
         "name": "Data drift",
         "type": "scatter",
         "x": [
          [
           1764504000000000000
          ],
          [
           4242628800000000000
          ]
         ],
         "y": [
          null,
          null
         ]
        }
       ],
       "layout": {
        "annotations": [
         {
          "font": {
           "color": "#DD4040"
          },
          "showarrow": false,
          "text": "0.21",
          "x": 1,
          "xanchor": "right",
          "xref": "x domain",
          "y": 0.2057936085645391,
          "yanchor": "bottom",
          "yref": "y"
         },
         {
          "font": {
           "color": "#DD4040"
          },
          "showarrow": false,
          "text": "2.48",
          "x": 1,
          "xanchor": "right",
          "xref": "x domain",
          "y": 2.4809671710892793,
          "yanchor": "bottom",
          "yref": "y"
         }
        ],
        "hoverlabel": {
         "bgcolor": "white",
         "font": {
          "size": 14
         }
        },
        "legend": {
         "itemclick": false,
         "itemdoubleclick": false,
         "orientation": "h",
         "traceorder": "normal",
         "x": 0,
         "xanchor": "left",
         "y": -0.25,
         "yanchor": "top"
        },
        "paper_bgcolor": "rgba(255,255,255,1)",
        "plot_bgcolor": "rgba(255,255,255,1)",
        "shapes": [
         {
          "layer": "below",
          "line": {
           "color": "#DD4040",
           "dash": "dash",
           "width": 1
          },
          "type": "line",
          "x0": 0,
          "x1": 1,
          "xref": "x domain",
          "y0": 0.2057936085645391,
          "y1": 0.2057936085645391,
          "yref": "y"
         },
         {
          "layer": "below",
          "line": {
           "color": "#DD4040",
           "dash": "dash",
           "width": 1
          },
          "type": "line",
          "x0": 0,
          "x1": 1,
          "xref": "x domain",
          "y0": 2.4809671710892793,
          "y1": 2.4809671710892793,
          "yref": "y"
         },
         {
          "layer": "below",
          "line": {
           "color": "#3b0280",
           "dash": "dash",
           "width": 1
          },
          "type": "line",
          "x0": "2060-02-21T00:00:00",
          "x1": "2060-02-21T00:00:00",
          "xref": "x",
          "y0": 0,
          "y1": 1,
          "yref": "y domain"
         }
        ],
        "template": {
         "data": {
          "bar": [
           {
            "error_x": {
             "color": "#2a3f5f"
            },
            "error_y": {
             "color": "#2a3f5f"
            },
            "marker": {
             "line": {
              "color": "#E5ECF6",
              "width": 0.5
             },
             "pattern": {
              "fillmode": "overlay",
              "size": 10,
              "solidity": 0.2
             }
            },
            "type": "bar"
           }
          ],
          "barpolar": [
           {
            "marker": {
             "line": {
              "color": "#E5ECF6",
              "width": 0.5
             },
             "pattern": {
              "fillmode": "overlay",
              "size": 10,
              "solidity": 0.2
             }
            },
            "type": "barpolar"
           }
          ],
          "carpet": [
           {
            "aaxis": {
             "endlinecolor": "#2a3f5f",
             "gridcolor": "white",
             "linecolor": "white",
             "minorgridcolor": "white",
             "startlinecolor": "#2a3f5f"
            },
            "baxis": {
             "endlinecolor": "#2a3f5f",
             "gridcolor": "white",
             "linecolor": "white",
             "minorgridcolor": "white",
             "startlinecolor": "#2a3f5f"
            },
            "type": "carpet"
           }
          ],
          "choropleth": [
           {
            "colorbar": {
             "outlinewidth": 0,
             "ticks": ""
            },
            "type": "choropleth"
           }
          ],
          "contour": [
           {
            "colorbar": {
             "outlinewidth": 0,
             "ticks": ""
            },
            "colorscale": [
             [
              0,
              "#0d0887"
             ],
             [
              0.1111111111111111,
              "#46039f"
             ],
             [
              0.2222222222222222,
              "#7201a8"
             ],
             [
              0.3333333333333333,
              "#9c179e"
             ],
             [
              0.4444444444444444,
              "#bd3786"
             ],
             [
              0.5555555555555556,
              "#d8576b"
             ],
             [
              0.6666666666666666,
              "#ed7953"
             ],
             [
              0.7777777777777778,
              "#fb9f3a"
             ],
             [
              0.8888888888888888,
              "#fdca26"
             ],
             [
              1,
              "#f0f921"
             ]
            ],
            "type": "contour"
           }
          ],
          "contourcarpet": [
           {
            "colorbar": {
             "outlinewidth": 0,
             "ticks": ""
            },
            "type": "contourcarpet"
           }
          ],
          "heatmap": [
           {
            "colorbar": {
             "outlinewidth": 0,
             "ticks": ""
            },
            "colorscale": [
             [
              0,
              "#0d0887"
             ],
             [
              0.1111111111111111,
              "#46039f"
             ],
             [
              0.2222222222222222,
              "#7201a8"
             ],
             [
              0.3333333333333333,
              "#9c179e"
             ],
             [
              0.4444444444444444,
              "#bd3786"
             ],
             [
              0.5555555555555556,
              "#d8576b"
             ],
             [
              0.6666666666666666,
              "#ed7953"
             ],
             [
              0.7777777777777778,
              "#fb9f3a"
             ],
             [
              0.8888888888888888,
              "#fdca26"
             ],
             [
              1,
              "#f0f921"
             ]
            ],
            "type": "heatmap"
           }
          ],
          "heatmapgl": [
           {
            "colorbar": {
             "outlinewidth": 0,
             "ticks": ""
            },
            "colorscale": [
             [
              0,
              "#0d0887"
             ],
             [
              0.1111111111111111,
              "#46039f"
             ],
             [
              0.2222222222222222,
              "#7201a8"
             ],
             [
              0.3333333333333333,
              "#9c179e"
             ],
             [
              0.4444444444444444,
              "#bd3786"
             ],
             [
              0.5555555555555556,
              "#d8576b"
             ],
             [
              0.6666666666666666,
              "#ed7953"
             ],
             [
              0.7777777777777778,
              "#fb9f3a"
             ],
             [
              0.8888888888888888,
              "#fdca26"
             ],
             [
              1,
              "#f0f921"
             ]
            ],
            "type": "heatmapgl"
           }
          ],
          "histogram": [
           {
            "marker": {
             "pattern": {
              "fillmode": "overlay",
              "size": 10,
              "solidity": 0.2
             }
            },
            "type": "histogram"
           }
          ],
          "histogram2d": [
           {
            "colorbar": {
             "outlinewidth": 0,
             "ticks": ""
            },
            "colorscale": [
             [
              0,
              "#0d0887"
             ],
             [
              0.1111111111111111,
              "#46039f"
             ],
             [
              0.2222222222222222,
              "#7201a8"
             ],
             [
              0.3333333333333333,
              "#9c179e"
             ],
             [
              0.4444444444444444,
              "#bd3786"
             ],
             [
              0.5555555555555556,
              "#d8576b"
             ],
             [
              0.6666666666666666,
              "#ed7953"
             ],
             [
              0.7777777777777778,
              "#fb9f3a"
             ],
             [
              0.8888888888888888,
              "#fdca26"
             ],
             [
              1,
              "#f0f921"
             ]
            ],
            "type": "histogram2d"
           }
          ],
          "histogram2dcontour": [
           {
            "colorbar": {
             "outlinewidth": 0,
             "ticks": ""
            },
            "colorscale": [
             [
              0,
              "#0d0887"
             ],
             [
              0.1111111111111111,
              "#46039f"
             ],
             [
              0.2222222222222222,
              "#7201a8"
             ],
             [
              0.3333333333333333,
              "#9c179e"
             ],
             [
              0.4444444444444444,
              "#bd3786"
             ],
             [
              0.5555555555555556,
              "#d8576b"
             ],
             [
              0.6666666666666666,
              "#ed7953"
             ],
             [
              0.7777777777777778,
              "#fb9f3a"
             ],
             [
              0.8888888888888888,
              "#fdca26"
             ],
             [
              1,
              "#f0f921"
             ]
            ],
            "type": "histogram2dcontour"
           }
          ],
          "mesh3d": [
           {
            "colorbar": {
             "outlinewidth": 0,
             "ticks": ""
            },
            "type": "mesh3d"
           }
          ],
          "parcoords": [
           {
            "line": {
             "colorbar": {
              "outlinewidth": 0,
              "ticks": ""
             }
            },
            "type": "parcoords"
           }
          ],
          "pie": [
           {
            "automargin": true,
            "type": "pie"
           }
          ],
          "scatter": [
           {
            "fillpattern": {
             "fillmode": "overlay",
             "size": 10,
             "solidity": 0.2
            },
            "type": "scatter"
           }
          ],
          "scatter3d": [
           {
            "line": {
             "colorbar": {
              "outlinewidth": 0,
              "ticks": ""
             }
            },
            "marker": {
             "colorbar": {
              "outlinewidth": 0,
              "ticks": ""
             }
            },
            "type": "scatter3d"
           }
          ],
          "scattercarpet": [
           {
            "marker": {
             "colorbar": {
              "outlinewidth": 0,
              "ticks": ""
             }
            },
            "type": "scattercarpet"
           }
          ],
          "scattergeo": [
           {
            "marker": {
             "colorbar": {
              "outlinewidth": 0,
              "ticks": ""
             }
            },
            "type": "scattergeo"
           }
          ],
          "scattergl": [
           {
            "marker": {
             "colorbar": {
              "outlinewidth": 0,
              "ticks": ""
             }
            },
            "type": "scattergl"
           }
          ],
          "scattermapbox": [
           {
            "marker": {
             "colorbar": {
              "outlinewidth": 0,
              "ticks": ""
             }
            },
            "type": "scattermapbox"
           }
          ],
          "scatterpolar": [
           {
            "marker": {
             "colorbar": {
              "outlinewidth": 0,
              "ticks": ""
             }
            },
            "type": "scatterpolar"
           }
          ],
          "scatterpolargl": [
           {
            "marker": {
             "colorbar": {
              "outlinewidth": 0,
              "ticks": ""
             }
            },
            "type": "scatterpolargl"
           }
          ],
          "scatterternary": [
           {
            "marker": {
             "colorbar": {
              "outlinewidth": 0,
              "ticks": ""
             }
            },
            "type": "scatterternary"
           }
          ],
          "surface": [
           {
            "colorbar": {
             "outlinewidth": 0,
             "ticks": ""
            },
            "colorscale": [
             [
              0,
              "#0d0887"
             ],
             [
              0.1111111111111111,
              "#46039f"
             ],
             [
              0.2222222222222222,
              "#7201a8"
             ],
             [
              0.3333333333333333,
              "#9c179e"
             ],
             [
              0.4444444444444444,
              "#bd3786"
             ],
             [
              0.5555555555555556,
              "#d8576b"
             ],
             [
              0.6666666666666666,
              "#ed7953"
             ],
             [
              0.7777777777777778,
              "#fb9f3a"
             ],
             [
              0.8888888888888888,
              "#fdca26"
             ],
             [
              1,
              "#f0f921"
             ]
            ],
            "type": "surface"
           }
          ],
          "table": [
           {
            "cells": {
             "fill": {
              "color": "#EBF0F8"
             },
             "line": {
              "color": "white"
             }
            },
            "header": {
             "fill": {
              "color": "#C8D4E3"
             },
             "line": {
              "color": "white"
             }
            },
            "type": "table"
           }
          ]
         },
         "layout": {
          "annotationdefaults": {
           "arrowcolor": "#2a3f5f",
           "arrowhead": 0,
           "arrowwidth": 1
          },
          "autotypenumbers": "strict",
          "coloraxis": {
           "colorbar": {
            "outlinewidth": 0,
            "ticks": ""
           }
          },
          "colorscale": {
           "diverging": [
            [
             0,
             "#8e0152"
            ],
            [
             0.1,
             "#c51b7d"
            ],
            [
             0.2,
             "#de77ae"
            ],
            [
             0.3,
             "#f1b6da"
            ],
            [
             0.4,
             "#fde0ef"
            ],
            [
             0.5,
             "#f7f7f7"
            ],
            [
             0.6,
             "#e6f5d0"
            ],
            [
             0.7,
             "#b8e186"
            ],
            [
             0.8,
             "#7fbc41"
            ],
            [
             0.9,
             "#4d9221"
            ],
            [
             1,
             "#276419"
            ]
           ],
           "sequential": [
            [
             0,
             "#0d0887"
            ],
            [
             0.1111111111111111,
             "#46039f"
            ],
            [
             0.2222222222222222,
             "#7201a8"
            ],
            [
             0.3333333333333333,
             "#9c179e"
            ],
            [
             0.4444444444444444,
             "#bd3786"
            ],
            [
             0.5555555555555556,
             "#d8576b"
            ],
            [
             0.6666666666666666,
             "#ed7953"
            ],
            [
             0.7777777777777778,
             "#fb9f3a"
            ],
            [
             0.8888888888888888,
             "#fdca26"
            ],
            [
             1,
             "#f0f921"
            ]
           ],
           "sequentialminus": [
            [
             0,
             "#0d0887"
            ],
            [
             0.1111111111111111,
             "#46039f"
            ],
            [
             0.2222222222222222,
             "#7201a8"
            ],
            [
             0.3333333333333333,
             "#9c179e"
            ],
            [
             0.4444444444444444,
             "#bd3786"
            ],
            [
             0.5555555555555556,
             "#d8576b"
            ],
            [
             0.6666666666666666,
             "#ed7953"
            ],
            [
             0.7777777777777778,
             "#fb9f3a"
            ],
            [
             0.8888888888888888,
             "#fdca26"
            ],
            [
             1,
             "#f0f921"
            ]
           ]
          },
          "colorway": [
           "#636efa",
           "#EF553B",
           "#00cc96",
           "#ab63fa",
           "#FFA15A",
           "#19d3f3",
           "#FF6692",
           "#B6E880",
           "#FF97FF",
           "#FECB52"
          ],
          "font": {
           "color": "#2a3f5f"
          },
          "geo": {
           "bgcolor": "white",
           "lakecolor": "white",
           "landcolor": "#E5ECF6",
           "showlakes": true,
           "showland": true,
           "subunitcolor": "white"
          },
          "hoverlabel": {
           "align": "left"
          },
          "hovermode": "closest",
          "mapbox": {
           "style": "light"
          },
          "paper_bgcolor": "white",
          "plot_bgcolor": "#E5ECF6",
          "polar": {
           "angularaxis": {
            "gridcolor": "white",
            "linecolor": "white",
            "ticks": ""
           },
           "bgcolor": "#E5ECF6",
           "radialaxis": {
            "gridcolor": "white",
            "linecolor": "white",
            "ticks": ""
           }
          },
          "scene": {
           "xaxis": {
            "backgroundcolor": "#E5ECF6",
            "gridcolor": "white",
            "gridwidth": 2,
            "linecolor": "white",
            "showbackground": true,
            "ticks": "",
            "zerolinecolor": "white"
           },
           "yaxis": {
            "backgroundcolor": "#E5ECF6",
            "gridcolor": "white",
            "gridwidth": 2,
            "linecolor": "white",
            "showbackground": true,
            "ticks": "",
            "zerolinecolor": "white"
           },
           "zaxis": {
            "backgroundcolor": "#E5ECF6",
            "gridcolor": "white",
            "gridwidth": 2,
            "linecolor": "white",
            "showbackground": true,
            "ticks": "",
            "zerolinecolor": "white"
           }
          },
          "shapedefaults": {
           "line": {
            "color": "#2a3f5f"
           }
          },
          "ternary": {
           "aaxis": {
            "gridcolor": "white",
            "linecolor": "white",
            "ticks": ""
           },
           "baxis": {
            "gridcolor": "white",
            "linecolor": "white",
            "ticks": ""
           },
           "bgcolor": "#E5ECF6",
           "caxis": {
            "gridcolor": "white",
            "linecolor": "white",
            "ticks": ""
           }
          },
          "title": {
           "x": 0.05
          },
          "xaxis": {
           "automargin": true,
           "gridcolor": "white",
           "linecolor": "white",
           "ticks": "",
           "title": {
            "standoff": 15
           },
           "zerolinecolor": "white",
           "zerolinewidth": 2
          },
          "yaxis": {
           "automargin": true,
           "gridcolor": "white",
           "linecolor": "white",
           "ticks": "",
           "title": {
            "standoff": 15
           },
           "zerolinecolor": "white",
           "zerolinewidth": 2
          }
         }
        },
        "title": {
         "text": "Data Reconstruction Drift"
        },
        "xaxis": {
         "linecolor": "#666666",
         "mirror": true,
         "showgrid": false,
         "title": {
          "text": "Time"
         },
         "zeroline": false
        },
        "yaxis": {
         "linecolor": "#666666",
         "mirror": true,
         "showgrid": false,
         "title": {
          "text": "Reconstruction Error"
         },
         "zeroline": false
        }
       }
      },
      "text/html": [
       "<div>                            <div id=\"80d5f7bd-fc78-4b63-a55c-1ff49dcb4c4d\" class=\"plotly-graph-div\" style=\"height:525px; width:100%;\"></div>            <script type=\"text/javascript\">                require([\"plotly\"], function(Plotly) {                    window.PLOTLYENV=window.PLOTLYENV || {};                                    if (document.getElementById(\"80d5f7bd-fc78-4b63-a55c-1ff49dcb4c4d\")) {                    Plotly.newPlot(                        \"80d5f7bd-fc78-4b63-a55c-1ff49dcb4c4d\",                        [{\"hoverinfo\":\"skip\",\"legendgroup\":\"1\",\"line\":{\"color\":\"#00c8e5\",\"shape\":\"hv\",\"width\":2},\"mode\":\"lines\",\"name\":\"Reference period\",\"x\":[\"2019-01-27T00:00:00\",\"2032-10-05T00:00:00\",\"2046-06-14T00:00:00\",\"2060-02-20T00:00:00\"],\"y\":[1.61729354076278,1.468679481370092,1.504990554971237,1.504990554971237],\"type\":\"scatter\"},{\"hoverinfo\":\"skip\",\"legendgroup\":\"1\",\"line\":{\"color\":\"#3b0280\",\"shape\":\"hv\",\"width\":2},\"mode\":\"lines\",\"name\":\"Analysis period\",\"x\":[\"2060-02-21T00:00:00\",\"2073-10-30T00:00:00\",\"2087-07-09T00:00:00\",\"2101-03-18T00:00:00\",\"2107-09-06T00:00:00\"],\"y\":[1.5352615288264633,1.501109981868666,1.6435842370643847,1.5590576160000924,1.5590576160000924],\"type\":\"scatter\"},{\"customdata\":[[\"[0:4999]\",\"Jan-27-2019\",\"Oct-04-2032\",\"1.6173\",\"<b style=\\\"color:#00c8e5;line-height:60px\\\">Reference</b>\",\"\",\"\"],[\"[5000:9999]\",\"Oct-05-2032\",\"Jun-13-2046\",\"1.4687\",\"<b style=\\\"color:#00c8e5;line-height:60px\\\">Reference</b>\",\"\",\"\"],[\"[10000:14999]\",\"Jun-14-2046\",\"Feb-20-2060\",\"1.5050\",\"<b style=\\\"color:#00c8e5;line-height:60px\\\">Reference</b>\",\"\",\"\"]],\"hovertemplate\":\"%{customdata[4]} &nbsp; &nbsp; <span style=\\\"color:#AD0000\\\">%{customdata[5]}</span><br>Chunk: <b>%{customdata[0]}</b> &nbsp; &nbsp; From <b>%{customdata[1]}</b> to <b>%{customdata[2]}</b> &nbsp; &nbsp; <br>Reconstruction error: <b>%{customdata[3]}</b>  &nbsp; &nbsp; %{customdata[6]} <extra></extra>\",\"marker\":{\"color\":\"#00c8e5\",\"size\":6,\"symbol\":\"square\"},\"mode\":\"markers\",\"name\":\"Reference\",\"showlegend\":false,\"x\":[\"2025-11-30T12:00:00\",\"2039-08-09T12:00:00\",\"2053-04-17T12:00:00\"],\"y\":[1.61729354076278,1.468679481370092,1.504990554971237],\"type\":\"scatter\"},{\"customdata\":[[\"[15000:19999]\",\"Feb-21-2060\",\"Oct-29-2073\",\"1.5353\",\"<b style=\\\"color:#3b0280;line-height:60px\\\">Analysis</b>\",\"\",\"\"],[\"[20000:24999]\",\"Oct-30-2073\",\"Jul-08-2087\",\"1.5011\",\"<b style=\\\"color:#3b0280;line-height:60px\\\">Analysis</b>\",\"\",\"\"],[\"[25000:29999]\",\"Jul-09-2087\",\"Mar-17-2101\",\"1.6436\",\"<b style=\\\"color:#3b0280;line-height:60px\\\">Analysis</b>\",\"\",\"\"],[\"[30000:32363]\",\"Mar-18-2101\",\"Sep-06-2107\",\"1.5591\",\"<b style=\\\"color:#3b0280;line-height:60px\\\">Analysis</b>\",\"\",\"\"]],\"hovertemplate\":\"%{customdata[4]} &nbsp; &nbsp; <span style=\\\"color:#AD0000\\\">%{customdata[5]}</span><br>Chunk: <b>%{customdata[0]}</b> &nbsp; &nbsp; From <b>%{customdata[1]}</b> to <b>%{customdata[2]}</b> &nbsp; &nbsp; <br>Reconstruction error: <b>%{customdata[3]}</b>  &nbsp; &nbsp; %{customdata[6]} <extra></extra>\",\"marker\":{\"color\":\"#3b0280\",\"size\":6,\"symbol\":\"square\"},\"mode\":\"markers\",\"name\":\"No data drift\",\"showlegend\":false,\"x\":[\"2066-12-25T12:00:00\",\"2080-09-02T12:00:00\",\"2094-05-12T12:00:00\",\"2104-06-11T12:00:00\"],\"y\":[1.5352615288264633,1.501109981868666,1.6435842370643847,1.5590576160000924],\"type\":\"scatter\"},{\"customdata\":[],\"hovertemplate\":\"%{customdata[4]} &nbsp; &nbsp; <span style=\\\"color:#AD0000\\\">%{customdata[5]}</span><br>Chunk: <b>%{customdata[0]}</b> &nbsp; &nbsp; From <b>%{customdata[1]}</b> to <b>%{customdata[2]}</b> &nbsp; &nbsp; <br>Reconstruction error: <b>%{customdata[3]}</b>  &nbsp; &nbsp; %{customdata[6]} <extra></extra>\",\"marker\":{\"color\":\"#DD4040\",\"size\":6,\"symbol\":\"diamond\"},\"mode\":\"markers\",\"name\":\"Data drift\",\"showlegend\":false,\"x\":[],\"y\":[],\"type\":\"scatter\"},{\"legendgroup\":\"1\",\"line\":{\"color\":\"#DD4040\",\"dash\":\"dash\",\"width\":1},\"mode\":\"lines\",\"name\":\"Data drift threshold\",\"x\":[[1764504000000000000],[4242628800000000000]],\"y\":[null,null],\"type\":\"scatter\"},{\"line\":{\"color\":\"rgba(0,0,0,0)\"},\"mode\":\"lines\",\"showlegend\":false,\"x\":[[1764504000000000000],[4242628800000000000]],\"y\":[null,null],\"type\":\"scatter\"},{\"fill\":\"tonexty\",\"fillcolor\":\"rgba(0.8666666666666667, 0.25098039215686274, 0.25098039215686274, 0.2)\",\"legendgroup\":\"1\",\"line\":{\"color\":\"rgba(0,0,0,0)\"},\"marker\":{\"color\":\"#DD4040\",\"size\":6,\"symbol\":\"diamond\"},\"mode\":\"lines+markers\",\"name\":\"Data drift\",\"x\":[[1764504000000000000],[4242628800000000000]],\"y\":[null,null],\"type\":\"scatter\"}],                        {\"hoverlabel\":{\"bgcolor\":\"white\",\"font\":{\"size\":14}},\"legend\":{\"itemclick\":false,\"itemdoubleclick\":false,\"traceorder\":\"normal\",\"yanchor\":\"top\",\"y\":-0.25,\"xanchor\":\"left\",\"x\":0,\"orientation\":\"h\"},\"paper_bgcolor\":\"rgba(255,255,255,1)\",\"plot_bgcolor\":\"rgba(255,255,255,1)\",\"title\":{\"text\":\"Data Reconstruction Drift\"},\"xaxis\":{\"linecolor\":\"#666666\",\"mirror\":true,\"showgrid\":false,\"title\":{\"text\":\"Time\"},\"zeroline\":false},\"yaxis\":{\"linecolor\":\"#666666\",\"mirror\":true,\"showgrid\":false,\"title\":{\"text\":\"Reconstruction Error\"},\"zeroline\":false},\"template\":{\"data\":{\"histogram2dcontour\":[{\"type\":\"histogram2dcontour\",\"colorbar\":{\"outlinewidth\":0,\"ticks\":\"\"},\"colorscale\":[[0.0,\"#0d0887\"],[0.1111111111111111,\"#46039f\"],[0.2222222222222222,\"#7201a8\"],[0.3333333333333333,\"#9c179e\"],[0.4444444444444444,\"#bd3786\"],[0.5555555555555556,\"#d8576b\"],[0.6666666666666666,\"#ed7953\"],[0.7777777777777778,\"#fb9f3a\"],[0.8888888888888888,\"#fdca26\"],[1.0,\"#f0f921\"]]}],\"choropleth\":[{\"type\":\"choropleth\",\"colorbar\":{\"outlinewidth\":0,\"ticks\":\"\"}}],\"histogram2d\":[{\"type\":\"histogram2d\",\"colorbar\":{\"outlinewidth\":0,\"ticks\":\"\"},\"colorscale\":[[0.0,\"#0d0887\"],[0.1111111111111111,\"#46039f\"],[0.2222222222222222,\"#7201a8\"],[0.3333333333333333,\"#9c179e\"],[0.4444444444444444,\"#bd3786\"],[0.5555555555555556,\"#d8576b\"],[0.6666666666666666,\"#ed7953\"],[0.7777777777777778,\"#fb9f3a\"],[0.8888888888888888,\"#fdca26\"],[1.0,\"#f0f921\"]]}],\"heatmap\":[{\"type\":\"heatmap\",\"colorbar\":{\"outlinewidth\":0,\"ticks\":\"\"},\"colorscale\":[[0.0,\"#0d0887\"],[0.1111111111111111,\"#46039f\"],[0.2222222222222222,\"#7201a8\"],[0.3333333333333333,\"#9c179e\"],[0.4444444444444444,\"#bd3786\"],[0.5555555555555556,\"#d8576b\"],[0.6666666666666666,\"#ed7953\"],[0.7777777777777778,\"#fb9f3a\"],[0.8888888888888888,\"#fdca26\"],[1.0,\"#f0f921\"]]}],\"heatmapgl\":[{\"type\":\"heatmapgl\",\"colorbar\":{\"outlinewidth\":0,\"ticks\":\"\"},\"colorscale\":[[0.0,\"#0d0887\"],[0.1111111111111111,\"#46039f\"],[0.2222222222222222,\"#7201a8\"],[0.3333333333333333,\"#9c179e\"],[0.4444444444444444,\"#bd3786\"],[0.5555555555555556,\"#d8576b\"],[0.6666666666666666,\"#ed7953\"],[0.7777777777777778,\"#fb9f3a\"],[0.8888888888888888,\"#fdca26\"],[1.0,\"#f0f921\"]]}],\"contourcarpet\":[{\"type\":\"contourcarpet\",\"colorbar\":{\"outlinewidth\":0,\"ticks\":\"\"}}],\"contour\":[{\"type\":\"contour\",\"colorbar\":{\"outlinewidth\":0,\"ticks\":\"\"},\"colorscale\":[[0.0,\"#0d0887\"],[0.1111111111111111,\"#46039f\"],[0.2222222222222222,\"#7201a8\"],[0.3333333333333333,\"#9c179e\"],[0.4444444444444444,\"#bd3786\"],[0.5555555555555556,\"#d8576b\"],[0.6666666666666666,\"#ed7953\"],[0.7777777777777778,\"#fb9f3a\"],[0.8888888888888888,\"#fdca26\"],[1.0,\"#f0f921\"]]}],\"surface\":[{\"type\":\"surface\",\"colorbar\":{\"outlinewidth\":0,\"ticks\":\"\"},\"colorscale\":[[0.0,\"#0d0887\"],[0.1111111111111111,\"#46039f\"],[0.2222222222222222,\"#7201a8\"],[0.3333333333333333,\"#9c179e\"],[0.4444444444444444,\"#bd3786\"],[0.5555555555555556,\"#d8576b\"],[0.6666666666666666,\"#ed7953\"],[0.7777777777777778,\"#fb9f3a\"],[0.8888888888888888,\"#fdca26\"],[1.0,\"#f0f921\"]]}],\"mesh3d\":[{\"type\":\"mesh3d\",\"colorbar\":{\"outlinewidth\":0,\"ticks\":\"\"}}],\"scatter\":[{\"fillpattern\":{\"fillmode\":\"overlay\",\"size\":10,\"solidity\":0.2},\"type\":\"scatter\"}],\"parcoords\":[{\"type\":\"parcoords\",\"line\":{\"colorbar\":{\"outlinewidth\":0,\"ticks\":\"\"}}}],\"scatterpolargl\":[{\"type\":\"scatterpolargl\",\"marker\":{\"colorbar\":{\"outlinewidth\":0,\"ticks\":\"\"}}}],\"bar\":[{\"error_x\":{\"color\":\"#2a3f5f\"},\"error_y\":{\"color\":\"#2a3f5f\"},\"marker\":{\"line\":{\"color\":\"#E5ECF6\",\"width\":0.5},\"pattern\":{\"fillmode\":\"overlay\",\"size\":10,\"solidity\":0.2}},\"type\":\"bar\"}],\"scattergeo\":[{\"type\":\"scattergeo\",\"marker\":{\"colorbar\":{\"outlinewidth\":0,\"ticks\":\"\"}}}],\"scatterpolar\":[{\"type\":\"scatterpolar\",\"marker\":{\"colorbar\":{\"outlinewidth\":0,\"ticks\":\"\"}}}],\"histogram\":[{\"marker\":{\"pattern\":{\"fillmode\":\"overlay\",\"size\":10,\"solidity\":0.2}},\"type\":\"histogram\"}],\"scattergl\":[{\"type\":\"scattergl\",\"marker\":{\"colorbar\":{\"outlinewidth\":0,\"ticks\":\"\"}}}],\"scatter3d\":[{\"type\":\"scatter3d\",\"line\":{\"colorbar\":{\"outlinewidth\":0,\"ticks\":\"\"}},\"marker\":{\"colorbar\":{\"outlinewidth\":0,\"ticks\":\"\"}}}],\"scattermapbox\":[{\"type\":\"scattermapbox\",\"marker\":{\"colorbar\":{\"outlinewidth\":0,\"ticks\":\"\"}}}],\"scatterternary\":[{\"type\":\"scatterternary\",\"marker\":{\"colorbar\":{\"outlinewidth\":0,\"ticks\":\"\"}}}],\"scattercarpet\":[{\"type\":\"scattercarpet\",\"marker\":{\"colorbar\":{\"outlinewidth\":0,\"ticks\":\"\"}}}],\"carpet\":[{\"aaxis\":{\"endlinecolor\":\"#2a3f5f\",\"gridcolor\":\"white\",\"linecolor\":\"white\",\"minorgridcolor\":\"white\",\"startlinecolor\":\"#2a3f5f\"},\"baxis\":{\"endlinecolor\":\"#2a3f5f\",\"gridcolor\":\"white\",\"linecolor\":\"white\",\"minorgridcolor\":\"white\",\"startlinecolor\":\"#2a3f5f\"},\"type\":\"carpet\"}],\"table\":[{\"cells\":{\"fill\":{\"color\":\"#EBF0F8\"},\"line\":{\"color\":\"white\"}},\"header\":{\"fill\":{\"color\":\"#C8D4E3\"},\"line\":{\"color\":\"white\"}},\"type\":\"table\"}],\"barpolar\":[{\"marker\":{\"line\":{\"color\":\"#E5ECF6\",\"width\":0.5},\"pattern\":{\"fillmode\":\"overlay\",\"size\":10,\"solidity\":0.2}},\"type\":\"barpolar\"}],\"pie\":[{\"automargin\":true,\"type\":\"pie\"}]},\"layout\":{\"autotypenumbers\":\"strict\",\"colorway\":[\"#636efa\",\"#EF553B\",\"#00cc96\",\"#ab63fa\",\"#FFA15A\",\"#19d3f3\",\"#FF6692\",\"#B6E880\",\"#FF97FF\",\"#FECB52\"],\"font\":{\"color\":\"#2a3f5f\"},\"hovermode\":\"closest\",\"hoverlabel\":{\"align\":\"left\"},\"paper_bgcolor\":\"white\",\"plot_bgcolor\":\"#E5ECF6\",\"polar\":{\"bgcolor\":\"#E5ECF6\",\"angularaxis\":{\"gridcolor\":\"white\",\"linecolor\":\"white\",\"ticks\":\"\"},\"radialaxis\":{\"gridcolor\":\"white\",\"linecolor\":\"white\",\"ticks\":\"\"}},\"ternary\":{\"bgcolor\":\"#E5ECF6\",\"aaxis\":{\"gridcolor\":\"white\",\"linecolor\":\"white\",\"ticks\":\"\"},\"baxis\":{\"gridcolor\":\"white\",\"linecolor\":\"white\",\"ticks\":\"\"},\"caxis\":{\"gridcolor\":\"white\",\"linecolor\":\"white\",\"ticks\":\"\"}},\"coloraxis\":{\"colorbar\":{\"outlinewidth\":0,\"ticks\":\"\"}},\"colorscale\":{\"sequential\":[[0.0,\"#0d0887\"],[0.1111111111111111,\"#46039f\"],[0.2222222222222222,\"#7201a8\"],[0.3333333333333333,\"#9c179e\"],[0.4444444444444444,\"#bd3786\"],[0.5555555555555556,\"#d8576b\"],[0.6666666666666666,\"#ed7953\"],[0.7777777777777778,\"#fb9f3a\"],[0.8888888888888888,\"#fdca26\"],[1.0,\"#f0f921\"]],\"sequentialminus\":[[0.0,\"#0d0887\"],[0.1111111111111111,\"#46039f\"],[0.2222222222222222,\"#7201a8\"],[0.3333333333333333,\"#9c179e\"],[0.4444444444444444,\"#bd3786\"],[0.5555555555555556,\"#d8576b\"],[0.6666666666666666,\"#ed7953\"],[0.7777777777777778,\"#fb9f3a\"],[0.8888888888888888,\"#fdca26\"],[1.0,\"#f0f921\"]],\"diverging\":[[0,\"#8e0152\"],[0.1,\"#c51b7d\"],[0.2,\"#de77ae\"],[0.3,\"#f1b6da\"],[0.4,\"#fde0ef\"],[0.5,\"#f7f7f7\"],[0.6,\"#e6f5d0\"],[0.7,\"#b8e186\"],[0.8,\"#7fbc41\"],[0.9,\"#4d9221\"],[1,\"#276419\"]]},\"xaxis\":{\"gridcolor\":\"white\",\"linecolor\":\"white\",\"ticks\":\"\",\"title\":{\"standoff\":15},\"zerolinecolor\":\"white\",\"automargin\":true,\"zerolinewidth\":2},\"yaxis\":{\"gridcolor\":\"white\",\"linecolor\":\"white\",\"ticks\":\"\",\"title\":{\"standoff\":15},\"zerolinecolor\":\"white\",\"automargin\":true,\"zerolinewidth\":2},\"scene\":{\"xaxis\":{\"backgroundcolor\":\"#E5ECF6\",\"gridcolor\":\"white\",\"linecolor\":\"white\",\"showbackground\":true,\"ticks\":\"\",\"zerolinecolor\":\"white\",\"gridwidth\":2},\"yaxis\":{\"backgroundcolor\":\"#E5ECF6\",\"gridcolor\":\"white\",\"linecolor\":\"white\",\"showbackground\":true,\"ticks\":\"\",\"zerolinecolor\":\"white\",\"gridwidth\":2},\"zaxis\":{\"backgroundcolor\":\"#E5ECF6\",\"gridcolor\":\"white\",\"linecolor\":\"white\",\"showbackground\":true,\"ticks\":\"\",\"zerolinecolor\":\"white\",\"gridwidth\":2}},\"shapedefaults\":{\"line\":{\"color\":\"#2a3f5f\"}},\"annotationdefaults\":{\"arrowcolor\":\"#2a3f5f\",\"arrowhead\":0,\"arrowwidth\":1},\"geo\":{\"bgcolor\":\"white\",\"landcolor\":\"#E5ECF6\",\"subunitcolor\":\"white\",\"showland\":true,\"showlakes\":true,\"lakecolor\":\"white\"},\"title\":{\"x\":0.05},\"mapbox\":{\"style\":\"light\"}}},\"shapes\":[{\"layer\":\"below\",\"line\":{\"color\":\"#DD4040\",\"dash\":\"dash\",\"width\":1},\"type\":\"line\",\"x0\":0,\"x1\":1,\"xref\":\"x domain\",\"y0\":0.2057936085645391,\"y1\":0.2057936085645391,\"yref\":\"y\"},{\"layer\":\"below\",\"line\":{\"color\":\"#DD4040\",\"dash\":\"dash\",\"width\":1},\"type\":\"line\",\"x0\":0,\"x1\":1,\"xref\":\"x domain\",\"y0\":2.4809671710892793,\"y1\":2.4809671710892793,\"yref\":\"y\"},{\"layer\":\"below\",\"line\":{\"color\":\"#3b0280\",\"dash\":\"dash\",\"width\":1},\"type\":\"line\",\"x0\":\"2060-02-21T00:00:00\",\"x1\":\"2060-02-21T00:00:00\",\"xref\":\"x\",\"y0\":0,\"y1\":1,\"yref\":\"y domain\"}],\"annotations\":[{\"font\":{\"color\":\"#DD4040\"},\"showarrow\":false,\"text\":\"0.21\",\"x\":1,\"xanchor\":\"right\",\"xref\":\"x domain\",\"y\":0.2057936085645391,\"yanchor\":\"bottom\",\"yref\":\"y\"},{\"font\":{\"color\":\"#DD4040\"},\"showarrow\":false,\"text\":\"2.48\",\"x\":1,\"xanchor\":\"right\",\"xref\":\"x domain\",\"y\":2.4809671710892793,\"yanchor\":\"bottom\",\"yref\":\"y\"}]},                        {\"responsive\": true}                    ).then(function(){\n",
       "                            \n",
       "var gd = document.getElementById('80d5f7bd-fc78-4b63-a55c-1ff49dcb4c4d');\n",
       "var x = new MutationObserver(function (mutations, observer) {{\n",
       "        var display = window.getComputedStyle(gd).display;\n",
       "        if (!display || display === 'none') {{\n",
       "            console.log([gd, 'removed!']);\n",
       "            Plotly.purge(gd);\n",
       "            observer.disconnect();\n",
       "        }}\n",
       "}});\n",
       "\n",
       "// Listen for the removal of the full notebook cells\n",
       "var notebookContainer = gd.closest('#notebook-container');\n",
       "if (notebookContainer) {{\n",
       "    x.observe(notebookContainer, {childList: true});\n",
       "}}\n",
       "\n",
       "// Listen for the clearing of the current output cell\n",
       "var outputEl = gd.closest('.output');\n",
       "if (outputEl) {{\n",
       "    x.observe(outputEl, {childList: true});\n",
       "}}\n",
       "\n",
       "                        })                };                });            </script>        </div>"
      ]
     },
     "metadata": {},
     "output_type": "display_data"
    }
   ],
   "source": [
    "# lets look at data drift \n",
    "\n",
    "# Let's initialize the object that will perform Data Reconstruction with PCA\n",
    "# Let's use a chunk size of 5000 data points to create our drift statistics\n",
    "rcerror_calculator = nml.DataReconstructionDriftCalculator(model_metadata=metadata, chunk_size=5000)\n",
    "rcerror_calculator = rcerror_calculator.fit(reference_data=reference)\n",
    "# let's see RC error statistics for all available data\n",
    "data = pd.concat([reference, analysis], ignore_index=True)\n",
    "rcerror_results = rcerror_calculator.calculate(data=data)\n",
    "\n",
    "from sklearn.impute import SimpleImputer\n",
    "\n",
    "# Let's initialize the object that will perform Data Reconstruction with PCA\n",
    "rcerror_calculator = nml.DataReconstructionDriftCalculator(\n",
    "    model_metadata=metadata,\n",
    "    chunk_size=5000,\n",
    "#     imputer_categorical=SimpleImputer(strategy='constant', fill_value='missing'),\n",
    "#     imputer_continuous=SimpleImputer(strategy='median')\n",
    ") \n",
    "# --> doesnt work if I dont remove the imputer but I dont need it anyway since I dont have missing vals\n",
    "\n",
    "# NannyML compares drift versus the full reference dataset.\n",
    "rcerror_calculator.fit(reference_data=reference)\n",
    "# let's see RC error statistics for all available data\n",
    "rcerror_results = rcerror_calculator.calculate(data=data)\n",
    "\n",
    "# We use the data property of the results class to view the relevant data.\n",
    "display(rcerror_results.data)\n",
    "\n",
    "figure = rcerror_results.plot(kind='drift')\n",
    "figure.show()"
   ]
  },
  {
   "cell_type": "code",
   "execution_count": 254,
   "id": "74afa754",
   "metadata": {},
   "outputs": [
    {
     "data": {
      "application/vnd.plotly.v1+json": {
       "config": {
        "plotlyServerURL": "https://plot.ly"
       },
       "data": [
        {
         "hoverinfo": "skip",
         "line": {
          "color": "rgba(0.23137254901960785, 0.00784313725490196, 0.5019607843137255, 0.2)",
          "width": 9
         },
         "mode": "lines",
         "showlegend": false,
         "type": "scatter",
         "x": [
          "2073-10-29T00:00:00",
          "2087-07-07T00:00:00"
         ],
         "y": [
          0.39802661155922936,
          0.39802661155922936
         ]
        },
        {
         "hoverinfo": "skip",
         "line": {
          "color": "rgba(0.23137254901960785, 0.00784313725490196, 0.5019607843137255, 0.2)",
          "width": 9
         },
         "mode": "lines",
         "showlegend": false,
         "type": "scatter",
         "x": [
          "2087-07-08T00:00:00",
          "2101-03-16T00:00:00"
         ],
         "y": [
          0.5160251716552229,
          0.5160251716552229
         ]
        },
        {
         "hoverinfo": "skip",
         "line": {
          "color": "rgba(0.23137254901960785, 0.00784313725490196, 0.5019607843137255, 0.2)",
          "width": 9
         },
         "mode": "lines",
         "showlegend": false,
         "type": "scatter",
         "x": [
          "2101-03-17T00:00:00",
          "2107-09-06T00:00:00"
         ],
         "y": [
          0.5362052959682886,
          0.5362052959682886
         ]
        },
        {
         "hoverinfo": "skip",
         "legendgroup": "1",
         "line": {
          "color": "#00c8e5",
          "shape": "hv",
          "width": 2
         },
         "mode": "lines",
         "name": "Reference period",
         "type": "scatter",
         "x": [
          "2019-01-27T00:00:00",
          "2032-10-05T00:00:00",
          "2046-06-14T00:00:00",
          "2060-02-20T00:00:00"
         ],
         "y": [
          0.5344246383574429,
          0.1727720685287648,
          0.3695753616425571,
          0.3695753616425571
         ]
        },
        {
         "hoverinfo": "skip",
         "legendgroup": "1",
         "line": {
          "color": "#3b0280",
          "shape": "hv",
          "width": 2
         },
         "mode": "lines",
         "name": "Analysis period",
         "type": "scatter",
         "x": [
          "2060-02-21T00:00:00",
          "2073-10-29T00:00:00",
          "2087-07-08T00:00:00",
          "2101-03-17T00:00:00",
          "2107-09-06T00:00:00"
         ],
         "y": [
          0.3695753616425571,
          0.39802661155922936,
          0.5160251716552229,
          0.5362052959682886,
          0.5362052959682886
         ]
        },
        {
         "customdata": [
          [
           "[0:4999]",
           "Jan-27-2019",
           "Oct-04-2032",
           "0.5344",
           "<b style=\"color:#00c8e5;line-height:60px\">Reference</b>",
           "",
           ""
          ],
          [
           "[5000:9999]",
           "Oct-05-2032",
           "Jun-13-2046",
           "0.1728",
           "<b style=\"color:#00c8e5;line-height:60px\">Reference</b>",
           "",
           ""
          ],
          [
           "[10000:14999]",
           "Jun-14-2046",
           "Feb-20-2060",
           "0.3696",
           "<b style=\"color:#00c8e5;line-height:60px\">Reference</b>",
           "",
           ""
          ]
         ],
         "hovertemplate": "%{customdata[4]} &nbsp; &nbsp; <span style=\"color:#AD0000\">%{customdata[5]}</span><br>Chunk: <b>%{customdata[0]}</b> &nbsp; &nbsp; From <b>%{customdata[1]}</b> to <b>%{customdata[2]}</b> &nbsp; &nbsp; <br>KS statistic: <b>%{customdata[3]}</b>  &nbsp; &nbsp; %{customdata[6]} <extra></extra>",
         "marker": {
          "color": "#00c8e5",
          "size": 6,
          "symbol": "square"
         },
         "mode": "markers",
         "name": "Reference",
         "showlegend": false,
         "type": "scatter",
         "x": [
          "2025-11-30T12:00:00",
          "2039-08-09T12:00:00",
          "2053-04-17T12:00:00"
         ],
         "y": [
          0.5344246383574429,
          0.1727720685287648,
          0.3695753616425571
         ]
        },
        {
         "customdata": [
          [
           "[15000:19999]",
           "Feb-21-2060",
           "Oct-28-2073",
           "0.3696",
           "<b style=\"color:#3b0280;line-height:60px\">Analysis</b>",
           "",
           ""
          ]
         ],
         "hovertemplate": "%{customdata[4]} &nbsp; &nbsp; <span style=\"color:#AD0000\">%{customdata[5]}</span><br>Chunk: <b>%{customdata[0]}</b> &nbsp; &nbsp; From <b>%{customdata[1]}</b> to <b>%{customdata[2]}</b> &nbsp; &nbsp; <br>KS statistic: <b>%{customdata[3]}</b>  &nbsp; &nbsp; %{customdata[6]} <extra></extra>",
         "marker": {
          "color": "#3b0280",
          "size": 6,
          "symbol": "square"
         },
         "mode": "markers",
         "name": "No data drift",
         "showlegend": false,
         "type": "scatter",
         "x": [
          "2066-12-25T00:00:00"
         ],
         "y": [
          0.3695753616425571
         ]
        },
        {
         "customdata": [
          [
           "[20000:24999]",
           "Oct-29-2073",
           "Jul-07-2087",
           "0.3980",
           "<b style=\"color:#3b0280;line-height:60px\">Analysis</b>",
           "⚠ <b>Drift detected</b>",
           ""
          ],
          [
           "[25000:29999]",
           "Jul-08-2087",
           "Mar-16-2101",
           "0.5160",
           "<b style=\"color:#3b0280;line-height:60px\">Analysis</b>",
           "⚠ <b>Drift detected</b>",
           ""
          ],
          [
           "[30000:32364]",
           "Mar-17-2101",
           "Sep-06-2107",
           "0.5362",
           "<b style=\"color:#3b0280;line-height:60px\">Analysis</b>",
           "⚠ <b>Drift detected</b>",
           ""
          ]
         ],
         "hovertemplate": "%{customdata[4]} &nbsp; &nbsp; <span style=\"color:#AD0000\">%{customdata[5]}</span><br>Chunk: <b>%{customdata[0]}</b> &nbsp; &nbsp; From <b>%{customdata[1]}</b> to <b>%{customdata[2]}</b> &nbsp; &nbsp; <br>KS statistic: <b>%{customdata[3]}</b>  &nbsp; &nbsp; %{customdata[6]} <extra></extra>",
         "marker": {
          "color": "#DD4040",
          "size": 6,
          "symbol": "diamond"
         },
         "mode": "markers",
         "name": "Data drift",
         "showlegend": false,
         "type": "scatter",
         "x": [
          "2080-09-01T12:00:00",
          "2094-05-11T12:00:00",
          "2104-06-11T00:00:00"
         ],
         "y": [
          0.39802661155922936,
          0.5160251716552229,
          0.5362052959682886
         ]
        },
        {
         "legendgroup": "1",
         "line": {
          "color": "rgba(0.23137254901960785, 0.00784313725490196, 0.5019607843137255, 0.2)",
          "width": 9
         },
         "mode": "lines",
         "name": "P-value is signficant",
         "type": "scatter",
         "x": [
          [
           1764504000000000000
          ],
          [
           4242585600000000000
          ]
         ],
         "y": [
          null,
          null
         ]
        },
        {
         "line": {
          "color": "rgba(0,0,0,0)"
         },
         "mode": "lines",
         "showlegend": false,
         "type": "scatter",
         "x": [
          [
           1764504000000000000
          ],
          [
           4242585600000000000
          ]
         ],
         "y": [
          null,
          null
         ]
        },
        {
         "fill": "tonexty",
         "fillcolor": "rgba(0.8666666666666667, 0.25098039215686274, 0.25098039215686274, 0.2)",
         "legendgroup": "1",
         "line": {
          "color": "rgba(0,0,0,0)"
         },
         "marker": {
          "color": "#DD4040",
          "size": 6,
          "symbol": "diamond"
         },
         "mode": "lines+markers",
         "name": "Data drift",
         "type": "scatter",
         "x": [
          [
           1764504000000000000
          ],
          [
           4242585600000000000
          ]
         ],
         "y": [
          null,
          null
         ]
        }
       ],
       "layout": {
        "hoverlabel": {
         "bgcolor": "white",
         "font": {
          "size": 14
         }
        },
        "legend": {
         "itemclick": false,
         "itemdoubleclick": false,
         "orientation": "h",
         "traceorder": "normal",
         "x": 0,
         "xanchor": "left",
         "y": -0.25,
         "yanchor": "top"
        },
        "paper_bgcolor": "rgba(255,255,255,1)",
        "plot_bgcolor": "rgba(255,255,255,1)",
        "shapes": [
         {
          "layer": "below",
          "line": {
           "color": "#3b0280",
           "dash": "dash",
           "width": 1
          },
          "type": "line",
          "x0": "2060-02-21T00:00:00",
          "x1": "2060-02-21T00:00:00",
          "xref": "x",
          "y0": 0,
          "y1": 1,
          "yref": "y domain"
         },
         {
          "fillcolor": "#DD4040",
          "layer": "below",
          "line": {
           "width": 0
          },
          "opacity": 0.2,
          "type": "rect",
          "x0": "2073-10-29T00:00:00",
          "x1": "2087-07-07T00:00:00",
          "xref": "x",
          "y0": 0,
          "y1": 1,
          "yref": "y domain"
         },
         {
          "fillcolor": "#DD4040",
          "layer": "below",
          "line": {
           "width": 0
          },
          "opacity": 0.2,
          "type": "rect",
          "x0": "2087-07-08T00:00:00",
          "x1": "2101-03-16T00:00:00",
          "xref": "x",
          "y0": 0,
          "y1": 1,
          "yref": "y domain"
         },
         {
          "fillcolor": "#DD4040",
          "layer": "below",
          "line": {
           "width": 0
          },
          "opacity": 0.2,
          "type": "rect",
          "x0": "2101-03-17T00:00:00",
          "x1": "2107-09-06T00:00:00",
          "xref": "x",
          "y0": 0,
          "y1": 1,
          "yref": "y domain"
         }
        ],
        "template": {
         "data": {
          "bar": [
           {
            "error_x": {
             "color": "#2a3f5f"
            },
            "error_y": {
             "color": "#2a3f5f"
            },
            "marker": {
             "line": {
              "color": "#E5ECF6",
              "width": 0.5
             },
             "pattern": {
              "fillmode": "overlay",
              "size": 10,
              "solidity": 0.2
             }
            },
            "type": "bar"
           }
          ],
          "barpolar": [
           {
            "marker": {
             "line": {
              "color": "#E5ECF6",
              "width": 0.5
             },
             "pattern": {
              "fillmode": "overlay",
              "size": 10,
              "solidity": 0.2
             }
            },
            "type": "barpolar"
           }
          ],
          "carpet": [
           {
            "aaxis": {
             "endlinecolor": "#2a3f5f",
             "gridcolor": "white",
             "linecolor": "white",
             "minorgridcolor": "white",
             "startlinecolor": "#2a3f5f"
            },
            "baxis": {
             "endlinecolor": "#2a3f5f",
             "gridcolor": "white",
             "linecolor": "white",
             "minorgridcolor": "white",
             "startlinecolor": "#2a3f5f"
            },
            "type": "carpet"
           }
          ],
          "choropleth": [
           {
            "colorbar": {
             "outlinewidth": 0,
             "ticks": ""
            },
            "type": "choropleth"
           }
          ],
          "contour": [
           {
            "colorbar": {
             "outlinewidth": 0,
             "ticks": ""
            },
            "colorscale": [
             [
              0,
              "#0d0887"
             ],
             [
              0.1111111111111111,
              "#46039f"
             ],
             [
              0.2222222222222222,
              "#7201a8"
             ],
             [
              0.3333333333333333,
              "#9c179e"
             ],
             [
              0.4444444444444444,
              "#bd3786"
             ],
             [
              0.5555555555555556,
              "#d8576b"
             ],
             [
              0.6666666666666666,
              "#ed7953"
             ],
             [
              0.7777777777777778,
              "#fb9f3a"
             ],
             [
              0.8888888888888888,
              "#fdca26"
             ],
             [
              1,
              "#f0f921"
             ]
            ],
            "type": "contour"
           }
          ],
          "contourcarpet": [
           {
            "colorbar": {
             "outlinewidth": 0,
             "ticks": ""
            },
            "type": "contourcarpet"
           }
          ],
          "heatmap": [
           {
            "colorbar": {
             "outlinewidth": 0,
             "ticks": ""
            },
            "colorscale": [
             [
              0,
              "#0d0887"
             ],
             [
              0.1111111111111111,
              "#46039f"
             ],
             [
              0.2222222222222222,
              "#7201a8"
             ],
             [
              0.3333333333333333,
              "#9c179e"
             ],
             [
              0.4444444444444444,
              "#bd3786"
             ],
             [
              0.5555555555555556,
              "#d8576b"
             ],
             [
              0.6666666666666666,
              "#ed7953"
             ],
             [
              0.7777777777777778,
              "#fb9f3a"
             ],
             [
              0.8888888888888888,
              "#fdca26"
             ],
             [
              1,
              "#f0f921"
             ]
            ],
            "type": "heatmap"
           }
          ],
          "heatmapgl": [
           {
            "colorbar": {
             "outlinewidth": 0,
             "ticks": ""
            },
            "colorscale": [
             [
              0,
              "#0d0887"
             ],
             [
              0.1111111111111111,
              "#46039f"
             ],
             [
              0.2222222222222222,
              "#7201a8"
             ],
             [
              0.3333333333333333,
              "#9c179e"
             ],
             [
              0.4444444444444444,
              "#bd3786"
             ],
             [
              0.5555555555555556,
              "#d8576b"
             ],
             [
              0.6666666666666666,
              "#ed7953"
             ],
             [
              0.7777777777777778,
              "#fb9f3a"
             ],
             [
              0.8888888888888888,
              "#fdca26"
             ],
             [
              1,
              "#f0f921"
             ]
            ],
            "type": "heatmapgl"
           }
          ],
          "histogram": [
           {
            "marker": {
             "pattern": {
              "fillmode": "overlay",
              "size": 10,
              "solidity": 0.2
             }
            },
            "type": "histogram"
           }
          ],
          "histogram2d": [
           {
            "colorbar": {
             "outlinewidth": 0,
             "ticks": ""
            },
            "colorscale": [
             [
              0,
              "#0d0887"
             ],
             [
              0.1111111111111111,
              "#46039f"
             ],
             [
              0.2222222222222222,
              "#7201a8"
             ],
             [
              0.3333333333333333,
              "#9c179e"
             ],
             [
              0.4444444444444444,
              "#bd3786"
             ],
             [
              0.5555555555555556,
              "#d8576b"
             ],
             [
              0.6666666666666666,
              "#ed7953"
             ],
             [
              0.7777777777777778,
              "#fb9f3a"
             ],
             [
              0.8888888888888888,
              "#fdca26"
             ],
             [
              1,
              "#f0f921"
             ]
            ],
            "type": "histogram2d"
           }
          ],
          "histogram2dcontour": [
           {
            "colorbar": {
             "outlinewidth": 0,
             "ticks": ""
            },
            "colorscale": [
             [
              0,
              "#0d0887"
             ],
             [
              0.1111111111111111,
              "#46039f"
             ],
             [
              0.2222222222222222,
              "#7201a8"
             ],
             [
              0.3333333333333333,
              "#9c179e"
             ],
             [
              0.4444444444444444,
              "#bd3786"
             ],
             [
              0.5555555555555556,
              "#d8576b"
             ],
             [
              0.6666666666666666,
              "#ed7953"
             ],
             [
              0.7777777777777778,
              "#fb9f3a"
             ],
             [
              0.8888888888888888,
              "#fdca26"
             ],
             [
              1,
              "#f0f921"
             ]
            ],
            "type": "histogram2dcontour"
           }
          ],
          "mesh3d": [
           {
            "colorbar": {
             "outlinewidth": 0,
             "ticks": ""
            },
            "type": "mesh3d"
           }
          ],
          "parcoords": [
           {
            "line": {
             "colorbar": {
              "outlinewidth": 0,
              "ticks": ""
             }
            },
            "type": "parcoords"
           }
          ],
          "pie": [
           {
            "automargin": true,
            "type": "pie"
           }
          ],
          "scatter": [
           {
            "fillpattern": {
             "fillmode": "overlay",
             "size": 10,
             "solidity": 0.2
            },
            "type": "scatter"
           }
          ],
          "scatter3d": [
           {
            "line": {
             "colorbar": {
              "outlinewidth": 0,
              "ticks": ""
             }
            },
            "marker": {
             "colorbar": {
              "outlinewidth": 0,
              "ticks": ""
             }
            },
            "type": "scatter3d"
           }
          ],
          "scattercarpet": [
           {
            "marker": {
             "colorbar": {
              "outlinewidth": 0,
              "ticks": ""
             }
            },
            "type": "scattercarpet"
           }
          ],
          "scattergeo": [
           {
            "marker": {
             "colorbar": {
              "outlinewidth": 0,
              "ticks": ""
             }
            },
            "type": "scattergeo"
           }
          ],
          "scattergl": [
           {
            "marker": {
             "colorbar": {
              "outlinewidth": 0,
              "ticks": ""
             }
            },
            "type": "scattergl"
           }
          ],
          "scattermapbox": [
           {
            "marker": {
             "colorbar": {
              "outlinewidth": 0,
              "ticks": ""
             }
            },
            "type": "scattermapbox"
           }
          ],
          "scatterpolar": [
           {
            "marker": {
             "colorbar": {
              "outlinewidth": 0,
              "ticks": ""
             }
            },
            "type": "scatterpolar"
           }
          ],
          "scatterpolargl": [
           {
            "marker": {
             "colorbar": {
              "outlinewidth": 0,
              "ticks": ""
             }
            },
            "type": "scatterpolargl"
           }
          ],
          "scatterternary": [
           {
            "marker": {
             "colorbar": {
              "outlinewidth": 0,
              "ticks": ""
             }
            },
            "type": "scatterternary"
           }
          ],
          "surface": [
           {
            "colorbar": {
             "outlinewidth": 0,
             "ticks": ""
            },
            "colorscale": [
             [
              0,
              "#0d0887"
             ],
             [
              0.1111111111111111,
              "#46039f"
             ],
             [
              0.2222222222222222,
              "#7201a8"
             ],
             [
              0.3333333333333333,
              "#9c179e"
             ],
             [
              0.4444444444444444,
              "#bd3786"
             ],
             [
              0.5555555555555556,
              "#d8576b"
             ],
             [
              0.6666666666666666,
              "#ed7953"
             ],
             [
              0.7777777777777778,
              "#fb9f3a"
             ],
             [
              0.8888888888888888,
              "#fdca26"
             ],
             [
              1,
              "#f0f921"
             ]
            ],
            "type": "surface"
           }
          ],
          "table": [
           {
            "cells": {
             "fill": {
              "color": "#EBF0F8"
             },
             "line": {
              "color": "white"
             }
            },
            "header": {
             "fill": {
              "color": "#C8D4E3"
             },
             "line": {
              "color": "white"
             }
            },
            "type": "table"
           }
          ]
         },
         "layout": {
          "annotationdefaults": {
           "arrowcolor": "#2a3f5f",
           "arrowhead": 0,
           "arrowwidth": 1
          },
          "autotypenumbers": "strict",
          "coloraxis": {
           "colorbar": {
            "outlinewidth": 0,
            "ticks": ""
           }
          },
          "colorscale": {
           "diverging": [
            [
             0,
             "#8e0152"
            ],
            [
             0.1,
             "#c51b7d"
            ],
            [
             0.2,
             "#de77ae"
            ],
            [
             0.3,
             "#f1b6da"
            ],
            [
             0.4,
             "#fde0ef"
            ],
            [
             0.5,
             "#f7f7f7"
            ],
            [
             0.6,
             "#e6f5d0"
            ],
            [
             0.7,
             "#b8e186"
            ],
            [
             0.8,
             "#7fbc41"
            ],
            [
             0.9,
             "#4d9221"
            ],
            [
             1,
             "#276419"
            ]
           ],
           "sequential": [
            [
             0,
             "#0d0887"
            ],
            [
             0.1111111111111111,
             "#46039f"
            ],
            [
             0.2222222222222222,
             "#7201a8"
            ],
            [
             0.3333333333333333,
             "#9c179e"
            ],
            [
             0.4444444444444444,
             "#bd3786"
            ],
            [
             0.5555555555555556,
             "#d8576b"
            ],
            [
             0.6666666666666666,
             "#ed7953"
            ],
            [
             0.7777777777777778,
             "#fb9f3a"
            ],
            [
             0.8888888888888888,
             "#fdca26"
            ],
            [
             1,
             "#f0f921"
            ]
           ],
           "sequentialminus": [
            [
             0,
             "#0d0887"
            ],
            [
             0.1111111111111111,
             "#46039f"
            ],
            [
             0.2222222222222222,
             "#7201a8"
            ],
            [
             0.3333333333333333,
             "#9c179e"
            ],
            [
             0.4444444444444444,
             "#bd3786"
            ],
            [
             0.5555555555555556,
             "#d8576b"
            ],
            [
             0.6666666666666666,
             "#ed7953"
            ],
            [
             0.7777777777777778,
             "#fb9f3a"
            ],
            [
             0.8888888888888888,
             "#fdca26"
            ],
            [
             1,
             "#f0f921"
            ]
           ]
          },
          "colorway": [
           "#636efa",
           "#EF553B",
           "#00cc96",
           "#ab63fa",
           "#FFA15A",
           "#19d3f3",
           "#FF6692",
           "#B6E880",
           "#FF97FF",
           "#FECB52"
          ],
          "font": {
           "color": "#2a3f5f"
          },
          "geo": {
           "bgcolor": "white",
           "lakecolor": "white",
           "landcolor": "#E5ECF6",
           "showlakes": true,
           "showland": true,
           "subunitcolor": "white"
          },
          "hoverlabel": {
           "align": "left"
          },
          "hovermode": "closest",
          "mapbox": {
           "style": "light"
          },
          "paper_bgcolor": "white",
          "plot_bgcolor": "#E5ECF6",
          "polar": {
           "angularaxis": {
            "gridcolor": "white",
            "linecolor": "white",
            "ticks": ""
           },
           "bgcolor": "#E5ECF6",
           "radialaxis": {
            "gridcolor": "white",
            "linecolor": "white",
            "ticks": ""
           }
          },
          "scene": {
           "xaxis": {
            "backgroundcolor": "#E5ECF6",
            "gridcolor": "white",
            "gridwidth": 2,
            "linecolor": "white",
            "showbackground": true,
            "ticks": "",
            "zerolinecolor": "white"
           },
           "yaxis": {
            "backgroundcolor": "#E5ECF6",
            "gridcolor": "white",
            "gridwidth": 2,
            "linecolor": "white",
            "showbackground": true,
            "ticks": "",
            "zerolinecolor": "white"
           },
           "zaxis": {
            "backgroundcolor": "#E5ECF6",
            "gridcolor": "white",
            "gridwidth": 2,
            "linecolor": "white",
            "showbackground": true,
            "ticks": "",
            "zerolinecolor": "white"
           }
          },
          "shapedefaults": {
           "line": {
            "color": "#2a3f5f"
           }
          },
          "ternary": {
           "aaxis": {
            "gridcolor": "white",
            "linecolor": "white",
            "ticks": ""
           },
           "baxis": {
            "gridcolor": "white",
            "linecolor": "white",
            "ticks": ""
           },
           "bgcolor": "#E5ECF6",
           "caxis": {
            "gridcolor": "white",
            "linecolor": "white",
            "ticks": ""
           }
          },
          "title": {
           "x": 0.05
          },
          "xaxis": {
           "automargin": true,
           "gridcolor": "white",
           "linecolor": "white",
           "ticks": "",
           "title": {
            "standoff": 15
           },
           "zerolinecolor": "white",
           "zerolinewidth": 2
          },
          "yaxis": {
           "automargin": true,
           "gridcolor": "white",
           "linecolor": "white",
           "ticks": "",
           "title": {
            "standoff": 15
           },
           "zerolinecolor": "white",
           "zerolinewidth": 2
          }
         }
        },
        "title": {
         "text": "KS statistic for carat"
        },
        "xaxis": {
         "linecolor": "#666666",
         "mirror": true,
         "showgrid": false,
         "title": {
          "text": "Time"
         },
         "zeroline": false
        },
        "yaxis": {
         "linecolor": "#666666",
         "mirror": true,
         "showgrid": false,
         "title": {
          "text": "KS statistic"
         },
         "zeroline": false
        }
       }
      },
      "text/html": [
       "<div>                            <div id=\"542a0172-4d7a-46ff-acb1-175f34a25ba7\" class=\"plotly-graph-div\" style=\"height:525px; width:100%;\"></div>            <script type=\"text/javascript\">                require([\"plotly\"], function(Plotly) {                    window.PLOTLYENV=window.PLOTLYENV || {};                                    if (document.getElementById(\"542a0172-4d7a-46ff-acb1-175f34a25ba7\")) {                    Plotly.newPlot(                        \"542a0172-4d7a-46ff-acb1-175f34a25ba7\",                        [{\"hoverinfo\":\"skip\",\"line\":{\"color\":\"rgba(0.23137254901960785, 0.00784313725490196, 0.5019607843137255, 0.2)\",\"width\":9},\"mode\":\"lines\",\"showlegend\":false,\"x\":[\"2073-10-29T00:00:00\",\"2087-07-07T00:00:00\"],\"y\":[0.39802661155922936,0.39802661155922936],\"type\":\"scatter\"},{\"hoverinfo\":\"skip\",\"line\":{\"color\":\"rgba(0.23137254901960785, 0.00784313725490196, 0.5019607843137255, 0.2)\",\"width\":9},\"mode\":\"lines\",\"showlegend\":false,\"x\":[\"2087-07-08T00:00:00\",\"2101-03-16T00:00:00\"],\"y\":[0.5160251716552229,0.5160251716552229],\"type\":\"scatter\"},{\"hoverinfo\":\"skip\",\"line\":{\"color\":\"rgba(0.23137254901960785, 0.00784313725490196, 0.5019607843137255, 0.2)\",\"width\":9},\"mode\":\"lines\",\"showlegend\":false,\"x\":[\"2101-03-17T00:00:00\",\"2107-09-06T00:00:00\"],\"y\":[0.5362052959682886,0.5362052959682886],\"type\":\"scatter\"},{\"hoverinfo\":\"skip\",\"legendgroup\":\"1\",\"line\":{\"color\":\"#00c8e5\",\"shape\":\"hv\",\"width\":2},\"mode\":\"lines\",\"name\":\"Reference period\",\"x\":[\"2019-01-27T00:00:00\",\"2032-10-05T00:00:00\",\"2046-06-14T00:00:00\",\"2060-02-20T00:00:00\"],\"y\":[0.5344246383574429,0.1727720685287648,0.3695753616425571,0.3695753616425571],\"type\":\"scatter\"},{\"hoverinfo\":\"skip\",\"legendgroup\":\"1\",\"line\":{\"color\":\"#3b0280\",\"shape\":\"hv\",\"width\":2},\"mode\":\"lines\",\"name\":\"Analysis period\",\"x\":[\"2060-02-21T00:00:00\",\"2073-10-29T00:00:00\",\"2087-07-08T00:00:00\",\"2101-03-17T00:00:00\",\"2107-09-06T00:00:00\"],\"y\":[0.3695753616425571,0.39802661155922936,0.5160251716552229,0.5362052959682886,0.5362052959682886],\"type\":\"scatter\"},{\"customdata\":[[\"[0:4999]\",\"Jan-27-2019\",\"Oct-04-2032\",\"0.5344\",\"<b style=\\\"color:#00c8e5;line-height:60px\\\">Reference</b>\",\"\",\"\"],[\"[5000:9999]\",\"Oct-05-2032\",\"Jun-13-2046\",\"0.1728\",\"<b style=\\\"color:#00c8e5;line-height:60px\\\">Reference</b>\",\"\",\"\"],[\"[10000:14999]\",\"Jun-14-2046\",\"Feb-20-2060\",\"0.3696\",\"<b style=\\\"color:#00c8e5;line-height:60px\\\">Reference</b>\",\"\",\"\"]],\"hovertemplate\":\"%{customdata[4]} &nbsp; &nbsp; <span style=\\\"color:#AD0000\\\">%{customdata[5]}</span><br>Chunk: <b>%{customdata[0]}</b> &nbsp; &nbsp; From <b>%{customdata[1]}</b> to <b>%{customdata[2]}</b> &nbsp; &nbsp; <br>KS statistic: <b>%{customdata[3]}</b>  &nbsp; &nbsp; %{customdata[6]} <extra></extra>\",\"marker\":{\"color\":\"#00c8e5\",\"size\":6,\"symbol\":\"square\"},\"mode\":\"markers\",\"name\":\"Reference\",\"showlegend\":false,\"x\":[\"2025-11-30T12:00:00\",\"2039-08-09T12:00:00\",\"2053-04-17T12:00:00\"],\"y\":[0.5344246383574429,0.1727720685287648,0.3695753616425571],\"type\":\"scatter\"},{\"customdata\":[[\"[15000:19999]\",\"Feb-21-2060\",\"Oct-28-2073\",\"0.3696\",\"<b style=\\\"color:#3b0280;line-height:60px\\\">Analysis</b>\",\"\",\"\"]],\"hovertemplate\":\"%{customdata[4]} &nbsp; &nbsp; <span style=\\\"color:#AD0000\\\">%{customdata[5]}</span><br>Chunk: <b>%{customdata[0]}</b> &nbsp; &nbsp; From <b>%{customdata[1]}</b> to <b>%{customdata[2]}</b> &nbsp; &nbsp; <br>KS statistic: <b>%{customdata[3]}</b>  &nbsp; &nbsp; %{customdata[6]} <extra></extra>\",\"marker\":{\"color\":\"#3b0280\",\"size\":6,\"symbol\":\"square\"},\"mode\":\"markers\",\"name\":\"No data drift\",\"showlegend\":false,\"x\":[\"2066-12-25T00:00:00\"],\"y\":[0.3695753616425571],\"type\":\"scatter\"},{\"customdata\":[[\"[20000:24999]\",\"Oct-29-2073\",\"Jul-07-2087\",\"0.3980\",\"<b style=\\\"color:#3b0280;line-height:60px\\\">Analysis</b>\",\"\\u26a0 <b>Drift detected</b>\",\"\"],[\"[25000:29999]\",\"Jul-08-2087\",\"Mar-16-2101\",\"0.5160\",\"<b style=\\\"color:#3b0280;line-height:60px\\\">Analysis</b>\",\"\\u26a0 <b>Drift detected</b>\",\"\"],[\"[30000:32364]\",\"Mar-17-2101\",\"Sep-06-2107\",\"0.5362\",\"<b style=\\\"color:#3b0280;line-height:60px\\\">Analysis</b>\",\"\\u26a0 <b>Drift detected</b>\",\"\"]],\"hovertemplate\":\"%{customdata[4]} &nbsp; &nbsp; <span style=\\\"color:#AD0000\\\">%{customdata[5]}</span><br>Chunk: <b>%{customdata[0]}</b> &nbsp; &nbsp; From <b>%{customdata[1]}</b> to <b>%{customdata[2]}</b> &nbsp; &nbsp; <br>KS statistic: <b>%{customdata[3]}</b>  &nbsp; &nbsp; %{customdata[6]} <extra></extra>\",\"marker\":{\"color\":\"#DD4040\",\"size\":6,\"symbol\":\"diamond\"},\"mode\":\"markers\",\"name\":\"Data drift\",\"showlegend\":false,\"x\":[\"2080-09-01T12:00:00\",\"2094-05-11T12:00:00\",\"2104-06-11T00:00:00\"],\"y\":[0.39802661155922936,0.5160251716552229,0.5362052959682886],\"type\":\"scatter\"},{\"legendgroup\":\"1\",\"line\":{\"color\":\"rgba(0.23137254901960785, 0.00784313725490196, 0.5019607843137255, 0.2)\",\"width\":9},\"mode\":\"lines\",\"name\":\"P-value is signficant\",\"x\":[[1764504000000000000],[4242585600000000000]],\"y\":[null,null],\"type\":\"scatter\"},{\"line\":{\"color\":\"rgba(0,0,0,0)\"},\"mode\":\"lines\",\"showlegend\":false,\"x\":[[1764504000000000000],[4242585600000000000]],\"y\":[null,null],\"type\":\"scatter\"},{\"fill\":\"tonexty\",\"fillcolor\":\"rgba(0.8666666666666667, 0.25098039215686274, 0.25098039215686274, 0.2)\",\"legendgroup\":\"1\",\"line\":{\"color\":\"rgba(0,0,0,0)\"},\"marker\":{\"color\":\"#DD4040\",\"size\":6,\"symbol\":\"diamond\"},\"mode\":\"lines+markers\",\"name\":\"Data drift\",\"x\":[[1764504000000000000],[4242585600000000000]],\"y\":[null,null],\"type\":\"scatter\"}],                        {\"hoverlabel\":{\"bgcolor\":\"white\",\"font\":{\"size\":14}},\"legend\":{\"itemclick\":false,\"itemdoubleclick\":false,\"traceorder\":\"normal\",\"yanchor\":\"top\",\"y\":-0.25,\"xanchor\":\"left\",\"x\":0,\"orientation\":\"h\"},\"paper_bgcolor\":\"rgba(255,255,255,1)\",\"plot_bgcolor\":\"rgba(255,255,255,1)\",\"title\":{\"text\":\"KS statistic for carat\"},\"xaxis\":{\"linecolor\":\"#666666\",\"mirror\":true,\"showgrid\":false,\"title\":{\"text\":\"Time\"},\"zeroline\":false},\"yaxis\":{\"linecolor\":\"#666666\",\"mirror\":true,\"showgrid\":false,\"title\":{\"text\":\"KS statistic\"},\"zeroline\":false},\"template\":{\"data\":{\"histogram2dcontour\":[{\"type\":\"histogram2dcontour\",\"colorbar\":{\"outlinewidth\":0,\"ticks\":\"\"},\"colorscale\":[[0.0,\"#0d0887\"],[0.1111111111111111,\"#46039f\"],[0.2222222222222222,\"#7201a8\"],[0.3333333333333333,\"#9c179e\"],[0.4444444444444444,\"#bd3786\"],[0.5555555555555556,\"#d8576b\"],[0.6666666666666666,\"#ed7953\"],[0.7777777777777778,\"#fb9f3a\"],[0.8888888888888888,\"#fdca26\"],[1.0,\"#f0f921\"]]}],\"choropleth\":[{\"type\":\"choropleth\",\"colorbar\":{\"outlinewidth\":0,\"ticks\":\"\"}}],\"histogram2d\":[{\"type\":\"histogram2d\",\"colorbar\":{\"outlinewidth\":0,\"ticks\":\"\"},\"colorscale\":[[0.0,\"#0d0887\"],[0.1111111111111111,\"#46039f\"],[0.2222222222222222,\"#7201a8\"],[0.3333333333333333,\"#9c179e\"],[0.4444444444444444,\"#bd3786\"],[0.5555555555555556,\"#d8576b\"],[0.6666666666666666,\"#ed7953\"],[0.7777777777777778,\"#fb9f3a\"],[0.8888888888888888,\"#fdca26\"],[1.0,\"#f0f921\"]]}],\"heatmap\":[{\"type\":\"heatmap\",\"colorbar\":{\"outlinewidth\":0,\"ticks\":\"\"},\"colorscale\":[[0.0,\"#0d0887\"],[0.1111111111111111,\"#46039f\"],[0.2222222222222222,\"#7201a8\"],[0.3333333333333333,\"#9c179e\"],[0.4444444444444444,\"#bd3786\"],[0.5555555555555556,\"#d8576b\"],[0.6666666666666666,\"#ed7953\"],[0.7777777777777778,\"#fb9f3a\"],[0.8888888888888888,\"#fdca26\"],[1.0,\"#f0f921\"]]}],\"heatmapgl\":[{\"type\":\"heatmapgl\",\"colorbar\":{\"outlinewidth\":0,\"ticks\":\"\"},\"colorscale\":[[0.0,\"#0d0887\"],[0.1111111111111111,\"#46039f\"],[0.2222222222222222,\"#7201a8\"],[0.3333333333333333,\"#9c179e\"],[0.4444444444444444,\"#bd3786\"],[0.5555555555555556,\"#d8576b\"],[0.6666666666666666,\"#ed7953\"],[0.7777777777777778,\"#fb9f3a\"],[0.8888888888888888,\"#fdca26\"],[1.0,\"#f0f921\"]]}],\"contourcarpet\":[{\"type\":\"contourcarpet\",\"colorbar\":{\"outlinewidth\":0,\"ticks\":\"\"}}],\"contour\":[{\"type\":\"contour\",\"colorbar\":{\"outlinewidth\":0,\"ticks\":\"\"},\"colorscale\":[[0.0,\"#0d0887\"],[0.1111111111111111,\"#46039f\"],[0.2222222222222222,\"#7201a8\"],[0.3333333333333333,\"#9c179e\"],[0.4444444444444444,\"#bd3786\"],[0.5555555555555556,\"#d8576b\"],[0.6666666666666666,\"#ed7953\"],[0.7777777777777778,\"#fb9f3a\"],[0.8888888888888888,\"#fdca26\"],[1.0,\"#f0f921\"]]}],\"surface\":[{\"type\":\"surface\",\"colorbar\":{\"outlinewidth\":0,\"ticks\":\"\"},\"colorscale\":[[0.0,\"#0d0887\"],[0.1111111111111111,\"#46039f\"],[0.2222222222222222,\"#7201a8\"],[0.3333333333333333,\"#9c179e\"],[0.4444444444444444,\"#bd3786\"],[0.5555555555555556,\"#d8576b\"],[0.6666666666666666,\"#ed7953\"],[0.7777777777777778,\"#fb9f3a\"],[0.8888888888888888,\"#fdca26\"],[1.0,\"#f0f921\"]]}],\"mesh3d\":[{\"type\":\"mesh3d\",\"colorbar\":{\"outlinewidth\":0,\"ticks\":\"\"}}],\"scatter\":[{\"fillpattern\":{\"fillmode\":\"overlay\",\"size\":10,\"solidity\":0.2},\"type\":\"scatter\"}],\"parcoords\":[{\"type\":\"parcoords\",\"line\":{\"colorbar\":{\"outlinewidth\":0,\"ticks\":\"\"}}}],\"scatterpolargl\":[{\"type\":\"scatterpolargl\",\"marker\":{\"colorbar\":{\"outlinewidth\":0,\"ticks\":\"\"}}}],\"bar\":[{\"error_x\":{\"color\":\"#2a3f5f\"},\"error_y\":{\"color\":\"#2a3f5f\"},\"marker\":{\"line\":{\"color\":\"#E5ECF6\",\"width\":0.5},\"pattern\":{\"fillmode\":\"overlay\",\"size\":10,\"solidity\":0.2}},\"type\":\"bar\"}],\"scattergeo\":[{\"type\":\"scattergeo\",\"marker\":{\"colorbar\":{\"outlinewidth\":0,\"ticks\":\"\"}}}],\"scatterpolar\":[{\"type\":\"scatterpolar\",\"marker\":{\"colorbar\":{\"outlinewidth\":0,\"ticks\":\"\"}}}],\"histogram\":[{\"marker\":{\"pattern\":{\"fillmode\":\"overlay\",\"size\":10,\"solidity\":0.2}},\"type\":\"histogram\"}],\"scattergl\":[{\"type\":\"scattergl\",\"marker\":{\"colorbar\":{\"outlinewidth\":0,\"ticks\":\"\"}}}],\"scatter3d\":[{\"type\":\"scatter3d\",\"line\":{\"colorbar\":{\"outlinewidth\":0,\"ticks\":\"\"}},\"marker\":{\"colorbar\":{\"outlinewidth\":0,\"ticks\":\"\"}}}],\"scattermapbox\":[{\"type\":\"scattermapbox\",\"marker\":{\"colorbar\":{\"outlinewidth\":0,\"ticks\":\"\"}}}],\"scatterternary\":[{\"type\":\"scatterternary\",\"marker\":{\"colorbar\":{\"outlinewidth\":0,\"ticks\":\"\"}}}],\"scattercarpet\":[{\"type\":\"scattercarpet\",\"marker\":{\"colorbar\":{\"outlinewidth\":0,\"ticks\":\"\"}}}],\"carpet\":[{\"aaxis\":{\"endlinecolor\":\"#2a3f5f\",\"gridcolor\":\"white\",\"linecolor\":\"white\",\"minorgridcolor\":\"white\",\"startlinecolor\":\"#2a3f5f\"},\"baxis\":{\"endlinecolor\":\"#2a3f5f\",\"gridcolor\":\"white\",\"linecolor\":\"white\",\"minorgridcolor\":\"white\",\"startlinecolor\":\"#2a3f5f\"},\"type\":\"carpet\"}],\"table\":[{\"cells\":{\"fill\":{\"color\":\"#EBF0F8\"},\"line\":{\"color\":\"white\"}},\"header\":{\"fill\":{\"color\":\"#C8D4E3\"},\"line\":{\"color\":\"white\"}},\"type\":\"table\"}],\"barpolar\":[{\"marker\":{\"line\":{\"color\":\"#E5ECF6\",\"width\":0.5},\"pattern\":{\"fillmode\":\"overlay\",\"size\":10,\"solidity\":0.2}},\"type\":\"barpolar\"}],\"pie\":[{\"automargin\":true,\"type\":\"pie\"}]},\"layout\":{\"autotypenumbers\":\"strict\",\"colorway\":[\"#636efa\",\"#EF553B\",\"#00cc96\",\"#ab63fa\",\"#FFA15A\",\"#19d3f3\",\"#FF6692\",\"#B6E880\",\"#FF97FF\",\"#FECB52\"],\"font\":{\"color\":\"#2a3f5f\"},\"hovermode\":\"closest\",\"hoverlabel\":{\"align\":\"left\"},\"paper_bgcolor\":\"white\",\"plot_bgcolor\":\"#E5ECF6\",\"polar\":{\"bgcolor\":\"#E5ECF6\",\"angularaxis\":{\"gridcolor\":\"white\",\"linecolor\":\"white\",\"ticks\":\"\"},\"radialaxis\":{\"gridcolor\":\"white\",\"linecolor\":\"white\",\"ticks\":\"\"}},\"ternary\":{\"bgcolor\":\"#E5ECF6\",\"aaxis\":{\"gridcolor\":\"white\",\"linecolor\":\"white\",\"ticks\":\"\"},\"baxis\":{\"gridcolor\":\"white\",\"linecolor\":\"white\",\"ticks\":\"\"},\"caxis\":{\"gridcolor\":\"white\",\"linecolor\":\"white\",\"ticks\":\"\"}},\"coloraxis\":{\"colorbar\":{\"outlinewidth\":0,\"ticks\":\"\"}},\"colorscale\":{\"sequential\":[[0.0,\"#0d0887\"],[0.1111111111111111,\"#46039f\"],[0.2222222222222222,\"#7201a8\"],[0.3333333333333333,\"#9c179e\"],[0.4444444444444444,\"#bd3786\"],[0.5555555555555556,\"#d8576b\"],[0.6666666666666666,\"#ed7953\"],[0.7777777777777778,\"#fb9f3a\"],[0.8888888888888888,\"#fdca26\"],[1.0,\"#f0f921\"]],\"sequentialminus\":[[0.0,\"#0d0887\"],[0.1111111111111111,\"#46039f\"],[0.2222222222222222,\"#7201a8\"],[0.3333333333333333,\"#9c179e\"],[0.4444444444444444,\"#bd3786\"],[0.5555555555555556,\"#d8576b\"],[0.6666666666666666,\"#ed7953\"],[0.7777777777777778,\"#fb9f3a\"],[0.8888888888888888,\"#fdca26\"],[1.0,\"#f0f921\"]],\"diverging\":[[0,\"#8e0152\"],[0.1,\"#c51b7d\"],[0.2,\"#de77ae\"],[0.3,\"#f1b6da\"],[0.4,\"#fde0ef\"],[0.5,\"#f7f7f7\"],[0.6,\"#e6f5d0\"],[0.7,\"#b8e186\"],[0.8,\"#7fbc41\"],[0.9,\"#4d9221\"],[1,\"#276419\"]]},\"xaxis\":{\"gridcolor\":\"white\",\"linecolor\":\"white\",\"ticks\":\"\",\"title\":{\"standoff\":15},\"zerolinecolor\":\"white\",\"automargin\":true,\"zerolinewidth\":2},\"yaxis\":{\"gridcolor\":\"white\",\"linecolor\":\"white\",\"ticks\":\"\",\"title\":{\"standoff\":15},\"zerolinecolor\":\"white\",\"automargin\":true,\"zerolinewidth\":2},\"scene\":{\"xaxis\":{\"backgroundcolor\":\"#E5ECF6\",\"gridcolor\":\"white\",\"linecolor\":\"white\",\"showbackground\":true,\"ticks\":\"\",\"zerolinecolor\":\"white\",\"gridwidth\":2},\"yaxis\":{\"backgroundcolor\":\"#E5ECF6\",\"gridcolor\":\"white\",\"linecolor\":\"white\",\"showbackground\":true,\"ticks\":\"\",\"zerolinecolor\":\"white\",\"gridwidth\":2},\"zaxis\":{\"backgroundcolor\":\"#E5ECF6\",\"gridcolor\":\"white\",\"linecolor\":\"white\",\"showbackground\":true,\"ticks\":\"\",\"zerolinecolor\":\"white\",\"gridwidth\":2}},\"shapedefaults\":{\"line\":{\"color\":\"#2a3f5f\"}},\"annotationdefaults\":{\"arrowcolor\":\"#2a3f5f\",\"arrowhead\":0,\"arrowwidth\":1},\"geo\":{\"bgcolor\":\"white\",\"landcolor\":\"#E5ECF6\",\"subunitcolor\":\"white\",\"showland\":true,\"showlakes\":true,\"lakecolor\":\"white\"},\"title\":{\"x\":0.05},\"mapbox\":{\"style\":\"light\"}}},\"shapes\":[{\"layer\":\"below\",\"line\":{\"color\":\"#3b0280\",\"dash\":\"dash\",\"width\":1},\"type\":\"line\",\"x0\":\"2060-02-21T00:00:00\",\"x1\":\"2060-02-21T00:00:00\",\"xref\":\"x\",\"y0\":0,\"y1\":1,\"yref\":\"y domain\"},{\"fillcolor\":\"#DD4040\",\"layer\":\"below\",\"line\":{\"width\":0},\"opacity\":0.2,\"type\":\"rect\",\"x0\":\"2073-10-29T00:00:00\",\"x1\":\"2087-07-07T00:00:00\",\"xref\":\"x\",\"y0\":0,\"y1\":1,\"yref\":\"y domain\"},{\"fillcolor\":\"#DD4040\",\"layer\":\"below\",\"line\":{\"width\":0},\"opacity\":0.2,\"type\":\"rect\",\"x0\":\"2087-07-08T00:00:00\",\"x1\":\"2101-03-16T00:00:00\",\"xref\":\"x\",\"y0\":0,\"y1\":1,\"yref\":\"y domain\"},{\"fillcolor\":\"#DD4040\",\"layer\":\"below\",\"line\":{\"width\":0},\"opacity\":0.2,\"type\":\"rect\",\"x0\":\"2101-03-17T00:00:00\",\"x1\":\"2107-09-06T00:00:00\",\"xref\":\"x\",\"y0\":0,\"y1\":1,\"yref\":\"y domain\"}]},                        {\"responsive\": true}                    ).then(function(){\n",
       "                            \n",
       "var gd = document.getElementById('542a0172-4d7a-46ff-acb1-175f34a25ba7');\n",
       "var x = new MutationObserver(function (mutations, observer) {{\n",
       "        var display = window.getComputedStyle(gd).display;\n",
       "        if (!display || display === 'none') {{\n",
       "            console.log([gd, 'removed!']);\n",
       "            Plotly.purge(gd);\n",
       "            observer.disconnect();\n",
       "        }}\n",
       "}});\n",
       "\n",
       "// Listen for the removal of the full notebook cells\n",
       "var notebookContainer = gd.closest('#notebook-container');\n",
       "if (notebookContainer) {{\n",
       "    x.observe(notebookContainer, {childList: true});\n",
       "}}\n",
       "\n",
       "// Listen for the clearing of the current output cell\n",
       "var outputEl = gd.closest('.output');\n",
       "if (outputEl) {{\n",
       "    x.observe(outputEl, {childList: true});\n",
       "}}\n",
       "\n",
       "                        })                };                });            </script>        </div>"
      ]
     },
     "metadata": {},
     "output_type": "display_data"
    },
    {
     "data": {
      "application/vnd.plotly.v1+json": {
       "config": {
        "plotlyServerURL": "https://plot.ly"
       },
       "data": [
        {
         "hoverinfo": "skip",
         "line": {
          "color": "rgba(0.23137254901960785, 0.00784313725490196, 0.5019607843137255, 0.2)",
          "width": 9
         },
         "mode": "lines",
         "showlegend": false,
         "type": "scatter",
         "x": [
          "2073-10-29T00:00:00",
          "2087-07-07T00:00:00"
         ],
         "y": [
          308.3764340257798,
          308.3764340257798
         ]
        },
        {
         "hoverinfo": "skip",
         "line": {
          "color": "rgba(0.23137254901960785, 0.00784313725490196, 0.5019607843137255, 0.2)",
          "width": 9
         },
         "mode": "lines",
         "showlegend": false,
         "type": "scatter",
         "x": [
          "2087-07-08T00:00:00",
          "2101-03-16T00:00:00"
         ],
         "y": [
          66.25710839749794,
          66.25710839749794
         ]
        },
        {
         "hoverinfo": "skip",
         "line": {
          "color": "rgba(0.23137254901960785, 0.00784313725490196, 0.5019607843137255, 0.2)",
          "width": 9
         },
         "mode": "lines",
         "showlegend": false,
         "type": "scatter",
         "x": [
          "2101-03-17T00:00:00",
          "2107-09-06T00:00:00"
         ],
         "y": [
          118.48533674629427,
          118.48533674629427
         ]
        },
        {
         "hoverinfo": "skip",
         "legendgroup": "1",
         "line": {
          "color": "#00c8e5",
          "shape": "hv",
          "width": 2
         },
         "mode": "lines",
         "name": "Reference period",
         "type": "scatter",
         "x": [
          "2019-01-27T00:00:00",
          "2032-10-05T00:00:00",
          "2046-06-14T00:00:00",
          "2060-02-20T00:00:00"
         ],
         "y": [
          289.83312157636556,
          43.3599863755032,
          270.2288191619658,
          270.2288191619658
         ]
        },
        {
         "hoverinfo": "skip",
         "legendgroup": "1",
         "line": {
          "color": "#3b0280",
          "shape": "hv",
          "width": 2
         },
         "mode": "lines",
         "name": "Analysis period",
         "type": "scatter",
         "x": [
          "2060-02-21T00:00:00",
          "2073-10-29T00:00:00",
          "2087-07-08T00:00:00",
          "2101-03-17T00:00:00",
          "2107-09-06T00:00:00"
         ],
         "y": [
          249.03366176832776,
          308.3764340257798,
          66.25710839749794,
          118.48533674629427,
          118.48533674629427
         ]
        },
        {
         "customdata": [
          [
           "[0:4999]",
           "Jan-27-2019",
           "Oct-04-2032",
           "289.8331",
           "<b style=\"color:#00c8e5;line-height:60px\">Reference</b>",
           "",
           ""
          ],
          [
           "[5000:9999]",
           "Oct-05-2032",
           "Jun-13-2046",
           "43.3600",
           "<b style=\"color:#00c8e5;line-height:60px\">Reference</b>",
           "",
           ""
          ],
          [
           "[10000:14999]",
           "Jun-14-2046",
           "Feb-20-2060",
           "270.2288",
           "<b style=\"color:#00c8e5;line-height:60px\">Reference</b>",
           "",
           ""
          ]
         ],
         "hovertemplate": "%{customdata[4]} &nbsp; &nbsp; <span style=\"color:#AD0000\">%{customdata[5]}</span><br>Chunk: <b>%{customdata[0]}</b> &nbsp; &nbsp; From <b>%{customdata[1]}</b> to <b>%{customdata[2]}</b> &nbsp; &nbsp; <br>Chi-square statistic: <b>%{customdata[3]}</b>  &nbsp; &nbsp; %{customdata[6]} <extra></extra>",
         "marker": {
          "color": "#00c8e5",
          "size": 6,
          "symbol": "square"
         },
         "mode": "markers",
         "name": "Reference",
         "showlegend": false,
         "type": "scatter",
         "x": [
          "2025-11-30T12:00:00",
          "2039-08-09T12:00:00",
          "2053-04-17T12:00:00"
         ],
         "y": [
          289.83312157636556,
          43.3599863755032,
          270.2288191619658
         ]
        },
        {
         "customdata": [
          [
           "[15000:19999]",
           "Feb-21-2060",
           "Oct-28-2073",
           "249.0337",
           "<b style=\"color:#3b0280;line-height:60px\">Analysis</b>",
           "",
           ""
          ]
         ],
         "hovertemplate": "%{customdata[4]} &nbsp; &nbsp; <span style=\"color:#AD0000\">%{customdata[5]}</span><br>Chunk: <b>%{customdata[0]}</b> &nbsp; &nbsp; From <b>%{customdata[1]}</b> to <b>%{customdata[2]}</b> &nbsp; &nbsp; <br>Chi-square statistic: <b>%{customdata[3]}</b>  &nbsp; &nbsp; %{customdata[6]} <extra></extra>",
         "marker": {
          "color": "#3b0280",
          "size": 6,
          "symbol": "square"
         },
         "mode": "markers",
         "name": "No data drift",
         "showlegend": false,
         "type": "scatter",
         "x": [
          "2066-12-25T00:00:00"
         ],
         "y": [
          249.03366176832776
         ]
        },
        {
         "customdata": [
          [
           "[20000:24999]",
           "Oct-29-2073",
           "Jul-07-2087",
           "308.3764",
           "<b style=\"color:#3b0280;line-height:60px\">Analysis</b>",
           "⚠ <b>Drift detected</b>",
           ""
          ],
          [
           "[25000:29999]",
           "Jul-08-2087",
           "Mar-16-2101",
           "66.2571",
           "<b style=\"color:#3b0280;line-height:60px\">Analysis</b>",
           "⚠ <b>Drift detected</b>",
           ""
          ],
          [
           "[30000:32364]",
           "Mar-17-2101",
           "Sep-06-2107",
           "118.4853",
           "<b style=\"color:#3b0280;line-height:60px\">Analysis</b>",
           "⚠ <b>Drift detected</b>",
           ""
          ]
         ],
         "hovertemplate": "%{customdata[4]} &nbsp; &nbsp; <span style=\"color:#AD0000\">%{customdata[5]}</span><br>Chunk: <b>%{customdata[0]}</b> &nbsp; &nbsp; From <b>%{customdata[1]}</b> to <b>%{customdata[2]}</b> &nbsp; &nbsp; <br>Chi-square statistic: <b>%{customdata[3]}</b>  &nbsp; &nbsp; %{customdata[6]} <extra></extra>",
         "marker": {
          "color": "#DD4040",
          "size": 6,
          "symbol": "diamond"
         },
         "mode": "markers",
         "name": "Data drift",
         "showlegend": false,
         "type": "scatter",
         "x": [
          "2080-09-01T12:00:00",
          "2094-05-11T12:00:00",
          "2104-06-11T00:00:00"
         ],
         "y": [
          308.3764340257798,
          66.25710839749794,
          118.48533674629427
         ]
        },
        {
         "legendgroup": "1",
         "line": {
          "color": "rgba(0.23137254901960785, 0.00784313725490196, 0.5019607843137255, 0.2)",
          "width": 9
         },
         "mode": "lines",
         "name": "P-value is signficant",
         "type": "scatter",
         "x": [
          [
           1764504000000000000
          ],
          [
           4242585600000000000
          ]
         ],
         "y": [
          null,
          null
         ]
        },
        {
         "line": {
          "color": "rgba(0,0,0,0)"
         },
         "mode": "lines",
         "showlegend": false,
         "type": "scatter",
         "x": [
          [
           1764504000000000000
          ],
          [
           4242585600000000000
          ]
         ],
         "y": [
          null,
          null
         ]
        },
        {
         "fill": "tonexty",
         "fillcolor": "rgba(0.8666666666666667, 0.25098039215686274, 0.25098039215686274, 0.2)",
         "legendgroup": "1",
         "line": {
          "color": "rgba(0,0,0,0)"
         },
         "marker": {
          "color": "#DD4040",
          "size": 6,
          "symbol": "diamond"
         },
         "mode": "lines+markers",
         "name": "Data drift",
         "type": "scatter",
         "x": [
          [
           1764504000000000000
          ],
          [
           4242585600000000000
          ]
         ],
         "y": [
          null,
          null
         ]
        }
       ],
       "layout": {
        "hoverlabel": {
         "bgcolor": "white",
         "font": {
          "size": 14
         }
        },
        "legend": {
         "itemclick": false,
         "itemdoubleclick": false,
         "orientation": "h",
         "traceorder": "normal",
         "x": 0,
         "xanchor": "left",
         "y": -0.25,
         "yanchor": "top"
        },
        "paper_bgcolor": "rgba(255,255,255,1)",
        "plot_bgcolor": "rgba(255,255,255,1)",
        "shapes": [
         {
          "layer": "below",
          "line": {
           "color": "#3b0280",
           "dash": "dash",
           "width": 1
          },
          "type": "line",
          "x0": "2060-02-21T00:00:00",
          "x1": "2060-02-21T00:00:00",
          "xref": "x",
          "y0": 0,
          "y1": 1,
          "yref": "y domain"
         },
         {
          "fillcolor": "#DD4040",
          "layer": "below",
          "line": {
           "width": 0
          },
          "opacity": 0.2,
          "type": "rect",
          "x0": "2073-10-29T00:00:00",
          "x1": "2087-07-07T00:00:00",
          "xref": "x",
          "y0": 0,
          "y1": 1,
          "yref": "y domain"
         },
         {
          "fillcolor": "#DD4040",
          "layer": "below",
          "line": {
           "width": 0
          },
          "opacity": 0.2,
          "type": "rect",
          "x0": "2087-07-08T00:00:00",
          "x1": "2101-03-16T00:00:00",
          "xref": "x",
          "y0": 0,
          "y1": 1,
          "yref": "y domain"
         },
         {
          "fillcolor": "#DD4040",
          "layer": "below",
          "line": {
           "width": 0
          },
          "opacity": 0.2,
          "type": "rect",
          "x0": "2101-03-17T00:00:00",
          "x1": "2107-09-06T00:00:00",
          "xref": "x",
          "y0": 0,
          "y1": 1,
          "yref": "y domain"
         }
        ],
        "template": {
         "data": {
          "bar": [
           {
            "error_x": {
             "color": "#2a3f5f"
            },
            "error_y": {
             "color": "#2a3f5f"
            },
            "marker": {
             "line": {
              "color": "#E5ECF6",
              "width": 0.5
             },
             "pattern": {
              "fillmode": "overlay",
              "size": 10,
              "solidity": 0.2
             }
            },
            "type": "bar"
           }
          ],
          "barpolar": [
           {
            "marker": {
             "line": {
              "color": "#E5ECF6",
              "width": 0.5
             },
             "pattern": {
              "fillmode": "overlay",
              "size": 10,
              "solidity": 0.2
             }
            },
            "type": "barpolar"
           }
          ],
          "carpet": [
           {
            "aaxis": {
             "endlinecolor": "#2a3f5f",
             "gridcolor": "white",
             "linecolor": "white",
             "minorgridcolor": "white",
             "startlinecolor": "#2a3f5f"
            },
            "baxis": {
             "endlinecolor": "#2a3f5f",
             "gridcolor": "white",
             "linecolor": "white",
             "minorgridcolor": "white",
             "startlinecolor": "#2a3f5f"
            },
            "type": "carpet"
           }
          ],
          "choropleth": [
           {
            "colorbar": {
             "outlinewidth": 0,
             "ticks": ""
            },
            "type": "choropleth"
           }
          ],
          "contour": [
           {
            "colorbar": {
             "outlinewidth": 0,
             "ticks": ""
            },
            "colorscale": [
             [
              0,
              "#0d0887"
             ],
             [
              0.1111111111111111,
              "#46039f"
             ],
             [
              0.2222222222222222,
              "#7201a8"
             ],
             [
              0.3333333333333333,
              "#9c179e"
             ],
             [
              0.4444444444444444,
              "#bd3786"
             ],
             [
              0.5555555555555556,
              "#d8576b"
             ],
             [
              0.6666666666666666,
              "#ed7953"
             ],
             [
              0.7777777777777778,
              "#fb9f3a"
             ],
             [
              0.8888888888888888,
              "#fdca26"
             ],
             [
              1,
              "#f0f921"
             ]
            ],
            "type": "contour"
           }
          ],
          "contourcarpet": [
           {
            "colorbar": {
             "outlinewidth": 0,
             "ticks": ""
            },
            "type": "contourcarpet"
           }
          ],
          "heatmap": [
           {
            "colorbar": {
             "outlinewidth": 0,
             "ticks": ""
            },
            "colorscale": [
             [
              0,
              "#0d0887"
             ],
             [
              0.1111111111111111,
              "#46039f"
             ],
             [
              0.2222222222222222,
              "#7201a8"
             ],
             [
              0.3333333333333333,
              "#9c179e"
             ],
             [
              0.4444444444444444,
              "#bd3786"
             ],
             [
              0.5555555555555556,
              "#d8576b"
             ],
             [
              0.6666666666666666,
              "#ed7953"
             ],
             [
              0.7777777777777778,
              "#fb9f3a"
             ],
             [
              0.8888888888888888,
              "#fdca26"
             ],
             [
              1,
              "#f0f921"
             ]
            ],
            "type": "heatmap"
           }
          ],
          "heatmapgl": [
           {
            "colorbar": {
             "outlinewidth": 0,
             "ticks": ""
            },
            "colorscale": [
             [
              0,
              "#0d0887"
             ],
             [
              0.1111111111111111,
              "#46039f"
             ],
             [
              0.2222222222222222,
              "#7201a8"
             ],
             [
              0.3333333333333333,
              "#9c179e"
             ],
             [
              0.4444444444444444,
              "#bd3786"
             ],
             [
              0.5555555555555556,
              "#d8576b"
             ],
             [
              0.6666666666666666,
              "#ed7953"
             ],
             [
              0.7777777777777778,
              "#fb9f3a"
             ],
             [
              0.8888888888888888,
              "#fdca26"
             ],
             [
              1,
              "#f0f921"
             ]
            ],
            "type": "heatmapgl"
           }
          ],
          "histogram": [
           {
            "marker": {
             "pattern": {
              "fillmode": "overlay",
              "size": 10,
              "solidity": 0.2
             }
            },
            "type": "histogram"
           }
          ],
          "histogram2d": [
           {
            "colorbar": {
             "outlinewidth": 0,
             "ticks": ""
            },
            "colorscale": [
             [
              0,
              "#0d0887"
             ],
             [
              0.1111111111111111,
              "#46039f"
             ],
             [
              0.2222222222222222,
              "#7201a8"
             ],
             [
              0.3333333333333333,
              "#9c179e"
             ],
             [
              0.4444444444444444,
              "#bd3786"
             ],
             [
              0.5555555555555556,
              "#d8576b"
             ],
             [
              0.6666666666666666,
              "#ed7953"
             ],
             [
              0.7777777777777778,
              "#fb9f3a"
             ],
             [
              0.8888888888888888,
              "#fdca26"
             ],
             [
              1,
              "#f0f921"
             ]
            ],
            "type": "histogram2d"
           }
          ],
          "histogram2dcontour": [
           {
            "colorbar": {
             "outlinewidth": 0,
             "ticks": ""
            },
            "colorscale": [
             [
              0,
              "#0d0887"
             ],
             [
              0.1111111111111111,
              "#46039f"
             ],
             [
              0.2222222222222222,
              "#7201a8"
             ],
             [
              0.3333333333333333,
              "#9c179e"
             ],
             [
              0.4444444444444444,
              "#bd3786"
             ],
             [
              0.5555555555555556,
              "#d8576b"
             ],
             [
              0.6666666666666666,
              "#ed7953"
             ],
             [
              0.7777777777777778,
              "#fb9f3a"
             ],
             [
              0.8888888888888888,
              "#fdca26"
             ],
             [
              1,
              "#f0f921"
             ]
            ],
            "type": "histogram2dcontour"
           }
          ],
          "mesh3d": [
           {
            "colorbar": {
             "outlinewidth": 0,
             "ticks": ""
            },
            "type": "mesh3d"
           }
          ],
          "parcoords": [
           {
            "line": {
             "colorbar": {
              "outlinewidth": 0,
              "ticks": ""
             }
            },
            "type": "parcoords"
           }
          ],
          "pie": [
           {
            "automargin": true,
            "type": "pie"
           }
          ],
          "scatter": [
           {
            "fillpattern": {
             "fillmode": "overlay",
             "size": 10,
             "solidity": 0.2
            },
            "type": "scatter"
           }
          ],
          "scatter3d": [
           {
            "line": {
             "colorbar": {
              "outlinewidth": 0,
              "ticks": ""
             }
            },
            "marker": {
             "colorbar": {
              "outlinewidth": 0,
              "ticks": ""
             }
            },
            "type": "scatter3d"
           }
          ],
          "scattercarpet": [
           {
            "marker": {
             "colorbar": {
              "outlinewidth": 0,
              "ticks": ""
             }
            },
            "type": "scattercarpet"
           }
          ],
          "scattergeo": [
           {
            "marker": {
             "colorbar": {
              "outlinewidth": 0,
              "ticks": ""
             }
            },
            "type": "scattergeo"
           }
          ],
          "scattergl": [
           {
            "marker": {
             "colorbar": {
              "outlinewidth": 0,
              "ticks": ""
             }
            },
            "type": "scattergl"
           }
          ],
          "scattermapbox": [
           {
            "marker": {
             "colorbar": {
              "outlinewidth": 0,
              "ticks": ""
             }
            },
            "type": "scattermapbox"
           }
          ],
          "scatterpolar": [
           {
            "marker": {
             "colorbar": {
              "outlinewidth": 0,
              "ticks": ""
             }
            },
            "type": "scatterpolar"
           }
          ],
          "scatterpolargl": [
           {
            "marker": {
             "colorbar": {
              "outlinewidth": 0,
              "ticks": ""
             }
            },
            "type": "scatterpolargl"
           }
          ],
          "scatterternary": [
           {
            "marker": {
             "colorbar": {
              "outlinewidth": 0,
              "ticks": ""
             }
            },
            "type": "scatterternary"
           }
          ],
          "surface": [
           {
            "colorbar": {
             "outlinewidth": 0,
             "ticks": ""
            },
            "colorscale": [
             [
              0,
              "#0d0887"
             ],
             [
              0.1111111111111111,
              "#46039f"
             ],
             [
              0.2222222222222222,
              "#7201a8"
             ],
             [
              0.3333333333333333,
              "#9c179e"
             ],
             [
              0.4444444444444444,
              "#bd3786"
             ],
             [
              0.5555555555555556,
              "#d8576b"
             ],
             [
              0.6666666666666666,
              "#ed7953"
             ],
             [
              0.7777777777777778,
              "#fb9f3a"
             ],
             [
              0.8888888888888888,
              "#fdca26"
             ],
             [
              1,
              "#f0f921"
             ]
            ],
            "type": "surface"
           }
          ],
          "table": [
           {
            "cells": {
             "fill": {
              "color": "#EBF0F8"
             },
             "line": {
              "color": "white"
             }
            },
            "header": {
             "fill": {
              "color": "#C8D4E3"
             },
             "line": {
              "color": "white"
             }
            },
            "type": "table"
           }
          ]
         },
         "layout": {
          "annotationdefaults": {
           "arrowcolor": "#2a3f5f",
           "arrowhead": 0,
           "arrowwidth": 1
          },
          "autotypenumbers": "strict",
          "coloraxis": {
           "colorbar": {
            "outlinewidth": 0,
            "ticks": ""
           }
          },
          "colorscale": {
           "diverging": [
            [
             0,
             "#8e0152"
            ],
            [
             0.1,
             "#c51b7d"
            ],
            [
             0.2,
             "#de77ae"
            ],
            [
             0.3,
             "#f1b6da"
            ],
            [
             0.4,
             "#fde0ef"
            ],
            [
             0.5,
             "#f7f7f7"
            ],
            [
             0.6,
             "#e6f5d0"
            ],
            [
             0.7,
             "#b8e186"
            ],
            [
             0.8,
             "#7fbc41"
            ],
            [
             0.9,
             "#4d9221"
            ],
            [
             1,
             "#276419"
            ]
           ],
           "sequential": [
            [
             0,
             "#0d0887"
            ],
            [
             0.1111111111111111,
             "#46039f"
            ],
            [
             0.2222222222222222,
             "#7201a8"
            ],
            [
             0.3333333333333333,
             "#9c179e"
            ],
            [
             0.4444444444444444,
             "#bd3786"
            ],
            [
             0.5555555555555556,
             "#d8576b"
            ],
            [
             0.6666666666666666,
             "#ed7953"
            ],
            [
             0.7777777777777778,
             "#fb9f3a"
            ],
            [
             0.8888888888888888,
             "#fdca26"
            ],
            [
             1,
             "#f0f921"
            ]
           ],
           "sequentialminus": [
            [
             0,
             "#0d0887"
            ],
            [
             0.1111111111111111,
             "#46039f"
            ],
            [
             0.2222222222222222,
             "#7201a8"
            ],
            [
             0.3333333333333333,
             "#9c179e"
            ],
            [
             0.4444444444444444,
             "#bd3786"
            ],
            [
             0.5555555555555556,
             "#d8576b"
            ],
            [
             0.6666666666666666,
             "#ed7953"
            ],
            [
             0.7777777777777778,
             "#fb9f3a"
            ],
            [
             0.8888888888888888,
             "#fdca26"
            ],
            [
             1,
             "#f0f921"
            ]
           ]
          },
          "colorway": [
           "#636efa",
           "#EF553B",
           "#00cc96",
           "#ab63fa",
           "#FFA15A",
           "#19d3f3",
           "#FF6692",
           "#B6E880",
           "#FF97FF",
           "#FECB52"
          ],
          "font": {
           "color": "#2a3f5f"
          },
          "geo": {
           "bgcolor": "white",
           "lakecolor": "white",
           "landcolor": "#E5ECF6",
           "showlakes": true,
           "showland": true,
           "subunitcolor": "white"
          },
          "hoverlabel": {
           "align": "left"
          },
          "hovermode": "closest",
          "mapbox": {
           "style": "light"
          },
          "paper_bgcolor": "white",
          "plot_bgcolor": "#E5ECF6",
          "polar": {
           "angularaxis": {
            "gridcolor": "white",
            "linecolor": "white",
            "ticks": ""
           },
           "bgcolor": "#E5ECF6",
           "radialaxis": {
            "gridcolor": "white",
            "linecolor": "white",
            "ticks": ""
           }
          },
          "scene": {
           "xaxis": {
            "backgroundcolor": "#E5ECF6",
            "gridcolor": "white",
            "gridwidth": 2,
            "linecolor": "white",
            "showbackground": true,
            "ticks": "",
            "zerolinecolor": "white"
           },
           "yaxis": {
            "backgroundcolor": "#E5ECF6",
            "gridcolor": "white",
            "gridwidth": 2,
            "linecolor": "white",
            "showbackground": true,
            "ticks": "",
            "zerolinecolor": "white"
           },
           "zaxis": {
            "backgroundcolor": "#E5ECF6",
            "gridcolor": "white",
            "gridwidth": 2,
            "linecolor": "white",
            "showbackground": true,
            "ticks": "",
            "zerolinecolor": "white"
           }
          },
          "shapedefaults": {
           "line": {
            "color": "#2a3f5f"
           }
          },
          "ternary": {
           "aaxis": {
            "gridcolor": "white",
            "linecolor": "white",
            "ticks": ""
           },
           "baxis": {
            "gridcolor": "white",
            "linecolor": "white",
            "ticks": ""
           },
           "bgcolor": "#E5ECF6",
           "caxis": {
            "gridcolor": "white",
            "linecolor": "white",
            "ticks": ""
           }
          },
          "title": {
           "x": 0.05
          },
          "xaxis": {
           "automargin": true,
           "gridcolor": "white",
           "linecolor": "white",
           "ticks": "",
           "title": {
            "standoff": 15
           },
           "zerolinecolor": "white",
           "zerolinewidth": 2
          },
          "yaxis": {
           "automargin": true,
           "gridcolor": "white",
           "linecolor": "white",
           "ticks": "",
           "title": {
            "standoff": 15
           },
           "zerolinecolor": "white",
           "zerolinewidth": 2
          }
         }
        },
        "title": {
         "text": "Chi-square statistic for color"
        },
        "xaxis": {
         "linecolor": "#666666",
         "mirror": true,
         "showgrid": false,
         "title": {
          "text": "Time"
         },
         "zeroline": false
        },
        "yaxis": {
         "linecolor": "#666666",
         "mirror": true,
         "showgrid": false,
         "title": {
          "text": "Chi-square statistic"
         },
         "zeroline": false
        }
       }
      },
      "text/html": [
       "<div>                            <div id=\"d4b19744-112a-47a1-a467-98d11503de2e\" class=\"plotly-graph-div\" style=\"height:525px; width:100%;\"></div>            <script type=\"text/javascript\">                require([\"plotly\"], function(Plotly) {                    window.PLOTLYENV=window.PLOTLYENV || {};                                    if (document.getElementById(\"d4b19744-112a-47a1-a467-98d11503de2e\")) {                    Plotly.newPlot(                        \"d4b19744-112a-47a1-a467-98d11503de2e\",                        [{\"hoverinfo\":\"skip\",\"line\":{\"color\":\"rgba(0.23137254901960785, 0.00784313725490196, 0.5019607843137255, 0.2)\",\"width\":9},\"mode\":\"lines\",\"showlegend\":false,\"x\":[\"2073-10-29T00:00:00\",\"2087-07-07T00:00:00\"],\"y\":[308.3764340257798,308.3764340257798],\"type\":\"scatter\"},{\"hoverinfo\":\"skip\",\"line\":{\"color\":\"rgba(0.23137254901960785, 0.00784313725490196, 0.5019607843137255, 0.2)\",\"width\":9},\"mode\":\"lines\",\"showlegend\":false,\"x\":[\"2087-07-08T00:00:00\",\"2101-03-16T00:00:00\"],\"y\":[66.25710839749794,66.25710839749794],\"type\":\"scatter\"},{\"hoverinfo\":\"skip\",\"line\":{\"color\":\"rgba(0.23137254901960785, 0.00784313725490196, 0.5019607843137255, 0.2)\",\"width\":9},\"mode\":\"lines\",\"showlegend\":false,\"x\":[\"2101-03-17T00:00:00\",\"2107-09-06T00:00:00\"],\"y\":[118.48533674629427,118.48533674629427],\"type\":\"scatter\"},{\"hoverinfo\":\"skip\",\"legendgroup\":\"1\",\"line\":{\"color\":\"#00c8e5\",\"shape\":\"hv\",\"width\":2},\"mode\":\"lines\",\"name\":\"Reference period\",\"x\":[\"2019-01-27T00:00:00\",\"2032-10-05T00:00:00\",\"2046-06-14T00:00:00\",\"2060-02-20T00:00:00\"],\"y\":[289.83312157636556,43.3599863755032,270.2288191619658,270.2288191619658],\"type\":\"scatter\"},{\"hoverinfo\":\"skip\",\"legendgroup\":\"1\",\"line\":{\"color\":\"#3b0280\",\"shape\":\"hv\",\"width\":2},\"mode\":\"lines\",\"name\":\"Analysis period\",\"x\":[\"2060-02-21T00:00:00\",\"2073-10-29T00:00:00\",\"2087-07-08T00:00:00\",\"2101-03-17T00:00:00\",\"2107-09-06T00:00:00\"],\"y\":[249.03366176832776,308.3764340257798,66.25710839749794,118.48533674629427,118.48533674629427],\"type\":\"scatter\"},{\"customdata\":[[\"[0:4999]\",\"Jan-27-2019\",\"Oct-04-2032\",\"289.8331\",\"<b style=\\\"color:#00c8e5;line-height:60px\\\">Reference</b>\",\"\",\"\"],[\"[5000:9999]\",\"Oct-05-2032\",\"Jun-13-2046\",\"43.3600\",\"<b style=\\\"color:#00c8e5;line-height:60px\\\">Reference</b>\",\"\",\"\"],[\"[10000:14999]\",\"Jun-14-2046\",\"Feb-20-2060\",\"270.2288\",\"<b style=\\\"color:#00c8e5;line-height:60px\\\">Reference</b>\",\"\",\"\"]],\"hovertemplate\":\"%{customdata[4]} &nbsp; &nbsp; <span style=\\\"color:#AD0000\\\">%{customdata[5]}</span><br>Chunk: <b>%{customdata[0]}</b> &nbsp; &nbsp; From <b>%{customdata[1]}</b> to <b>%{customdata[2]}</b> &nbsp; &nbsp; <br>Chi-square statistic: <b>%{customdata[3]}</b>  &nbsp; &nbsp; %{customdata[6]} <extra></extra>\",\"marker\":{\"color\":\"#00c8e5\",\"size\":6,\"symbol\":\"square\"},\"mode\":\"markers\",\"name\":\"Reference\",\"showlegend\":false,\"x\":[\"2025-11-30T12:00:00\",\"2039-08-09T12:00:00\",\"2053-04-17T12:00:00\"],\"y\":[289.83312157636556,43.3599863755032,270.2288191619658],\"type\":\"scatter\"},{\"customdata\":[[\"[15000:19999]\",\"Feb-21-2060\",\"Oct-28-2073\",\"249.0337\",\"<b style=\\\"color:#3b0280;line-height:60px\\\">Analysis</b>\",\"\",\"\"]],\"hovertemplate\":\"%{customdata[4]} &nbsp; &nbsp; <span style=\\\"color:#AD0000\\\">%{customdata[5]}</span><br>Chunk: <b>%{customdata[0]}</b> &nbsp; &nbsp; From <b>%{customdata[1]}</b> to <b>%{customdata[2]}</b> &nbsp; &nbsp; <br>Chi-square statistic: <b>%{customdata[3]}</b>  &nbsp; &nbsp; %{customdata[6]} <extra></extra>\",\"marker\":{\"color\":\"#3b0280\",\"size\":6,\"symbol\":\"square\"},\"mode\":\"markers\",\"name\":\"No data drift\",\"showlegend\":false,\"x\":[\"2066-12-25T00:00:00\"],\"y\":[249.03366176832776],\"type\":\"scatter\"},{\"customdata\":[[\"[20000:24999]\",\"Oct-29-2073\",\"Jul-07-2087\",\"308.3764\",\"<b style=\\\"color:#3b0280;line-height:60px\\\">Analysis</b>\",\"\\u26a0 <b>Drift detected</b>\",\"\"],[\"[25000:29999]\",\"Jul-08-2087\",\"Mar-16-2101\",\"66.2571\",\"<b style=\\\"color:#3b0280;line-height:60px\\\">Analysis</b>\",\"\\u26a0 <b>Drift detected</b>\",\"\"],[\"[30000:32364]\",\"Mar-17-2101\",\"Sep-06-2107\",\"118.4853\",\"<b style=\\\"color:#3b0280;line-height:60px\\\">Analysis</b>\",\"\\u26a0 <b>Drift detected</b>\",\"\"]],\"hovertemplate\":\"%{customdata[4]} &nbsp; &nbsp; <span style=\\\"color:#AD0000\\\">%{customdata[5]}</span><br>Chunk: <b>%{customdata[0]}</b> &nbsp; &nbsp; From <b>%{customdata[1]}</b> to <b>%{customdata[2]}</b> &nbsp; &nbsp; <br>Chi-square statistic: <b>%{customdata[3]}</b>  &nbsp; &nbsp; %{customdata[6]} <extra></extra>\",\"marker\":{\"color\":\"#DD4040\",\"size\":6,\"symbol\":\"diamond\"},\"mode\":\"markers\",\"name\":\"Data drift\",\"showlegend\":false,\"x\":[\"2080-09-01T12:00:00\",\"2094-05-11T12:00:00\",\"2104-06-11T00:00:00\"],\"y\":[308.3764340257798,66.25710839749794,118.48533674629427],\"type\":\"scatter\"},{\"legendgroup\":\"1\",\"line\":{\"color\":\"rgba(0.23137254901960785, 0.00784313725490196, 0.5019607843137255, 0.2)\",\"width\":9},\"mode\":\"lines\",\"name\":\"P-value is signficant\",\"x\":[[1764504000000000000],[4242585600000000000]],\"y\":[null,null],\"type\":\"scatter\"},{\"line\":{\"color\":\"rgba(0,0,0,0)\"},\"mode\":\"lines\",\"showlegend\":false,\"x\":[[1764504000000000000],[4242585600000000000]],\"y\":[null,null],\"type\":\"scatter\"},{\"fill\":\"tonexty\",\"fillcolor\":\"rgba(0.8666666666666667, 0.25098039215686274, 0.25098039215686274, 0.2)\",\"legendgroup\":\"1\",\"line\":{\"color\":\"rgba(0,0,0,0)\"},\"marker\":{\"color\":\"#DD4040\",\"size\":6,\"symbol\":\"diamond\"},\"mode\":\"lines+markers\",\"name\":\"Data drift\",\"x\":[[1764504000000000000],[4242585600000000000]],\"y\":[null,null],\"type\":\"scatter\"}],                        {\"hoverlabel\":{\"bgcolor\":\"white\",\"font\":{\"size\":14}},\"legend\":{\"itemclick\":false,\"itemdoubleclick\":false,\"traceorder\":\"normal\",\"yanchor\":\"top\",\"y\":-0.25,\"xanchor\":\"left\",\"x\":0,\"orientation\":\"h\"},\"paper_bgcolor\":\"rgba(255,255,255,1)\",\"plot_bgcolor\":\"rgba(255,255,255,1)\",\"title\":{\"text\":\"Chi-square statistic for color\"},\"xaxis\":{\"linecolor\":\"#666666\",\"mirror\":true,\"showgrid\":false,\"title\":{\"text\":\"Time\"},\"zeroline\":false},\"yaxis\":{\"linecolor\":\"#666666\",\"mirror\":true,\"showgrid\":false,\"title\":{\"text\":\"Chi-square statistic\"},\"zeroline\":false},\"template\":{\"data\":{\"histogram2dcontour\":[{\"type\":\"histogram2dcontour\",\"colorbar\":{\"outlinewidth\":0,\"ticks\":\"\"},\"colorscale\":[[0.0,\"#0d0887\"],[0.1111111111111111,\"#46039f\"],[0.2222222222222222,\"#7201a8\"],[0.3333333333333333,\"#9c179e\"],[0.4444444444444444,\"#bd3786\"],[0.5555555555555556,\"#d8576b\"],[0.6666666666666666,\"#ed7953\"],[0.7777777777777778,\"#fb9f3a\"],[0.8888888888888888,\"#fdca26\"],[1.0,\"#f0f921\"]]}],\"choropleth\":[{\"type\":\"choropleth\",\"colorbar\":{\"outlinewidth\":0,\"ticks\":\"\"}}],\"histogram2d\":[{\"type\":\"histogram2d\",\"colorbar\":{\"outlinewidth\":0,\"ticks\":\"\"},\"colorscale\":[[0.0,\"#0d0887\"],[0.1111111111111111,\"#46039f\"],[0.2222222222222222,\"#7201a8\"],[0.3333333333333333,\"#9c179e\"],[0.4444444444444444,\"#bd3786\"],[0.5555555555555556,\"#d8576b\"],[0.6666666666666666,\"#ed7953\"],[0.7777777777777778,\"#fb9f3a\"],[0.8888888888888888,\"#fdca26\"],[1.0,\"#f0f921\"]]}],\"heatmap\":[{\"type\":\"heatmap\",\"colorbar\":{\"outlinewidth\":0,\"ticks\":\"\"},\"colorscale\":[[0.0,\"#0d0887\"],[0.1111111111111111,\"#46039f\"],[0.2222222222222222,\"#7201a8\"],[0.3333333333333333,\"#9c179e\"],[0.4444444444444444,\"#bd3786\"],[0.5555555555555556,\"#d8576b\"],[0.6666666666666666,\"#ed7953\"],[0.7777777777777778,\"#fb9f3a\"],[0.8888888888888888,\"#fdca26\"],[1.0,\"#f0f921\"]]}],\"heatmapgl\":[{\"type\":\"heatmapgl\",\"colorbar\":{\"outlinewidth\":0,\"ticks\":\"\"},\"colorscale\":[[0.0,\"#0d0887\"],[0.1111111111111111,\"#46039f\"],[0.2222222222222222,\"#7201a8\"],[0.3333333333333333,\"#9c179e\"],[0.4444444444444444,\"#bd3786\"],[0.5555555555555556,\"#d8576b\"],[0.6666666666666666,\"#ed7953\"],[0.7777777777777778,\"#fb9f3a\"],[0.8888888888888888,\"#fdca26\"],[1.0,\"#f0f921\"]]}],\"contourcarpet\":[{\"type\":\"contourcarpet\",\"colorbar\":{\"outlinewidth\":0,\"ticks\":\"\"}}],\"contour\":[{\"type\":\"contour\",\"colorbar\":{\"outlinewidth\":0,\"ticks\":\"\"},\"colorscale\":[[0.0,\"#0d0887\"],[0.1111111111111111,\"#46039f\"],[0.2222222222222222,\"#7201a8\"],[0.3333333333333333,\"#9c179e\"],[0.4444444444444444,\"#bd3786\"],[0.5555555555555556,\"#d8576b\"],[0.6666666666666666,\"#ed7953\"],[0.7777777777777778,\"#fb9f3a\"],[0.8888888888888888,\"#fdca26\"],[1.0,\"#f0f921\"]]}],\"surface\":[{\"type\":\"surface\",\"colorbar\":{\"outlinewidth\":0,\"ticks\":\"\"},\"colorscale\":[[0.0,\"#0d0887\"],[0.1111111111111111,\"#46039f\"],[0.2222222222222222,\"#7201a8\"],[0.3333333333333333,\"#9c179e\"],[0.4444444444444444,\"#bd3786\"],[0.5555555555555556,\"#d8576b\"],[0.6666666666666666,\"#ed7953\"],[0.7777777777777778,\"#fb9f3a\"],[0.8888888888888888,\"#fdca26\"],[1.0,\"#f0f921\"]]}],\"mesh3d\":[{\"type\":\"mesh3d\",\"colorbar\":{\"outlinewidth\":0,\"ticks\":\"\"}}],\"scatter\":[{\"fillpattern\":{\"fillmode\":\"overlay\",\"size\":10,\"solidity\":0.2},\"type\":\"scatter\"}],\"parcoords\":[{\"type\":\"parcoords\",\"line\":{\"colorbar\":{\"outlinewidth\":0,\"ticks\":\"\"}}}],\"scatterpolargl\":[{\"type\":\"scatterpolargl\",\"marker\":{\"colorbar\":{\"outlinewidth\":0,\"ticks\":\"\"}}}],\"bar\":[{\"error_x\":{\"color\":\"#2a3f5f\"},\"error_y\":{\"color\":\"#2a3f5f\"},\"marker\":{\"line\":{\"color\":\"#E5ECF6\",\"width\":0.5},\"pattern\":{\"fillmode\":\"overlay\",\"size\":10,\"solidity\":0.2}},\"type\":\"bar\"}],\"scattergeo\":[{\"type\":\"scattergeo\",\"marker\":{\"colorbar\":{\"outlinewidth\":0,\"ticks\":\"\"}}}],\"scatterpolar\":[{\"type\":\"scatterpolar\",\"marker\":{\"colorbar\":{\"outlinewidth\":0,\"ticks\":\"\"}}}],\"histogram\":[{\"marker\":{\"pattern\":{\"fillmode\":\"overlay\",\"size\":10,\"solidity\":0.2}},\"type\":\"histogram\"}],\"scattergl\":[{\"type\":\"scattergl\",\"marker\":{\"colorbar\":{\"outlinewidth\":0,\"ticks\":\"\"}}}],\"scatter3d\":[{\"type\":\"scatter3d\",\"line\":{\"colorbar\":{\"outlinewidth\":0,\"ticks\":\"\"}},\"marker\":{\"colorbar\":{\"outlinewidth\":0,\"ticks\":\"\"}}}],\"scattermapbox\":[{\"type\":\"scattermapbox\",\"marker\":{\"colorbar\":{\"outlinewidth\":0,\"ticks\":\"\"}}}],\"scatterternary\":[{\"type\":\"scatterternary\",\"marker\":{\"colorbar\":{\"outlinewidth\":0,\"ticks\":\"\"}}}],\"scattercarpet\":[{\"type\":\"scattercarpet\",\"marker\":{\"colorbar\":{\"outlinewidth\":0,\"ticks\":\"\"}}}],\"carpet\":[{\"aaxis\":{\"endlinecolor\":\"#2a3f5f\",\"gridcolor\":\"white\",\"linecolor\":\"white\",\"minorgridcolor\":\"white\",\"startlinecolor\":\"#2a3f5f\"},\"baxis\":{\"endlinecolor\":\"#2a3f5f\",\"gridcolor\":\"white\",\"linecolor\":\"white\",\"minorgridcolor\":\"white\",\"startlinecolor\":\"#2a3f5f\"},\"type\":\"carpet\"}],\"table\":[{\"cells\":{\"fill\":{\"color\":\"#EBF0F8\"},\"line\":{\"color\":\"white\"}},\"header\":{\"fill\":{\"color\":\"#C8D4E3\"},\"line\":{\"color\":\"white\"}},\"type\":\"table\"}],\"barpolar\":[{\"marker\":{\"line\":{\"color\":\"#E5ECF6\",\"width\":0.5},\"pattern\":{\"fillmode\":\"overlay\",\"size\":10,\"solidity\":0.2}},\"type\":\"barpolar\"}],\"pie\":[{\"automargin\":true,\"type\":\"pie\"}]},\"layout\":{\"autotypenumbers\":\"strict\",\"colorway\":[\"#636efa\",\"#EF553B\",\"#00cc96\",\"#ab63fa\",\"#FFA15A\",\"#19d3f3\",\"#FF6692\",\"#B6E880\",\"#FF97FF\",\"#FECB52\"],\"font\":{\"color\":\"#2a3f5f\"},\"hovermode\":\"closest\",\"hoverlabel\":{\"align\":\"left\"},\"paper_bgcolor\":\"white\",\"plot_bgcolor\":\"#E5ECF6\",\"polar\":{\"bgcolor\":\"#E5ECF6\",\"angularaxis\":{\"gridcolor\":\"white\",\"linecolor\":\"white\",\"ticks\":\"\"},\"radialaxis\":{\"gridcolor\":\"white\",\"linecolor\":\"white\",\"ticks\":\"\"}},\"ternary\":{\"bgcolor\":\"#E5ECF6\",\"aaxis\":{\"gridcolor\":\"white\",\"linecolor\":\"white\",\"ticks\":\"\"},\"baxis\":{\"gridcolor\":\"white\",\"linecolor\":\"white\",\"ticks\":\"\"},\"caxis\":{\"gridcolor\":\"white\",\"linecolor\":\"white\",\"ticks\":\"\"}},\"coloraxis\":{\"colorbar\":{\"outlinewidth\":0,\"ticks\":\"\"}},\"colorscale\":{\"sequential\":[[0.0,\"#0d0887\"],[0.1111111111111111,\"#46039f\"],[0.2222222222222222,\"#7201a8\"],[0.3333333333333333,\"#9c179e\"],[0.4444444444444444,\"#bd3786\"],[0.5555555555555556,\"#d8576b\"],[0.6666666666666666,\"#ed7953\"],[0.7777777777777778,\"#fb9f3a\"],[0.8888888888888888,\"#fdca26\"],[1.0,\"#f0f921\"]],\"sequentialminus\":[[0.0,\"#0d0887\"],[0.1111111111111111,\"#46039f\"],[0.2222222222222222,\"#7201a8\"],[0.3333333333333333,\"#9c179e\"],[0.4444444444444444,\"#bd3786\"],[0.5555555555555556,\"#d8576b\"],[0.6666666666666666,\"#ed7953\"],[0.7777777777777778,\"#fb9f3a\"],[0.8888888888888888,\"#fdca26\"],[1.0,\"#f0f921\"]],\"diverging\":[[0,\"#8e0152\"],[0.1,\"#c51b7d\"],[0.2,\"#de77ae\"],[0.3,\"#f1b6da\"],[0.4,\"#fde0ef\"],[0.5,\"#f7f7f7\"],[0.6,\"#e6f5d0\"],[0.7,\"#b8e186\"],[0.8,\"#7fbc41\"],[0.9,\"#4d9221\"],[1,\"#276419\"]]},\"xaxis\":{\"gridcolor\":\"white\",\"linecolor\":\"white\",\"ticks\":\"\",\"title\":{\"standoff\":15},\"zerolinecolor\":\"white\",\"automargin\":true,\"zerolinewidth\":2},\"yaxis\":{\"gridcolor\":\"white\",\"linecolor\":\"white\",\"ticks\":\"\",\"title\":{\"standoff\":15},\"zerolinecolor\":\"white\",\"automargin\":true,\"zerolinewidth\":2},\"scene\":{\"xaxis\":{\"backgroundcolor\":\"#E5ECF6\",\"gridcolor\":\"white\",\"linecolor\":\"white\",\"showbackground\":true,\"ticks\":\"\",\"zerolinecolor\":\"white\",\"gridwidth\":2},\"yaxis\":{\"backgroundcolor\":\"#E5ECF6\",\"gridcolor\":\"white\",\"linecolor\":\"white\",\"showbackground\":true,\"ticks\":\"\",\"zerolinecolor\":\"white\",\"gridwidth\":2},\"zaxis\":{\"backgroundcolor\":\"#E5ECF6\",\"gridcolor\":\"white\",\"linecolor\":\"white\",\"showbackground\":true,\"ticks\":\"\",\"zerolinecolor\":\"white\",\"gridwidth\":2}},\"shapedefaults\":{\"line\":{\"color\":\"#2a3f5f\"}},\"annotationdefaults\":{\"arrowcolor\":\"#2a3f5f\",\"arrowhead\":0,\"arrowwidth\":1},\"geo\":{\"bgcolor\":\"white\",\"landcolor\":\"#E5ECF6\",\"subunitcolor\":\"white\",\"showland\":true,\"showlakes\":true,\"lakecolor\":\"white\"},\"title\":{\"x\":0.05},\"mapbox\":{\"style\":\"light\"}}},\"shapes\":[{\"layer\":\"below\",\"line\":{\"color\":\"#3b0280\",\"dash\":\"dash\",\"width\":1},\"type\":\"line\",\"x0\":\"2060-02-21T00:00:00\",\"x1\":\"2060-02-21T00:00:00\",\"xref\":\"x\",\"y0\":0,\"y1\":1,\"yref\":\"y domain\"},{\"fillcolor\":\"#DD4040\",\"layer\":\"below\",\"line\":{\"width\":0},\"opacity\":0.2,\"type\":\"rect\",\"x0\":\"2073-10-29T00:00:00\",\"x1\":\"2087-07-07T00:00:00\",\"xref\":\"x\",\"y0\":0,\"y1\":1,\"yref\":\"y domain\"},{\"fillcolor\":\"#DD4040\",\"layer\":\"below\",\"line\":{\"width\":0},\"opacity\":0.2,\"type\":\"rect\",\"x0\":\"2087-07-08T00:00:00\",\"x1\":\"2101-03-16T00:00:00\",\"xref\":\"x\",\"y0\":0,\"y1\":1,\"yref\":\"y domain\"},{\"fillcolor\":\"#DD4040\",\"layer\":\"below\",\"line\":{\"width\":0},\"opacity\":0.2,\"type\":\"rect\",\"x0\":\"2101-03-17T00:00:00\",\"x1\":\"2107-09-06T00:00:00\",\"xref\":\"x\",\"y0\":0,\"y1\":1,\"yref\":\"y domain\"}]},                        {\"responsive\": true}                    ).then(function(){\n",
       "                            \n",
       "var gd = document.getElementById('d4b19744-112a-47a1-a467-98d11503de2e');\n",
       "var x = new MutationObserver(function (mutations, observer) {{\n",
       "        var display = window.getComputedStyle(gd).display;\n",
       "        if (!display || display === 'none') {{\n",
       "            console.log([gd, 'removed!']);\n",
       "            Plotly.purge(gd);\n",
       "            observer.disconnect();\n",
       "        }}\n",
       "}});\n",
       "\n",
       "// Listen for the removal of the full notebook cells\n",
       "var notebookContainer = gd.closest('#notebook-container');\n",
       "if (notebookContainer) {{\n",
       "    x.observe(notebookContainer, {childList: true});\n",
       "}}\n",
       "\n",
       "// Listen for the clearing of the current output cell\n",
       "var outputEl = gd.closest('.output');\n",
       "if (outputEl) {{\n",
       "    x.observe(outputEl, {childList: true});\n",
       "}}\n",
       "\n",
       "                        })                };                });            </script>        </div>"
      ]
     },
     "metadata": {},
     "output_type": "display_data"
    },
    {
     "data": {
      "application/vnd.plotly.v1+json": {
       "config": {
        "plotlyServerURL": "https://plot.ly"
       },
       "data": [
        {
         "hoverinfo": "skip",
         "line": {
          "color": "rgba(0.23137254901960785, 0.00784313725490196, 0.5019607843137255, 0.2)",
          "width": 9
         },
         "mode": "lines",
         "showlegend": false,
         "type": "scatter",
         "x": [
          "2073-10-29T00:00:00",
          "2087-07-07T00:00:00"
         ],
         "y": [
          300.0351859221269,
          300.0351859221269
         ]
        },
        {
         "hoverinfo": "skip",
         "line": {
          "color": "rgba(0.23137254901960785, 0.00784313725490196, 0.5019607843137255, 0.2)",
          "width": 9
         },
         "mode": "lines",
         "showlegend": false,
         "type": "scatter",
         "x": [
          "2087-07-08T00:00:00",
          "2101-03-16T00:00:00"
         ],
         "y": [
          208.16644300054935,
          208.16644300054935
         ]
        },
        {
         "hoverinfo": "skip",
         "line": {
          "color": "rgba(0.23137254901960785, 0.00784313725490196, 0.5019607843137255, 0.2)",
          "width": 9
         },
         "mode": "lines",
         "showlegend": false,
         "type": "scatter",
         "x": [
          "2101-03-17T00:00:00",
          "2107-09-06T00:00:00"
         ],
         "y": [
          265.82289846746227,
          265.82289846746227
         ]
        },
        {
         "hoverinfo": "skip",
         "legendgroup": "1",
         "line": {
          "color": "#00c8e5",
          "shape": "hv",
          "width": 2
         },
         "mode": "lines",
         "name": "Reference period",
         "type": "scatter",
         "x": [
          "2019-01-27T00:00:00",
          "2032-10-05T00:00:00",
          "2046-06-14T00:00:00",
          "2060-02-20T00:00:00"
         ],
         "y": [
          267.67655619536845,
          113.13989771907998,
          478.1632917673692,
          478.1632917673692
         ]
        },
        {
         "hoverinfo": "skip",
         "legendgroup": "1",
         "line": {
          "color": "#3b0280",
          "shape": "hv",
          "width": 2
         },
         "mode": "lines",
         "name": "Analysis period",
         "type": "scatter",
         "x": [
          "2060-02-21T00:00:00",
          "2073-10-29T00:00:00",
          "2087-07-08T00:00:00",
          "2101-03-17T00:00:00",
          "2107-09-06T00:00:00"
         ],
         "y": [
          521.4107598285163,
          300.0351859221269,
          208.16644300054935,
          265.82289846746227,
          265.82289846746227
         ]
        },
        {
         "customdata": [
          [
           "[0:4999]",
           "Jan-27-2019",
           "Oct-04-2032",
           "267.6766",
           "<b style=\"color:#00c8e5;line-height:60px\">Reference</b>",
           "",
           ""
          ],
          [
           "[5000:9999]",
           "Oct-05-2032",
           "Jun-13-2046",
           "113.1399",
           "<b style=\"color:#00c8e5;line-height:60px\">Reference</b>",
           "",
           ""
          ],
          [
           "[10000:14999]",
           "Jun-14-2046",
           "Feb-20-2060",
           "478.1633",
           "<b style=\"color:#00c8e5;line-height:60px\">Reference</b>",
           "",
           ""
          ]
         ],
         "hovertemplate": "%{customdata[4]} &nbsp; &nbsp; <span style=\"color:#AD0000\">%{customdata[5]}</span><br>Chunk: <b>%{customdata[0]}</b> &nbsp; &nbsp; From <b>%{customdata[1]}</b> to <b>%{customdata[2]}</b> &nbsp; &nbsp; <br>Chi-square statistic: <b>%{customdata[3]}</b>  &nbsp; &nbsp; %{customdata[6]} <extra></extra>",
         "marker": {
          "color": "#00c8e5",
          "size": 6,
          "symbol": "square"
         },
         "mode": "markers",
         "name": "Reference",
         "showlegend": false,
         "type": "scatter",
         "x": [
          "2025-11-30T12:00:00",
          "2039-08-09T12:00:00",
          "2053-04-17T12:00:00"
         ],
         "y": [
          267.67655619536845,
          113.13989771907998,
          478.1632917673692
         ]
        },
        {
         "customdata": [
          [
           "[15000:19999]",
           "Feb-21-2060",
           "Oct-28-2073",
           "521.4108",
           "<b style=\"color:#3b0280;line-height:60px\">Analysis</b>",
           "",
           ""
          ]
         ],
         "hovertemplate": "%{customdata[4]} &nbsp; &nbsp; <span style=\"color:#AD0000\">%{customdata[5]}</span><br>Chunk: <b>%{customdata[0]}</b> &nbsp; &nbsp; From <b>%{customdata[1]}</b> to <b>%{customdata[2]}</b> &nbsp; &nbsp; <br>Chi-square statistic: <b>%{customdata[3]}</b>  &nbsp; &nbsp; %{customdata[6]} <extra></extra>",
         "marker": {
          "color": "#3b0280",
          "size": 6,
          "symbol": "square"
         },
         "mode": "markers",
         "name": "No data drift",
         "showlegend": false,
         "type": "scatter",
         "x": [
          "2066-12-25T00:00:00"
         ],
         "y": [
          521.4107598285163
         ]
        },
        {
         "customdata": [
          [
           "[20000:24999]",
           "Oct-29-2073",
           "Jul-07-2087",
           "300.0352",
           "<b style=\"color:#3b0280;line-height:60px\">Analysis</b>",
           "⚠ <b>Drift detected</b>",
           ""
          ],
          [
           "[25000:29999]",
           "Jul-08-2087",
           "Mar-16-2101",
           "208.1664",
           "<b style=\"color:#3b0280;line-height:60px\">Analysis</b>",
           "⚠ <b>Drift detected</b>",
           ""
          ],
          [
           "[30000:32364]",
           "Mar-17-2101",
           "Sep-06-2107",
           "265.8229",
           "<b style=\"color:#3b0280;line-height:60px\">Analysis</b>",
           "⚠ <b>Drift detected</b>",
           ""
          ]
         ],
         "hovertemplate": "%{customdata[4]} &nbsp; &nbsp; <span style=\"color:#AD0000\">%{customdata[5]}</span><br>Chunk: <b>%{customdata[0]}</b> &nbsp; &nbsp; From <b>%{customdata[1]}</b> to <b>%{customdata[2]}</b> &nbsp; &nbsp; <br>Chi-square statistic: <b>%{customdata[3]}</b>  &nbsp; &nbsp; %{customdata[6]} <extra></extra>",
         "marker": {
          "color": "#DD4040",
          "size": 6,
          "symbol": "diamond"
         },
         "mode": "markers",
         "name": "Data drift",
         "showlegend": false,
         "type": "scatter",
         "x": [
          "2080-09-01T12:00:00",
          "2094-05-11T12:00:00",
          "2104-06-11T00:00:00"
         ],
         "y": [
          300.0351859221269,
          208.16644300054935,
          265.82289846746227
         ]
        },
        {
         "legendgroup": "1",
         "line": {
          "color": "rgba(0.23137254901960785, 0.00784313725490196, 0.5019607843137255, 0.2)",
          "width": 9
         },
         "mode": "lines",
         "name": "P-value is signficant",
         "type": "scatter",
         "x": [
          [
           1764504000000000000
          ],
          [
           4242585600000000000
          ]
         ],
         "y": [
          null,
          null
         ]
        },
        {
         "line": {
          "color": "rgba(0,0,0,0)"
         },
         "mode": "lines",
         "showlegend": false,
         "type": "scatter",
         "x": [
          [
           1764504000000000000
          ],
          [
           4242585600000000000
          ]
         ],
         "y": [
          null,
          null
         ]
        },
        {
         "fill": "tonexty",
         "fillcolor": "rgba(0.8666666666666667, 0.25098039215686274, 0.25098039215686274, 0.2)",
         "legendgroup": "1",
         "line": {
          "color": "rgba(0,0,0,0)"
         },
         "marker": {
          "color": "#DD4040",
          "size": 6,
          "symbol": "diamond"
         },
         "mode": "lines+markers",
         "name": "Data drift",
         "type": "scatter",
         "x": [
          [
           1764504000000000000
          ],
          [
           4242585600000000000
          ]
         ],
         "y": [
          null,
          null
         ]
        }
       ],
       "layout": {
        "hoverlabel": {
         "bgcolor": "white",
         "font": {
          "size": 14
         }
        },
        "legend": {
         "itemclick": false,
         "itemdoubleclick": false,
         "orientation": "h",
         "traceorder": "normal",
         "x": 0,
         "xanchor": "left",
         "y": -0.25,
         "yanchor": "top"
        },
        "paper_bgcolor": "rgba(255,255,255,1)",
        "plot_bgcolor": "rgba(255,255,255,1)",
        "shapes": [
         {
          "layer": "below",
          "line": {
           "color": "#3b0280",
           "dash": "dash",
           "width": 1
          },
          "type": "line",
          "x0": "2060-02-21T00:00:00",
          "x1": "2060-02-21T00:00:00",
          "xref": "x",
          "y0": 0,
          "y1": 1,
          "yref": "y domain"
         },
         {
          "fillcolor": "#DD4040",
          "layer": "below",
          "line": {
           "width": 0
          },
          "opacity": 0.2,
          "type": "rect",
          "x0": "2073-10-29T00:00:00",
          "x1": "2087-07-07T00:00:00",
          "xref": "x",
          "y0": 0,
          "y1": 1,
          "yref": "y domain"
         },
         {
          "fillcolor": "#DD4040",
          "layer": "below",
          "line": {
           "width": 0
          },
          "opacity": 0.2,
          "type": "rect",
          "x0": "2087-07-08T00:00:00",
          "x1": "2101-03-16T00:00:00",
          "xref": "x",
          "y0": 0,
          "y1": 1,
          "yref": "y domain"
         },
         {
          "fillcolor": "#DD4040",
          "layer": "below",
          "line": {
           "width": 0
          },
          "opacity": 0.2,
          "type": "rect",
          "x0": "2101-03-17T00:00:00",
          "x1": "2107-09-06T00:00:00",
          "xref": "x",
          "y0": 0,
          "y1": 1,
          "yref": "y domain"
         }
        ],
        "template": {
         "data": {
          "bar": [
           {
            "error_x": {
             "color": "#2a3f5f"
            },
            "error_y": {
             "color": "#2a3f5f"
            },
            "marker": {
             "line": {
              "color": "#E5ECF6",
              "width": 0.5
             },
             "pattern": {
              "fillmode": "overlay",
              "size": 10,
              "solidity": 0.2
             }
            },
            "type": "bar"
           }
          ],
          "barpolar": [
           {
            "marker": {
             "line": {
              "color": "#E5ECF6",
              "width": 0.5
             },
             "pattern": {
              "fillmode": "overlay",
              "size": 10,
              "solidity": 0.2
             }
            },
            "type": "barpolar"
           }
          ],
          "carpet": [
           {
            "aaxis": {
             "endlinecolor": "#2a3f5f",
             "gridcolor": "white",
             "linecolor": "white",
             "minorgridcolor": "white",
             "startlinecolor": "#2a3f5f"
            },
            "baxis": {
             "endlinecolor": "#2a3f5f",
             "gridcolor": "white",
             "linecolor": "white",
             "minorgridcolor": "white",
             "startlinecolor": "#2a3f5f"
            },
            "type": "carpet"
           }
          ],
          "choropleth": [
           {
            "colorbar": {
             "outlinewidth": 0,
             "ticks": ""
            },
            "type": "choropleth"
           }
          ],
          "contour": [
           {
            "colorbar": {
             "outlinewidth": 0,
             "ticks": ""
            },
            "colorscale": [
             [
              0,
              "#0d0887"
             ],
             [
              0.1111111111111111,
              "#46039f"
             ],
             [
              0.2222222222222222,
              "#7201a8"
             ],
             [
              0.3333333333333333,
              "#9c179e"
             ],
             [
              0.4444444444444444,
              "#bd3786"
             ],
             [
              0.5555555555555556,
              "#d8576b"
             ],
             [
              0.6666666666666666,
              "#ed7953"
             ],
             [
              0.7777777777777778,
              "#fb9f3a"
             ],
             [
              0.8888888888888888,
              "#fdca26"
             ],
             [
              1,
              "#f0f921"
             ]
            ],
            "type": "contour"
           }
          ],
          "contourcarpet": [
           {
            "colorbar": {
             "outlinewidth": 0,
             "ticks": ""
            },
            "type": "contourcarpet"
           }
          ],
          "heatmap": [
           {
            "colorbar": {
             "outlinewidth": 0,
             "ticks": ""
            },
            "colorscale": [
             [
              0,
              "#0d0887"
             ],
             [
              0.1111111111111111,
              "#46039f"
             ],
             [
              0.2222222222222222,
              "#7201a8"
             ],
             [
              0.3333333333333333,
              "#9c179e"
             ],
             [
              0.4444444444444444,
              "#bd3786"
             ],
             [
              0.5555555555555556,
              "#d8576b"
             ],
             [
              0.6666666666666666,
              "#ed7953"
             ],
             [
              0.7777777777777778,
              "#fb9f3a"
             ],
             [
              0.8888888888888888,
              "#fdca26"
             ],
             [
              1,
              "#f0f921"
             ]
            ],
            "type": "heatmap"
           }
          ],
          "heatmapgl": [
           {
            "colorbar": {
             "outlinewidth": 0,
             "ticks": ""
            },
            "colorscale": [
             [
              0,
              "#0d0887"
             ],
             [
              0.1111111111111111,
              "#46039f"
             ],
             [
              0.2222222222222222,
              "#7201a8"
             ],
             [
              0.3333333333333333,
              "#9c179e"
             ],
             [
              0.4444444444444444,
              "#bd3786"
             ],
             [
              0.5555555555555556,
              "#d8576b"
             ],
             [
              0.6666666666666666,
              "#ed7953"
             ],
             [
              0.7777777777777778,
              "#fb9f3a"
             ],
             [
              0.8888888888888888,
              "#fdca26"
             ],
             [
              1,
              "#f0f921"
             ]
            ],
            "type": "heatmapgl"
           }
          ],
          "histogram": [
           {
            "marker": {
             "pattern": {
              "fillmode": "overlay",
              "size": 10,
              "solidity": 0.2
             }
            },
            "type": "histogram"
           }
          ],
          "histogram2d": [
           {
            "colorbar": {
             "outlinewidth": 0,
             "ticks": ""
            },
            "colorscale": [
             [
              0,
              "#0d0887"
             ],
             [
              0.1111111111111111,
              "#46039f"
             ],
             [
              0.2222222222222222,
              "#7201a8"
             ],
             [
              0.3333333333333333,
              "#9c179e"
             ],
             [
              0.4444444444444444,
              "#bd3786"
             ],
             [
              0.5555555555555556,
              "#d8576b"
             ],
             [
              0.6666666666666666,
              "#ed7953"
             ],
             [
              0.7777777777777778,
              "#fb9f3a"
             ],
             [
              0.8888888888888888,
              "#fdca26"
             ],
             [
              1,
              "#f0f921"
             ]
            ],
            "type": "histogram2d"
           }
          ],
          "histogram2dcontour": [
           {
            "colorbar": {
             "outlinewidth": 0,
             "ticks": ""
            },
            "colorscale": [
             [
              0,
              "#0d0887"
             ],
             [
              0.1111111111111111,
              "#46039f"
             ],
             [
              0.2222222222222222,
              "#7201a8"
             ],
             [
              0.3333333333333333,
              "#9c179e"
             ],
             [
              0.4444444444444444,
              "#bd3786"
             ],
             [
              0.5555555555555556,
              "#d8576b"
             ],
             [
              0.6666666666666666,
              "#ed7953"
             ],
             [
              0.7777777777777778,
              "#fb9f3a"
             ],
             [
              0.8888888888888888,
              "#fdca26"
             ],
             [
              1,
              "#f0f921"
             ]
            ],
            "type": "histogram2dcontour"
           }
          ],
          "mesh3d": [
           {
            "colorbar": {
             "outlinewidth": 0,
             "ticks": ""
            },
            "type": "mesh3d"
           }
          ],
          "parcoords": [
           {
            "line": {
             "colorbar": {
              "outlinewidth": 0,
              "ticks": ""
             }
            },
            "type": "parcoords"
           }
          ],
          "pie": [
           {
            "automargin": true,
            "type": "pie"
           }
          ],
          "scatter": [
           {
            "fillpattern": {
             "fillmode": "overlay",
             "size": 10,
             "solidity": 0.2
            },
            "type": "scatter"
           }
          ],
          "scatter3d": [
           {
            "line": {
             "colorbar": {
              "outlinewidth": 0,
              "ticks": ""
             }
            },
            "marker": {
             "colorbar": {
              "outlinewidth": 0,
              "ticks": ""
             }
            },
            "type": "scatter3d"
           }
          ],
          "scattercarpet": [
           {
            "marker": {
             "colorbar": {
              "outlinewidth": 0,
              "ticks": ""
             }
            },
            "type": "scattercarpet"
           }
          ],
          "scattergeo": [
           {
            "marker": {
             "colorbar": {
              "outlinewidth": 0,
              "ticks": ""
             }
            },
            "type": "scattergeo"
           }
          ],
          "scattergl": [
           {
            "marker": {
             "colorbar": {
              "outlinewidth": 0,
              "ticks": ""
             }
            },
            "type": "scattergl"
           }
          ],
          "scattermapbox": [
           {
            "marker": {
             "colorbar": {
              "outlinewidth": 0,
              "ticks": ""
             }
            },
            "type": "scattermapbox"
           }
          ],
          "scatterpolar": [
           {
            "marker": {
             "colorbar": {
              "outlinewidth": 0,
              "ticks": ""
             }
            },
            "type": "scatterpolar"
           }
          ],
          "scatterpolargl": [
           {
            "marker": {
             "colorbar": {
              "outlinewidth": 0,
              "ticks": ""
             }
            },
            "type": "scatterpolargl"
           }
          ],
          "scatterternary": [
           {
            "marker": {
             "colorbar": {
              "outlinewidth": 0,
              "ticks": ""
             }
            },
            "type": "scatterternary"
           }
          ],
          "surface": [
           {
            "colorbar": {
             "outlinewidth": 0,
             "ticks": ""
            },
            "colorscale": [
             [
              0,
              "#0d0887"
             ],
             [
              0.1111111111111111,
              "#46039f"
             ],
             [
              0.2222222222222222,
              "#7201a8"
             ],
             [
              0.3333333333333333,
              "#9c179e"
             ],
             [
              0.4444444444444444,
              "#bd3786"
             ],
             [
              0.5555555555555556,
              "#d8576b"
             ],
             [
              0.6666666666666666,
              "#ed7953"
             ],
             [
              0.7777777777777778,
              "#fb9f3a"
             ],
             [
              0.8888888888888888,
              "#fdca26"
             ],
             [
              1,
              "#f0f921"
             ]
            ],
            "type": "surface"
           }
          ],
          "table": [
           {
            "cells": {
             "fill": {
              "color": "#EBF0F8"
             },
             "line": {
              "color": "white"
             }
            },
            "header": {
             "fill": {
              "color": "#C8D4E3"
             },
             "line": {
              "color": "white"
             }
            },
            "type": "table"
           }
          ]
         },
         "layout": {
          "annotationdefaults": {
           "arrowcolor": "#2a3f5f",
           "arrowhead": 0,
           "arrowwidth": 1
          },
          "autotypenumbers": "strict",
          "coloraxis": {
           "colorbar": {
            "outlinewidth": 0,
            "ticks": ""
           }
          },
          "colorscale": {
           "diverging": [
            [
             0,
             "#8e0152"
            ],
            [
             0.1,
             "#c51b7d"
            ],
            [
             0.2,
             "#de77ae"
            ],
            [
             0.3,
             "#f1b6da"
            ],
            [
             0.4,
             "#fde0ef"
            ],
            [
             0.5,
             "#f7f7f7"
            ],
            [
             0.6,
             "#e6f5d0"
            ],
            [
             0.7,
             "#b8e186"
            ],
            [
             0.8,
             "#7fbc41"
            ],
            [
             0.9,
             "#4d9221"
            ],
            [
             1,
             "#276419"
            ]
           ],
           "sequential": [
            [
             0,
             "#0d0887"
            ],
            [
             0.1111111111111111,
             "#46039f"
            ],
            [
             0.2222222222222222,
             "#7201a8"
            ],
            [
             0.3333333333333333,
             "#9c179e"
            ],
            [
             0.4444444444444444,
             "#bd3786"
            ],
            [
             0.5555555555555556,
             "#d8576b"
            ],
            [
             0.6666666666666666,
             "#ed7953"
            ],
            [
             0.7777777777777778,
             "#fb9f3a"
            ],
            [
             0.8888888888888888,
             "#fdca26"
            ],
            [
             1,
             "#f0f921"
            ]
           ],
           "sequentialminus": [
            [
             0,
             "#0d0887"
            ],
            [
             0.1111111111111111,
             "#46039f"
            ],
            [
             0.2222222222222222,
             "#7201a8"
            ],
            [
             0.3333333333333333,
             "#9c179e"
            ],
            [
             0.4444444444444444,
             "#bd3786"
            ],
            [
             0.5555555555555556,
             "#d8576b"
            ],
            [
             0.6666666666666666,
             "#ed7953"
            ],
            [
             0.7777777777777778,
             "#fb9f3a"
            ],
            [
             0.8888888888888888,
             "#fdca26"
            ],
            [
             1,
             "#f0f921"
            ]
           ]
          },
          "colorway": [
           "#636efa",
           "#EF553B",
           "#00cc96",
           "#ab63fa",
           "#FFA15A",
           "#19d3f3",
           "#FF6692",
           "#B6E880",
           "#FF97FF",
           "#FECB52"
          ],
          "font": {
           "color": "#2a3f5f"
          },
          "geo": {
           "bgcolor": "white",
           "lakecolor": "white",
           "landcolor": "#E5ECF6",
           "showlakes": true,
           "showland": true,
           "subunitcolor": "white"
          },
          "hoverlabel": {
           "align": "left"
          },
          "hovermode": "closest",
          "mapbox": {
           "style": "light"
          },
          "paper_bgcolor": "white",
          "plot_bgcolor": "#E5ECF6",
          "polar": {
           "angularaxis": {
            "gridcolor": "white",
            "linecolor": "white",
            "ticks": ""
           },
           "bgcolor": "#E5ECF6",
           "radialaxis": {
            "gridcolor": "white",
            "linecolor": "white",
            "ticks": ""
           }
          },
          "scene": {
           "xaxis": {
            "backgroundcolor": "#E5ECF6",
            "gridcolor": "white",
            "gridwidth": 2,
            "linecolor": "white",
            "showbackground": true,
            "ticks": "",
            "zerolinecolor": "white"
           },
           "yaxis": {
            "backgroundcolor": "#E5ECF6",
            "gridcolor": "white",
            "gridwidth": 2,
            "linecolor": "white",
            "showbackground": true,
            "ticks": "",
            "zerolinecolor": "white"
           },
           "zaxis": {
            "backgroundcolor": "#E5ECF6",
            "gridcolor": "white",
            "gridwidth": 2,
            "linecolor": "white",
            "showbackground": true,
            "ticks": "",
            "zerolinecolor": "white"
           }
          },
          "shapedefaults": {
           "line": {
            "color": "#2a3f5f"
           }
          },
          "ternary": {
           "aaxis": {
            "gridcolor": "white",
            "linecolor": "white",
            "ticks": ""
           },
           "baxis": {
            "gridcolor": "white",
            "linecolor": "white",
            "ticks": ""
           },
           "bgcolor": "#E5ECF6",
           "caxis": {
            "gridcolor": "white",
            "linecolor": "white",
            "ticks": ""
           }
          },
          "title": {
           "x": 0.05
          },
          "xaxis": {
           "automargin": true,
           "gridcolor": "white",
           "linecolor": "white",
           "ticks": "",
           "title": {
            "standoff": 15
           },
           "zerolinecolor": "white",
           "zerolinewidth": 2
          },
          "yaxis": {
           "automargin": true,
           "gridcolor": "white",
           "linecolor": "white",
           "ticks": "",
           "title": {
            "standoff": 15
           },
           "zerolinecolor": "white",
           "zerolinewidth": 2
          }
         }
        },
        "title": {
         "text": "Chi-square statistic for clarity"
        },
        "xaxis": {
         "linecolor": "#666666",
         "mirror": true,
         "showgrid": false,
         "title": {
          "text": "Time"
         },
         "zeroline": false
        },
        "yaxis": {
         "linecolor": "#666666",
         "mirror": true,
         "showgrid": false,
         "title": {
          "text": "Chi-square statistic"
         },
         "zeroline": false
        }
       }
      },
      "text/html": [
       "<div>                            <div id=\"dcf7c239-d27d-48db-aec0-7f76959d516c\" class=\"plotly-graph-div\" style=\"height:525px; width:100%;\"></div>            <script type=\"text/javascript\">                require([\"plotly\"], function(Plotly) {                    window.PLOTLYENV=window.PLOTLYENV || {};                                    if (document.getElementById(\"dcf7c239-d27d-48db-aec0-7f76959d516c\")) {                    Plotly.newPlot(                        \"dcf7c239-d27d-48db-aec0-7f76959d516c\",                        [{\"hoverinfo\":\"skip\",\"line\":{\"color\":\"rgba(0.23137254901960785, 0.00784313725490196, 0.5019607843137255, 0.2)\",\"width\":9},\"mode\":\"lines\",\"showlegend\":false,\"x\":[\"2073-10-29T00:00:00\",\"2087-07-07T00:00:00\"],\"y\":[300.0351859221269,300.0351859221269],\"type\":\"scatter\"},{\"hoverinfo\":\"skip\",\"line\":{\"color\":\"rgba(0.23137254901960785, 0.00784313725490196, 0.5019607843137255, 0.2)\",\"width\":9},\"mode\":\"lines\",\"showlegend\":false,\"x\":[\"2087-07-08T00:00:00\",\"2101-03-16T00:00:00\"],\"y\":[208.16644300054935,208.16644300054935],\"type\":\"scatter\"},{\"hoverinfo\":\"skip\",\"line\":{\"color\":\"rgba(0.23137254901960785, 0.00784313725490196, 0.5019607843137255, 0.2)\",\"width\":9},\"mode\":\"lines\",\"showlegend\":false,\"x\":[\"2101-03-17T00:00:00\",\"2107-09-06T00:00:00\"],\"y\":[265.82289846746227,265.82289846746227],\"type\":\"scatter\"},{\"hoverinfo\":\"skip\",\"legendgroup\":\"1\",\"line\":{\"color\":\"#00c8e5\",\"shape\":\"hv\",\"width\":2},\"mode\":\"lines\",\"name\":\"Reference period\",\"x\":[\"2019-01-27T00:00:00\",\"2032-10-05T00:00:00\",\"2046-06-14T00:00:00\",\"2060-02-20T00:00:00\"],\"y\":[267.67655619536845,113.13989771907998,478.1632917673692,478.1632917673692],\"type\":\"scatter\"},{\"hoverinfo\":\"skip\",\"legendgroup\":\"1\",\"line\":{\"color\":\"#3b0280\",\"shape\":\"hv\",\"width\":2},\"mode\":\"lines\",\"name\":\"Analysis period\",\"x\":[\"2060-02-21T00:00:00\",\"2073-10-29T00:00:00\",\"2087-07-08T00:00:00\",\"2101-03-17T00:00:00\",\"2107-09-06T00:00:00\"],\"y\":[521.4107598285163,300.0351859221269,208.16644300054935,265.82289846746227,265.82289846746227],\"type\":\"scatter\"},{\"customdata\":[[\"[0:4999]\",\"Jan-27-2019\",\"Oct-04-2032\",\"267.6766\",\"<b style=\\\"color:#00c8e5;line-height:60px\\\">Reference</b>\",\"\",\"\"],[\"[5000:9999]\",\"Oct-05-2032\",\"Jun-13-2046\",\"113.1399\",\"<b style=\\\"color:#00c8e5;line-height:60px\\\">Reference</b>\",\"\",\"\"],[\"[10000:14999]\",\"Jun-14-2046\",\"Feb-20-2060\",\"478.1633\",\"<b style=\\\"color:#00c8e5;line-height:60px\\\">Reference</b>\",\"\",\"\"]],\"hovertemplate\":\"%{customdata[4]} &nbsp; &nbsp; <span style=\\\"color:#AD0000\\\">%{customdata[5]}</span><br>Chunk: <b>%{customdata[0]}</b> &nbsp; &nbsp; From <b>%{customdata[1]}</b> to <b>%{customdata[2]}</b> &nbsp; &nbsp; <br>Chi-square statistic: <b>%{customdata[3]}</b>  &nbsp; &nbsp; %{customdata[6]} <extra></extra>\",\"marker\":{\"color\":\"#00c8e5\",\"size\":6,\"symbol\":\"square\"},\"mode\":\"markers\",\"name\":\"Reference\",\"showlegend\":false,\"x\":[\"2025-11-30T12:00:00\",\"2039-08-09T12:00:00\",\"2053-04-17T12:00:00\"],\"y\":[267.67655619536845,113.13989771907998,478.1632917673692],\"type\":\"scatter\"},{\"customdata\":[[\"[15000:19999]\",\"Feb-21-2060\",\"Oct-28-2073\",\"521.4108\",\"<b style=\\\"color:#3b0280;line-height:60px\\\">Analysis</b>\",\"\",\"\"]],\"hovertemplate\":\"%{customdata[4]} &nbsp; &nbsp; <span style=\\\"color:#AD0000\\\">%{customdata[5]}</span><br>Chunk: <b>%{customdata[0]}</b> &nbsp; &nbsp; From <b>%{customdata[1]}</b> to <b>%{customdata[2]}</b> &nbsp; &nbsp; <br>Chi-square statistic: <b>%{customdata[3]}</b>  &nbsp; &nbsp; %{customdata[6]} <extra></extra>\",\"marker\":{\"color\":\"#3b0280\",\"size\":6,\"symbol\":\"square\"},\"mode\":\"markers\",\"name\":\"No data drift\",\"showlegend\":false,\"x\":[\"2066-12-25T00:00:00\"],\"y\":[521.4107598285163],\"type\":\"scatter\"},{\"customdata\":[[\"[20000:24999]\",\"Oct-29-2073\",\"Jul-07-2087\",\"300.0352\",\"<b style=\\\"color:#3b0280;line-height:60px\\\">Analysis</b>\",\"\\u26a0 <b>Drift detected</b>\",\"\"],[\"[25000:29999]\",\"Jul-08-2087\",\"Mar-16-2101\",\"208.1664\",\"<b style=\\\"color:#3b0280;line-height:60px\\\">Analysis</b>\",\"\\u26a0 <b>Drift detected</b>\",\"\"],[\"[30000:32364]\",\"Mar-17-2101\",\"Sep-06-2107\",\"265.8229\",\"<b style=\\\"color:#3b0280;line-height:60px\\\">Analysis</b>\",\"\\u26a0 <b>Drift detected</b>\",\"\"]],\"hovertemplate\":\"%{customdata[4]} &nbsp; &nbsp; <span style=\\\"color:#AD0000\\\">%{customdata[5]}</span><br>Chunk: <b>%{customdata[0]}</b> &nbsp; &nbsp; From <b>%{customdata[1]}</b> to <b>%{customdata[2]}</b> &nbsp; &nbsp; <br>Chi-square statistic: <b>%{customdata[3]}</b>  &nbsp; &nbsp; %{customdata[6]} <extra></extra>\",\"marker\":{\"color\":\"#DD4040\",\"size\":6,\"symbol\":\"diamond\"},\"mode\":\"markers\",\"name\":\"Data drift\",\"showlegend\":false,\"x\":[\"2080-09-01T12:00:00\",\"2094-05-11T12:00:00\",\"2104-06-11T00:00:00\"],\"y\":[300.0351859221269,208.16644300054935,265.82289846746227],\"type\":\"scatter\"},{\"legendgroup\":\"1\",\"line\":{\"color\":\"rgba(0.23137254901960785, 0.00784313725490196, 0.5019607843137255, 0.2)\",\"width\":9},\"mode\":\"lines\",\"name\":\"P-value is signficant\",\"x\":[[1764504000000000000],[4242585600000000000]],\"y\":[null,null],\"type\":\"scatter\"},{\"line\":{\"color\":\"rgba(0,0,0,0)\"},\"mode\":\"lines\",\"showlegend\":false,\"x\":[[1764504000000000000],[4242585600000000000]],\"y\":[null,null],\"type\":\"scatter\"},{\"fill\":\"tonexty\",\"fillcolor\":\"rgba(0.8666666666666667, 0.25098039215686274, 0.25098039215686274, 0.2)\",\"legendgroup\":\"1\",\"line\":{\"color\":\"rgba(0,0,0,0)\"},\"marker\":{\"color\":\"#DD4040\",\"size\":6,\"symbol\":\"diamond\"},\"mode\":\"lines+markers\",\"name\":\"Data drift\",\"x\":[[1764504000000000000],[4242585600000000000]],\"y\":[null,null],\"type\":\"scatter\"}],                        {\"hoverlabel\":{\"bgcolor\":\"white\",\"font\":{\"size\":14}},\"legend\":{\"itemclick\":false,\"itemdoubleclick\":false,\"traceorder\":\"normal\",\"yanchor\":\"top\",\"y\":-0.25,\"xanchor\":\"left\",\"x\":0,\"orientation\":\"h\"},\"paper_bgcolor\":\"rgba(255,255,255,1)\",\"plot_bgcolor\":\"rgba(255,255,255,1)\",\"title\":{\"text\":\"Chi-square statistic for clarity\"},\"xaxis\":{\"linecolor\":\"#666666\",\"mirror\":true,\"showgrid\":false,\"title\":{\"text\":\"Time\"},\"zeroline\":false},\"yaxis\":{\"linecolor\":\"#666666\",\"mirror\":true,\"showgrid\":false,\"title\":{\"text\":\"Chi-square statistic\"},\"zeroline\":false},\"template\":{\"data\":{\"histogram2dcontour\":[{\"type\":\"histogram2dcontour\",\"colorbar\":{\"outlinewidth\":0,\"ticks\":\"\"},\"colorscale\":[[0.0,\"#0d0887\"],[0.1111111111111111,\"#46039f\"],[0.2222222222222222,\"#7201a8\"],[0.3333333333333333,\"#9c179e\"],[0.4444444444444444,\"#bd3786\"],[0.5555555555555556,\"#d8576b\"],[0.6666666666666666,\"#ed7953\"],[0.7777777777777778,\"#fb9f3a\"],[0.8888888888888888,\"#fdca26\"],[1.0,\"#f0f921\"]]}],\"choropleth\":[{\"type\":\"choropleth\",\"colorbar\":{\"outlinewidth\":0,\"ticks\":\"\"}}],\"histogram2d\":[{\"type\":\"histogram2d\",\"colorbar\":{\"outlinewidth\":0,\"ticks\":\"\"},\"colorscale\":[[0.0,\"#0d0887\"],[0.1111111111111111,\"#46039f\"],[0.2222222222222222,\"#7201a8\"],[0.3333333333333333,\"#9c179e\"],[0.4444444444444444,\"#bd3786\"],[0.5555555555555556,\"#d8576b\"],[0.6666666666666666,\"#ed7953\"],[0.7777777777777778,\"#fb9f3a\"],[0.8888888888888888,\"#fdca26\"],[1.0,\"#f0f921\"]]}],\"heatmap\":[{\"type\":\"heatmap\",\"colorbar\":{\"outlinewidth\":0,\"ticks\":\"\"},\"colorscale\":[[0.0,\"#0d0887\"],[0.1111111111111111,\"#46039f\"],[0.2222222222222222,\"#7201a8\"],[0.3333333333333333,\"#9c179e\"],[0.4444444444444444,\"#bd3786\"],[0.5555555555555556,\"#d8576b\"],[0.6666666666666666,\"#ed7953\"],[0.7777777777777778,\"#fb9f3a\"],[0.8888888888888888,\"#fdca26\"],[1.0,\"#f0f921\"]]}],\"heatmapgl\":[{\"type\":\"heatmapgl\",\"colorbar\":{\"outlinewidth\":0,\"ticks\":\"\"},\"colorscale\":[[0.0,\"#0d0887\"],[0.1111111111111111,\"#46039f\"],[0.2222222222222222,\"#7201a8\"],[0.3333333333333333,\"#9c179e\"],[0.4444444444444444,\"#bd3786\"],[0.5555555555555556,\"#d8576b\"],[0.6666666666666666,\"#ed7953\"],[0.7777777777777778,\"#fb9f3a\"],[0.8888888888888888,\"#fdca26\"],[1.0,\"#f0f921\"]]}],\"contourcarpet\":[{\"type\":\"contourcarpet\",\"colorbar\":{\"outlinewidth\":0,\"ticks\":\"\"}}],\"contour\":[{\"type\":\"contour\",\"colorbar\":{\"outlinewidth\":0,\"ticks\":\"\"},\"colorscale\":[[0.0,\"#0d0887\"],[0.1111111111111111,\"#46039f\"],[0.2222222222222222,\"#7201a8\"],[0.3333333333333333,\"#9c179e\"],[0.4444444444444444,\"#bd3786\"],[0.5555555555555556,\"#d8576b\"],[0.6666666666666666,\"#ed7953\"],[0.7777777777777778,\"#fb9f3a\"],[0.8888888888888888,\"#fdca26\"],[1.0,\"#f0f921\"]]}],\"surface\":[{\"type\":\"surface\",\"colorbar\":{\"outlinewidth\":0,\"ticks\":\"\"},\"colorscale\":[[0.0,\"#0d0887\"],[0.1111111111111111,\"#46039f\"],[0.2222222222222222,\"#7201a8\"],[0.3333333333333333,\"#9c179e\"],[0.4444444444444444,\"#bd3786\"],[0.5555555555555556,\"#d8576b\"],[0.6666666666666666,\"#ed7953\"],[0.7777777777777778,\"#fb9f3a\"],[0.8888888888888888,\"#fdca26\"],[1.0,\"#f0f921\"]]}],\"mesh3d\":[{\"type\":\"mesh3d\",\"colorbar\":{\"outlinewidth\":0,\"ticks\":\"\"}}],\"scatter\":[{\"fillpattern\":{\"fillmode\":\"overlay\",\"size\":10,\"solidity\":0.2},\"type\":\"scatter\"}],\"parcoords\":[{\"type\":\"parcoords\",\"line\":{\"colorbar\":{\"outlinewidth\":0,\"ticks\":\"\"}}}],\"scatterpolargl\":[{\"type\":\"scatterpolargl\",\"marker\":{\"colorbar\":{\"outlinewidth\":0,\"ticks\":\"\"}}}],\"bar\":[{\"error_x\":{\"color\":\"#2a3f5f\"},\"error_y\":{\"color\":\"#2a3f5f\"},\"marker\":{\"line\":{\"color\":\"#E5ECF6\",\"width\":0.5},\"pattern\":{\"fillmode\":\"overlay\",\"size\":10,\"solidity\":0.2}},\"type\":\"bar\"}],\"scattergeo\":[{\"type\":\"scattergeo\",\"marker\":{\"colorbar\":{\"outlinewidth\":0,\"ticks\":\"\"}}}],\"scatterpolar\":[{\"type\":\"scatterpolar\",\"marker\":{\"colorbar\":{\"outlinewidth\":0,\"ticks\":\"\"}}}],\"histogram\":[{\"marker\":{\"pattern\":{\"fillmode\":\"overlay\",\"size\":10,\"solidity\":0.2}},\"type\":\"histogram\"}],\"scattergl\":[{\"type\":\"scattergl\",\"marker\":{\"colorbar\":{\"outlinewidth\":0,\"ticks\":\"\"}}}],\"scatter3d\":[{\"type\":\"scatter3d\",\"line\":{\"colorbar\":{\"outlinewidth\":0,\"ticks\":\"\"}},\"marker\":{\"colorbar\":{\"outlinewidth\":0,\"ticks\":\"\"}}}],\"scattermapbox\":[{\"type\":\"scattermapbox\",\"marker\":{\"colorbar\":{\"outlinewidth\":0,\"ticks\":\"\"}}}],\"scatterternary\":[{\"type\":\"scatterternary\",\"marker\":{\"colorbar\":{\"outlinewidth\":0,\"ticks\":\"\"}}}],\"scattercarpet\":[{\"type\":\"scattercarpet\",\"marker\":{\"colorbar\":{\"outlinewidth\":0,\"ticks\":\"\"}}}],\"carpet\":[{\"aaxis\":{\"endlinecolor\":\"#2a3f5f\",\"gridcolor\":\"white\",\"linecolor\":\"white\",\"minorgridcolor\":\"white\",\"startlinecolor\":\"#2a3f5f\"},\"baxis\":{\"endlinecolor\":\"#2a3f5f\",\"gridcolor\":\"white\",\"linecolor\":\"white\",\"minorgridcolor\":\"white\",\"startlinecolor\":\"#2a3f5f\"},\"type\":\"carpet\"}],\"table\":[{\"cells\":{\"fill\":{\"color\":\"#EBF0F8\"},\"line\":{\"color\":\"white\"}},\"header\":{\"fill\":{\"color\":\"#C8D4E3\"},\"line\":{\"color\":\"white\"}},\"type\":\"table\"}],\"barpolar\":[{\"marker\":{\"line\":{\"color\":\"#E5ECF6\",\"width\":0.5},\"pattern\":{\"fillmode\":\"overlay\",\"size\":10,\"solidity\":0.2}},\"type\":\"barpolar\"}],\"pie\":[{\"automargin\":true,\"type\":\"pie\"}]},\"layout\":{\"autotypenumbers\":\"strict\",\"colorway\":[\"#636efa\",\"#EF553B\",\"#00cc96\",\"#ab63fa\",\"#FFA15A\",\"#19d3f3\",\"#FF6692\",\"#B6E880\",\"#FF97FF\",\"#FECB52\"],\"font\":{\"color\":\"#2a3f5f\"},\"hovermode\":\"closest\",\"hoverlabel\":{\"align\":\"left\"},\"paper_bgcolor\":\"white\",\"plot_bgcolor\":\"#E5ECF6\",\"polar\":{\"bgcolor\":\"#E5ECF6\",\"angularaxis\":{\"gridcolor\":\"white\",\"linecolor\":\"white\",\"ticks\":\"\"},\"radialaxis\":{\"gridcolor\":\"white\",\"linecolor\":\"white\",\"ticks\":\"\"}},\"ternary\":{\"bgcolor\":\"#E5ECF6\",\"aaxis\":{\"gridcolor\":\"white\",\"linecolor\":\"white\",\"ticks\":\"\"},\"baxis\":{\"gridcolor\":\"white\",\"linecolor\":\"white\",\"ticks\":\"\"},\"caxis\":{\"gridcolor\":\"white\",\"linecolor\":\"white\",\"ticks\":\"\"}},\"coloraxis\":{\"colorbar\":{\"outlinewidth\":0,\"ticks\":\"\"}},\"colorscale\":{\"sequential\":[[0.0,\"#0d0887\"],[0.1111111111111111,\"#46039f\"],[0.2222222222222222,\"#7201a8\"],[0.3333333333333333,\"#9c179e\"],[0.4444444444444444,\"#bd3786\"],[0.5555555555555556,\"#d8576b\"],[0.6666666666666666,\"#ed7953\"],[0.7777777777777778,\"#fb9f3a\"],[0.8888888888888888,\"#fdca26\"],[1.0,\"#f0f921\"]],\"sequentialminus\":[[0.0,\"#0d0887\"],[0.1111111111111111,\"#46039f\"],[0.2222222222222222,\"#7201a8\"],[0.3333333333333333,\"#9c179e\"],[0.4444444444444444,\"#bd3786\"],[0.5555555555555556,\"#d8576b\"],[0.6666666666666666,\"#ed7953\"],[0.7777777777777778,\"#fb9f3a\"],[0.8888888888888888,\"#fdca26\"],[1.0,\"#f0f921\"]],\"diverging\":[[0,\"#8e0152\"],[0.1,\"#c51b7d\"],[0.2,\"#de77ae\"],[0.3,\"#f1b6da\"],[0.4,\"#fde0ef\"],[0.5,\"#f7f7f7\"],[0.6,\"#e6f5d0\"],[0.7,\"#b8e186\"],[0.8,\"#7fbc41\"],[0.9,\"#4d9221\"],[1,\"#276419\"]]},\"xaxis\":{\"gridcolor\":\"white\",\"linecolor\":\"white\",\"ticks\":\"\",\"title\":{\"standoff\":15},\"zerolinecolor\":\"white\",\"automargin\":true,\"zerolinewidth\":2},\"yaxis\":{\"gridcolor\":\"white\",\"linecolor\":\"white\",\"ticks\":\"\",\"title\":{\"standoff\":15},\"zerolinecolor\":\"white\",\"automargin\":true,\"zerolinewidth\":2},\"scene\":{\"xaxis\":{\"backgroundcolor\":\"#E5ECF6\",\"gridcolor\":\"white\",\"linecolor\":\"white\",\"showbackground\":true,\"ticks\":\"\",\"zerolinecolor\":\"white\",\"gridwidth\":2},\"yaxis\":{\"backgroundcolor\":\"#E5ECF6\",\"gridcolor\":\"white\",\"linecolor\":\"white\",\"showbackground\":true,\"ticks\":\"\",\"zerolinecolor\":\"white\",\"gridwidth\":2},\"zaxis\":{\"backgroundcolor\":\"#E5ECF6\",\"gridcolor\":\"white\",\"linecolor\":\"white\",\"showbackground\":true,\"ticks\":\"\",\"zerolinecolor\":\"white\",\"gridwidth\":2}},\"shapedefaults\":{\"line\":{\"color\":\"#2a3f5f\"}},\"annotationdefaults\":{\"arrowcolor\":\"#2a3f5f\",\"arrowhead\":0,\"arrowwidth\":1},\"geo\":{\"bgcolor\":\"white\",\"landcolor\":\"#E5ECF6\",\"subunitcolor\":\"white\",\"showland\":true,\"showlakes\":true,\"lakecolor\":\"white\"},\"title\":{\"x\":0.05},\"mapbox\":{\"style\":\"light\"}}},\"shapes\":[{\"layer\":\"below\",\"line\":{\"color\":\"#3b0280\",\"dash\":\"dash\",\"width\":1},\"type\":\"line\",\"x0\":\"2060-02-21T00:00:00\",\"x1\":\"2060-02-21T00:00:00\",\"xref\":\"x\",\"y0\":0,\"y1\":1,\"yref\":\"y domain\"},{\"fillcolor\":\"#DD4040\",\"layer\":\"below\",\"line\":{\"width\":0},\"opacity\":0.2,\"type\":\"rect\",\"x0\":\"2073-10-29T00:00:00\",\"x1\":\"2087-07-07T00:00:00\",\"xref\":\"x\",\"y0\":0,\"y1\":1,\"yref\":\"y domain\"},{\"fillcolor\":\"#DD4040\",\"layer\":\"below\",\"line\":{\"width\":0},\"opacity\":0.2,\"type\":\"rect\",\"x0\":\"2087-07-08T00:00:00\",\"x1\":\"2101-03-16T00:00:00\",\"xref\":\"x\",\"y0\":0,\"y1\":1,\"yref\":\"y domain\"},{\"fillcolor\":\"#DD4040\",\"layer\":\"below\",\"line\":{\"width\":0},\"opacity\":0.2,\"type\":\"rect\",\"x0\":\"2101-03-17T00:00:00\",\"x1\":\"2107-09-06T00:00:00\",\"xref\":\"x\",\"y0\":0,\"y1\":1,\"yref\":\"y domain\"}]},                        {\"responsive\": true}                    ).then(function(){\n",
       "                            \n",
       "var gd = document.getElementById('dcf7c239-d27d-48db-aec0-7f76959d516c');\n",
       "var x = new MutationObserver(function (mutations, observer) {{\n",
       "        var display = window.getComputedStyle(gd).display;\n",
       "        if (!display || display === 'none') {{\n",
       "            console.log([gd, 'removed!']);\n",
       "            Plotly.purge(gd);\n",
       "            observer.disconnect();\n",
       "        }}\n",
       "}});\n",
       "\n",
       "// Listen for the removal of the full notebook cells\n",
       "var notebookContainer = gd.closest('#notebook-container');\n",
       "if (notebookContainer) {{\n",
       "    x.observe(notebookContainer, {childList: true});\n",
       "}}\n",
       "\n",
       "// Listen for the clearing of the current output cell\n",
       "var outputEl = gd.closest('.output');\n",
       "if (outputEl) {{\n",
       "    x.observe(outputEl, {childList: true});\n",
       "}}\n",
       "\n",
       "                        })                };                });            </script>        </div>"
      ]
     },
     "metadata": {},
     "output_type": "display_data"
    },
    {
     "data": {
      "application/vnd.plotly.v1+json": {
       "config": {
        "plotlyServerURL": "https://plot.ly"
       },
       "data": [
        {
         "hoverinfo": "skip",
         "line": {
          "color": "rgba(0.23137254901960785, 0.00784313725490196, 0.5019607843137255, 0.2)",
          "width": 9
         },
         "mode": "lines",
         "showlegend": false,
         "type": "scatter",
         "x": [
          "2073-10-29T00:00:00",
          "2087-07-07T00:00:00"
         ],
         "y": [
          0.022472555162989183,
          0.022472555162989183
         ]
        },
        {
         "hoverinfo": "skip",
         "line": {
          "color": "rgba(0.23137254901960785, 0.00784313725490196, 0.5019607843137255, 0.2)",
          "width": 9
         },
         "mode": "lines",
         "showlegend": false,
         "type": "scatter",
         "x": [
          "2087-07-08T00:00:00",
          "2101-03-16T00:00:00"
         ],
         "y": [
          0.03486918205452971,
          0.03486918205452971
         ]
        },
        {
         "hoverinfo": "skip",
         "line": {
          "color": "rgba(0.23137254901960785, 0.00784313725490196, 0.5019607843137255, 0.2)",
          "width": 9
         },
         "mode": "lines",
         "showlegend": false,
         "type": "scatter",
         "x": [
          "2101-03-17T00:00:00",
          "2107-09-06T00:00:00"
         ],
         "y": [
          0.044644296440843445,
          0.044644296440843445
         ]
        },
        {
         "hoverinfo": "skip",
         "legendgroup": "1",
         "line": {
          "color": "#00c8e5",
          "shape": "hv",
          "width": 2
         },
         "mode": "lines",
         "name": "Reference period",
         "type": "scatter",
         "x": [
          "2019-01-27T00:00:00",
          "2032-10-05T00:00:00",
          "2046-06-14T00:00:00",
          "2060-02-20T00:00:00"
         ],
         "y": [
          0.03994561695886942,
          0.017046863542430457,
          0.03305036997533495,
          0.03305036997533495
         ]
        },
        {
         "hoverinfo": "skip",
         "legendgroup": "1",
         "line": {
          "color": "#3b0280",
          "shape": "hv",
          "width": 2
         },
         "mode": "lines",
         "name": "Analysis period",
         "type": "scatter",
         "x": [
          "2060-02-21T00:00:00",
          "2073-10-29T00:00:00",
          "2087-07-08T00:00:00",
          "2101-03-17T00:00:00",
          "2107-09-06T00:00:00"
         ],
         "y": [
          0.041437010865942314,
          0.022472555162989183,
          0.03486918205452971,
          0.044644296440843445,
          0.044644296440843445
         ]
        },
        {
         "customdata": [
          [
           "[0:4999]",
           "Jan-27-2019",
           "Oct-04-2032",
           "0.0399",
           "<b style=\"color:#00c8e5;line-height:60px\">Reference</b>",
           "",
           ""
          ],
          [
           "[5000:9999]",
           "Oct-05-2032",
           "Jun-13-2046",
           "0.0170",
           "<b style=\"color:#00c8e5;line-height:60px\">Reference</b>",
           "",
           ""
          ],
          [
           "[10000:14999]",
           "Jun-14-2046",
           "Feb-20-2060",
           "0.0331",
           "<b style=\"color:#00c8e5;line-height:60px\">Reference</b>",
           "",
           ""
          ]
         ],
         "hovertemplate": "%{customdata[4]} &nbsp; &nbsp; <span style=\"color:#AD0000\">%{customdata[5]}</span><br>Chunk: <b>%{customdata[0]}</b> &nbsp; &nbsp; From <b>%{customdata[1]}</b> to <b>%{customdata[2]}</b> &nbsp; &nbsp; <br>KS statistic: <b>%{customdata[3]}</b>  &nbsp; &nbsp; %{customdata[6]} <extra></extra>",
         "marker": {
          "color": "#00c8e5",
          "size": 6,
          "symbol": "square"
         },
         "mode": "markers",
         "name": "Reference",
         "showlegend": false,
         "type": "scatter",
         "x": [
          "2025-11-30T12:00:00",
          "2039-08-09T12:00:00",
          "2053-04-17T12:00:00"
         ],
         "y": [
          0.03994561695886942,
          0.017046863542430457,
          0.03305036997533495
         ]
        },
        {
         "customdata": [
          [
           "[15000:19999]",
           "Feb-21-2060",
           "Oct-28-2073",
           "0.0414",
           "<b style=\"color:#3b0280;line-height:60px\">Analysis</b>",
           "",
           ""
          ]
         ],
         "hovertemplate": "%{customdata[4]} &nbsp; &nbsp; <span style=\"color:#AD0000\">%{customdata[5]}</span><br>Chunk: <b>%{customdata[0]}</b> &nbsp; &nbsp; From <b>%{customdata[1]}</b> to <b>%{customdata[2]}</b> &nbsp; &nbsp; <br>KS statistic: <b>%{customdata[3]}</b>  &nbsp; &nbsp; %{customdata[6]} <extra></extra>",
         "marker": {
          "color": "#3b0280",
          "size": 6,
          "symbol": "square"
         },
         "mode": "markers",
         "name": "No data drift",
         "showlegend": false,
         "type": "scatter",
         "x": [
          "2066-12-25T00:00:00"
         ],
         "y": [
          0.041437010865942314
         ]
        },
        {
         "customdata": [
          [
           "[20000:24999]",
           "Oct-29-2073",
           "Jul-07-2087",
           "0.0225",
           "<b style=\"color:#3b0280;line-height:60px\">Analysis</b>",
           "⚠ <b>Drift detected</b>",
           ""
          ],
          [
           "[25000:29999]",
           "Jul-08-2087",
           "Mar-16-2101",
           "0.0349",
           "<b style=\"color:#3b0280;line-height:60px\">Analysis</b>",
           "⚠ <b>Drift detected</b>",
           ""
          ],
          [
           "[30000:32364]",
           "Mar-17-2101",
           "Sep-06-2107",
           "0.0446",
           "<b style=\"color:#3b0280;line-height:60px\">Analysis</b>",
           "⚠ <b>Drift detected</b>",
           ""
          ]
         ],
         "hovertemplate": "%{customdata[4]} &nbsp; &nbsp; <span style=\"color:#AD0000\">%{customdata[5]}</span><br>Chunk: <b>%{customdata[0]}</b> &nbsp; &nbsp; From <b>%{customdata[1]}</b> to <b>%{customdata[2]}</b> &nbsp; &nbsp; <br>KS statistic: <b>%{customdata[3]}</b>  &nbsp; &nbsp; %{customdata[6]} <extra></extra>",
         "marker": {
          "color": "#DD4040",
          "size": 6,
          "symbol": "diamond"
         },
         "mode": "markers",
         "name": "Data drift",
         "showlegend": false,
         "type": "scatter",
         "x": [
          "2080-09-01T12:00:00",
          "2094-05-11T12:00:00",
          "2104-06-11T00:00:00"
         ],
         "y": [
          0.022472555162989183,
          0.03486918205452971,
          0.044644296440843445
         ]
        },
        {
         "legendgroup": "1",
         "line": {
          "color": "rgba(0.23137254901960785, 0.00784313725490196, 0.5019607843137255, 0.2)",
          "width": 9
         },
         "mode": "lines",
         "name": "P-value is signficant",
         "type": "scatter",
         "x": [
          [
           1764504000000000000
          ],
          [
           4242585600000000000
          ]
         ],
         "y": [
          null,
          null
         ]
        },
        {
         "line": {
          "color": "rgba(0,0,0,0)"
         },
         "mode": "lines",
         "showlegend": false,
         "type": "scatter",
         "x": [
          [
           1764504000000000000
          ],
          [
           4242585600000000000
          ]
         ],
         "y": [
          null,
          null
         ]
        },
        {
         "fill": "tonexty",
         "fillcolor": "rgba(0.8666666666666667, 0.25098039215686274, 0.25098039215686274, 0.2)",
         "legendgroup": "1",
         "line": {
          "color": "rgba(0,0,0,0)"
         },
         "marker": {
          "color": "#DD4040",
          "size": 6,
          "symbol": "diamond"
         },
         "mode": "lines+markers",
         "name": "Data drift",
         "type": "scatter",
         "x": [
          [
           1764504000000000000
          ],
          [
           4242585600000000000
          ]
         ],
         "y": [
          null,
          null
         ]
        }
       ],
       "layout": {
        "hoverlabel": {
         "bgcolor": "white",
         "font": {
          "size": 14
         }
        },
        "legend": {
         "itemclick": false,
         "itemdoubleclick": false,
         "orientation": "h",
         "traceorder": "normal",
         "x": 0,
         "xanchor": "left",
         "y": -0.25,
         "yanchor": "top"
        },
        "paper_bgcolor": "rgba(255,255,255,1)",
        "plot_bgcolor": "rgba(255,255,255,1)",
        "shapes": [
         {
          "layer": "below",
          "line": {
           "color": "#3b0280",
           "dash": "dash",
           "width": 1
          },
          "type": "line",
          "x0": "2060-02-21T00:00:00",
          "x1": "2060-02-21T00:00:00",
          "xref": "x",
          "y0": 0,
          "y1": 1,
          "yref": "y domain"
         },
         {
          "fillcolor": "#DD4040",
          "layer": "below",
          "line": {
           "width": 0
          },
          "opacity": 0.2,
          "type": "rect",
          "x0": "2073-10-29T00:00:00",
          "x1": "2087-07-07T00:00:00",
          "xref": "x",
          "y0": 0,
          "y1": 1,
          "yref": "y domain"
         },
         {
          "fillcolor": "#DD4040",
          "layer": "below",
          "line": {
           "width": 0
          },
          "opacity": 0.2,
          "type": "rect",
          "x0": "2087-07-08T00:00:00",
          "x1": "2101-03-16T00:00:00",
          "xref": "x",
          "y0": 0,
          "y1": 1,
          "yref": "y domain"
         },
         {
          "fillcolor": "#DD4040",
          "layer": "below",
          "line": {
           "width": 0
          },
          "opacity": 0.2,
          "type": "rect",
          "x0": "2101-03-17T00:00:00",
          "x1": "2107-09-06T00:00:00",
          "xref": "x",
          "y0": 0,
          "y1": 1,
          "yref": "y domain"
         }
        ],
        "template": {
         "data": {
          "bar": [
           {
            "error_x": {
             "color": "#2a3f5f"
            },
            "error_y": {
             "color": "#2a3f5f"
            },
            "marker": {
             "line": {
              "color": "#E5ECF6",
              "width": 0.5
             },
             "pattern": {
              "fillmode": "overlay",
              "size": 10,
              "solidity": 0.2
             }
            },
            "type": "bar"
           }
          ],
          "barpolar": [
           {
            "marker": {
             "line": {
              "color": "#E5ECF6",
              "width": 0.5
             },
             "pattern": {
              "fillmode": "overlay",
              "size": 10,
              "solidity": 0.2
             }
            },
            "type": "barpolar"
           }
          ],
          "carpet": [
           {
            "aaxis": {
             "endlinecolor": "#2a3f5f",
             "gridcolor": "white",
             "linecolor": "white",
             "minorgridcolor": "white",
             "startlinecolor": "#2a3f5f"
            },
            "baxis": {
             "endlinecolor": "#2a3f5f",
             "gridcolor": "white",
             "linecolor": "white",
             "minorgridcolor": "white",
             "startlinecolor": "#2a3f5f"
            },
            "type": "carpet"
           }
          ],
          "choropleth": [
           {
            "colorbar": {
             "outlinewidth": 0,
             "ticks": ""
            },
            "type": "choropleth"
           }
          ],
          "contour": [
           {
            "colorbar": {
             "outlinewidth": 0,
             "ticks": ""
            },
            "colorscale": [
             [
              0,
              "#0d0887"
             ],
             [
              0.1111111111111111,
              "#46039f"
             ],
             [
              0.2222222222222222,
              "#7201a8"
             ],
             [
              0.3333333333333333,
              "#9c179e"
             ],
             [
              0.4444444444444444,
              "#bd3786"
             ],
             [
              0.5555555555555556,
              "#d8576b"
             ],
             [
              0.6666666666666666,
              "#ed7953"
             ],
             [
              0.7777777777777778,
              "#fb9f3a"
             ],
             [
              0.8888888888888888,
              "#fdca26"
             ],
             [
              1,
              "#f0f921"
             ]
            ],
            "type": "contour"
           }
          ],
          "contourcarpet": [
           {
            "colorbar": {
             "outlinewidth": 0,
             "ticks": ""
            },
            "type": "contourcarpet"
           }
          ],
          "heatmap": [
           {
            "colorbar": {
             "outlinewidth": 0,
             "ticks": ""
            },
            "colorscale": [
             [
              0,
              "#0d0887"
             ],
             [
              0.1111111111111111,
              "#46039f"
             ],
             [
              0.2222222222222222,
              "#7201a8"
             ],
             [
              0.3333333333333333,
              "#9c179e"
             ],
             [
              0.4444444444444444,
              "#bd3786"
             ],
             [
              0.5555555555555556,
              "#d8576b"
             ],
             [
              0.6666666666666666,
              "#ed7953"
             ],
             [
              0.7777777777777778,
              "#fb9f3a"
             ],
             [
              0.8888888888888888,
              "#fdca26"
             ],
             [
              1,
              "#f0f921"
             ]
            ],
            "type": "heatmap"
           }
          ],
          "heatmapgl": [
           {
            "colorbar": {
             "outlinewidth": 0,
             "ticks": ""
            },
            "colorscale": [
             [
              0,
              "#0d0887"
             ],
             [
              0.1111111111111111,
              "#46039f"
             ],
             [
              0.2222222222222222,
              "#7201a8"
             ],
             [
              0.3333333333333333,
              "#9c179e"
             ],
             [
              0.4444444444444444,
              "#bd3786"
             ],
             [
              0.5555555555555556,
              "#d8576b"
             ],
             [
              0.6666666666666666,
              "#ed7953"
             ],
             [
              0.7777777777777778,
              "#fb9f3a"
             ],
             [
              0.8888888888888888,
              "#fdca26"
             ],
             [
              1,
              "#f0f921"
             ]
            ],
            "type": "heatmapgl"
           }
          ],
          "histogram": [
           {
            "marker": {
             "pattern": {
              "fillmode": "overlay",
              "size": 10,
              "solidity": 0.2
             }
            },
            "type": "histogram"
           }
          ],
          "histogram2d": [
           {
            "colorbar": {
             "outlinewidth": 0,
             "ticks": ""
            },
            "colorscale": [
             [
              0,
              "#0d0887"
             ],
             [
              0.1111111111111111,
              "#46039f"
             ],
             [
              0.2222222222222222,
              "#7201a8"
             ],
             [
              0.3333333333333333,
              "#9c179e"
             ],
             [
              0.4444444444444444,
              "#bd3786"
             ],
             [
              0.5555555555555556,
              "#d8576b"
             ],
             [
              0.6666666666666666,
              "#ed7953"
             ],
             [
              0.7777777777777778,
              "#fb9f3a"
             ],
             [
              0.8888888888888888,
              "#fdca26"
             ],
             [
              1,
              "#f0f921"
             ]
            ],
            "type": "histogram2d"
           }
          ],
          "histogram2dcontour": [
           {
            "colorbar": {
             "outlinewidth": 0,
             "ticks": ""
            },
            "colorscale": [
             [
              0,
              "#0d0887"
             ],
             [
              0.1111111111111111,
              "#46039f"
             ],
             [
              0.2222222222222222,
              "#7201a8"
             ],
             [
              0.3333333333333333,
              "#9c179e"
             ],
             [
              0.4444444444444444,
              "#bd3786"
             ],
             [
              0.5555555555555556,
              "#d8576b"
             ],
             [
              0.6666666666666666,
              "#ed7953"
             ],
             [
              0.7777777777777778,
              "#fb9f3a"
             ],
             [
              0.8888888888888888,
              "#fdca26"
             ],
             [
              1,
              "#f0f921"
             ]
            ],
            "type": "histogram2dcontour"
           }
          ],
          "mesh3d": [
           {
            "colorbar": {
             "outlinewidth": 0,
             "ticks": ""
            },
            "type": "mesh3d"
           }
          ],
          "parcoords": [
           {
            "line": {
             "colorbar": {
              "outlinewidth": 0,
              "ticks": ""
             }
            },
            "type": "parcoords"
           }
          ],
          "pie": [
           {
            "automargin": true,
            "type": "pie"
           }
          ],
          "scatter": [
           {
            "fillpattern": {
             "fillmode": "overlay",
             "size": 10,
             "solidity": 0.2
            },
            "type": "scatter"
           }
          ],
          "scatter3d": [
           {
            "line": {
             "colorbar": {
              "outlinewidth": 0,
              "ticks": ""
             }
            },
            "marker": {
             "colorbar": {
              "outlinewidth": 0,
              "ticks": ""
             }
            },
            "type": "scatter3d"
           }
          ],
          "scattercarpet": [
           {
            "marker": {
             "colorbar": {
              "outlinewidth": 0,
              "ticks": ""
             }
            },
            "type": "scattercarpet"
           }
          ],
          "scattergeo": [
           {
            "marker": {
             "colorbar": {
              "outlinewidth": 0,
              "ticks": ""
             }
            },
            "type": "scattergeo"
           }
          ],
          "scattergl": [
           {
            "marker": {
             "colorbar": {
              "outlinewidth": 0,
              "ticks": ""
             }
            },
            "type": "scattergl"
           }
          ],
          "scattermapbox": [
           {
            "marker": {
             "colorbar": {
              "outlinewidth": 0,
              "ticks": ""
             }
            },
            "type": "scattermapbox"
           }
          ],
          "scatterpolar": [
           {
            "marker": {
             "colorbar": {
              "outlinewidth": 0,
              "ticks": ""
             }
            },
            "type": "scatterpolar"
           }
          ],
          "scatterpolargl": [
           {
            "marker": {
             "colorbar": {
              "outlinewidth": 0,
              "ticks": ""
             }
            },
            "type": "scatterpolargl"
           }
          ],
          "scatterternary": [
           {
            "marker": {
             "colorbar": {
              "outlinewidth": 0,
              "ticks": ""
             }
            },
            "type": "scatterternary"
           }
          ],
          "surface": [
           {
            "colorbar": {
             "outlinewidth": 0,
             "ticks": ""
            },
            "colorscale": [
             [
              0,
              "#0d0887"
             ],
             [
              0.1111111111111111,
              "#46039f"
             ],
             [
              0.2222222222222222,
              "#7201a8"
             ],
             [
              0.3333333333333333,
              "#9c179e"
             ],
             [
              0.4444444444444444,
              "#bd3786"
             ],
             [
              0.5555555555555556,
              "#d8576b"
             ],
             [
              0.6666666666666666,
              "#ed7953"
             ],
             [
              0.7777777777777778,
              "#fb9f3a"
             ],
             [
              0.8888888888888888,
              "#fdca26"
             ],
             [
              1,
              "#f0f921"
             ]
            ],
            "type": "surface"
           }
          ],
          "table": [
           {
            "cells": {
             "fill": {
              "color": "#EBF0F8"
             },
             "line": {
              "color": "white"
             }
            },
            "header": {
             "fill": {
              "color": "#C8D4E3"
             },
             "line": {
              "color": "white"
             }
            },
            "type": "table"
           }
          ]
         },
         "layout": {
          "annotationdefaults": {
           "arrowcolor": "#2a3f5f",
           "arrowhead": 0,
           "arrowwidth": 1
          },
          "autotypenumbers": "strict",
          "coloraxis": {
           "colorbar": {
            "outlinewidth": 0,
            "ticks": ""
           }
          },
          "colorscale": {
           "diverging": [
            [
             0,
             "#8e0152"
            ],
            [
             0.1,
             "#c51b7d"
            ],
            [
             0.2,
             "#de77ae"
            ],
            [
             0.3,
             "#f1b6da"
            ],
            [
             0.4,
             "#fde0ef"
            ],
            [
             0.5,
             "#f7f7f7"
            ],
            [
             0.6,
             "#e6f5d0"
            ],
            [
             0.7,
             "#b8e186"
            ],
            [
             0.8,
             "#7fbc41"
            ],
            [
             0.9,
             "#4d9221"
            ],
            [
             1,
             "#276419"
            ]
           ],
           "sequential": [
            [
             0,
             "#0d0887"
            ],
            [
             0.1111111111111111,
             "#46039f"
            ],
            [
             0.2222222222222222,
             "#7201a8"
            ],
            [
             0.3333333333333333,
             "#9c179e"
            ],
            [
             0.4444444444444444,
             "#bd3786"
            ],
            [
             0.5555555555555556,
             "#d8576b"
            ],
            [
             0.6666666666666666,
             "#ed7953"
            ],
            [
             0.7777777777777778,
             "#fb9f3a"
            ],
            [
             0.8888888888888888,
             "#fdca26"
            ],
            [
             1,
             "#f0f921"
            ]
           ],
           "sequentialminus": [
            [
             0,
             "#0d0887"
            ],
            [
             0.1111111111111111,
             "#46039f"
            ],
            [
             0.2222222222222222,
             "#7201a8"
            ],
            [
             0.3333333333333333,
             "#9c179e"
            ],
            [
             0.4444444444444444,
             "#bd3786"
            ],
            [
             0.5555555555555556,
             "#d8576b"
            ],
            [
             0.6666666666666666,
             "#ed7953"
            ],
            [
             0.7777777777777778,
             "#fb9f3a"
            ],
            [
             0.8888888888888888,
             "#fdca26"
            ],
            [
             1,
             "#f0f921"
            ]
           ]
          },
          "colorway": [
           "#636efa",
           "#EF553B",
           "#00cc96",
           "#ab63fa",
           "#FFA15A",
           "#19d3f3",
           "#FF6692",
           "#B6E880",
           "#FF97FF",
           "#FECB52"
          ],
          "font": {
           "color": "#2a3f5f"
          },
          "geo": {
           "bgcolor": "white",
           "lakecolor": "white",
           "landcolor": "#E5ECF6",
           "showlakes": true,
           "showland": true,
           "subunitcolor": "white"
          },
          "hoverlabel": {
           "align": "left"
          },
          "hovermode": "closest",
          "mapbox": {
           "style": "light"
          },
          "paper_bgcolor": "white",
          "plot_bgcolor": "#E5ECF6",
          "polar": {
           "angularaxis": {
            "gridcolor": "white",
            "linecolor": "white",
            "ticks": ""
           },
           "bgcolor": "#E5ECF6",
           "radialaxis": {
            "gridcolor": "white",
            "linecolor": "white",
            "ticks": ""
           }
          },
          "scene": {
           "xaxis": {
            "backgroundcolor": "#E5ECF6",
            "gridcolor": "white",
            "gridwidth": 2,
            "linecolor": "white",
            "showbackground": true,
            "ticks": "",
            "zerolinecolor": "white"
           },
           "yaxis": {
            "backgroundcolor": "#E5ECF6",
            "gridcolor": "white",
            "gridwidth": 2,
            "linecolor": "white",
            "showbackground": true,
            "ticks": "",
            "zerolinecolor": "white"
           },
           "zaxis": {
            "backgroundcolor": "#E5ECF6",
            "gridcolor": "white",
            "gridwidth": 2,
            "linecolor": "white",
            "showbackground": true,
            "ticks": "",
            "zerolinecolor": "white"
           }
          },
          "shapedefaults": {
           "line": {
            "color": "#2a3f5f"
           }
          },
          "ternary": {
           "aaxis": {
            "gridcolor": "white",
            "linecolor": "white",
            "ticks": ""
           },
           "baxis": {
            "gridcolor": "white",
            "linecolor": "white",
            "ticks": ""
           },
           "bgcolor": "#E5ECF6",
           "caxis": {
            "gridcolor": "white",
            "linecolor": "white",
            "ticks": ""
           }
          },
          "title": {
           "x": 0.05
          },
          "xaxis": {
           "automargin": true,
           "gridcolor": "white",
           "linecolor": "white",
           "ticks": "",
           "title": {
            "standoff": 15
           },
           "zerolinecolor": "white",
           "zerolinewidth": 2
          },
          "yaxis": {
           "automargin": true,
           "gridcolor": "white",
           "linecolor": "white",
           "ticks": "",
           "title": {
            "standoff": 15
           },
           "zerolinecolor": "white",
           "zerolinewidth": 2
          }
         }
        },
        "title": {
         "text": "KS statistic for depth"
        },
        "xaxis": {
         "linecolor": "#666666",
         "mirror": true,
         "showgrid": false,
         "title": {
          "text": "Time"
         },
         "zeroline": false
        },
        "yaxis": {
         "linecolor": "#666666",
         "mirror": true,
         "showgrid": false,
         "title": {
          "text": "KS statistic"
         },
         "zeroline": false
        }
       }
      },
      "text/html": [
       "<div>                            <div id=\"fda02d69-5b4d-4ec4-97a9-d3acf05d6550\" class=\"plotly-graph-div\" style=\"height:525px; width:100%;\"></div>            <script type=\"text/javascript\">                require([\"plotly\"], function(Plotly) {                    window.PLOTLYENV=window.PLOTLYENV || {};                                    if (document.getElementById(\"fda02d69-5b4d-4ec4-97a9-d3acf05d6550\")) {                    Plotly.newPlot(                        \"fda02d69-5b4d-4ec4-97a9-d3acf05d6550\",                        [{\"hoverinfo\":\"skip\",\"line\":{\"color\":\"rgba(0.23137254901960785, 0.00784313725490196, 0.5019607843137255, 0.2)\",\"width\":9},\"mode\":\"lines\",\"showlegend\":false,\"x\":[\"2073-10-29T00:00:00\",\"2087-07-07T00:00:00\"],\"y\":[0.022472555162989183,0.022472555162989183],\"type\":\"scatter\"},{\"hoverinfo\":\"skip\",\"line\":{\"color\":\"rgba(0.23137254901960785, 0.00784313725490196, 0.5019607843137255, 0.2)\",\"width\":9},\"mode\":\"lines\",\"showlegend\":false,\"x\":[\"2087-07-08T00:00:00\",\"2101-03-16T00:00:00\"],\"y\":[0.03486918205452971,0.03486918205452971],\"type\":\"scatter\"},{\"hoverinfo\":\"skip\",\"line\":{\"color\":\"rgba(0.23137254901960785, 0.00784313725490196, 0.5019607843137255, 0.2)\",\"width\":9},\"mode\":\"lines\",\"showlegend\":false,\"x\":[\"2101-03-17T00:00:00\",\"2107-09-06T00:00:00\"],\"y\":[0.044644296440843445,0.044644296440843445],\"type\":\"scatter\"},{\"hoverinfo\":\"skip\",\"legendgroup\":\"1\",\"line\":{\"color\":\"#00c8e5\",\"shape\":\"hv\",\"width\":2},\"mode\":\"lines\",\"name\":\"Reference period\",\"x\":[\"2019-01-27T00:00:00\",\"2032-10-05T00:00:00\",\"2046-06-14T00:00:00\",\"2060-02-20T00:00:00\"],\"y\":[0.03994561695886942,0.017046863542430457,0.03305036997533495,0.03305036997533495],\"type\":\"scatter\"},{\"hoverinfo\":\"skip\",\"legendgroup\":\"1\",\"line\":{\"color\":\"#3b0280\",\"shape\":\"hv\",\"width\":2},\"mode\":\"lines\",\"name\":\"Analysis period\",\"x\":[\"2060-02-21T00:00:00\",\"2073-10-29T00:00:00\",\"2087-07-08T00:00:00\",\"2101-03-17T00:00:00\",\"2107-09-06T00:00:00\"],\"y\":[0.041437010865942314,0.022472555162989183,0.03486918205452971,0.044644296440843445,0.044644296440843445],\"type\":\"scatter\"},{\"customdata\":[[\"[0:4999]\",\"Jan-27-2019\",\"Oct-04-2032\",\"0.0399\",\"<b style=\\\"color:#00c8e5;line-height:60px\\\">Reference</b>\",\"\",\"\"],[\"[5000:9999]\",\"Oct-05-2032\",\"Jun-13-2046\",\"0.0170\",\"<b style=\\\"color:#00c8e5;line-height:60px\\\">Reference</b>\",\"\",\"\"],[\"[10000:14999]\",\"Jun-14-2046\",\"Feb-20-2060\",\"0.0331\",\"<b style=\\\"color:#00c8e5;line-height:60px\\\">Reference</b>\",\"\",\"\"]],\"hovertemplate\":\"%{customdata[4]} &nbsp; &nbsp; <span style=\\\"color:#AD0000\\\">%{customdata[5]}</span><br>Chunk: <b>%{customdata[0]}</b> &nbsp; &nbsp; From <b>%{customdata[1]}</b> to <b>%{customdata[2]}</b> &nbsp; &nbsp; <br>KS statistic: <b>%{customdata[3]}</b>  &nbsp; &nbsp; %{customdata[6]} <extra></extra>\",\"marker\":{\"color\":\"#00c8e5\",\"size\":6,\"symbol\":\"square\"},\"mode\":\"markers\",\"name\":\"Reference\",\"showlegend\":false,\"x\":[\"2025-11-30T12:00:00\",\"2039-08-09T12:00:00\",\"2053-04-17T12:00:00\"],\"y\":[0.03994561695886942,0.017046863542430457,0.03305036997533495],\"type\":\"scatter\"},{\"customdata\":[[\"[15000:19999]\",\"Feb-21-2060\",\"Oct-28-2073\",\"0.0414\",\"<b style=\\\"color:#3b0280;line-height:60px\\\">Analysis</b>\",\"\",\"\"]],\"hovertemplate\":\"%{customdata[4]} &nbsp; &nbsp; <span style=\\\"color:#AD0000\\\">%{customdata[5]}</span><br>Chunk: <b>%{customdata[0]}</b> &nbsp; &nbsp; From <b>%{customdata[1]}</b> to <b>%{customdata[2]}</b> &nbsp; &nbsp; <br>KS statistic: <b>%{customdata[3]}</b>  &nbsp; &nbsp; %{customdata[6]} <extra></extra>\",\"marker\":{\"color\":\"#3b0280\",\"size\":6,\"symbol\":\"square\"},\"mode\":\"markers\",\"name\":\"No data drift\",\"showlegend\":false,\"x\":[\"2066-12-25T00:00:00\"],\"y\":[0.041437010865942314],\"type\":\"scatter\"},{\"customdata\":[[\"[20000:24999]\",\"Oct-29-2073\",\"Jul-07-2087\",\"0.0225\",\"<b style=\\\"color:#3b0280;line-height:60px\\\">Analysis</b>\",\"\\u26a0 <b>Drift detected</b>\",\"\"],[\"[25000:29999]\",\"Jul-08-2087\",\"Mar-16-2101\",\"0.0349\",\"<b style=\\\"color:#3b0280;line-height:60px\\\">Analysis</b>\",\"\\u26a0 <b>Drift detected</b>\",\"\"],[\"[30000:32364]\",\"Mar-17-2101\",\"Sep-06-2107\",\"0.0446\",\"<b style=\\\"color:#3b0280;line-height:60px\\\">Analysis</b>\",\"\\u26a0 <b>Drift detected</b>\",\"\"]],\"hovertemplate\":\"%{customdata[4]} &nbsp; &nbsp; <span style=\\\"color:#AD0000\\\">%{customdata[5]}</span><br>Chunk: <b>%{customdata[0]}</b> &nbsp; &nbsp; From <b>%{customdata[1]}</b> to <b>%{customdata[2]}</b> &nbsp; &nbsp; <br>KS statistic: <b>%{customdata[3]}</b>  &nbsp; &nbsp; %{customdata[6]} <extra></extra>\",\"marker\":{\"color\":\"#DD4040\",\"size\":6,\"symbol\":\"diamond\"},\"mode\":\"markers\",\"name\":\"Data drift\",\"showlegend\":false,\"x\":[\"2080-09-01T12:00:00\",\"2094-05-11T12:00:00\",\"2104-06-11T00:00:00\"],\"y\":[0.022472555162989183,0.03486918205452971,0.044644296440843445],\"type\":\"scatter\"},{\"legendgroup\":\"1\",\"line\":{\"color\":\"rgba(0.23137254901960785, 0.00784313725490196, 0.5019607843137255, 0.2)\",\"width\":9},\"mode\":\"lines\",\"name\":\"P-value is signficant\",\"x\":[[1764504000000000000],[4242585600000000000]],\"y\":[null,null],\"type\":\"scatter\"},{\"line\":{\"color\":\"rgba(0,0,0,0)\"},\"mode\":\"lines\",\"showlegend\":false,\"x\":[[1764504000000000000],[4242585600000000000]],\"y\":[null,null],\"type\":\"scatter\"},{\"fill\":\"tonexty\",\"fillcolor\":\"rgba(0.8666666666666667, 0.25098039215686274, 0.25098039215686274, 0.2)\",\"legendgroup\":\"1\",\"line\":{\"color\":\"rgba(0,0,0,0)\"},\"marker\":{\"color\":\"#DD4040\",\"size\":6,\"symbol\":\"diamond\"},\"mode\":\"lines+markers\",\"name\":\"Data drift\",\"x\":[[1764504000000000000],[4242585600000000000]],\"y\":[null,null],\"type\":\"scatter\"}],                        {\"hoverlabel\":{\"bgcolor\":\"white\",\"font\":{\"size\":14}},\"legend\":{\"itemclick\":false,\"itemdoubleclick\":false,\"traceorder\":\"normal\",\"yanchor\":\"top\",\"y\":-0.25,\"xanchor\":\"left\",\"x\":0,\"orientation\":\"h\"},\"paper_bgcolor\":\"rgba(255,255,255,1)\",\"plot_bgcolor\":\"rgba(255,255,255,1)\",\"title\":{\"text\":\"KS statistic for depth\"},\"xaxis\":{\"linecolor\":\"#666666\",\"mirror\":true,\"showgrid\":false,\"title\":{\"text\":\"Time\"},\"zeroline\":false},\"yaxis\":{\"linecolor\":\"#666666\",\"mirror\":true,\"showgrid\":false,\"title\":{\"text\":\"KS statistic\"},\"zeroline\":false},\"template\":{\"data\":{\"histogram2dcontour\":[{\"type\":\"histogram2dcontour\",\"colorbar\":{\"outlinewidth\":0,\"ticks\":\"\"},\"colorscale\":[[0.0,\"#0d0887\"],[0.1111111111111111,\"#46039f\"],[0.2222222222222222,\"#7201a8\"],[0.3333333333333333,\"#9c179e\"],[0.4444444444444444,\"#bd3786\"],[0.5555555555555556,\"#d8576b\"],[0.6666666666666666,\"#ed7953\"],[0.7777777777777778,\"#fb9f3a\"],[0.8888888888888888,\"#fdca26\"],[1.0,\"#f0f921\"]]}],\"choropleth\":[{\"type\":\"choropleth\",\"colorbar\":{\"outlinewidth\":0,\"ticks\":\"\"}}],\"histogram2d\":[{\"type\":\"histogram2d\",\"colorbar\":{\"outlinewidth\":0,\"ticks\":\"\"},\"colorscale\":[[0.0,\"#0d0887\"],[0.1111111111111111,\"#46039f\"],[0.2222222222222222,\"#7201a8\"],[0.3333333333333333,\"#9c179e\"],[0.4444444444444444,\"#bd3786\"],[0.5555555555555556,\"#d8576b\"],[0.6666666666666666,\"#ed7953\"],[0.7777777777777778,\"#fb9f3a\"],[0.8888888888888888,\"#fdca26\"],[1.0,\"#f0f921\"]]}],\"heatmap\":[{\"type\":\"heatmap\",\"colorbar\":{\"outlinewidth\":0,\"ticks\":\"\"},\"colorscale\":[[0.0,\"#0d0887\"],[0.1111111111111111,\"#46039f\"],[0.2222222222222222,\"#7201a8\"],[0.3333333333333333,\"#9c179e\"],[0.4444444444444444,\"#bd3786\"],[0.5555555555555556,\"#d8576b\"],[0.6666666666666666,\"#ed7953\"],[0.7777777777777778,\"#fb9f3a\"],[0.8888888888888888,\"#fdca26\"],[1.0,\"#f0f921\"]]}],\"heatmapgl\":[{\"type\":\"heatmapgl\",\"colorbar\":{\"outlinewidth\":0,\"ticks\":\"\"},\"colorscale\":[[0.0,\"#0d0887\"],[0.1111111111111111,\"#46039f\"],[0.2222222222222222,\"#7201a8\"],[0.3333333333333333,\"#9c179e\"],[0.4444444444444444,\"#bd3786\"],[0.5555555555555556,\"#d8576b\"],[0.6666666666666666,\"#ed7953\"],[0.7777777777777778,\"#fb9f3a\"],[0.8888888888888888,\"#fdca26\"],[1.0,\"#f0f921\"]]}],\"contourcarpet\":[{\"type\":\"contourcarpet\",\"colorbar\":{\"outlinewidth\":0,\"ticks\":\"\"}}],\"contour\":[{\"type\":\"contour\",\"colorbar\":{\"outlinewidth\":0,\"ticks\":\"\"},\"colorscale\":[[0.0,\"#0d0887\"],[0.1111111111111111,\"#46039f\"],[0.2222222222222222,\"#7201a8\"],[0.3333333333333333,\"#9c179e\"],[0.4444444444444444,\"#bd3786\"],[0.5555555555555556,\"#d8576b\"],[0.6666666666666666,\"#ed7953\"],[0.7777777777777778,\"#fb9f3a\"],[0.8888888888888888,\"#fdca26\"],[1.0,\"#f0f921\"]]}],\"surface\":[{\"type\":\"surface\",\"colorbar\":{\"outlinewidth\":0,\"ticks\":\"\"},\"colorscale\":[[0.0,\"#0d0887\"],[0.1111111111111111,\"#46039f\"],[0.2222222222222222,\"#7201a8\"],[0.3333333333333333,\"#9c179e\"],[0.4444444444444444,\"#bd3786\"],[0.5555555555555556,\"#d8576b\"],[0.6666666666666666,\"#ed7953\"],[0.7777777777777778,\"#fb9f3a\"],[0.8888888888888888,\"#fdca26\"],[1.0,\"#f0f921\"]]}],\"mesh3d\":[{\"type\":\"mesh3d\",\"colorbar\":{\"outlinewidth\":0,\"ticks\":\"\"}}],\"scatter\":[{\"fillpattern\":{\"fillmode\":\"overlay\",\"size\":10,\"solidity\":0.2},\"type\":\"scatter\"}],\"parcoords\":[{\"type\":\"parcoords\",\"line\":{\"colorbar\":{\"outlinewidth\":0,\"ticks\":\"\"}}}],\"scatterpolargl\":[{\"type\":\"scatterpolargl\",\"marker\":{\"colorbar\":{\"outlinewidth\":0,\"ticks\":\"\"}}}],\"bar\":[{\"error_x\":{\"color\":\"#2a3f5f\"},\"error_y\":{\"color\":\"#2a3f5f\"},\"marker\":{\"line\":{\"color\":\"#E5ECF6\",\"width\":0.5},\"pattern\":{\"fillmode\":\"overlay\",\"size\":10,\"solidity\":0.2}},\"type\":\"bar\"}],\"scattergeo\":[{\"type\":\"scattergeo\",\"marker\":{\"colorbar\":{\"outlinewidth\":0,\"ticks\":\"\"}}}],\"scatterpolar\":[{\"type\":\"scatterpolar\",\"marker\":{\"colorbar\":{\"outlinewidth\":0,\"ticks\":\"\"}}}],\"histogram\":[{\"marker\":{\"pattern\":{\"fillmode\":\"overlay\",\"size\":10,\"solidity\":0.2}},\"type\":\"histogram\"}],\"scattergl\":[{\"type\":\"scattergl\",\"marker\":{\"colorbar\":{\"outlinewidth\":0,\"ticks\":\"\"}}}],\"scatter3d\":[{\"type\":\"scatter3d\",\"line\":{\"colorbar\":{\"outlinewidth\":0,\"ticks\":\"\"}},\"marker\":{\"colorbar\":{\"outlinewidth\":0,\"ticks\":\"\"}}}],\"scattermapbox\":[{\"type\":\"scattermapbox\",\"marker\":{\"colorbar\":{\"outlinewidth\":0,\"ticks\":\"\"}}}],\"scatterternary\":[{\"type\":\"scatterternary\",\"marker\":{\"colorbar\":{\"outlinewidth\":0,\"ticks\":\"\"}}}],\"scattercarpet\":[{\"type\":\"scattercarpet\",\"marker\":{\"colorbar\":{\"outlinewidth\":0,\"ticks\":\"\"}}}],\"carpet\":[{\"aaxis\":{\"endlinecolor\":\"#2a3f5f\",\"gridcolor\":\"white\",\"linecolor\":\"white\",\"minorgridcolor\":\"white\",\"startlinecolor\":\"#2a3f5f\"},\"baxis\":{\"endlinecolor\":\"#2a3f5f\",\"gridcolor\":\"white\",\"linecolor\":\"white\",\"minorgridcolor\":\"white\",\"startlinecolor\":\"#2a3f5f\"},\"type\":\"carpet\"}],\"table\":[{\"cells\":{\"fill\":{\"color\":\"#EBF0F8\"},\"line\":{\"color\":\"white\"}},\"header\":{\"fill\":{\"color\":\"#C8D4E3\"},\"line\":{\"color\":\"white\"}},\"type\":\"table\"}],\"barpolar\":[{\"marker\":{\"line\":{\"color\":\"#E5ECF6\",\"width\":0.5},\"pattern\":{\"fillmode\":\"overlay\",\"size\":10,\"solidity\":0.2}},\"type\":\"barpolar\"}],\"pie\":[{\"automargin\":true,\"type\":\"pie\"}]},\"layout\":{\"autotypenumbers\":\"strict\",\"colorway\":[\"#636efa\",\"#EF553B\",\"#00cc96\",\"#ab63fa\",\"#FFA15A\",\"#19d3f3\",\"#FF6692\",\"#B6E880\",\"#FF97FF\",\"#FECB52\"],\"font\":{\"color\":\"#2a3f5f\"},\"hovermode\":\"closest\",\"hoverlabel\":{\"align\":\"left\"},\"paper_bgcolor\":\"white\",\"plot_bgcolor\":\"#E5ECF6\",\"polar\":{\"bgcolor\":\"#E5ECF6\",\"angularaxis\":{\"gridcolor\":\"white\",\"linecolor\":\"white\",\"ticks\":\"\"},\"radialaxis\":{\"gridcolor\":\"white\",\"linecolor\":\"white\",\"ticks\":\"\"}},\"ternary\":{\"bgcolor\":\"#E5ECF6\",\"aaxis\":{\"gridcolor\":\"white\",\"linecolor\":\"white\",\"ticks\":\"\"},\"baxis\":{\"gridcolor\":\"white\",\"linecolor\":\"white\",\"ticks\":\"\"},\"caxis\":{\"gridcolor\":\"white\",\"linecolor\":\"white\",\"ticks\":\"\"}},\"coloraxis\":{\"colorbar\":{\"outlinewidth\":0,\"ticks\":\"\"}},\"colorscale\":{\"sequential\":[[0.0,\"#0d0887\"],[0.1111111111111111,\"#46039f\"],[0.2222222222222222,\"#7201a8\"],[0.3333333333333333,\"#9c179e\"],[0.4444444444444444,\"#bd3786\"],[0.5555555555555556,\"#d8576b\"],[0.6666666666666666,\"#ed7953\"],[0.7777777777777778,\"#fb9f3a\"],[0.8888888888888888,\"#fdca26\"],[1.0,\"#f0f921\"]],\"sequentialminus\":[[0.0,\"#0d0887\"],[0.1111111111111111,\"#46039f\"],[0.2222222222222222,\"#7201a8\"],[0.3333333333333333,\"#9c179e\"],[0.4444444444444444,\"#bd3786\"],[0.5555555555555556,\"#d8576b\"],[0.6666666666666666,\"#ed7953\"],[0.7777777777777778,\"#fb9f3a\"],[0.8888888888888888,\"#fdca26\"],[1.0,\"#f0f921\"]],\"diverging\":[[0,\"#8e0152\"],[0.1,\"#c51b7d\"],[0.2,\"#de77ae\"],[0.3,\"#f1b6da\"],[0.4,\"#fde0ef\"],[0.5,\"#f7f7f7\"],[0.6,\"#e6f5d0\"],[0.7,\"#b8e186\"],[0.8,\"#7fbc41\"],[0.9,\"#4d9221\"],[1,\"#276419\"]]},\"xaxis\":{\"gridcolor\":\"white\",\"linecolor\":\"white\",\"ticks\":\"\",\"title\":{\"standoff\":15},\"zerolinecolor\":\"white\",\"automargin\":true,\"zerolinewidth\":2},\"yaxis\":{\"gridcolor\":\"white\",\"linecolor\":\"white\",\"ticks\":\"\",\"title\":{\"standoff\":15},\"zerolinecolor\":\"white\",\"automargin\":true,\"zerolinewidth\":2},\"scene\":{\"xaxis\":{\"backgroundcolor\":\"#E5ECF6\",\"gridcolor\":\"white\",\"linecolor\":\"white\",\"showbackground\":true,\"ticks\":\"\",\"zerolinecolor\":\"white\",\"gridwidth\":2},\"yaxis\":{\"backgroundcolor\":\"#E5ECF6\",\"gridcolor\":\"white\",\"linecolor\":\"white\",\"showbackground\":true,\"ticks\":\"\",\"zerolinecolor\":\"white\",\"gridwidth\":2},\"zaxis\":{\"backgroundcolor\":\"#E5ECF6\",\"gridcolor\":\"white\",\"linecolor\":\"white\",\"showbackground\":true,\"ticks\":\"\",\"zerolinecolor\":\"white\",\"gridwidth\":2}},\"shapedefaults\":{\"line\":{\"color\":\"#2a3f5f\"}},\"annotationdefaults\":{\"arrowcolor\":\"#2a3f5f\",\"arrowhead\":0,\"arrowwidth\":1},\"geo\":{\"bgcolor\":\"white\",\"landcolor\":\"#E5ECF6\",\"subunitcolor\":\"white\",\"showland\":true,\"showlakes\":true,\"lakecolor\":\"white\"},\"title\":{\"x\":0.05},\"mapbox\":{\"style\":\"light\"}}},\"shapes\":[{\"layer\":\"below\",\"line\":{\"color\":\"#3b0280\",\"dash\":\"dash\",\"width\":1},\"type\":\"line\",\"x0\":\"2060-02-21T00:00:00\",\"x1\":\"2060-02-21T00:00:00\",\"xref\":\"x\",\"y0\":0,\"y1\":1,\"yref\":\"y domain\"},{\"fillcolor\":\"#DD4040\",\"layer\":\"below\",\"line\":{\"width\":0},\"opacity\":0.2,\"type\":\"rect\",\"x0\":\"2073-10-29T00:00:00\",\"x1\":\"2087-07-07T00:00:00\",\"xref\":\"x\",\"y0\":0,\"y1\":1,\"yref\":\"y domain\"},{\"fillcolor\":\"#DD4040\",\"layer\":\"below\",\"line\":{\"width\":0},\"opacity\":0.2,\"type\":\"rect\",\"x0\":\"2087-07-08T00:00:00\",\"x1\":\"2101-03-16T00:00:00\",\"xref\":\"x\",\"y0\":0,\"y1\":1,\"yref\":\"y domain\"},{\"fillcolor\":\"#DD4040\",\"layer\":\"below\",\"line\":{\"width\":0},\"opacity\":0.2,\"type\":\"rect\",\"x0\":\"2101-03-17T00:00:00\",\"x1\":\"2107-09-06T00:00:00\",\"xref\":\"x\",\"y0\":0,\"y1\":1,\"yref\":\"y domain\"}]},                        {\"responsive\": true}                    ).then(function(){\n",
       "                            \n",
       "var gd = document.getElementById('fda02d69-5b4d-4ec4-97a9-d3acf05d6550');\n",
       "var x = new MutationObserver(function (mutations, observer) {{\n",
       "        var display = window.getComputedStyle(gd).display;\n",
       "        if (!display || display === 'none') {{\n",
       "            console.log([gd, 'removed!']);\n",
       "            Plotly.purge(gd);\n",
       "            observer.disconnect();\n",
       "        }}\n",
       "}});\n",
       "\n",
       "// Listen for the removal of the full notebook cells\n",
       "var notebookContainer = gd.closest('#notebook-container');\n",
       "if (notebookContainer) {{\n",
       "    x.observe(notebookContainer, {childList: true});\n",
       "}}\n",
       "\n",
       "// Listen for the clearing of the current output cell\n",
       "var outputEl = gd.closest('.output');\n",
       "if (outputEl) {{\n",
       "    x.observe(outputEl, {childList: true});\n",
       "}}\n",
       "\n",
       "                        })                };                });            </script>        </div>"
      ]
     },
     "metadata": {},
     "output_type": "display_data"
    },
    {
     "data": {
      "application/vnd.plotly.v1+json": {
       "config": {
        "plotlyServerURL": "https://plot.ly"
       },
       "data": [
        {
         "hoverinfo": "skip",
         "line": {
          "color": "rgba(0.23137254901960785, 0.00784313725490196, 0.5019607843137255, 0.2)",
          "width": 9
         },
         "mode": "lines",
         "showlegend": false,
         "type": "scatter",
         "x": [
          "2073-10-29T00:00:00",
          "2087-07-07T00:00:00"
         ],
         "y": [
          0.06063835744283719,
          0.06063835744283719
         ]
        },
        {
         "hoverinfo": "skip",
         "line": {
          "color": "rgba(0.23137254901960785, 0.00784313725490196, 0.5019607843137255, 0.2)",
          "width": 9
         },
         "mode": "lines",
         "showlegend": false,
         "type": "scatter",
         "x": [
          "2087-07-08T00:00:00",
          "2101-03-16T00:00:00"
         ],
         "y": [
          0.03293793747083529,
          0.03293793747083529
         ]
        },
        {
         "hoverinfo": "skip",
         "line": {
          "color": "rgba(0.23137254901960785, 0.00784313725490196, 0.5019607843137255, 0.2)",
          "width": 9
         },
         "mode": "lines",
         "showlegend": false,
         "type": "scatter",
         "x": [
          "2101-03-17T00:00:00",
          "2107-09-06T00:00:00"
         ],
         "y": [
          0.04956653347845871,
          0.04956653347845871
         ]
        },
        {
         "hoverinfo": "skip",
         "legendgroup": "1",
         "line": {
          "color": "#00c8e5",
          "shape": "hv",
          "width": 2
         },
         "mode": "lines",
         "name": "Reference period",
         "type": "scatter",
         "x": [
          "2019-01-27T00:00:00",
          "2032-10-05T00:00:00",
          "2046-06-14T00:00:00",
          "2060-02-20T00:00:00"
         ],
         "y": [
          0.11084007732817813,
          0.028838357442837137,
          0.08655997600159993,
          0.08655997600159993
         ]
        },
        {
         "hoverinfo": "skip",
         "legendgroup": "1",
         "line": {
          "color": "#3b0280",
          "shape": "hv",
          "width": 2
         },
         "mode": "lines",
         "name": "Analysis period",
         "type": "scatter",
         "x": [
          "2060-02-21T00:00:00",
          "2073-10-29T00:00:00",
          "2087-07-08T00:00:00",
          "2101-03-17T00:00:00",
          "2107-09-06T00:00:00"
         ],
         "y": [
          0.06350496633557767,
          0.06063835744283719,
          0.03293793747083529,
          0.04956653347845871,
          0.04956653347845871
         ]
        },
        {
         "customdata": [
          [
           "[0:4999]",
           "Jan-27-2019",
           "Oct-04-2032",
           "0.1108",
           "<b style=\"color:#00c8e5;line-height:60px\">Reference</b>",
           "",
           ""
          ],
          [
           "[5000:9999]",
           "Oct-05-2032",
           "Jun-13-2046",
           "0.0288",
           "<b style=\"color:#00c8e5;line-height:60px\">Reference</b>",
           "",
           ""
          ],
          [
           "[10000:14999]",
           "Jun-14-2046",
           "Feb-20-2060",
           "0.0866",
           "<b style=\"color:#00c8e5;line-height:60px\">Reference</b>",
           "",
           ""
          ]
         ],
         "hovertemplate": "%{customdata[4]} &nbsp; &nbsp; <span style=\"color:#AD0000\">%{customdata[5]}</span><br>Chunk: <b>%{customdata[0]}</b> &nbsp; &nbsp; From <b>%{customdata[1]}</b> to <b>%{customdata[2]}</b> &nbsp; &nbsp; <br>KS statistic: <b>%{customdata[3]}</b>  &nbsp; &nbsp; %{customdata[6]} <extra></extra>",
         "marker": {
          "color": "#00c8e5",
          "size": 6,
          "symbol": "square"
         },
         "mode": "markers",
         "name": "Reference",
         "showlegend": false,
         "type": "scatter",
         "x": [
          "2025-11-30T12:00:00",
          "2039-08-09T12:00:00",
          "2053-04-17T12:00:00"
         ],
         "y": [
          0.11084007732817813,
          0.028838357442837137,
          0.08655997600159993
         ]
        },
        {
         "customdata": [
          [
           "[15000:19999]",
           "Feb-21-2060",
           "Oct-28-2073",
           "0.0635",
           "<b style=\"color:#3b0280;line-height:60px\">Analysis</b>",
           "",
           ""
          ]
         ],
         "hovertemplate": "%{customdata[4]} &nbsp; &nbsp; <span style=\"color:#AD0000\">%{customdata[5]}</span><br>Chunk: <b>%{customdata[0]}</b> &nbsp; &nbsp; From <b>%{customdata[1]}</b> to <b>%{customdata[2]}</b> &nbsp; &nbsp; <br>KS statistic: <b>%{customdata[3]}</b>  &nbsp; &nbsp; %{customdata[6]} <extra></extra>",
         "marker": {
          "color": "#3b0280",
          "size": 6,
          "symbol": "square"
         },
         "mode": "markers",
         "name": "No data drift",
         "showlegend": false,
         "type": "scatter",
         "x": [
          "2066-12-25T00:00:00"
         ],
         "y": [
          0.06350496633557767
         ]
        },
        {
         "customdata": [
          [
           "[20000:24999]",
           "Oct-29-2073",
           "Jul-07-2087",
           "0.0606",
           "<b style=\"color:#3b0280;line-height:60px\">Analysis</b>",
           "⚠ <b>Drift detected</b>",
           ""
          ],
          [
           "[25000:29999]",
           "Jul-08-2087",
           "Mar-16-2101",
           "0.0329",
           "<b style=\"color:#3b0280;line-height:60px\">Analysis</b>",
           "⚠ <b>Drift detected</b>",
           ""
          ],
          [
           "[30000:32364]",
           "Mar-17-2101",
           "Sep-06-2107",
           "0.0496",
           "<b style=\"color:#3b0280;line-height:60px\">Analysis</b>",
           "⚠ <b>Drift detected</b>",
           ""
          ]
         ],
         "hovertemplate": "%{customdata[4]} &nbsp; &nbsp; <span style=\"color:#AD0000\">%{customdata[5]}</span><br>Chunk: <b>%{customdata[0]}</b> &nbsp; &nbsp; From <b>%{customdata[1]}</b> to <b>%{customdata[2]}</b> &nbsp; &nbsp; <br>KS statistic: <b>%{customdata[3]}</b>  &nbsp; &nbsp; %{customdata[6]} <extra></extra>",
         "marker": {
          "color": "#DD4040",
          "size": 6,
          "symbol": "diamond"
         },
         "mode": "markers",
         "name": "Data drift",
         "showlegend": false,
         "type": "scatter",
         "x": [
          "2080-09-01T12:00:00",
          "2094-05-11T12:00:00",
          "2104-06-11T00:00:00"
         ],
         "y": [
          0.06063835744283719,
          0.03293793747083529,
          0.04956653347845871
         ]
        },
        {
         "legendgroup": "1",
         "line": {
          "color": "rgba(0.23137254901960785, 0.00784313725490196, 0.5019607843137255, 0.2)",
          "width": 9
         },
         "mode": "lines",
         "name": "P-value is signficant",
         "type": "scatter",
         "x": [
          [
           1764504000000000000
          ],
          [
           4242585600000000000
          ]
         ],
         "y": [
          null,
          null
         ]
        },
        {
         "line": {
          "color": "rgba(0,0,0,0)"
         },
         "mode": "lines",
         "showlegend": false,
         "type": "scatter",
         "x": [
          [
           1764504000000000000
          ],
          [
           4242585600000000000
          ]
         ],
         "y": [
          null,
          null
         ]
        },
        {
         "fill": "tonexty",
         "fillcolor": "rgba(0.8666666666666667, 0.25098039215686274, 0.25098039215686274, 0.2)",
         "legendgroup": "1",
         "line": {
          "color": "rgba(0,0,0,0)"
         },
         "marker": {
          "color": "#DD4040",
          "size": 6,
          "symbol": "diamond"
         },
         "mode": "lines+markers",
         "name": "Data drift",
         "type": "scatter",
         "x": [
          [
           1764504000000000000
          ],
          [
           4242585600000000000
          ]
         ],
         "y": [
          null,
          null
         ]
        }
       ],
       "layout": {
        "hoverlabel": {
         "bgcolor": "white",
         "font": {
          "size": 14
         }
        },
        "legend": {
         "itemclick": false,
         "itemdoubleclick": false,
         "orientation": "h",
         "traceorder": "normal",
         "x": 0,
         "xanchor": "left",
         "y": -0.25,
         "yanchor": "top"
        },
        "paper_bgcolor": "rgba(255,255,255,1)",
        "plot_bgcolor": "rgba(255,255,255,1)",
        "shapes": [
         {
          "layer": "below",
          "line": {
           "color": "#3b0280",
           "dash": "dash",
           "width": 1
          },
          "type": "line",
          "x0": "2060-02-21T00:00:00",
          "x1": "2060-02-21T00:00:00",
          "xref": "x",
          "y0": 0,
          "y1": 1,
          "yref": "y domain"
         },
         {
          "fillcolor": "#DD4040",
          "layer": "below",
          "line": {
           "width": 0
          },
          "opacity": 0.2,
          "type": "rect",
          "x0": "2073-10-29T00:00:00",
          "x1": "2087-07-07T00:00:00",
          "xref": "x",
          "y0": 0,
          "y1": 1,
          "yref": "y domain"
         },
         {
          "fillcolor": "#DD4040",
          "layer": "below",
          "line": {
           "width": 0
          },
          "opacity": 0.2,
          "type": "rect",
          "x0": "2087-07-08T00:00:00",
          "x1": "2101-03-16T00:00:00",
          "xref": "x",
          "y0": 0,
          "y1": 1,
          "yref": "y domain"
         },
         {
          "fillcolor": "#DD4040",
          "layer": "below",
          "line": {
           "width": 0
          },
          "opacity": 0.2,
          "type": "rect",
          "x0": "2101-03-17T00:00:00",
          "x1": "2107-09-06T00:00:00",
          "xref": "x",
          "y0": 0,
          "y1": 1,
          "yref": "y domain"
         }
        ],
        "template": {
         "data": {
          "bar": [
           {
            "error_x": {
             "color": "#2a3f5f"
            },
            "error_y": {
             "color": "#2a3f5f"
            },
            "marker": {
             "line": {
              "color": "#E5ECF6",
              "width": 0.5
             },
             "pattern": {
              "fillmode": "overlay",
              "size": 10,
              "solidity": 0.2
             }
            },
            "type": "bar"
           }
          ],
          "barpolar": [
           {
            "marker": {
             "line": {
              "color": "#E5ECF6",
              "width": 0.5
             },
             "pattern": {
              "fillmode": "overlay",
              "size": 10,
              "solidity": 0.2
             }
            },
            "type": "barpolar"
           }
          ],
          "carpet": [
           {
            "aaxis": {
             "endlinecolor": "#2a3f5f",
             "gridcolor": "white",
             "linecolor": "white",
             "minorgridcolor": "white",
             "startlinecolor": "#2a3f5f"
            },
            "baxis": {
             "endlinecolor": "#2a3f5f",
             "gridcolor": "white",
             "linecolor": "white",
             "minorgridcolor": "white",
             "startlinecolor": "#2a3f5f"
            },
            "type": "carpet"
           }
          ],
          "choropleth": [
           {
            "colorbar": {
             "outlinewidth": 0,
             "ticks": ""
            },
            "type": "choropleth"
           }
          ],
          "contour": [
           {
            "colorbar": {
             "outlinewidth": 0,
             "ticks": ""
            },
            "colorscale": [
             [
              0,
              "#0d0887"
             ],
             [
              0.1111111111111111,
              "#46039f"
             ],
             [
              0.2222222222222222,
              "#7201a8"
             ],
             [
              0.3333333333333333,
              "#9c179e"
             ],
             [
              0.4444444444444444,
              "#bd3786"
             ],
             [
              0.5555555555555556,
              "#d8576b"
             ],
             [
              0.6666666666666666,
              "#ed7953"
             ],
             [
              0.7777777777777778,
              "#fb9f3a"
             ],
             [
              0.8888888888888888,
              "#fdca26"
             ],
             [
              1,
              "#f0f921"
             ]
            ],
            "type": "contour"
           }
          ],
          "contourcarpet": [
           {
            "colorbar": {
             "outlinewidth": 0,
             "ticks": ""
            },
            "type": "contourcarpet"
           }
          ],
          "heatmap": [
           {
            "colorbar": {
             "outlinewidth": 0,
             "ticks": ""
            },
            "colorscale": [
             [
              0,
              "#0d0887"
             ],
             [
              0.1111111111111111,
              "#46039f"
             ],
             [
              0.2222222222222222,
              "#7201a8"
             ],
             [
              0.3333333333333333,
              "#9c179e"
             ],
             [
              0.4444444444444444,
              "#bd3786"
             ],
             [
              0.5555555555555556,
              "#d8576b"
             ],
             [
              0.6666666666666666,
              "#ed7953"
             ],
             [
              0.7777777777777778,
              "#fb9f3a"
             ],
             [
              0.8888888888888888,
              "#fdca26"
             ],
             [
              1,
              "#f0f921"
             ]
            ],
            "type": "heatmap"
           }
          ],
          "heatmapgl": [
           {
            "colorbar": {
             "outlinewidth": 0,
             "ticks": ""
            },
            "colorscale": [
             [
              0,
              "#0d0887"
             ],
             [
              0.1111111111111111,
              "#46039f"
             ],
             [
              0.2222222222222222,
              "#7201a8"
             ],
             [
              0.3333333333333333,
              "#9c179e"
             ],
             [
              0.4444444444444444,
              "#bd3786"
             ],
             [
              0.5555555555555556,
              "#d8576b"
             ],
             [
              0.6666666666666666,
              "#ed7953"
             ],
             [
              0.7777777777777778,
              "#fb9f3a"
             ],
             [
              0.8888888888888888,
              "#fdca26"
             ],
             [
              1,
              "#f0f921"
             ]
            ],
            "type": "heatmapgl"
           }
          ],
          "histogram": [
           {
            "marker": {
             "pattern": {
              "fillmode": "overlay",
              "size": 10,
              "solidity": 0.2
             }
            },
            "type": "histogram"
           }
          ],
          "histogram2d": [
           {
            "colorbar": {
             "outlinewidth": 0,
             "ticks": ""
            },
            "colorscale": [
             [
              0,
              "#0d0887"
             ],
             [
              0.1111111111111111,
              "#46039f"
             ],
             [
              0.2222222222222222,
              "#7201a8"
             ],
             [
              0.3333333333333333,
              "#9c179e"
             ],
             [
              0.4444444444444444,
              "#bd3786"
             ],
             [
              0.5555555555555556,
              "#d8576b"
             ],
             [
              0.6666666666666666,
              "#ed7953"
             ],
             [
              0.7777777777777778,
              "#fb9f3a"
             ],
             [
              0.8888888888888888,
              "#fdca26"
             ],
             [
              1,
              "#f0f921"
             ]
            ],
            "type": "histogram2d"
           }
          ],
          "histogram2dcontour": [
           {
            "colorbar": {
             "outlinewidth": 0,
             "ticks": ""
            },
            "colorscale": [
             [
              0,
              "#0d0887"
             ],
             [
              0.1111111111111111,
              "#46039f"
             ],
             [
              0.2222222222222222,
              "#7201a8"
             ],
             [
              0.3333333333333333,
              "#9c179e"
             ],
             [
              0.4444444444444444,
              "#bd3786"
             ],
             [
              0.5555555555555556,
              "#d8576b"
             ],
             [
              0.6666666666666666,
              "#ed7953"
             ],
             [
              0.7777777777777778,
              "#fb9f3a"
             ],
             [
              0.8888888888888888,
              "#fdca26"
             ],
             [
              1,
              "#f0f921"
             ]
            ],
            "type": "histogram2dcontour"
           }
          ],
          "mesh3d": [
           {
            "colorbar": {
             "outlinewidth": 0,
             "ticks": ""
            },
            "type": "mesh3d"
           }
          ],
          "parcoords": [
           {
            "line": {
             "colorbar": {
              "outlinewidth": 0,
              "ticks": ""
             }
            },
            "type": "parcoords"
           }
          ],
          "pie": [
           {
            "automargin": true,
            "type": "pie"
           }
          ],
          "scatter": [
           {
            "fillpattern": {
             "fillmode": "overlay",
             "size": 10,
             "solidity": 0.2
            },
            "type": "scatter"
           }
          ],
          "scatter3d": [
           {
            "line": {
             "colorbar": {
              "outlinewidth": 0,
              "ticks": ""
             }
            },
            "marker": {
             "colorbar": {
              "outlinewidth": 0,
              "ticks": ""
             }
            },
            "type": "scatter3d"
           }
          ],
          "scattercarpet": [
           {
            "marker": {
             "colorbar": {
              "outlinewidth": 0,
              "ticks": ""
             }
            },
            "type": "scattercarpet"
           }
          ],
          "scattergeo": [
           {
            "marker": {
             "colorbar": {
              "outlinewidth": 0,
              "ticks": ""
             }
            },
            "type": "scattergeo"
           }
          ],
          "scattergl": [
           {
            "marker": {
             "colorbar": {
              "outlinewidth": 0,
              "ticks": ""
             }
            },
            "type": "scattergl"
           }
          ],
          "scattermapbox": [
           {
            "marker": {
             "colorbar": {
              "outlinewidth": 0,
              "ticks": ""
             }
            },
            "type": "scattermapbox"
           }
          ],
          "scatterpolar": [
           {
            "marker": {
             "colorbar": {
              "outlinewidth": 0,
              "ticks": ""
             }
            },
            "type": "scatterpolar"
           }
          ],
          "scatterpolargl": [
           {
            "marker": {
             "colorbar": {
              "outlinewidth": 0,
              "ticks": ""
             }
            },
            "type": "scatterpolargl"
           }
          ],
          "scatterternary": [
           {
            "marker": {
             "colorbar": {
              "outlinewidth": 0,
              "ticks": ""
             }
            },
            "type": "scatterternary"
           }
          ],
          "surface": [
           {
            "colorbar": {
             "outlinewidth": 0,
             "ticks": ""
            },
            "colorscale": [
             [
              0,
              "#0d0887"
             ],
             [
              0.1111111111111111,
              "#46039f"
             ],
             [
              0.2222222222222222,
              "#7201a8"
             ],
             [
              0.3333333333333333,
              "#9c179e"
             ],
             [
              0.4444444444444444,
              "#bd3786"
             ],
             [
              0.5555555555555556,
              "#d8576b"
             ],
             [
              0.6666666666666666,
              "#ed7953"
             ],
             [
              0.7777777777777778,
              "#fb9f3a"
             ],
             [
              0.8888888888888888,
              "#fdca26"
             ],
             [
              1,
              "#f0f921"
             ]
            ],
            "type": "surface"
           }
          ],
          "table": [
           {
            "cells": {
             "fill": {
              "color": "#EBF0F8"
             },
             "line": {
              "color": "white"
             }
            },
            "header": {
             "fill": {
              "color": "#C8D4E3"
             },
             "line": {
              "color": "white"
             }
            },
            "type": "table"
           }
          ]
         },
         "layout": {
          "annotationdefaults": {
           "arrowcolor": "#2a3f5f",
           "arrowhead": 0,
           "arrowwidth": 1
          },
          "autotypenumbers": "strict",
          "coloraxis": {
           "colorbar": {
            "outlinewidth": 0,
            "ticks": ""
           }
          },
          "colorscale": {
           "diverging": [
            [
             0,
             "#8e0152"
            ],
            [
             0.1,
             "#c51b7d"
            ],
            [
             0.2,
             "#de77ae"
            ],
            [
             0.3,
             "#f1b6da"
            ],
            [
             0.4,
             "#fde0ef"
            ],
            [
             0.5,
             "#f7f7f7"
            ],
            [
             0.6,
             "#e6f5d0"
            ],
            [
             0.7,
             "#b8e186"
            ],
            [
             0.8,
             "#7fbc41"
            ],
            [
             0.9,
             "#4d9221"
            ],
            [
             1,
             "#276419"
            ]
           ],
           "sequential": [
            [
             0,
             "#0d0887"
            ],
            [
             0.1111111111111111,
             "#46039f"
            ],
            [
             0.2222222222222222,
             "#7201a8"
            ],
            [
             0.3333333333333333,
             "#9c179e"
            ],
            [
             0.4444444444444444,
             "#bd3786"
            ],
            [
             0.5555555555555556,
             "#d8576b"
            ],
            [
             0.6666666666666666,
             "#ed7953"
            ],
            [
             0.7777777777777778,
             "#fb9f3a"
            ],
            [
             0.8888888888888888,
             "#fdca26"
            ],
            [
             1,
             "#f0f921"
            ]
           ],
           "sequentialminus": [
            [
             0,
             "#0d0887"
            ],
            [
             0.1111111111111111,
             "#46039f"
            ],
            [
             0.2222222222222222,
             "#7201a8"
            ],
            [
             0.3333333333333333,
             "#9c179e"
            ],
            [
             0.4444444444444444,
             "#bd3786"
            ],
            [
             0.5555555555555556,
             "#d8576b"
            ],
            [
             0.6666666666666666,
             "#ed7953"
            ],
            [
             0.7777777777777778,
             "#fb9f3a"
            ],
            [
             0.8888888888888888,
             "#fdca26"
            ],
            [
             1,
             "#f0f921"
            ]
           ]
          },
          "colorway": [
           "#636efa",
           "#EF553B",
           "#00cc96",
           "#ab63fa",
           "#FFA15A",
           "#19d3f3",
           "#FF6692",
           "#B6E880",
           "#FF97FF",
           "#FECB52"
          ],
          "font": {
           "color": "#2a3f5f"
          },
          "geo": {
           "bgcolor": "white",
           "lakecolor": "white",
           "landcolor": "#E5ECF6",
           "showlakes": true,
           "showland": true,
           "subunitcolor": "white"
          },
          "hoverlabel": {
           "align": "left"
          },
          "hovermode": "closest",
          "mapbox": {
           "style": "light"
          },
          "paper_bgcolor": "white",
          "plot_bgcolor": "#E5ECF6",
          "polar": {
           "angularaxis": {
            "gridcolor": "white",
            "linecolor": "white",
            "ticks": ""
           },
           "bgcolor": "#E5ECF6",
           "radialaxis": {
            "gridcolor": "white",
            "linecolor": "white",
            "ticks": ""
           }
          },
          "scene": {
           "xaxis": {
            "backgroundcolor": "#E5ECF6",
            "gridcolor": "white",
            "gridwidth": 2,
            "linecolor": "white",
            "showbackground": true,
            "ticks": "",
            "zerolinecolor": "white"
           },
           "yaxis": {
            "backgroundcolor": "#E5ECF6",
            "gridcolor": "white",
            "gridwidth": 2,
            "linecolor": "white",
            "showbackground": true,
            "ticks": "",
            "zerolinecolor": "white"
           },
           "zaxis": {
            "backgroundcolor": "#E5ECF6",
            "gridcolor": "white",
            "gridwidth": 2,
            "linecolor": "white",
            "showbackground": true,
            "ticks": "",
            "zerolinecolor": "white"
           }
          },
          "shapedefaults": {
           "line": {
            "color": "#2a3f5f"
           }
          },
          "ternary": {
           "aaxis": {
            "gridcolor": "white",
            "linecolor": "white",
            "ticks": ""
           },
           "baxis": {
            "gridcolor": "white",
            "linecolor": "white",
            "ticks": ""
           },
           "bgcolor": "#E5ECF6",
           "caxis": {
            "gridcolor": "white",
            "linecolor": "white",
            "ticks": ""
           }
          },
          "title": {
           "x": 0.05
          },
          "xaxis": {
           "automargin": true,
           "gridcolor": "white",
           "linecolor": "white",
           "ticks": "",
           "title": {
            "standoff": 15
           },
           "zerolinecolor": "white",
           "zerolinewidth": 2
          },
          "yaxis": {
           "automargin": true,
           "gridcolor": "white",
           "linecolor": "white",
           "ticks": "",
           "title": {
            "standoff": 15
           },
           "zerolinecolor": "white",
           "zerolinewidth": 2
          }
         }
        },
        "title": {
         "text": "KS statistic for table"
        },
        "xaxis": {
         "linecolor": "#666666",
         "mirror": true,
         "showgrid": false,
         "title": {
          "text": "Time"
         },
         "zeroline": false
        },
        "yaxis": {
         "linecolor": "#666666",
         "mirror": true,
         "showgrid": false,
         "title": {
          "text": "KS statistic"
         },
         "zeroline": false
        }
       }
      },
      "text/html": [
       "<div>                            <div id=\"5e45fe7b-1bf7-4cb7-bba8-ee0379a591bc\" class=\"plotly-graph-div\" style=\"height:525px; width:100%;\"></div>            <script type=\"text/javascript\">                require([\"plotly\"], function(Plotly) {                    window.PLOTLYENV=window.PLOTLYENV || {};                                    if (document.getElementById(\"5e45fe7b-1bf7-4cb7-bba8-ee0379a591bc\")) {                    Plotly.newPlot(                        \"5e45fe7b-1bf7-4cb7-bba8-ee0379a591bc\",                        [{\"hoverinfo\":\"skip\",\"line\":{\"color\":\"rgba(0.23137254901960785, 0.00784313725490196, 0.5019607843137255, 0.2)\",\"width\":9},\"mode\":\"lines\",\"showlegend\":false,\"x\":[\"2073-10-29T00:00:00\",\"2087-07-07T00:00:00\"],\"y\":[0.06063835744283719,0.06063835744283719],\"type\":\"scatter\"},{\"hoverinfo\":\"skip\",\"line\":{\"color\":\"rgba(0.23137254901960785, 0.00784313725490196, 0.5019607843137255, 0.2)\",\"width\":9},\"mode\":\"lines\",\"showlegend\":false,\"x\":[\"2087-07-08T00:00:00\",\"2101-03-16T00:00:00\"],\"y\":[0.03293793747083529,0.03293793747083529],\"type\":\"scatter\"},{\"hoverinfo\":\"skip\",\"line\":{\"color\":\"rgba(0.23137254901960785, 0.00784313725490196, 0.5019607843137255, 0.2)\",\"width\":9},\"mode\":\"lines\",\"showlegend\":false,\"x\":[\"2101-03-17T00:00:00\",\"2107-09-06T00:00:00\"],\"y\":[0.04956653347845871,0.04956653347845871],\"type\":\"scatter\"},{\"hoverinfo\":\"skip\",\"legendgroup\":\"1\",\"line\":{\"color\":\"#00c8e5\",\"shape\":\"hv\",\"width\":2},\"mode\":\"lines\",\"name\":\"Reference period\",\"x\":[\"2019-01-27T00:00:00\",\"2032-10-05T00:00:00\",\"2046-06-14T00:00:00\",\"2060-02-20T00:00:00\"],\"y\":[0.11084007732817813,0.028838357442837137,0.08655997600159993,0.08655997600159993],\"type\":\"scatter\"},{\"hoverinfo\":\"skip\",\"legendgroup\":\"1\",\"line\":{\"color\":\"#3b0280\",\"shape\":\"hv\",\"width\":2},\"mode\":\"lines\",\"name\":\"Analysis period\",\"x\":[\"2060-02-21T00:00:00\",\"2073-10-29T00:00:00\",\"2087-07-08T00:00:00\",\"2101-03-17T00:00:00\",\"2107-09-06T00:00:00\"],\"y\":[0.06350496633557767,0.06063835744283719,0.03293793747083529,0.04956653347845871,0.04956653347845871],\"type\":\"scatter\"},{\"customdata\":[[\"[0:4999]\",\"Jan-27-2019\",\"Oct-04-2032\",\"0.1108\",\"<b style=\\\"color:#00c8e5;line-height:60px\\\">Reference</b>\",\"\",\"\"],[\"[5000:9999]\",\"Oct-05-2032\",\"Jun-13-2046\",\"0.0288\",\"<b style=\\\"color:#00c8e5;line-height:60px\\\">Reference</b>\",\"\",\"\"],[\"[10000:14999]\",\"Jun-14-2046\",\"Feb-20-2060\",\"0.0866\",\"<b style=\\\"color:#00c8e5;line-height:60px\\\">Reference</b>\",\"\",\"\"]],\"hovertemplate\":\"%{customdata[4]} &nbsp; &nbsp; <span style=\\\"color:#AD0000\\\">%{customdata[5]}</span><br>Chunk: <b>%{customdata[0]}</b> &nbsp; &nbsp; From <b>%{customdata[1]}</b> to <b>%{customdata[2]}</b> &nbsp; &nbsp; <br>KS statistic: <b>%{customdata[3]}</b>  &nbsp; &nbsp; %{customdata[6]} <extra></extra>\",\"marker\":{\"color\":\"#00c8e5\",\"size\":6,\"symbol\":\"square\"},\"mode\":\"markers\",\"name\":\"Reference\",\"showlegend\":false,\"x\":[\"2025-11-30T12:00:00\",\"2039-08-09T12:00:00\",\"2053-04-17T12:00:00\"],\"y\":[0.11084007732817813,0.028838357442837137,0.08655997600159993],\"type\":\"scatter\"},{\"customdata\":[[\"[15000:19999]\",\"Feb-21-2060\",\"Oct-28-2073\",\"0.0635\",\"<b style=\\\"color:#3b0280;line-height:60px\\\">Analysis</b>\",\"\",\"\"]],\"hovertemplate\":\"%{customdata[4]} &nbsp; &nbsp; <span style=\\\"color:#AD0000\\\">%{customdata[5]}</span><br>Chunk: <b>%{customdata[0]}</b> &nbsp; &nbsp; From <b>%{customdata[1]}</b> to <b>%{customdata[2]}</b> &nbsp; &nbsp; <br>KS statistic: <b>%{customdata[3]}</b>  &nbsp; &nbsp; %{customdata[6]} <extra></extra>\",\"marker\":{\"color\":\"#3b0280\",\"size\":6,\"symbol\":\"square\"},\"mode\":\"markers\",\"name\":\"No data drift\",\"showlegend\":false,\"x\":[\"2066-12-25T00:00:00\"],\"y\":[0.06350496633557767],\"type\":\"scatter\"},{\"customdata\":[[\"[20000:24999]\",\"Oct-29-2073\",\"Jul-07-2087\",\"0.0606\",\"<b style=\\\"color:#3b0280;line-height:60px\\\">Analysis</b>\",\"\\u26a0 <b>Drift detected</b>\",\"\"],[\"[25000:29999]\",\"Jul-08-2087\",\"Mar-16-2101\",\"0.0329\",\"<b style=\\\"color:#3b0280;line-height:60px\\\">Analysis</b>\",\"\\u26a0 <b>Drift detected</b>\",\"\"],[\"[30000:32364]\",\"Mar-17-2101\",\"Sep-06-2107\",\"0.0496\",\"<b style=\\\"color:#3b0280;line-height:60px\\\">Analysis</b>\",\"\\u26a0 <b>Drift detected</b>\",\"\"]],\"hovertemplate\":\"%{customdata[4]} &nbsp; &nbsp; <span style=\\\"color:#AD0000\\\">%{customdata[5]}</span><br>Chunk: <b>%{customdata[0]}</b> &nbsp; &nbsp; From <b>%{customdata[1]}</b> to <b>%{customdata[2]}</b> &nbsp; &nbsp; <br>KS statistic: <b>%{customdata[3]}</b>  &nbsp; &nbsp; %{customdata[6]} <extra></extra>\",\"marker\":{\"color\":\"#DD4040\",\"size\":6,\"symbol\":\"diamond\"},\"mode\":\"markers\",\"name\":\"Data drift\",\"showlegend\":false,\"x\":[\"2080-09-01T12:00:00\",\"2094-05-11T12:00:00\",\"2104-06-11T00:00:00\"],\"y\":[0.06063835744283719,0.03293793747083529,0.04956653347845871],\"type\":\"scatter\"},{\"legendgroup\":\"1\",\"line\":{\"color\":\"rgba(0.23137254901960785, 0.00784313725490196, 0.5019607843137255, 0.2)\",\"width\":9},\"mode\":\"lines\",\"name\":\"P-value is signficant\",\"x\":[[1764504000000000000],[4242585600000000000]],\"y\":[null,null],\"type\":\"scatter\"},{\"line\":{\"color\":\"rgba(0,0,0,0)\"},\"mode\":\"lines\",\"showlegend\":false,\"x\":[[1764504000000000000],[4242585600000000000]],\"y\":[null,null],\"type\":\"scatter\"},{\"fill\":\"tonexty\",\"fillcolor\":\"rgba(0.8666666666666667, 0.25098039215686274, 0.25098039215686274, 0.2)\",\"legendgroup\":\"1\",\"line\":{\"color\":\"rgba(0,0,0,0)\"},\"marker\":{\"color\":\"#DD4040\",\"size\":6,\"symbol\":\"diamond\"},\"mode\":\"lines+markers\",\"name\":\"Data drift\",\"x\":[[1764504000000000000],[4242585600000000000]],\"y\":[null,null],\"type\":\"scatter\"}],                        {\"hoverlabel\":{\"bgcolor\":\"white\",\"font\":{\"size\":14}},\"legend\":{\"itemclick\":false,\"itemdoubleclick\":false,\"traceorder\":\"normal\",\"yanchor\":\"top\",\"y\":-0.25,\"xanchor\":\"left\",\"x\":0,\"orientation\":\"h\"},\"paper_bgcolor\":\"rgba(255,255,255,1)\",\"plot_bgcolor\":\"rgba(255,255,255,1)\",\"title\":{\"text\":\"KS statistic for table\"},\"xaxis\":{\"linecolor\":\"#666666\",\"mirror\":true,\"showgrid\":false,\"title\":{\"text\":\"Time\"},\"zeroline\":false},\"yaxis\":{\"linecolor\":\"#666666\",\"mirror\":true,\"showgrid\":false,\"title\":{\"text\":\"KS statistic\"},\"zeroline\":false},\"template\":{\"data\":{\"histogram2dcontour\":[{\"type\":\"histogram2dcontour\",\"colorbar\":{\"outlinewidth\":0,\"ticks\":\"\"},\"colorscale\":[[0.0,\"#0d0887\"],[0.1111111111111111,\"#46039f\"],[0.2222222222222222,\"#7201a8\"],[0.3333333333333333,\"#9c179e\"],[0.4444444444444444,\"#bd3786\"],[0.5555555555555556,\"#d8576b\"],[0.6666666666666666,\"#ed7953\"],[0.7777777777777778,\"#fb9f3a\"],[0.8888888888888888,\"#fdca26\"],[1.0,\"#f0f921\"]]}],\"choropleth\":[{\"type\":\"choropleth\",\"colorbar\":{\"outlinewidth\":0,\"ticks\":\"\"}}],\"histogram2d\":[{\"type\":\"histogram2d\",\"colorbar\":{\"outlinewidth\":0,\"ticks\":\"\"},\"colorscale\":[[0.0,\"#0d0887\"],[0.1111111111111111,\"#46039f\"],[0.2222222222222222,\"#7201a8\"],[0.3333333333333333,\"#9c179e\"],[0.4444444444444444,\"#bd3786\"],[0.5555555555555556,\"#d8576b\"],[0.6666666666666666,\"#ed7953\"],[0.7777777777777778,\"#fb9f3a\"],[0.8888888888888888,\"#fdca26\"],[1.0,\"#f0f921\"]]}],\"heatmap\":[{\"type\":\"heatmap\",\"colorbar\":{\"outlinewidth\":0,\"ticks\":\"\"},\"colorscale\":[[0.0,\"#0d0887\"],[0.1111111111111111,\"#46039f\"],[0.2222222222222222,\"#7201a8\"],[0.3333333333333333,\"#9c179e\"],[0.4444444444444444,\"#bd3786\"],[0.5555555555555556,\"#d8576b\"],[0.6666666666666666,\"#ed7953\"],[0.7777777777777778,\"#fb9f3a\"],[0.8888888888888888,\"#fdca26\"],[1.0,\"#f0f921\"]]}],\"heatmapgl\":[{\"type\":\"heatmapgl\",\"colorbar\":{\"outlinewidth\":0,\"ticks\":\"\"},\"colorscale\":[[0.0,\"#0d0887\"],[0.1111111111111111,\"#46039f\"],[0.2222222222222222,\"#7201a8\"],[0.3333333333333333,\"#9c179e\"],[0.4444444444444444,\"#bd3786\"],[0.5555555555555556,\"#d8576b\"],[0.6666666666666666,\"#ed7953\"],[0.7777777777777778,\"#fb9f3a\"],[0.8888888888888888,\"#fdca26\"],[1.0,\"#f0f921\"]]}],\"contourcarpet\":[{\"type\":\"contourcarpet\",\"colorbar\":{\"outlinewidth\":0,\"ticks\":\"\"}}],\"contour\":[{\"type\":\"contour\",\"colorbar\":{\"outlinewidth\":0,\"ticks\":\"\"},\"colorscale\":[[0.0,\"#0d0887\"],[0.1111111111111111,\"#46039f\"],[0.2222222222222222,\"#7201a8\"],[0.3333333333333333,\"#9c179e\"],[0.4444444444444444,\"#bd3786\"],[0.5555555555555556,\"#d8576b\"],[0.6666666666666666,\"#ed7953\"],[0.7777777777777778,\"#fb9f3a\"],[0.8888888888888888,\"#fdca26\"],[1.0,\"#f0f921\"]]}],\"surface\":[{\"type\":\"surface\",\"colorbar\":{\"outlinewidth\":0,\"ticks\":\"\"},\"colorscale\":[[0.0,\"#0d0887\"],[0.1111111111111111,\"#46039f\"],[0.2222222222222222,\"#7201a8\"],[0.3333333333333333,\"#9c179e\"],[0.4444444444444444,\"#bd3786\"],[0.5555555555555556,\"#d8576b\"],[0.6666666666666666,\"#ed7953\"],[0.7777777777777778,\"#fb9f3a\"],[0.8888888888888888,\"#fdca26\"],[1.0,\"#f0f921\"]]}],\"mesh3d\":[{\"type\":\"mesh3d\",\"colorbar\":{\"outlinewidth\":0,\"ticks\":\"\"}}],\"scatter\":[{\"fillpattern\":{\"fillmode\":\"overlay\",\"size\":10,\"solidity\":0.2},\"type\":\"scatter\"}],\"parcoords\":[{\"type\":\"parcoords\",\"line\":{\"colorbar\":{\"outlinewidth\":0,\"ticks\":\"\"}}}],\"scatterpolargl\":[{\"type\":\"scatterpolargl\",\"marker\":{\"colorbar\":{\"outlinewidth\":0,\"ticks\":\"\"}}}],\"bar\":[{\"error_x\":{\"color\":\"#2a3f5f\"},\"error_y\":{\"color\":\"#2a3f5f\"},\"marker\":{\"line\":{\"color\":\"#E5ECF6\",\"width\":0.5},\"pattern\":{\"fillmode\":\"overlay\",\"size\":10,\"solidity\":0.2}},\"type\":\"bar\"}],\"scattergeo\":[{\"type\":\"scattergeo\",\"marker\":{\"colorbar\":{\"outlinewidth\":0,\"ticks\":\"\"}}}],\"scatterpolar\":[{\"type\":\"scatterpolar\",\"marker\":{\"colorbar\":{\"outlinewidth\":0,\"ticks\":\"\"}}}],\"histogram\":[{\"marker\":{\"pattern\":{\"fillmode\":\"overlay\",\"size\":10,\"solidity\":0.2}},\"type\":\"histogram\"}],\"scattergl\":[{\"type\":\"scattergl\",\"marker\":{\"colorbar\":{\"outlinewidth\":0,\"ticks\":\"\"}}}],\"scatter3d\":[{\"type\":\"scatter3d\",\"line\":{\"colorbar\":{\"outlinewidth\":0,\"ticks\":\"\"}},\"marker\":{\"colorbar\":{\"outlinewidth\":0,\"ticks\":\"\"}}}],\"scattermapbox\":[{\"type\":\"scattermapbox\",\"marker\":{\"colorbar\":{\"outlinewidth\":0,\"ticks\":\"\"}}}],\"scatterternary\":[{\"type\":\"scatterternary\",\"marker\":{\"colorbar\":{\"outlinewidth\":0,\"ticks\":\"\"}}}],\"scattercarpet\":[{\"type\":\"scattercarpet\",\"marker\":{\"colorbar\":{\"outlinewidth\":0,\"ticks\":\"\"}}}],\"carpet\":[{\"aaxis\":{\"endlinecolor\":\"#2a3f5f\",\"gridcolor\":\"white\",\"linecolor\":\"white\",\"minorgridcolor\":\"white\",\"startlinecolor\":\"#2a3f5f\"},\"baxis\":{\"endlinecolor\":\"#2a3f5f\",\"gridcolor\":\"white\",\"linecolor\":\"white\",\"minorgridcolor\":\"white\",\"startlinecolor\":\"#2a3f5f\"},\"type\":\"carpet\"}],\"table\":[{\"cells\":{\"fill\":{\"color\":\"#EBF0F8\"},\"line\":{\"color\":\"white\"}},\"header\":{\"fill\":{\"color\":\"#C8D4E3\"},\"line\":{\"color\":\"white\"}},\"type\":\"table\"}],\"barpolar\":[{\"marker\":{\"line\":{\"color\":\"#E5ECF6\",\"width\":0.5},\"pattern\":{\"fillmode\":\"overlay\",\"size\":10,\"solidity\":0.2}},\"type\":\"barpolar\"}],\"pie\":[{\"automargin\":true,\"type\":\"pie\"}]},\"layout\":{\"autotypenumbers\":\"strict\",\"colorway\":[\"#636efa\",\"#EF553B\",\"#00cc96\",\"#ab63fa\",\"#FFA15A\",\"#19d3f3\",\"#FF6692\",\"#B6E880\",\"#FF97FF\",\"#FECB52\"],\"font\":{\"color\":\"#2a3f5f\"},\"hovermode\":\"closest\",\"hoverlabel\":{\"align\":\"left\"},\"paper_bgcolor\":\"white\",\"plot_bgcolor\":\"#E5ECF6\",\"polar\":{\"bgcolor\":\"#E5ECF6\",\"angularaxis\":{\"gridcolor\":\"white\",\"linecolor\":\"white\",\"ticks\":\"\"},\"radialaxis\":{\"gridcolor\":\"white\",\"linecolor\":\"white\",\"ticks\":\"\"}},\"ternary\":{\"bgcolor\":\"#E5ECF6\",\"aaxis\":{\"gridcolor\":\"white\",\"linecolor\":\"white\",\"ticks\":\"\"},\"baxis\":{\"gridcolor\":\"white\",\"linecolor\":\"white\",\"ticks\":\"\"},\"caxis\":{\"gridcolor\":\"white\",\"linecolor\":\"white\",\"ticks\":\"\"}},\"coloraxis\":{\"colorbar\":{\"outlinewidth\":0,\"ticks\":\"\"}},\"colorscale\":{\"sequential\":[[0.0,\"#0d0887\"],[0.1111111111111111,\"#46039f\"],[0.2222222222222222,\"#7201a8\"],[0.3333333333333333,\"#9c179e\"],[0.4444444444444444,\"#bd3786\"],[0.5555555555555556,\"#d8576b\"],[0.6666666666666666,\"#ed7953\"],[0.7777777777777778,\"#fb9f3a\"],[0.8888888888888888,\"#fdca26\"],[1.0,\"#f0f921\"]],\"sequentialminus\":[[0.0,\"#0d0887\"],[0.1111111111111111,\"#46039f\"],[0.2222222222222222,\"#7201a8\"],[0.3333333333333333,\"#9c179e\"],[0.4444444444444444,\"#bd3786\"],[0.5555555555555556,\"#d8576b\"],[0.6666666666666666,\"#ed7953\"],[0.7777777777777778,\"#fb9f3a\"],[0.8888888888888888,\"#fdca26\"],[1.0,\"#f0f921\"]],\"diverging\":[[0,\"#8e0152\"],[0.1,\"#c51b7d\"],[0.2,\"#de77ae\"],[0.3,\"#f1b6da\"],[0.4,\"#fde0ef\"],[0.5,\"#f7f7f7\"],[0.6,\"#e6f5d0\"],[0.7,\"#b8e186\"],[0.8,\"#7fbc41\"],[0.9,\"#4d9221\"],[1,\"#276419\"]]},\"xaxis\":{\"gridcolor\":\"white\",\"linecolor\":\"white\",\"ticks\":\"\",\"title\":{\"standoff\":15},\"zerolinecolor\":\"white\",\"automargin\":true,\"zerolinewidth\":2},\"yaxis\":{\"gridcolor\":\"white\",\"linecolor\":\"white\",\"ticks\":\"\",\"title\":{\"standoff\":15},\"zerolinecolor\":\"white\",\"automargin\":true,\"zerolinewidth\":2},\"scene\":{\"xaxis\":{\"backgroundcolor\":\"#E5ECF6\",\"gridcolor\":\"white\",\"linecolor\":\"white\",\"showbackground\":true,\"ticks\":\"\",\"zerolinecolor\":\"white\",\"gridwidth\":2},\"yaxis\":{\"backgroundcolor\":\"#E5ECF6\",\"gridcolor\":\"white\",\"linecolor\":\"white\",\"showbackground\":true,\"ticks\":\"\",\"zerolinecolor\":\"white\",\"gridwidth\":2},\"zaxis\":{\"backgroundcolor\":\"#E5ECF6\",\"gridcolor\":\"white\",\"linecolor\":\"white\",\"showbackground\":true,\"ticks\":\"\",\"zerolinecolor\":\"white\",\"gridwidth\":2}},\"shapedefaults\":{\"line\":{\"color\":\"#2a3f5f\"}},\"annotationdefaults\":{\"arrowcolor\":\"#2a3f5f\",\"arrowhead\":0,\"arrowwidth\":1},\"geo\":{\"bgcolor\":\"white\",\"landcolor\":\"#E5ECF6\",\"subunitcolor\":\"white\",\"showland\":true,\"showlakes\":true,\"lakecolor\":\"white\"},\"title\":{\"x\":0.05},\"mapbox\":{\"style\":\"light\"}}},\"shapes\":[{\"layer\":\"below\",\"line\":{\"color\":\"#3b0280\",\"dash\":\"dash\",\"width\":1},\"type\":\"line\",\"x0\":\"2060-02-21T00:00:00\",\"x1\":\"2060-02-21T00:00:00\",\"xref\":\"x\",\"y0\":0,\"y1\":1,\"yref\":\"y domain\"},{\"fillcolor\":\"#DD4040\",\"layer\":\"below\",\"line\":{\"width\":0},\"opacity\":0.2,\"type\":\"rect\",\"x0\":\"2073-10-29T00:00:00\",\"x1\":\"2087-07-07T00:00:00\",\"xref\":\"x\",\"y0\":0,\"y1\":1,\"yref\":\"y domain\"},{\"fillcolor\":\"#DD4040\",\"layer\":\"below\",\"line\":{\"width\":0},\"opacity\":0.2,\"type\":\"rect\",\"x0\":\"2087-07-08T00:00:00\",\"x1\":\"2101-03-16T00:00:00\",\"xref\":\"x\",\"y0\":0,\"y1\":1,\"yref\":\"y domain\"},{\"fillcolor\":\"#DD4040\",\"layer\":\"below\",\"line\":{\"width\":0},\"opacity\":0.2,\"type\":\"rect\",\"x0\":\"2101-03-17T00:00:00\",\"x1\":\"2107-09-06T00:00:00\",\"xref\":\"x\",\"y0\":0,\"y1\":1,\"yref\":\"y domain\"}]},                        {\"responsive\": true}                    ).then(function(){\n",
       "                            \n",
       "var gd = document.getElementById('5e45fe7b-1bf7-4cb7-bba8-ee0379a591bc');\n",
       "var x = new MutationObserver(function (mutations, observer) {{\n",
       "        var display = window.getComputedStyle(gd).display;\n",
       "        if (!display || display === 'none') {{\n",
       "            console.log([gd, 'removed!']);\n",
       "            Plotly.purge(gd);\n",
       "            observer.disconnect();\n",
       "        }}\n",
       "}});\n",
       "\n",
       "// Listen for the removal of the full notebook cells\n",
       "var notebookContainer = gd.closest('#notebook-container');\n",
       "if (notebookContainer) {{\n",
       "    x.observe(notebookContainer, {childList: true});\n",
       "}}\n",
       "\n",
       "// Listen for the clearing of the current output cell\n",
       "var outputEl = gd.closest('.output');\n",
       "if (outputEl) {{\n",
       "    x.observe(outputEl, {childList: true});\n",
       "}}\n",
       "\n",
       "                        })                };                });            </script>        </div>"
      ]
     },
     "metadata": {},
     "output_type": "display_data"
    },
    {
     "data": {
      "application/vnd.plotly.v1+json": {
       "config": {
        "plotlyServerURL": "https://plot.ly"
       },
       "data": [
        {
         "hoverinfo": "skip",
         "line": {
          "color": "rgba(0.23137254901960785, 0.00784313725490196, 0.5019607843137255, 0.2)",
          "width": 9
         },
         "mode": "lines",
         "showlegend": false,
         "type": "scatter",
         "x": [
          "2073-10-29T00:00:00",
          "2087-07-07T00:00:00"
         ],
         "y": [
          0.5164246383574429,
          0.5164246383574429
         ]
        },
        {
         "hoverinfo": "skip",
         "line": {
          "color": "rgba(0.23137254901960785, 0.00784313725490196, 0.5019607843137255, 0.2)",
          "width": 9
         },
         "mode": "lines",
         "showlegend": false,
         "type": "scatter",
         "x": [
          "2087-07-08T00:00:00",
          "2101-03-16T00:00:00"
         ],
         "y": [
          0.5284246383574429,
          0.5284246383574429
         ]
        },
        {
         "hoverinfo": "skip",
         "line": {
          "color": "rgba(0.23137254901960785, 0.00784313725490196, 0.5019607843137255, 0.2)",
          "width": 9
         },
         "mode": "lines",
         "showlegend": false,
         "type": "scatter",
         "x": [
          "2101-03-17T00:00:00",
          "2107-09-06T00:00:00"
         ],
         "y": [
          0.5416297123532146,
          0.5416297123532146
         ]
        },
        {
         "hoverinfo": "skip",
         "legendgroup": "1",
         "line": {
          "color": "#00c8e5",
          "shape": "hv",
          "width": 2
         },
         "mode": "lines",
         "name": "Reference period",
         "type": "scatter",
         "x": [
          "2019-01-27T00:00:00",
          "2032-10-05T00:00:00",
          "2046-06-14T00:00:00",
          "2060-02-20T00:00:00"
         ],
         "y": [
          0.5344246383574429,
          0.46335537630824614,
          0.3695753616425571,
          0.3695753616425571
         ]
        },
        {
         "hoverinfo": "skip",
         "legendgroup": "1",
         "line": {
          "color": "#3b0280",
          "shape": "hv",
          "width": 2
         },
         "mode": "lines",
         "name": "Analysis period",
         "type": "scatter",
         "x": [
          "2060-02-21T00:00:00",
          "2073-10-29T00:00:00",
          "2087-07-08T00:00:00",
          "2101-03-17T00:00:00",
          "2107-09-06T00:00:00"
         ],
         "y": [
          0.5334246383574429,
          0.5164246383574429,
          0.5284246383574429,
          0.5416297123532146,
          0.5416297123532146
         ]
        },
        {
         "customdata": [
          [
           "[0:4999]",
           "Jan-27-2019",
           "Oct-04-2032",
           "0.5344",
           "<b style=\"color:#00c8e5;line-height:60px\">Reference</b>",
           "",
           ""
          ],
          [
           "[5000:9999]",
           "Oct-05-2032",
           "Jun-13-2046",
           "0.4634",
           "<b style=\"color:#00c8e5;line-height:60px\">Reference</b>",
           "",
           ""
          ],
          [
           "[10000:14999]",
           "Jun-14-2046",
           "Feb-20-2060",
           "0.3696",
           "<b style=\"color:#00c8e5;line-height:60px\">Reference</b>",
           "",
           ""
          ]
         ],
         "hovertemplate": "%{customdata[4]} &nbsp; &nbsp; <span style=\"color:#AD0000\">%{customdata[5]}</span><br>Chunk: <b>%{customdata[0]}</b> &nbsp; &nbsp; From <b>%{customdata[1]}</b> to <b>%{customdata[2]}</b> &nbsp; &nbsp; <br>KS statistic: <b>%{customdata[3]}</b>  &nbsp; &nbsp; %{customdata[6]} <extra></extra>",
         "marker": {
          "color": "#00c8e5",
          "size": 6,
          "symbol": "square"
         },
         "mode": "markers",
         "name": "Reference",
         "showlegend": false,
         "type": "scatter",
         "x": [
          "2025-11-30T12:00:00",
          "2039-08-09T12:00:00",
          "2053-04-17T12:00:00"
         ],
         "y": [
          0.5344246383574429,
          0.46335537630824614,
          0.3695753616425571
         ]
        },
        {
         "customdata": [
          [
           "[15000:19999]",
           "Feb-21-2060",
           "Oct-28-2073",
           "0.5334",
           "<b style=\"color:#3b0280;line-height:60px\">Analysis</b>",
           "",
           ""
          ]
         ],
         "hovertemplate": "%{customdata[4]} &nbsp; &nbsp; <span style=\"color:#AD0000\">%{customdata[5]}</span><br>Chunk: <b>%{customdata[0]}</b> &nbsp; &nbsp; From <b>%{customdata[1]}</b> to <b>%{customdata[2]}</b> &nbsp; &nbsp; <br>KS statistic: <b>%{customdata[3]}</b>  &nbsp; &nbsp; %{customdata[6]} <extra></extra>",
         "marker": {
          "color": "#3b0280",
          "size": 6,
          "symbol": "square"
         },
         "mode": "markers",
         "name": "No data drift",
         "showlegend": false,
         "type": "scatter",
         "x": [
          "2066-12-25T00:00:00"
         ],
         "y": [
          0.5334246383574429
         ]
        },
        {
         "customdata": [
          [
           "[20000:24999]",
           "Oct-29-2073",
           "Jul-07-2087",
           "0.5164",
           "<b style=\"color:#3b0280;line-height:60px\">Analysis</b>",
           "⚠ <b>Drift detected</b>",
           ""
          ],
          [
           "[25000:29999]",
           "Jul-08-2087",
           "Mar-16-2101",
           "0.5284",
           "<b style=\"color:#3b0280;line-height:60px\">Analysis</b>",
           "⚠ <b>Drift detected</b>",
           ""
          ],
          [
           "[30000:32364]",
           "Mar-17-2101",
           "Sep-06-2107",
           "0.5416",
           "<b style=\"color:#3b0280;line-height:60px\">Analysis</b>",
           "⚠ <b>Drift detected</b>",
           ""
          ]
         ],
         "hovertemplate": "%{customdata[4]} &nbsp; &nbsp; <span style=\"color:#AD0000\">%{customdata[5]}</span><br>Chunk: <b>%{customdata[0]}</b> &nbsp; &nbsp; From <b>%{customdata[1]}</b> to <b>%{customdata[2]}</b> &nbsp; &nbsp; <br>KS statistic: <b>%{customdata[3]}</b>  &nbsp; &nbsp; %{customdata[6]} <extra></extra>",
         "marker": {
          "color": "#DD4040",
          "size": 6,
          "symbol": "diamond"
         },
         "mode": "markers",
         "name": "Data drift",
         "showlegend": false,
         "type": "scatter",
         "x": [
          "2080-09-01T12:00:00",
          "2094-05-11T12:00:00",
          "2104-06-11T00:00:00"
         ],
         "y": [
          0.5164246383574429,
          0.5284246383574429,
          0.5416297123532146
         ]
        },
        {
         "legendgroup": "1",
         "line": {
          "color": "rgba(0.23137254901960785, 0.00784313725490196, 0.5019607843137255, 0.2)",
          "width": 9
         },
         "mode": "lines",
         "name": "P-value is signficant",
         "type": "scatter",
         "x": [
          [
           1764504000000000000
          ],
          [
           4242585600000000000
          ]
         ],
         "y": [
          null,
          null
         ]
        },
        {
         "line": {
          "color": "rgba(0,0,0,0)"
         },
         "mode": "lines",
         "showlegend": false,
         "type": "scatter",
         "x": [
          [
           1764504000000000000
          ],
          [
           4242585600000000000
          ]
         ],
         "y": [
          null,
          null
         ]
        },
        {
         "fill": "tonexty",
         "fillcolor": "rgba(0.8666666666666667, 0.25098039215686274, 0.25098039215686274, 0.2)",
         "legendgroup": "1",
         "line": {
          "color": "rgba(0,0,0,0)"
         },
         "marker": {
          "color": "#DD4040",
          "size": 6,
          "symbol": "diamond"
         },
         "mode": "lines+markers",
         "name": "Data drift",
         "type": "scatter",
         "x": [
          [
           1764504000000000000
          ],
          [
           4242585600000000000
          ]
         ],
         "y": [
          null,
          null
         ]
        }
       ],
       "layout": {
        "hoverlabel": {
         "bgcolor": "white",
         "font": {
          "size": 14
         }
        },
        "legend": {
         "itemclick": false,
         "itemdoubleclick": false,
         "orientation": "h",
         "traceorder": "normal",
         "x": 0,
         "xanchor": "left",
         "y": -0.25,
         "yanchor": "top"
        },
        "paper_bgcolor": "rgba(255,255,255,1)",
        "plot_bgcolor": "rgba(255,255,255,1)",
        "shapes": [
         {
          "layer": "below",
          "line": {
           "color": "#3b0280",
           "dash": "dash",
           "width": 1
          },
          "type": "line",
          "x0": "2060-02-21T00:00:00",
          "x1": "2060-02-21T00:00:00",
          "xref": "x",
          "y0": 0,
          "y1": 1,
          "yref": "y domain"
         },
         {
          "fillcolor": "#DD4040",
          "layer": "below",
          "line": {
           "width": 0
          },
          "opacity": 0.2,
          "type": "rect",
          "x0": "2073-10-29T00:00:00",
          "x1": "2087-07-07T00:00:00",
          "xref": "x",
          "y0": 0,
          "y1": 1,
          "yref": "y domain"
         },
         {
          "fillcolor": "#DD4040",
          "layer": "below",
          "line": {
           "width": 0
          },
          "opacity": 0.2,
          "type": "rect",
          "x0": "2087-07-08T00:00:00",
          "x1": "2101-03-16T00:00:00",
          "xref": "x",
          "y0": 0,
          "y1": 1,
          "yref": "y domain"
         },
         {
          "fillcolor": "#DD4040",
          "layer": "below",
          "line": {
           "width": 0
          },
          "opacity": 0.2,
          "type": "rect",
          "x0": "2101-03-17T00:00:00",
          "x1": "2107-09-06T00:00:00",
          "xref": "x",
          "y0": 0,
          "y1": 1,
          "yref": "y domain"
         }
        ],
        "template": {
         "data": {
          "bar": [
           {
            "error_x": {
             "color": "#2a3f5f"
            },
            "error_y": {
             "color": "#2a3f5f"
            },
            "marker": {
             "line": {
              "color": "#E5ECF6",
              "width": 0.5
             },
             "pattern": {
              "fillmode": "overlay",
              "size": 10,
              "solidity": 0.2
             }
            },
            "type": "bar"
           }
          ],
          "barpolar": [
           {
            "marker": {
             "line": {
              "color": "#E5ECF6",
              "width": 0.5
             },
             "pattern": {
              "fillmode": "overlay",
              "size": 10,
              "solidity": 0.2
             }
            },
            "type": "barpolar"
           }
          ],
          "carpet": [
           {
            "aaxis": {
             "endlinecolor": "#2a3f5f",
             "gridcolor": "white",
             "linecolor": "white",
             "minorgridcolor": "white",
             "startlinecolor": "#2a3f5f"
            },
            "baxis": {
             "endlinecolor": "#2a3f5f",
             "gridcolor": "white",
             "linecolor": "white",
             "minorgridcolor": "white",
             "startlinecolor": "#2a3f5f"
            },
            "type": "carpet"
           }
          ],
          "choropleth": [
           {
            "colorbar": {
             "outlinewidth": 0,
             "ticks": ""
            },
            "type": "choropleth"
           }
          ],
          "contour": [
           {
            "colorbar": {
             "outlinewidth": 0,
             "ticks": ""
            },
            "colorscale": [
             [
              0,
              "#0d0887"
             ],
             [
              0.1111111111111111,
              "#46039f"
             ],
             [
              0.2222222222222222,
              "#7201a8"
             ],
             [
              0.3333333333333333,
              "#9c179e"
             ],
             [
              0.4444444444444444,
              "#bd3786"
             ],
             [
              0.5555555555555556,
              "#d8576b"
             ],
             [
              0.6666666666666666,
              "#ed7953"
             ],
             [
              0.7777777777777778,
              "#fb9f3a"
             ],
             [
              0.8888888888888888,
              "#fdca26"
             ],
             [
              1,
              "#f0f921"
             ]
            ],
            "type": "contour"
           }
          ],
          "contourcarpet": [
           {
            "colorbar": {
             "outlinewidth": 0,
             "ticks": ""
            },
            "type": "contourcarpet"
           }
          ],
          "heatmap": [
           {
            "colorbar": {
             "outlinewidth": 0,
             "ticks": ""
            },
            "colorscale": [
             [
              0,
              "#0d0887"
             ],
             [
              0.1111111111111111,
              "#46039f"
             ],
             [
              0.2222222222222222,
              "#7201a8"
             ],
             [
              0.3333333333333333,
              "#9c179e"
             ],
             [
              0.4444444444444444,
              "#bd3786"
             ],
             [
              0.5555555555555556,
              "#d8576b"
             ],
             [
              0.6666666666666666,
              "#ed7953"
             ],
             [
              0.7777777777777778,
              "#fb9f3a"
             ],
             [
              0.8888888888888888,
              "#fdca26"
             ],
             [
              1,
              "#f0f921"
             ]
            ],
            "type": "heatmap"
           }
          ],
          "heatmapgl": [
           {
            "colorbar": {
             "outlinewidth": 0,
             "ticks": ""
            },
            "colorscale": [
             [
              0,
              "#0d0887"
             ],
             [
              0.1111111111111111,
              "#46039f"
             ],
             [
              0.2222222222222222,
              "#7201a8"
             ],
             [
              0.3333333333333333,
              "#9c179e"
             ],
             [
              0.4444444444444444,
              "#bd3786"
             ],
             [
              0.5555555555555556,
              "#d8576b"
             ],
             [
              0.6666666666666666,
              "#ed7953"
             ],
             [
              0.7777777777777778,
              "#fb9f3a"
             ],
             [
              0.8888888888888888,
              "#fdca26"
             ],
             [
              1,
              "#f0f921"
             ]
            ],
            "type": "heatmapgl"
           }
          ],
          "histogram": [
           {
            "marker": {
             "pattern": {
              "fillmode": "overlay",
              "size": 10,
              "solidity": 0.2
             }
            },
            "type": "histogram"
           }
          ],
          "histogram2d": [
           {
            "colorbar": {
             "outlinewidth": 0,
             "ticks": ""
            },
            "colorscale": [
             [
              0,
              "#0d0887"
             ],
             [
              0.1111111111111111,
              "#46039f"
             ],
             [
              0.2222222222222222,
              "#7201a8"
             ],
             [
              0.3333333333333333,
              "#9c179e"
             ],
             [
              0.4444444444444444,
              "#bd3786"
             ],
             [
              0.5555555555555556,
              "#d8576b"
             ],
             [
              0.6666666666666666,
              "#ed7953"
             ],
             [
              0.7777777777777778,
              "#fb9f3a"
             ],
             [
              0.8888888888888888,
              "#fdca26"
             ],
             [
              1,
              "#f0f921"
             ]
            ],
            "type": "histogram2d"
           }
          ],
          "histogram2dcontour": [
           {
            "colorbar": {
             "outlinewidth": 0,
             "ticks": ""
            },
            "colorscale": [
             [
              0,
              "#0d0887"
             ],
             [
              0.1111111111111111,
              "#46039f"
             ],
             [
              0.2222222222222222,
              "#7201a8"
             ],
             [
              0.3333333333333333,
              "#9c179e"
             ],
             [
              0.4444444444444444,
              "#bd3786"
             ],
             [
              0.5555555555555556,
              "#d8576b"
             ],
             [
              0.6666666666666666,
              "#ed7953"
             ],
             [
              0.7777777777777778,
              "#fb9f3a"
             ],
             [
              0.8888888888888888,
              "#fdca26"
             ],
             [
              1,
              "#f0f921"
             ]
            ],
            "type": "histogram2dcontour"
           }
          ],
          "mesh3d": [
           {
            "colorbar": {
             "outlinewidth": 0,
             "ticks": ""
            },
            "type": "mesh3d"
           }
          ],
          "parcoords": [
           {
            "line": {
             "colorbar": {
              "outlinewidth": 0,
              "ticks": ""
             }
            },
            "type": "parcoords"
           }
          ],
          "pie": [
           {
            "automargin": true,
            "type": "pie"
           }
          ],
          "scatter": [
           {
            "fillpattern": {
             "fillmode": "overlay",
             "size": 10,
             "solidity": 0.2
            },
            "type": "scatter"
           }
          ],
          "scatter3d": [
           {
            "line": {
             "colorbar": {
              "outlinewidth": 0,
              "ticks": ""
             }
            },
            "marker": {
             "colorbar": {
              "outlinewidth": 0,
              "ticks": ""
             }
            },
            "type": "scatter3d"
           }
          ],
          "scattercarpet": [
           {
            "marker": {
             "colorbar": {
              "outlinewidth": 0,
              "ticks": ""
             }
            },
            "type": "scattercarpet"
           }
          ],
          "scattergeo": [
           {
            "marker": {
             "colorbar": {
              "outlinewidth": 0,
              "ticks": ""
             }
            },
            "type": "scattergeo"
           }
          ],
          "scattergl": [
           {
            "marker": {
             "colorbar": {
              "outlinewidth": 0,
              "ticks": ""
             }
            },
            "type": "scattergl"
           }
          ],
          "scattermapbox": [
           {
            "marker": {
             "colorbar": {
              "outlinewidth": 0,
              "ticks": ""
             }
            },
            "type": "scattermapbox"
           }
          ],
          "scatterpolar": [
           {
            "marker": {
             "colorbar": {
              "outlinewidth": 0,
              "ticks": ""
             }
            },
            "type": "scatterpolar"
           }
          ],
          "scatterpolargl": [
           {
            "marker": {
             "colorbar": {
              "outlinewidth": 0,
              "ticks": ""
             }
            },
            "type": "scatterpolargl"
           }
          ],
          "scatterternary": [
           {
            "marker": {
             "colorbar": {
              "outlinewidth": 0,
              "ticks": ""
             }
            },
            "type": "scatterternary"
           }
          ],
          "surface": [
           {
            "colorbar": {
             "outlinewidth": 0,
             "ticks": ""
            },
            "colorscale": [
             [
              0,
              "#0d0887"
             ],
             [
              0.1111111111111111,
              "#46039f"
             ],
             [
              0.2222222222222222,
              "#7201a8"
             ],
             [
              0.3333333333333333,
              "#9c179e"
             ],
             [
              0.4444444444444444,
              "#bd3786"
             ],
             [
              0.5555555555555556,
              "#d8576b"
             ],
             [
              0.6666666666666666,
              "#ed7953"
             ],
             [
              0.7777777777777778,
              "#fb9f3a"
             ],
             [
              0.8888888888888888,
              "#fdca26"
             ],
             [
              1,
              "#f0f921"
             ]
            ],
            "type": "surface"
           }
          ],
          "table": [
           {
            "cells": {
             "fill": {
              "color": "#EBF0F8"
             },
             "line": {
              "color": "white"
             }
            },
            "header": {
             "fill": {
              "color": "#C8D4E3"
             },
             "line": {
              "color": "white"
             }
            },
            "type": "table"
           }
          ]
         },
         "layout": {
          "annotationdefaults": {
           "arrowcolor": "#2a3f5f",
           "arrowhead": 0,
           "arrowwidth": 1
          },
          "autotypenumbers": "strict",
          "coloraxis": {
           "colorbar": {
            "outlinewidth": 0,
            "ticks": ""
           }
          },
          "colorscale": {
           "diverging": [
            [
             0,
             "#8e0152"
            ],
            [
             0.1,
             "#c51b7d"
            ],
            [
             0.2,
             "#de77ae"
            ],
            [
             0.3,
             "#f1b6da"
            ],
            [
             0.4,
             "#fde0ef"
            ],
            [
             0.5,
             "#f7f7f7"
            ],
            [
             0.6,
             "#e6f5d0"
            ],
            [
             0.7,
             "#b8e186"
            ],
            [
             0.8,
             "#7fbc41"
            ],
            [
             0.9,
             "#4d9221"
            ],
            [
             1,
             "#276419"
            ]
           ],
           "sequential": [
            [
             0,
             "#0d0887"
            ],
            [
             0.1111111111111111,
             "#46039f"
            ],
            [
             0.2222222222222222,
             "#7201a8"
            ],
            [
             0.3333333333333333,
             "#9c179e"
            ],
            [
             0.4444444444444444,
             "#bd3786"
            ],
            [
             0.5555555555555556,
             "#d8576b"
            ],
            [
             0.6666666666666666,
             "#ed7953"
            ],
            [
             0.7777777777777778,
             "#fb9f3a"
            ],
            [
             0.8888888888888888,
             "#fdca26"
            ],
            [
             1,
             "#f0f921"
            ]
           ],
           "sequentialminus": [
            [
             0,
             "#0d0887"
            ],
            [
             0.1111111111111111,
             "#46039f"
            ],
            [
             0.2222222222222222,
             "#7201a8"
            ],
            [
             0.3333333333333333,
             "#9c179e"
            ],
            [
             0.4444444444444444,
             "#bd3786"
            ],
            [
             0.5555555555555556,
             "#d8576b"
            ],
            [
             0.6666666666666666,
             "#ed7953"
            ],
            [
             0.7777777777777778,
             "#fb9f3a"
            ],
            [
             0.8888888888888888,
             "#fdca26"
            ],
            [
             1,
             "#f0f921"
            ]
           ]
          },
          "colorway": [
           "#636efa",
           "#EF553B",
           "#00cc96",
           "#ab63fa",
           "#FFA15A",
           "#19d3f3",
           "#FF6692",
           "#B6E880",
           "#FF97FF",
           "#FECB52"
          ],
          "font": {
           "color": "#2a3f5f"
          },
          "geo": {
           "bgcolor": "white",
           "lakecolor": "white",
           "landcolor": "#E5ECF6",
           "showlakes": true,
           "showland": true,
           "subunitcolor": "white"
          },
          "hoverlabel": {
           "align": "left"
          },
          "hovermode": "closest",
          "mapbox": {
           "style": "light"
          },
          "paper_bgcolor": "white",
          "plot_bgcolor": "#E5ECF6",
          "polar": {
           "angularaxis": {
            "gridcolor": "white",
            "linecolor": "white",
            "ticks": ""
           },
           "bgcolor": "#E5ECF6",
           "radialaxis": {
            "gridcolor": "white",
            "linecolor": "white",
            "ticks": ""
           }
          },
          "scene": {
           "xaxis": {
            "backgroundcolor": "#E5ECF6",
            "gridcolor": "white",
            "gridwidth": 2,
            "linecolor": "white",
            "showbackground": true,
            "ticks": "",
            "zerolinecolor": "white"
           },
           "yaxis": {
            "backgroundcolor": "#E5ECF6",
            "gridcolor": "white",
            "gridwidth": 2,
            "linecolor": "white",
            "showbackground": true,
            "ticks": "",
            "zerolinecolor": "white"
           },
           "zaxis": {
            "backgroundcolor": "#E5ECF6",
            "gridcolor": "white",
            "gridwidth": 2,
            "linecolor": "white",
            "showbackground": true,
            "ticks": "",
            "zerolinecolor": "white"
           }
          },
          "shapedefaults": {
           "line": {
            "color": "#2a3f5f"
           }
          },
          "ternary": {
           "aaxis": {
            "gridcolor": "white",
            "linecolor": "white",
            "ticks": ""
           },
           "baxis": {
            "gridcolor": "white",
            "linecolor": "white",
            "ticks": ""
           },
           "bgcolor": "#E5ECF6",
           "caxis": {
            "gridcolor": "white",
            "linecolor": "white",
            "ticks": ""
           }
          },
          "title": {
           "x": 0.05
          },
          "xaxis": {
           "automargin": true,
           "gridcolor": "white",
           "linecolor": "white",
           "ticks": "",
           "title": {
            "standoff": 15
           },
           "zerolinecolor": "white",
           "zerolinewidth": 2
          },
          "yaxis": {
           "automargin": true,
           "gridcolor": "white",
           "linecolor": "white",
           "ticks": "",
           "title": {
            "standoff": 15
           },
           "zerolinecolor": "white",
           "zerolinewidth": 2
          }
         }
        },
        "title": {
         "text": "KS statistic for price"
        },
        "xaxis": {
         "linecolor": "#666666",
         "mirror": true,
         "showgrid": false,
         "title": {
          "text": "Time"
         },
         "zeroline": false
        },
        "yaxis": {
         "linecolor": "#666666",
         "mirror": true,
         "showgrid": false,
         "title": {
          "text": "KS statistic"
         },
         "zeroline": false
        }
       }
      },
      "text/html": [
       "<div>                            <div id=\"384a3517-582b-402a-9013-2a5f07f64cd7\" class=\"plotly-graph-div\" style=\"height:525px; width:100%;\"></div>            <script type=\"text/javascript\">                require([\"plotly\"], function(Plotly) {                    window.PLOTLYENV=window.PLOTLYENV || {};                                    if (document.getElementById(\"384a3517-582b-402a-9013-2a5f07f64cd7\")) {                    Plotly.newPlot(                        \"384a3517-582b-402a-9013-2a5f07f64cd7\",                        [{\"hoverinfo\":\"skip\",\"line\":{\"color\":\"rgba(0.23137254901960785, 0.00784313725490196, 0.5019607843137255, 0.2)\",\"width\":9},\"mode\":\"lines\",\"showlegend\":false,\"x\":[\"2073-10-29T00:00:00\",\"2087-07-07T00:00:00\"],\"y\":[0.5164246383574429,0.5164246383574429],\"type\":\"scatter\"},{\"hoverinfo\":\"skip\",\"line\":{\"color\":\"rgba(0.23137254901960785, 0.00784313725490196, 0.5019607843137255, 0.2)\",\"width\":9},\"mode\":\"lines\",\"showlegend\":false,\"x\":[\"2087-07-08T00:00:00\",\"2101-03-16T00:00:00\"],\"y\":[0.5284246383574429,0.5284246383574429],\"type\":\"scatter\"},{\"hoverinfo\":\"skip\",\"line\":{\"color\":\"rgba(0.23137254901960785, 0.00784313725490196, 0.5019607843137255, 0.2)\",\"width\":9},\"mode\":\"lines\",\"showlegend\":false,\"x\":[\"2101-03-17T00:00:00\",\"2107-09-06T00:00:00\"],\"y\":[0.5416297123532146,0.5416297123532146],\"type\":\"scatter\"},{\"hoverinfo\":\"skip\",\"legendgroup\":\"1\",\"line\":{\"color\":\"#00c8e5\",\"shape\":\"hv\",\"width\":2},\"mode\":\"lines\",\"name\":\"Reference period\",\"x\":[\"2019-01-27T00:00:00\",\"2032-10-05T00:00:00\",\"2046-06-14T00:00:00\",\"2060-02-20T00:00:00\"],\"y\":[0.5344246383574429,0.46335537630824614,0.3695753616425571,0.3695753616425571],\"type\":\"scatter\"},{\"hoverinfo\":\"skip\",\"legendgroup\":\"1\",\"line\":{\"color\":\"#3b0280\",\"shape\":\"hv\",\"width\":2},\"mode\":\"lines\",\"name\":\"Analysis period\",\"x\":[\"2060-02-21T00:00:00\",\"2073-10-29T00:00:00\",\"2087-07-08T00:00:00\",\"2101-03-17T00:00:00\",\"2107-09-06T00:00:00\"],\"y\":[0.5334246383574429,0.5164246383574429,0.5284246383574429,0.5416297123532146,0.5416297123532146],\"type\":\"scatter\"},{\"customdata\":[[\"[0:4999]\",\"Jan-27-2019\",\"Oct-04-2032\",\"0.5344\",\"<b style=\\\"color:#00c8e5;line-height:60px\\\">Reference</b>\",\"\",\"\"],[\"[5000:9999]\",\"Oct-05-2032\",\"Jun-13-2046\",\"0.4634\",\"<b style=\\\"color:#00c8e5;line-height:60px\\\">Reference</b>\",\"\",\"\"],[\"[10000:14999]\",\"Jun-14-2046\",\"Feb-20-2060\",\"0.3696\",\"<b style=\\\"color:#00c8e5;line-height:60px\\\">Reference</b>\",\"\",\"\"]],\"hovertemplate\":\"%{customdata[4]} &nbsp; &nbsp; <span style=\\\"color:#AD0000\\\">%{customdata[5]}</span><br>Chunk: <b>%{customdata[0]}</b> &nbsp; &nbsp; From <b>%{customdata[1]}</b> to <b>%{customdata[2]}</b> &nbsp; &nbsp; <br>KS statistic: <b>%{customdata[3]}</b>  &nbsp; &nbsp; %{customdata[6]} <extra></extra>\",\"marker\":{\"color\":\"#00c8e5\",\"size\":6,\"symbol\":\"square\"},\"mode\":\"markers\",\"name\":\"Reference\",\"showlegend\":false,\"x\":[\"2025-11-30T12:00:00\",\"2039-08-09T12:00:00\",\"2053-04-17T12:00:00\"],\"y\":[0.5344246383574429,0.46335537630824614,0.3695753616425571],\"type\":\"scatter\"},{\"customdata\":[[\"[15000:19999]\",\"Feb-21-2060\",\"Oct-28-2073\",\"0.5334\",\"<b style=\\\"color:#3b0280;line-height:60px\\\">Analysis</b>\",\"\",\"\"]],\"hovertemplate\":\"%{customdata[4]} &nbsp; &nbsp; <span style=\\\"color:#AD0000\\\">%{customdata[5]}</span><br>Chunk: <b>%{customdata[0]}</b> &nbsp; &nbsp; From <b>%{customdata[1]}</b> to <b>%{customdata[2]}</b> &nbsp; &nbsp; <br>KS statistic: <b>%{customdata[3]}</b>  &nbsp; &nbsp; %{customdata[6]} <extra></extra>\",\"marker\":{\"color\":\"#3b0280\",\"size\":6,\"symbol\":\"square\"},\"mode\":\"markers\",\"name\":\"No data drift\",\"showlegend\":false,\"x\":[\"2066-12-25T00:00:00\"],\"y\":[0.5334246383574429],\"type\":\"scatter\"},{\"customdata\":[[\"[20000:24999]\",\"Oct-29-2073\",\"Jul-07-2087\",\"0.5164\",\"<b style=\\\"color:#3b0280;line-height:60px\\\">Analysis</b>\",\"\\u26a0 <b>Drift detected</b>\",\"\"],[\"[25000:29999]\",\"Jul-08-2087\",\"Mar-16-2101\",\"0.5284\",\"<b style=\\\"color:#3b0280;line-height:60px\\\">Analysis</b>\",\"\\u26a0 <b>Drift detected</b>\",\"\"],[\"[30000:32364]\",\"Mar-17-2101\",\"Sep-06-2107\",\"0.5416\",\"<b style=\\\"color:#3b0280;line-height:60px\\\">Analysis</b>\",\"\\u26a0 <b>Drift detected</b>\",\"\"]],\"hovertemplate\":\"%{customdata[4]} &nbsp; &nbsp; <span style=\\\"color:#AD0000\\\">%{customdata[5]}</span><br>Chunk: <b>%{customdata[0]}</b> &nbsp; &nbsp; From <b>%{customdata[1]}</b> to <b>%{customdata[2]}</b> &nbsp; &nbsp; <br>KS statistic: <b>%{customdata[3]}</b>  &nbsp; &nbsp; %{customdata[6]} <extra></extra>\",\"marker\":{\"color\":\"#DD4040\",\"size\":6,\"symbol\":\"diamond\"},\"mode\":\"markers\",\"name\":\"Data drift\",\"showlegend\":false,\"x\":[\"2080-09-01T12:00:00\",\"2094-05-11T12:00:00\",\"2104-06-11T00:00:00\"],\"y\":[0.5164246383574429,0.5284246383574429,0.5416297123532146],\"type\":\"scatter\"},{\"legendgroup\":\"1\",\"line\":{\"color\":\"rgba(0.23137254901960785, 0.00784313725490196, 0.5019607843137255, 0.2)\",\"width\":9},\"mode\":\"lines\",\"name\":\"P-value is signficant\",\"x\":[[1764504000000000000],[4242585600000000000]],\"y\":[null,null],\"type\":\"scatter\"},{\"line\":{\"color\":\"rgba(0,0,0,0)\"},\"mode\":\"lines\",\"showlegend\":false,\"x\":[[1764504000000000000],[4242585600000000000]],\"y\":[null,null],\"type\":\"scatter\"},{\"fill\":\"tonexty\",\"fillcolor\":\"rgba(0.8666666666666667, 0.25098039215686274, 0.25098039215686274, 0.2)\",\"legendgroup\":\"1\",\"line\":{\"color\":\"rgba(0,0,0,0)\"},\"marker\":{\"color\":\"#DD4040\",\"size\":6,\"symbol\":\"diamond\"},\"mode\":\"lines+markers\",\"name\":\"Data drift\",\"x\":[[1764504000000000000],[4242585600000000000]],\"y\":[null,null],\"type\":\"scatter\"}],                        {\"hoverlabel\":{\"bgcolor\":\"white\",\"font\":{\"size\":14}},\"legend\":{\"itemclick\":false,\"itemdoubleclick\":false,\"traceorder\":\"normal\",\"yanchor\":\"top\",\"y\":-0.25,\"xanchor\":\"left\",\"x\":0,\"orientation\":\"h\"},\"paper_bgcolor\":\"rgba(255,255,255,1)\",\"plot_bgcolor\":\"rgba(255,255,255,1)\",\"title\":{\"text\":\"KS statistic for price\"},\"xaxis\":{\"linecolor\":\"#666666\",\"mirror\":true,\"showgrid\":false,\"title\":{\"text\":\"Time\"},\"zeroline\":false},\"yaxis\":{\"linecolor\":\"#666666\",\"mirror\":true,\"showgrid\":false,\"title\":{\"text\":\"KS statistic\"},\"zeroline\":false},\"template\":{\"data\":{\"histogram2dcontour\":[{\"type\":\"histogram2dcontour\",\"colorbar\":{\"outlinewidth\":0,\"ticks\":\"\"},\"colorscale\":[[0.0,\"#0d0887\"],[0.1111111111111111,\"#46039f\"],[0.2222222222222222,\"#7201a8\"],[0.3333333333333333,\"#9c179e\"],[0.4444444444444444,\"#bd3786\"],[0.5555555555555556,\"#d8576b\"],[0.6666666666666666,\"#ed7953\"],[0.7777777777777778,\"#fb9f3a\"],[0.8888888888888888,\"#fdca26\"],[1.0,\"#f0f921\"]]}],\"choropleth\":[{\"type\":\"choropleth\",\"colorbar\":{\"outlinewidth\":0,\"ticks\":\"\"}}],\"histogram2d\":[{\"type\":\"histogram2d\",\"colorbar\":{\"outlinewidth\":0,\"ticks\":\"\"},\"colorscale\":[[0.0,\"#0d0887\"],[0.1111111111111111,\"#46039f\"],[0.2222222222222222,\"#7201a8\"],[0.3333333333333333,\"#9c179e\"],[0.4444444444444444,\"#bd3786\"],[0.5555555555555556,\"#d8576b\"],[0.6666666666666666,\"#ed7953\"],[0.7777777777777778,\"#fb9f3a\"],[0.8888888888888888,\"#fdca26\"],[1.0,\"#f0f921\"]]}],\"heatmap\":[{\"type\":\"heatmap\",\"colorbar\":{\"outlinewidth\":0,\"ticks\":\"\"},\"colorscale\":[[0.0,\"#0d0887\"],[0.1111111111111111,\"#46039f\"],[0.2222222222222222,\"#7201a8\"],[0.3333333333333333,\"#9c179e\"],[0.4444444444444444,\"#bd3786\"],[0.5555555555555556,\"#d8576b\"],[0.6666666666666666,\"#ed7953\"],[0.7777777777777778,\"#fb9f3a\"],[0.8888888888888888,\"#fdca26\"],[1.0,\"#f0f921\"]]}],\"heatmapgl\":[{\"type\":\"heatmapgl\",\"colorbar\":{\"outlinewidth\":0,\"ticks\":\"\"},\"colorscale\":[[0.0,\"#0d0887\"],[0.1111111111111111,\"#46039f\"],[0.2222222222222222,\"#7201a8\"],[0.3333333333333333,\"#9c179e\"],[0.4444444444444444,\"#bd3786\"],[0.5555555555555556,\"#d8576b\"],[0.6666666666666666,\"#ed7953\"],[0.7777777777777778,\"#fb9f3a\"],[0.8888888888888888,\"#fdca26\"],[1.0,\"#f0f921\"]]}],\"contourcarpet\":[{\"type\":\"contourcarpet\",\"colorbar\":{\"outlinewidth\":0,\"ticks\":\"\"}}],\"contour\":[{\"type\":\"contour\",\"colorbar\":{\"outlinewidth\":0,\"ticks\":\"\"},\"colorscale\":[[0.0,\"#0d0887\"],[0.1111111111111111,\"#46039f\"],[0.2222222222222222,\"#7201a8\"],[0.3333333333333333,\"#9c179e\"],[0.4444444444444444,\"#bd3786\"],[0.5555555555555556,\"#d8576b\"],[0.6666666666666666,\"#ed7953\"],[0.7777777777777778,\"#fb9f3a\"],[0.8888888888888888,\"#fdca26\"],[1.0,\"#f0f921\"]]}],\"surface\":[{\"type\":\"surface\",\"colorbar\":{\"outlinewidth\":0,\"ticks\":\"\"},\"colorscale\":[[0.0,\"#0d0887\"],[0.1111111111111111,\"#46039f\"],[0.2222222222222222,\"#7201a8\"],[0.3333333333333333,\"#9c179e\"],[0.4444444444444444,\"#bd3786\"],[0.5555555555555556,\"#d8576b\"],[0.6666666666666666,\"#ed7953\"],[0.7777777777777778,\"#fb9f3a\"],[0.8888888888888888,\"#fdca26\"],[1.0,\"#f0f921\"]]}],\"mesh3d\":[{\"type\":\"mesh3d\",\"colorbar\":{\"outlinewidth\":0,\"ticks\":\"\"}}],\"scatter\":[{\"fillpattern\":{\"fillmode\":\"overlay\",\"size\":10,\"solidity\":0.2},\"type\":\"scatter\"}],\"parcoords\":[{\"type\":\"parcoords\",\"line\":{\"colorbar\":{\"outlinewidth\":0,\"ticks\":\"\"}}}],\"scatterpolargl\":[{\"type\":\"scatterpolargl\",\"marker\":{\"colorbar\":{\"outlinewidth\":0,\"ticks\":\"\"}}}],\"bar\":[{\"error_x\":{\"color\":\"#2a3f5f\"},\"error_y\":{\"color\":\"#2a3f5f\"},\"marker\":{\"line\":{\"color\":\"#E5ECF6\",\"width\":0.5},\"pattern\":{\"fillmode\":\"overlay\",\"size\":10,\"solidity\":0.2}},\"type\":\"bar\"}],\"scattergeo\":[{\"type\":\"scattergeo\",\"marker\":{\"colorbar\":{\"outlinewidth\":0,\"ticks\":\"\"}}}],\"scatterpolar\":[{\"type\":\"scatterpolar\",\"marker\":{\"colorbar\":{\"outlinewidth\":0,\"ticks\":\"\"}}}],\"histogram\":[{\"marker\":{\"pattern\":{\"fillmode\":\"overlay\",\"size\":10,\"solidity\":0.2}},\"type\":\"histogram\"}],\"scattergl\":[{\"type\":\"scattergl\",\"marker\":{\"colorbar\":{\"outlinewidth\":0,\"ticks\":\"\"}}}],\"scatter3d\":[{\"type\":\"scatter3d\",\"line\":{\"colorbar\":{\"outlinewidth\":0,\"ticks\":\"\"}},\"marker\":{\"colorbar\":{\"outlinewidth\":0,\"ticks\":\"\"}}}],\"scattermapbox\":[{\"type\":\"scattermapbox\",\"marker\":{\"colorbar\":{\"outlinewidth\":0,\"ticks\":\"\"}}}],\"scatterternary\":[{\"type\":\"scatterternary\",\"marker\":{\"colorbar\":{\"outlinewidth\":0,\"ticks\":\"\"}}}],\"scattercarpet\":[{\"type\":\"scattercarpet\",\"marker\":{\"colorbar\":{\"outlinewidth\":0,\"ticks\":\"\"}}}],\"carpet\":[{\"aaxis\":{\"endlinecolor\":\"#2a3f5f\",\"gridcolor\":\"white\",\"linecolor\":\"white\",\"minorgridcolor\":\"white\",\"startlinecolor\":\"#2a3f5f\"},\"baxis\":{\"endlinecolor\":\"#2a3f5f\",\"gridcolor\":\"white\",\"linecolor\":\"white\",\"minorgridcolor\":\"white\",\"startlinecolor\":\"#2a3f5f\"},\"type\":\"carpet\"}],\"table\":[{\"cells\":{\"fill\":{\"color\":\"#EBF0F8\"},\"line\":{\"color\":\"white\"}},\"header\":{\"fill\":{\"color\":\"#C8D4E3\"},\"line\":{\"color\":\"white\"}},\"type\":\"table\"}],\"barpolar\":[{\"marker\":{\"line\":{\"color\":\"#E5ECF6\",\"width\":0.5},\"pattern\":{\"fillmode\":\"overlay\",\"size\":10,\"solidity\":0.2}},\"type\":\"barpolar\"}],\"pie\":[{\"automargin\":true,\"type\":\"pie\"}]},\"layout\":{\"autotypenumbers\":\"strict\",\"colorway\":[\"#636efa\",\"#EF553B\",\"#00cc96\",\"#ab63fa\",\"#FFA15A\",\"#19d3f3\",\"#FF6692\",\"#B6E880\",\"#FF97FF\",\"#FECB52\"],\"font\":{\"color\":\"#2a3f5f\"},\"hovermode\":\"closest\",\"hoverlabel\":{\"align\":\"left\"},\"paper_bgcolor\":\"white\",\"plot_bgcolor\":\"#E5ECF6\",\"polar\":{\"bgcolor\":\"#E5ECF6\",\"angularaxis\":{\"gridcolor\":\"white\",\"linecolor\":\"white\",\"ticks\":\"\"},\"radialaxis\":{\"gridcolor\":\"white\",\"linecolor\":\"white\",\"ticks\":\"\"}},\"ternary\":{\"bgcolor\":\"#E5ECF6\",\"aaxis\":{\"gridcolor\":\"white\",\"linecolor\":\"white\",\"ticks\":\"\"},\"baxis\":{\"gridcolor\":\"white\",\"linecolor\":\"white\",\"ticks\":\"\"},\"caxis\":{\"gridcolor\":\"white\",\"linecolor\":\"white\",\"ticks\":\"\"}},\"coloraxis\":{\"colorbar\":{\"outlinewidth\":0,\"ticks\":\"\"}},\"colorscale\":{\"sequential\":[[0.0,\"#0d0887\"],[0.1111111111111111,\"#46039f\"],[0.2222222222222222,\"#7201a8\"],[0.3333333333333333,\"#9c179e\"],[0.4444444444444444,\"#bd3786\"],[0.5555555555555556,\"#d8576b\"],[0.6666666666666666,\"#ed7953\"],[0.7777777777777778,\"#fb9f3a\"],[0.8888888888888888,\"#fdca26\"],[1.0,\"#f0f921\"]],\"sequentialminus\":[[0.0,\"#0d0887\"],[0.1111111111111111,\"#46039f\"],[0.2222222222222222,\"#7201a8\"],[0.3333333333333333,\"#9c179e\"],[0.4444444444444444,\"#bd3786\"],[0.5555555555555556,\"#d8576b\"],[0.6666666666666666,\"#ed7953\"],[0.7777777777777778,\"#fb9f3a\"],[0.8888888888888888,\"#fdca26\"],[1.0,\"#f0f921\"]],\"diverging\":[[0,\"#8e0152\"],[0.1,\"#c51b7d\"],[0.2,\"#de77ae\"],[0.3,\"#f1b6da\"],[0.4,\"#fde0ef\"],[0.5,\"#f7f7f7\"],[0.6,\"#e6f5d0\"],[0.7,\"#b8e186\"],[0.8,\"#7fbc41\"],[0.9,\"#4d9221\"],[1,\"#276419\"]]},\"xaxis\":{\"gridcolor\":\"white\",\"linecolor\":\"white\",\"ticks\":\"\",\"title\":{\"standoff\":15},\"zerolinecolor\":\"white\",\"automargin\":true,\"zerolinewidth\":2},\"yaxis\":{\"gridcolor\":\"white\",\"linecolor\":\"white\",\"ticks\":\"\",\"title\":{\"standoff\":15},\"zerolinecolor\":\"white\",\"automargin\":true,\"zerolinewidth\":2},\"scene\":{\"xaxis\":{\"backgroundcolor\":\"#E5ECF6\",\"gridcolor\":\"white\",\"linecolor\":\"white\",\"showbackground\":true,\"ticks\":\"\",\"zerolinecolor\":\"white\",\"gridwidth\":2},\"yaxis\":{\"backgroundcolor\":\"#E5ECF6\",\"gridcolor\":\"white\",\"linecolor\":\"white\",\"showbackground\":true,\"ticks\":\"\",\"zerolinecolor\":\"white\",\"gridwidth\":2},\"zaxis\":{\"backgroundcolor\":\"#E5ECF6\",\"gridcolor\":\"white\",\"linecolor\":\"white\",\"showbackground\":true,\"ticks\":\"\",\"zerolinecolor\":\"white\",\"gridwidth\":2}},\"shapedefaults\":{\"line\":{\"color\":\"#2a3f5f\"}},\"annotationdefaults\":{\"arrowcolor\":\"#2a3f5f\",\"arrowhead\":0,\"arrowwidth\":1},\"geo\":{\"bgcolor\":\"white\",\"landcolor\":\"#E5ECF6\",\"subunitcolor\":\"white\",\"showland\":true,\"showlakes\":true,\"lakecolor\":\"white\"},\"title\":{\"x\":0.05},\"mapbox\":{\"style\":\"light\"}}},\"shapes\":[{\"layer\":\"below\",\"line\":{\"color\":\"#3b0280\",\"dash\":\"dash\",\"width\":1},\"type\":\"line\",\"x0\":\"2060-02-21T00:00:00\",\"x1\":\"2060-02-21T00:00:00\",\"xref\":\"x\",\"y0\":0,\"y1\":1,\"yref\":\"y domain\"},{\"fillcolor\":\"#DD4040\",\"layer\":\"below\",\"line\":{\"width\":0},\"opacity\":0.2,\"type\":\"rect\",\"x0\":\"2073-10-29T00:00:00\",\"x1\":\"2087-07-07T00:00:00\",\"xref\":\"x\",\"y0\":0,\"y1\":1,\"yref\":\"y domain\"},{\"fillcolor\":\"#DD4040\",\"layer\":\"below\",\"line\":{\"width\":0},\"opacity\":0.2,\"type\":\"rect\",\"x0\":\"2087-07-08T00:00:00\",\"x1\":\"2101-03-16T00:00:00\",\"xref\":\"x\",\"y0\":0,\"y1\":1,\"yref\":\"y domain\"},{\"fillcolor\":\"#DD4040\",\"layer\":\"below\",\"line\":{\"width\":0},\"opacity\":0.2,\"type\":\"rect\",\"x0\":\"2101-03-17T00:00:00\",\"x1\":\"2107-09-06T00:00:00\",\"xref\":\"x\",\"y0\":0,\"y1\":1,\"yref\":\"y domain\"}]},                        {\"responsive\": true}                    ).then(function(){\n",
       "                            \n",
       "var gd = document.getElementById('384a3517-582b-402a-9013-2a5f07f64cd7');\n",
       "var x = new MutationObserver(function (mutations, observer) {{\n",
       "        var display = window.getComputedStyle(gd).display;\n",
       "        if (!display || display === 'none') {{\n",
       "            console.log([gd, 'removed!']);\n",
       "            Plotly.purge(gd);\n",
       "            observer.disconnect();\n",
       "        }}\n",
       "}});\n",
       "\n",
       "// Listen for the removal of the full notebook cells\n",
       "var notebookContainer = gd.closest('#notebook-container');\n",
       "if (notebookContainer) {{\n",
       "    x.observe(notebookContainer, {childList: true});\n",
       "}}\n",
       "\n",
       "// Listen for the clearing of the current output cell\n",
       "var outputEl = gd.closest('.output');\n",
       "if (outputEl) {{\n",
       "    x.observe(outputEl, {childList: true});\n",
       "}}\n",
       "\n",
       "                        })                };                });            </script>        </div>"
      ]
     },
     "metadata": {},
     "output_type": "display_data"
    },
    {
     "data": {
      "application/vnd.plotly.v1+json": {
       "config": {
        "plotlyServerURL": "https://plot.ly"
       },
       "data": [
        {
         "hoverinfo": "skip",
         "line": {
          "color": "rgba(0.23137254901960785, 0.00784313725490196, 0.5019607843137255, 0.2)",
          "width": 9
         },
         "mode": "lines",
         "showlegend": false,
         "type": "scatter",
         "x": [
          "2073-10-29T00:00:00",
          "2087-07-07T00:00:00"
         ],
         "y": [
          0.4033595493633757,
          0.4033595493633757
         ]
        },
        {
         "hoverinfo": "skip",
         "line": {
          "color": "rgba(0.23137254901960785, 0.00784313725490196, 0.5019607843137255, 0.2)",
          "width": 9
         },
         "mode": "lines",
         "showlegend": false,
         "type": "scatter",
         "x": [
          "2087-07-08T00:00:00",
          "2101-03-16T00:00:00"
         ],
         "y": [
          0.5154250649956669,
          0.5154250649956669
         ]
        },
        {
         "hoverinfo": "skip",
         "line": {
          "color": "rgba(0.23137254901960785, 0.00784313725490196, 0.5019607843137255, 0.2)",
          "width": 9
         },
         "mode": "lines",
         "showlegend": false,
         "type": "scatter",
         "x": [
          "2101-03-17T00:00:00",
          "2107-09-06T00:00:00"
         ],
         "y": [
          0.5366947911717795,
          0.5366947911717795
         ]
        },
        {
         "hoverinfo": "skip",
         "legendgroup": "1",
         "line": {
          "color": "#00c8e5",
          "shape": "hv",
          "width": 2
         },
         "mode": "lines",
         "name": "Reference period",
         "type": "scatter",
         "x": [
          "2019-01-27T00:00:00",
          "2032-10-05T00:00:00",
          "2046-06-14T00:00:00",
          "2060-02-20T00:00:00"
         ],
         "y": [
          0.5341579628024798,
          0.1790383174455037,
          0.36924203719752013,
          0.36924203719752013
         ]
        },
        {
         "hoverinfo": "skip",
         "legendgroup": "1",
         "line": {
          "color": "#3b0280",
          "shape": "hv",
          "width": 2
         },
         "mode": "lines",
         "name": "Analysis period",
         "type": "scatter",
         "x": [
          "2060-02-21T00:00:00",
          "2073-10-29T00:00:00",
          "2087-07-08T00:00:00",
          "2101-03-17T00:00:00",
          "2107-09-06T00:00:00"
         ],
         "y": [
          0.3694420371975201,
          0.4033595493633757,
          0.5154250649956669,
          0.5366947911717795,
          0.5366947911717795
         ]
        },
        {
         "customdata": [
          [
           "[0:4999]",
           "Jan-27-2019",
           "Oct-04-2032",
           "0.5342",
           "<b style=\"color:#00c8e5;line-height:60px\">Reference</b>",
           "",
           ""
          ],
          [
           "[5000:9999]",
           "Oct-05-2032",
           "Jun-13-2046",
           "0.1790",
           "<b style=\"color:#00c8e5;line-height:60px\">Reference</b>",
           "",
           ""
          ],
          [
           "[10000:14999]",
           "Jun-14-2046",
           "Feb-20-2060",
           "0.3692",
           "<b style=\"color:#00c8e5;line-height:60px\">Reference</b>",
           "",
           ""
          ]
         ],
         "hovertemplate": "%{customdata[4]} &nbsp; &nbsp; <span style=\"color:#AD0000\">%{customdata[5]}</span><br>Chunk: <b>%{customdata[0]}</b> &nbsp; &nbsp; From <b>%{customdata[1]}</b> to <b>%{customdata[2]}</b> &nbsp; &nbsp; <br>KS statistic: <b>%{customdata[3]}</b>  &nbsp; &nbsp; %{customdata[6]} <extra></extra>",
         "marker": {
          "color": "#00c8e5",
          "size": 6,
          "symbol": "square"
         },
         "mode": "markers",
         "name": "Reference",
         "showlegend": false,
         "type": "scatter",
         "x": [
          "2025-11-30T12:00:00",
          "2039-08-09T12:00:00",
          "2053-04-17T12:00:00"
         ],
         "y": [
          0.5341579628024798,
          0.1790383174455037,
          0.36924203719752013
         ]
        },
        {
         "customdata": [
          [
           "[15000:19999]",
           "Feb-21-2060",
           "Oct-28-2073",
           "0.3694",
           "<b style=\"color:#3b0280;line-height:60px\">Analysis</b>",
           "",
           ""
          ]
         ],
         "hovertemplate": "%{customdata[4]} &nbsp; &nbsp; <span style=\"color:#AD0000\">%{customdata[5]}</span><br>Chunk: <b>%{customdata[0]}</b> &nbsp; &nbsp; From <b>%{customdata[1]}</b> to <b>%{customdata[2]}</b> &nbsp; &nbsp; <br>KS statistic: <b>%{customdata[3]}</b>  &nbsp; &nbsp; %{customdata[6]} <extra></extra>",
         "marker": {
          "color": "#3b0280",
          "size": 6,
          "symbol": "square"
         },
         "mode": "markers",
         "name": "No data drift",
         "showlegend": false,
         "type": "scatter",
         "x": [
          "2066-12-25T00:00:00"
         ],
         "y": [
          0.3694420371975201
         ]
        },
        {
         "customdata": [
          [
           "[20000:24999]",
           "Oct-29-2073",
           "Jul-07-2087",
           "0.4034",
           "<b style=\"color:#3b0280;line-height:60px\">Analysis</b>",
           "⚠ <b>Drift detected</b>",
           ""
          ],
          [
           "[25000:29999]",
           "Jul-08-2087",
           "Mar-16-2101",
           "0.5154",
           "<b style=\"color:#3b0280;line-height:60px\">Analysis</b>",
           "⚠ <b>Drift detected</b>",
           ""
          ],
          [
           "[30000:32364]",
           "Mar-17-2101",
           "Sep-06-2107",
           "0.5367",
           "<b style=\"color:#3b0280;line-height:60px\">Analysis</b>",
           "⚠ <b>Drift detected</b>",
           ""
          ]
         ],
         "hovertemplate": "%{customdata[4]} &nbsp; &nbsp; <span style=\"color:#AD0000\">%{customdata[5]}</span><br>Chunk: <b>%{customdata[0]}</b> &nbsp; &nbsp; From <b>%{customdata[1]}</b> to <b>%{customdata[2]}</b> &nbsp; &nbsp; <br>KS statistic: <b>%{customdata[3]}</b>  &nbsp; &nbsp; %{customdata[6]} <extra></extra>",
         "marker": {
          "color": "#DD4040",
          "size": 6,
          "symbol": "diamond"
         },
         "mode": "markers",
         "name": "Data drift",
         "showlegend": false,
         "type": "scatter",
         "x": [
          "2080-09-01T12:00:00",
          "2094-05-11T12:00:00",
          "2104-06-11T00:00:00"
         ],
         "y": [
          0.4033595493633757,
          0.5154250649956669,
          0.5366947911717795
         ]
        },
        {
         "legendgroup": "1",
         "line": {
          "color": "rgba(0.23137254901960785, 0.00784313725490196, 0.5019607843137255, 0.2)",
          "width": 9
         },
         "mode": "lines",
         "name": "P-value is signficant",
         "type": "scatter",
         "x": [
          [
           1764504000000000000
          ],
          [
           4242585600000000000
          ]
         ],
         "y": [
          null,
          null
         ]
        },
        {
         "line": {
          "color": "rgba(0,0,0,0)"
         },
         "mode": "lines",
         "showlegend": false,
         "type": "scatter",
         "x": [
          [
           1764504000000000000
          ],
          [
           4242585600000000000
          ]
         ],
         "y": [
          null,
          null
         ]
        },
        {
         "fill": "tonexty",
         "fillcolor": "rgba(0.8666666666666667, 0.25098039215686274, 0.25098039215686274, 0.2)",
         "legendgroup": "1",
         "line": {
          "color": "rgba(0,0,0,0)"
         },
         "marker": {
          "color": "#DD4040",
          "size": 6,
          "symbol": "diamond"
         },
         "mode": "lines+markers",
         "name": "Data drift",
         "type": "scatter",
         "x": [
          [
           1764504000000000000
          ],
          [
           4242585600000000000
          ]
         ],
         "y": [
          null,
          null
         ]
        }
       ],
       "layout": {
        "hoverlabel": {
         "bgcolor": "white",
         "font": {
          "size": 14
         }
        },
        "legend": {
         "itemclick": false,
         "itemdoubleclick": false,
         "orientation": "h",
         "traceorder": "normal",
         "x": 0,
         "xanchor": "left",
         "y": -0.25,
         "yanchor": "top"
        },
        "paper_bgcolor": "rgba(255,255,255,1)",
        "plot_bgcolor": "rgba(255,255,255,1)",
        "shapes": [
         {
          "layer": "below",
          "line": {
           "color": "#3b0280",
           "dash": "dash",
           "width": 1
          },
          "type": "line",
          "x0": "2060-02-21T00:00:00",
          "x1": "2060-02-21T00:00:00",
          "xref": "x",
          "y0": 0,
          "y1": 1,
          "yref": "y domain"
         },
         {
          "fillcolor": "#DD4040",
          "layer": "below",
          "line": {
           "width": 0
          },
          "opacity": 0.2,
          "type": "rect",
          "x0": "2073-10-29T00:00:00",
          "x1": "2087-07-07T00:00:00",
          "xref": "x",
          "y0": 0,
          "y1": 1,
          "yref": "y domain"
         },
         {
          "fillcolor": "#DD4040",
          "layer": "below",
          "line": {
           "width": 0
          },
          "opacity": 0.2,
          "type": "rect",
          "x0": "2087-07-08T00:00:00",
          "x1": "2101-03-16T00:00:00",
          "xref": "x",
          "y0": 0,
          "y1": 1,
          "yref": "y domain"
         },
         {
          "fillcolor": "#DD4040",
          "layer": "below",
          "line": {
           "width": 0
          },
          "opacity": 0.2,
          "type": "rect",
          "x0": "2101-03-17T00:00:00",
          "x1": "2107-09-06T00:00:00",
          "xref": "x",
          "y0": 0,
          "y1": 1,
          "yref": "y domain"
         }
        ],
        "template": {
         "data": {
          "bar": [
           {
            "error_x": {
             "color": "#2a3f5f"
            },
            "error_y": {
             "color": "#2a3f5f"
            },
            "marker": {
             "line": {
              "color": "#E5ECF6",
              "width": 0.5
             },
             "pattern": {
              "fillmode": "overlay",
              "size": 10,
              "solidity": 0.2
             }
            },
            "type": "bar"
           }
          ],
          "barpolar": [
           {
            "marker": {
             "line": {
              "color": "#E5ECF6",
              "width": 0.5
             },
             "pattern": {
              "fillmode": "overlay",
              "size": 10,
              "solidity": 0.2
             }
            },
            "type": "barpolar"
           }
          ],
          "carpet": [
           {
            "aaxis": {
             "endlinecolor": "#2a3f5f",
             "gridcolor": "white",
             "linecolor": "white",
             "minorgridcolor": "white",
             "startlinecolor": "#2a3f5f"
            },
            "baxis": {
             "endlinecolor": "#2a3f5f",
             "gridcolor": "white",
             "linecolor": "white",
             "minorgridcolor": "white",
             "startlinecolor": "#2a3f5f"
            },
            "type": "carpet"
           }
          ],
          "choropleth": [
           {
            "colorbar": {
             "outlinewidth": 0,
             "ticks": ""
            },
            "type": "choropleth"
           }
          ],
          "contour": [
           {
            "colorbar": {
             "outlinewidth": 0,
             "ticks": ""
            },
            "colorscale": [
             [
              0,
              "#0d0887"
             ],
             [
              0.1111111111111111,
              "#46039f"
             ],
             [
              0.2222222222222222,
              "#7201a8"
             ],
             [
              0.3333333333333333,
              "#9c179e"
             ],
             [
              0.4444444444444444,
              "#bd3786"
             ],
             [
              0.5555555555555556,
              "#d8576b"
             ],
             [
              0.6666666666666666,
              "#ed7953"
             ],
             [
              0.7777777777777778,
              "#fb9f3a"
             ],
             [
              0.8888888888888888,
              "#fdca26"
             ],
             [
              1,
              "#f0f921"
             ]
            ],
            "type": "contour"
           }
          ],
          "contourcarpet": [
           {
            "colorbar": {
             "outlinewidth": 0,
             "ticks": ""
            },
            "type": "contourcarpet"
           }
          ],
          "heatmap": [
           {
            "colorbar": {
             "outlinewidth": 0,
             "ticks": ""
            },
            "colorscale": [
             [
              0,
              "#0d0887"
             ],
             [
              0.1111111111111111,
              "#46039f"
             ],
             [
              0.2222222222222222,
              "#7201a8"
             ],
             [
              0.3333333333333333,
              "#9c179e"
             ],
             [
              0.4444444444444444,
              "#bd3786"
             ],
             [
              0.5555555555555556,
              "#d8576b"
             ],
             [
              0.6666666666666666,
              "#ed7953"
             ],
             [
              0.7777777777777778,
              "#fb9f3a"
             ],
             [
              0.8888888888888888,
              "#fdca26"
             ],
             [
              1,
              "#f0f921"
             ]
            ],
            "type": "heatmap"
           }
          ],
          "heatmapgl": [
           {
            "colorbar": {
             "outlinewidth": 0,
             "ticks": ""
            },
            "colorscale": [
             [
              0,
              "#0d0887"
             ],
             [
              0.1111111111111111,
              "#46039f"
             ],
             [
              0.2222222222222222,
              "#7201a8"
             ],
             [
              0.3333333333333333,
              "#9c179e"
             ],
             [
              0.4444444444444444,
              "#bd3786"
             ],
             [
              0.5555555555555556,
              "#d8576b"
             ],
             [
              0.6666666666666666,
              "#ed7953"
             ],
             [
              0.7777777777777778,
              "#fb9f3a"
             ],
             [
              0.8888888888888888,
              "#fdca26"
             ],
             [
              1,
              "#f0f921"
             ]
            ],
            "type": "heatmapgl"
           }
          ],
          "histogram": [
           {
            "marker": {
             "pattern": {
              "fillmode": "overlay",
              "size": 10,
              "solidity": 0.2
             }
            },
            "type": "histogram"
           }
          ],
          "histogram2d": [
           {
            "colorbar": {
             "outlinewidth": 0,
             "ticks": ""
            },
            "colorscale": [
             [
              0,
              "#0d0887"
             ],
             [
              0.1111111111111111,
              "#46039f"
             ],
             [
              0.2222222222222222,
              "#7201a8"
             ],
             [
              0.3333333333333333,
              "#9c179e"
             ],
             [
              0.4444444444444444,
              "#bd3786"
             ],
             [
              0.5555555555555556,
              "#d8576b"
             ],
             [
              0.6666666666666666,
              "#ed7953"
             ],
             [
              0.7777777777777778,
              "#fb9f3a"
             ],
             [
              0.8888888888888888,
              "#fdca26"
             ],
             [
              1,
              "#f0f921"
             ]
            ],
            "type": "histogram2d"
           }
          ],
          "histogram2dcontour": [
           {
            "colorbar": {
             "outlinewidth": 0,
             "ticks": ""
            },
            "colorscale": [
             [
              0,
              "#0d0887"
             ],
             [
              0.1111111111111111,
              "#46039f"
             ],
             [
              0.2222222222222222,
              "#7201a8"
             ],
             [
              0.3333333333333333,
              "#9c179e"
             ],
             [
              0.4444444444444444,
              "#bd3786"
             ],
             [
              0.5555555555555556,
              "#d8576b"
             ],
             [
              0.6666666666666666,
              "#ed7953"
             ],
             [
              0.7777777777777778,
              "#fb9f3a"
             ],
             [
              0.8888888888888888,
              "#fdca26"
             ],
             [
              1,
              "#f0f921"
             ]
            ],
            "type": "histogram2dcontour"
           }
          ],
          "mesh3d": [
           {
            "colorbar": {
             "outlinewidth": 0,
             "ticks": ""
            },
            "type": "mesh3d"
           }
          ],
          "parcoords": [
           {
            "line": {
             "colorbar": {
              "outlinewidth": 0,
              "ticks": ""
             }
            },
            "type": "parcoords"
           }
          ],
          "pie": [
           {
            "automargin": true,
            "type": "pie"
           }
          ],
          "scatter": [
           {
            "fillpattern": {
             "fillmode": "overlay",
             "size": 10,
             "solidity": 0.2
            },
            "type": "scatter"
           }
          ],
          "scatter3d": [
           {
            "line": {
             "colorbar": {
              "outlinewidth": 0,
              "ticks": ""
             }
            },
            "marker": {
             "colorbar": {
              "outlinewidth": 0,
              "ticks": ""
             }
            },
            "type": "scatter3d"
           }
          ],
          "scattercarpet": [
           {
            "marker": {
             "colorbar": {
              "outlinewidth": 0,
              "ticks": ""
             }
            },
            "type": "scattercarpet"
           }
          ],
          "scattergeo": [
           {
            "marker": {
             "colorbar": {
              "outlinewidth": 0,
              "ticks": ""
             }
            },
            "type": "scattergeo"
           }
          ],
          "scattergl": [
           {
            "marker": {
             "colorbar": {
              "outlinewidth": 0,
              "ticks": ""
             }
            },
            "type": "scattergl"
           }
          ],
          "scattermapbox": [
           {
            "marker": {
             "colorbar": {
              "outlinewidth": 0,
              "ticks": ""
             }
            },
            "type": "scattermapbox"
           }
          ],
          "scatterpolar": [
           {
            "marker": {
             "colorbar": {
              "outlinewidth": 0,
              "ticks": ""
             }
            },
            "type": "scatterpolar"
           }
          ],
          "scatterpolargl": [
           {
            "marker": {
             "colorbar": {
              "outlinewidth": 0,
              "ticks": ""
             }
            },
            "type": "scatterpolargl"
           }
          ],
          "scatterternary": [
           {
            "marker": {
             "colorbar": {
              "outlinewidth": 0,
              "ticks": ""
             }
            },
            "type": "scatterternary"
           }
          ],
          "surface": [
           {
            "colorbar": {
             "outlinewidth": 0,
             "ticks": ""
            },
            "colorscale": [
             [
              0,
              "#0d0887"
             ],
             [
              0.1111111111111111,
              "#46039f"
             ],
             [
              0.2222222222222222,
              "#7201a8"
             ],
             [
              0.3333333333333333,
              "#9c179e"
             ],
             [
              0.4444444444444444,
              "#bd3786"
             ],
             [
              0.5555555555555556,
              "#d8576b"
             ],
             [
              0.6666666666666666,
              "#ed7953"
             ],
             [
              0.7777777777777778,
              "#fb9f3a"
             ],
             [
              0.8888888888888888,
              "#fdca26"
             ],
             [
              1,
              "#f0f921"
             ]
            ],
            "type": "surface"
           }
          ],
          "table": [
           {
            "cells": {
             "fill": {
              "color": "#EBF0F8"
             },
             "line": {
              "color": "white"
             }
            },
            "header": {
             "fill": {
              "color": "#C8D4E3"
             },
             "line": {
              "color": "white"
             }
            },
            "type": "table"
           }
          ]
         },
         "layout": {
          "annotationdefaults": {
           "arrowcolor": "#2a3f5f",
           "arrowhead": 0,
           "arrowwidth": 1
          },
          "autotypenumbers": "strict",
          "coloraxis": {
           "colorbar": {
            "outlinewidth": 0,
            "ticks": ""
           }
          },
          "colorscale": {
           "diverging": [
            [
             0,
             "#8e0152"
            ],
            [
             0.1,
             "#c51b7d"
            ],
            [
             0.2,
             "#de77ae"
            ],
            [
             0.3,
             "#f1b6da"
            ],
            [
             0.4,
             "#fde0ef"
            ],
            [
             0.5,
             "#f7f7f7"
            ],
            [
             0.6,
             "#e6f5d0"
            ],
            [
             0.7,
             "#b8e186"
            ],
            [
             0.8,
             "#7fbc41"
            ],
            [
             0.9,
             "#4d9221"
            ],
            [
             1,
             "#276419"
            ]
           ],
           "sequential": [
            [
             0,
             "#0d0887"
            ],
            [
             0.1111111111111111,
             "#46039f"
            ],
            [
             0.2222222222222222,
             "#7201a8"
            ],
            [
             0.3333333333333333,
             "#9c179e"
            ],
            [
             0.4444444444444444,
             "#bd3786"
            ],
            [
             0.5555555555555556,
             "#d8576b"
            ],
            [
             0.6666666666666666,
             "#ed7953"
            ],
            [
             0.7777777777777778,
             "#fb9f3a"
            ],
            [
             0.8888888888888888,
             "#fdca26"
            ],
            [
             1,
             "#f0f921"
            ]
           ],
           "sequentialminus": [
            [
             0,
             "#0d0887"
            ],
            [
             0.1111111111111111,
             "#46039f"
            ],
            [
             0.2222222222222222,
             "#7201a8"
            ],
            [
             0.3333333333333333,
             "#9c179e"
            ],
            [
             0.4444444444444444,
             "#bd3786"
            ],
            [
             0.5555555555555556,
             "#d8576b"
            ],
            [
             0.6666666666666666,
             "#ed7953"
            ],
            [
             0.7777777777777778,
             "#fb9f3a"
            ],
            [
             0.8888888888888888,
             "#fdca26"
            ],
            [
             1,
             "#f0f921"
            ]
           ]
          },
          "colorway": [
           "#636efa",
           "#EF553B",
           "#00cc96",
           "#ab63fa",
           "#FFA15A",
           "#19d3f3",
           "#FF6692",
           "#B6E880",
           "#FF97FF",
           "#FECB52"
          ],
          "font": {
           "color": "#2a3f5f"
          },
          "geo": {
           "bgcolor": "white",
           "lakecolor": "white",
           "landcolor": "#E5ECF6",
           "showlakes": true,
           "showland": true,
           "subunitcolor": "white"
          },
          "hoverlabel": {
           "align": "left"
          },
          "hovermode": "closest",
          "mapbox": {
           "style": "light"
          },
          "paper_bgcolor": "white",
          "plot_bgcolor": "#E5ECF6",
          "polar": {
           "angularaxis": {
            "gridcolor": "white",
            "linecolor": "white",
            "ticks": ""
           },
           "bgcolor": "#E5ECF6",
           "radialaxis": {
            "gridcolor": "white",
            "linecolor": "white",
            "ticks": ""
           }
          },
          "scene": {
           "xaxis": {
            "backgroundcolor": "#E5ECF6",
            "gridcolor": "white",
            "gridwidth": 2,
            "linecolor": "white",
            "showbackground": true,
            "ticks": "",
            "zerolinecolor": "white"
           },
           "yaxis": {
            "backgroundcolor": "#E5ECF6",
            "gridcolor": "white",
            "gridwidth": 2,
            "linecolor": "white",
            "showbackground": true,
            "ticks": "",
            "zerolinecolor": "white"
           },
           "zaxis": {
            "backgroundcolor": "#E5ECF6",
            "gridcolor": "white",
            "gridwidth": 2,
            "linecolor": "white",
            "showbackground": true,
            "ticks": "",
            "zerolinecolor": "white"
           }
          },
          "shapedefaults": {
           "line": {
            "color": "#2a3f5f"
           }
          },
          "ternary": {
           "aaxis": {
            "gridcolor": "white",
            "linecolor": "white",
            "ticks": ""
           },
           "baxis": {
            "gridcolor": "white",
            "linecolor": "white",
            "ticks": ""
           },
           "bgcolor": "#E5ECF6",
           "caxis": {
            "gridcolor": "white",
            "linecolor": "white",
            "ticks": ""
           }
          },
          "title": {
           "x": 0.05
          },
          "xaxis": {
           "automargin": true,
           "gridcolor": "white",
           "linecolor": "white",
           "ticks": "",
           "title": {
            "standoff": 15
           },
           "zerolinecolor": "white",
           "zerolinewidth": 2
          },
          "yaxis": {
           "automargin": true,
           "gridcolor": "white",
           "linecolor": "white",
           "ticks": "",
           "title": {
            "standoff": 15
           },
           "zerolinecolor": "white",
           "zerolinewidth": 2
          }
         }
        },
        "title": {
         "text": "KS statistic for x"
        },
        "xaxis": {
         "linecolor": "#666666",
         "mirror": true,
         "showgrid": false,
         "title": {
          "text": "Time"
         },
         "zeroline": false
        },
        "yaxis": {
         "linecolor": "#666666",
         "mirror": true,
         "showgrid": false,
         "title": {
          "text": "KS statistic"
         },
         "zeroline": false
        }
       }
      },
      "text/html": [
       "<div>                            <div id=\"2cff9f8b-5f69-4744-b540-37638607618c\" class=\"plotly-graph-div\" style=\"height:525px; width:100%;\"></div>            <script type=\"text/javascript\">                require([\"plotly\"], function(Plotly) {                    window.PLOTLYENV=window.PLOTLYENV || {};                                    if (document.getElementById(\"2cff9f8b-5f69-4744-b540-37638607618c\")) {                    Plotly.newPlot(                        \"2cff9f8b-5f69-4744-b540-37638607618c\",                        [{\"hoverinfo\":\"skip\",\"line\":{\"color\":\"rgba(0.23137254901960785, 0.00784313725490196, 0.5019607843137255, 0.2)\",\"width\":9},\"mode\":\"lines\",\"showlegend\":false,\"x\":[\"2073-10-29T00:00:00\",\"2087-07-07T00:00:00\"],\"y\":[0.4033595493633757,0.4033595493633757],\"type\":\"scatter\"},{\"hoverinfo\":\"skip\",\"line\":{\"color\":\"rgba(0.23137254901960785, 0.00784313725490196, 0.5019607843137255, 0.2)\",\"width\":9},\"mode\":\"lines\",\"showlegend\":false,\"x\":[\"2087-07-08T00:00:00\",\"2101-03-16T00:00:00\"],\"y\":[0.5154250649956669,0.5154250649956669],\"type\":\"scatter\"},{\"hoverinfo\":\"skip\",\"line\":{\"color\":\"rgba(0.23137254901960785, 0.00784313725490196, 0.5019607843137255, 0.2)\",\"width\":9},\"mode\":\"lines\",\"showlegend\":false,\"x\":[\"2101-03-17T00:00:00\",\"2107-09-06T00:00:00\"],\"y\":[0.5366947911717795,0.5366947911717795],\"type\":\"scatter\"},{\"hoverinfo\":\"skip\",\"legendgroup\":\"1\",\"line\":{\"color\":\"#00c8e5\",\"shape\":\"hv\",\"width\":2},\"mode\":\"lines\",\"name\":\"Reference period\",\"x\":[\"2019-01-27T00:00:00\",\"2032-10-05T00:00:00\",\"2046-06-14T00:00:00\",\"2060-02-20T00:00:00\"],\"y\":[0.5341579628024798,0.1790383174455037,0.36924203719752013,0.36924203719752013],\"type\":\"scatter\"},{\"hoverinfo\":\"skip\",\"legendgroup\":\"1\",\"line\":{\"color\":\"#3b0280\",\"shape\":\"hv\",\"width\":2},\"mode\":\"lines\",\"name\":\"Analysis period\",\"x\":[\"2060-02-21T00:00:00\",\"2073-10-29T00:00:00\",\"2087-07-08T00:00:00\",\"2101-03-17T00:00:00\",\"2107-09-06T00:00:00\"],\"y\":[0.3694420371975201,0.4033595493633757,0.5154250649956669,0.5366947911717795,0.5366947911717795],\"type\":\"scatter\"},{\"customdata\":[[\"[0:4999]\",\"Jan-27-2019\",\"Oct-04-2032\",\"0.5342\",\"<b style=\\\"color:#00c8e5;line-height:60px\\\">Reference</b>\",\"\",\"\"],[\"[5000:9999]\",\"Oct-05-2032\",\"Jun-13-2046\",\"0.1790\",\"<b style=\\\"color:#00c8e5;line-height:60px\\\">Reference</b>\",\"\",\"\"],[\"[10000:14999]\",\"Jun-14-2046\",\"Feb-20-2060\",\"0.3692\",\"<b style=\\\"color:#00c8e5;line-height:60px\\\">Reference</b>\",\"\",\"\"]],\"hovertemplate\":\"%{customdata[4]} &nbsp; &nbsp; <span style=\\\"color:#AD0000\\\">%{customdata[5]}</span><br>Chunk: <b>%{customdata[0]}</b> &nbsp; &nbsp; From <b>%{customdata[1]}</b> to <b>%{customdata[2]}</b> &nbsp; &nbsp; <br>KS statistic: <b>%{customdata[3]}</b>  &nbsp; &nbsp; %{customdata[6]} <extra></extra>\",\"marker\":{\"color\":\"#00c8e5\",\"size\":6,\"symbol\":\"square\"},\"mode\":\"markers\",\"name\":\"Reference\",\"showlegend\":false,\"x\":[\"2025-11-30T12:00:00\",\"2039-08-09T12:00:00\",\"2053-04-17T12:00:00\"],\"y\":[0.5341579628024798,0.1790383174455037,0.36924203719752013],\"type\":\"scatter\"},{\"customdata\":[[\"[15000:19999]\",\"Feb-21-2060\",\"Oct-28-2073\",\"0.3694\",\"<b style=\\\"color:#3b0280;line-height:60px\\\">Analysis</b>\",\"\",\"\"]],\"hovertemplate\":\"%{customdata[4]} &nbsp; &nbsp; <span style=\\\"color:#AD0000\\\">%{customdata[5]}</span><br>Chunk: <b>%{customdata[0]}</b> &nbsp; &nbsp; From <b>%{customdata[1]}</b> to <b>%{customdata[2]}</b> &nbsp; &nbsp; <br>KS statistic: <b>%{customdata[3]}</b>  &nbsp; &nbsp; %{customdata[6]} <extra></extra>\",\"marker\":{\"color\":\"#3b0280\",\"size\":6,\"symbol\":\"square\"},\"mode\":\"markers\",\"name\":\"No data drift\",\"showlegend\":false,\"x\":[\"2066-12-25T00:00:00\"],\"y\":[0.3694420371975201],\"type\":\"scatter\"},{\"customdata\":[[\"[20000:24999]\",\"Oct-29-2073\",\"Jul-07-2087\",\"0.4034\",\"<b style=\\\"color:#3b0280;line-height:60px\\\">Analysis</b>\",\"\\u26a0 <b>Drift detected</b>\",\"\"],[\"[25000:29999]\",\"Jul-08-2087\",\"Mar-16-2101\",\"0.5154\",\"<b style=\\\"color:#3b0280;line-height:60px\\\">Analysis</b>\",\"\\u26a0 <b>Drift detected</b>\",\"\"],[\"[30000:32364]\",\"Mar-17-2101\",\"Sep-06-2107\",\"0.5367\",\"<b style=\\\"color:#3b0280;line-height:60px\\\">Analysis</b>\",\"\\u26a0 <b>Drift detected</b>\",\"\"]],\"hovertemplate\":\"%{customdata[4]} &nbsp; &nbsp; <span style=\\\"color:#AD0000\\\">%{customdata[5]}</span><br>Chunk: <b>%{customdata[0]}</b> &nbsp; &nbsp; From <b>%{customdata[1]}</b> to <b>%{customdata[2]}</b> &nbsp; &nbsp; <br>KS statistic: <b>%{customdata[3]}</b>  &nbsp; &nbsp; %{customdata[6]} <extra></extra>\",\"marker\":{\"color\":\"#DD4040\",\"size\":6,\"symbol\":\"diamond\"},\"mode\":\"markers\",\"name\":\"Data drift\",\"showlegend\":false,\"x\":[\"2080-09-01T12:00:00\",\"2094-05-11T12:00:00\",\"2104-06-11T00:00:00\"],\"y\":[0.4033595493633757,0.5154250649956669,0.5366947911717795],\"type\":\"scatter\"},{\"legendgroup\":\"1\",\"line\":{\"color\":\"rgba(0.23137254901960785, 0.00784313725490196, 0.5019607843137255, 0.2)\",\"width\":9},\"mode\":\"lines\",\"name\":\"P-value is signficant\",\"x\":[[1764504000000000000],[4242585600000000000]],\"y\":[null,null],\"type\":\"scatter\"},{\"line\":{\"color\":\"rgba(0,0,0,0)\"},\"mode\":\"lines\",\"showlegend\":false,\"x\":[[1764504000000000000],[4242585600000000000]],\"y\":[null,null],\"type\":\"scatter\"},{\"fill\":\"tonexty\",\"fillcolor\":\"rgba(0.8666666666666667, 0.25098039215686274, 0.25098039215686274, 0.2)\",\"legendgroup\":\"1\",\"line\":{\"color\":\"rgba(0,0,0,0)\"},\"marker\":{\"color\":\"#DD4040\",\"size\":6,\"symbol\":\"diamond\"},\"mode\":\"lines+markers\",\"name\":\"Data drift\",\"x\":[[1764504000000000000],[4242585600000000000]],\"y\":[null,null],\"type\":\"scatter\"}],                        {\"hoverlabel\":{\"bgcolor\":\"white\",\"font\":{\"size\":14}},\"legend\":{\"itemclick\":false,\"itemdoubleclick\":false,\"traceorder\":\"normal\",\"yanchor\":\"top\",\"y\":-0.25,\"xanchor\":\"left\",\"x\":0,\"orientation\":\"h\"},\"paper_bgcolor\":\"rgba(255,255,255,1)\",\"plot_bgcolor\":\"rgba(255,255,255,1)\",\"title\":{\"text\":\"KS statistic for x\"},\"xaxis\":{\"linecolor\":\"#666666\",\"mirror\":true,\"showgrid\":false,\"title\":{\"text\":\"Time\"},\"zeroline\":false},\"yaxis\":{\"linecolor\":\"#666666\",\"mirror\":true,\"showgrid\":false,\"title\":{\"text\":\"KS statistic\"},\"zeroline\":false},\"template\":{\"data\":{\"histogram2dcontour\":[{\"type\":\"histogram2dcontour\",\"colorbar\":{\"outlinewidth\":0,\"ticks\":\"\"},\"colorscale\":[[0.0,\"#0d0887\"],[0.1111111111111111,\"#46039f\"],[0.2222222222222222,\"#7201a8\"],[0.3333333333333333,\"#9c179e\"],[0.4444444444444444,\"#bd3786\"],[0.5555555555555556,\"#d8576b\"],[0.6666666666666666,\"#ed7953\"],[0.7777777777777778,\"#fb9f3a\"],[0.8888888888888888,\"#fdca26\"],[1.0,\"#f0f921\"]]}],\"choropleth\":[{\"type\":\"choropleth\",\"colorbar\":{\"outlinewidth\":0,\"ticks\":\"\"}}],\"histogram2d\":[{\"type\":\"histogram2d\",\"colorbar\":{\"outlinewidth\":0,\"ticks\":\"\"},\"colorscale\":[[0.0,\"#0d0887\"],[0.1111111111111111,\"#46039f\"],[0.2222222222222222,\"#7201a8\"],[0.3333333333333333,\"#9c179e\"],[0.4444444444444444,\"#bd3786\"],[0.5555555555555556,\"#d8576b\"],[0.6666666666666666,\"#ed7953\"],[0.7777777777777778,\"#fb9f3a\"],[0.8888888888888888,\"#fdca26\"],[1.0,\"#f0f921\"]]}],\"heatmap\":[{\"type\":\"heatmap\",\"colorbar\":{\"outlinewidth\":0,\"ticks\":\"\"},\"colorscale\":[[0.0,\"#0d0887\"],[0.1111111111111111,\"#46039f\"],[0.2222222222222222,\"#7201a8\"],[0.3333333333333333,\"#9c179e\"],[0.4444444444444444,\"#bd3786\"],[0.5555555555555556,\"#d8576b\"],[0.6666666666666666,\"#ed7953\"],[0.7777777777777778,\"#fb9f3a\"],[0.8888888888888888,\"#fdca26\"],[1.0,\"#f0f921\"]]}],\"heatmapgl\":[{\"type\":\"heatmapgl\",\"colorbar\":{\"outlinewidth\":0,\"ticks\":\"\"},\"colorscale\":[[0.0,\"#0d0887\"],[0.1111111111111111,\"#46039f\"],[0.2222222222222222,\"#7201a8\"],[0.3333333333333333,\"#9c179e\"],[0.4444444444444444,\"#bd3786\"],[0.5555555555555556,\"#d8576b\"],[0.6666666666666666,\"#ed7953\"],[0.7777777777777778,\"#fb9f3a\"],[0.8888888888888888,\"#fdca26\"],[1.0,\"#f0f921\"]]}],\"contourcarpet\":[{\"type\":\"contourcarpet\",\"colorbar\":{\"outlinewidth\":0,\"ticks\":\"\"}}],\"contour\":[{\"type\":\"contour\",\"colorbar\":{\"outlinewidth\":0,\"ticks\":\"\"},\"colorscale\":[[0.0,\"#0d0887\"],[0.1111111111111111,\"#46039f\"],[0.2222222222222222,\"#7201a8\"],[0.3333333333333333,\"#9c179e\"],[0.4444444444444444,\"#bd3786\"],[0.5555555555555556,\"#d8576b\"],[0.6666666666666666,\"#ed7953\"],[0.7777777777777778,\"#fb9f3a\"],[0.8888888888888888,\"#fdca26\"],[1.0,\"#f0f921\"]]}],\"surface\":[{\"type\":\"surface\",\"colorbar\":{\"outlinewidth\":0,\"ticks\":\"\"},\"colorscale\":[[0.0,\"#0d0887\"],[0.1111111111111111,\"#46039f\"],[0.2222222222222222,\"#7201a8\"],[0.3333333333333333,\"#9c179e\"],[0.4444444444444444,\"#bd3786\"],[0.5555555555555556,\"#d8576b\"],[0.6666666666666666,\"#ed7953\"],[0.7777777777777778,\"#fb9f3a\"],[0.8888888888888888,\"#fdca26\"],[1.0,\"#f0f921\"]]}],\"mesh3d\":[{\"type\":\"mesh3d\",\"colorbar\":{\"outlinewidth\":0,\"ticks\":\"\"}}],\"scatter\":[{\"fillpattern\":{\"fillmode\":\"overlay\",\"size\":10,\"solidity\":0.2},\"type\":\"scatter\"}],\"parcoords\":[{\"type\":\"parcoords\",\"line\":{\"colorbar\":{\"outlinewidth\":0,\"ticks\":\"\"}}}],\"scatterpolargl\":[{\"type\":\"scatterpolargl\",\"marker\":{\"colorbar\":{\"outlinewidth\":0,\"ticks\":\"\"}}}],\"bar\":[{\"error_x\":{\"color\":\"#2a3f5f\"},\"error_y\":{\"color\":\"#2a3f5f\"},\"marker\":{\"line\":{\"color\":\"#E5ECF6\",\"width\":0.5},\"pattern\":{\"fillmode\":\"overlay\",\"size\":10,\"solidity\":0.2}},\"type\":\"bar\"}],\"scattergeo\":[{\"type\":\"scattergeo\",\"marker\":{\"colorbar\":{\"outlinewidth\":0,\"ticks\":\"\"}}}],\"scatterpolar\":[{\"type\":\"scatterpolar\",\"marker\":{\"colorbar\":{\"outlinewidth\":0,\"ticks\":\"\"}}}],\"histogram\":[{\"marker\":{\"pattern\":{\"fillmode\":\"overlay\",\"size\":10,\"solidity\":0.2}},\"type\":\"histogram\"}],\"scattergl\":[{\"type\":\"scattergl\",\"marker\":{\"colorbar\":{\"outlinewidth\":0,\"ticks\":\"\"}}}],\"scatter3d\":[{\"type\":\"scatter3d\",\"line\":{\"colorbar\":{\"outlinewidth\":0,\"ticks\":\"\"}},\"marker\":{\"colorbar\":{\"outlinewidth\":0,\"ticks\":\"\"}}}],\"scattermapbox\":[{\"type\":\"scattermapbox\",\"marker\":{\"colorbar\":{\"outlinewidth\":0,\"ticks\":\"\"}}}],\"scatterternary\":[{\"type\":\"scatterternary\",\"marker\":{\"colorbar\":{\"outlinewidth\":0,\"ticks\":\"\"}}}],\"scattercarpet\":[{\"type\":\"scattercarpet\",\"marker\":{\"colorbar\":{\"outlinewidth\":0,\"ticks\":\"\"}}}],\"carpet\":[{\"aaxis\":{\"endlinecolor\":\"#2a3f5f\",\"gridcolor\":\"white\",\"linecolor\":\"white\",\"minorgridcolor\":\"white\",\"startlinecolor\":\"#2a3f5f\"},\"baxis\":{\"endlinecolor\":\"#2a3f5f\",\"gridcolor\":\"white\",\"linecolor\":\"white\",\"minorgridcolor\":\"white\",\"startlinecolor\":\"#2a3f5f\"},\"type\":\"carpet\"}],\"table\":[{\"cells\":{\"fill\":{\"color\":\"#EBF0F8\"},\"line\":{\"color\":\"white\"}},\"header\":{\"fill\":{\"color\":\"#C8D4E3\"},\"line\":{\"color\":\"white\"}},\"type\":\"table\"}],\"barpolar\":[{\"marker\":{\"line\":{\"color\":\"#E5ECF6\",\"width\":0.5},\"pattern\":{\"fillmode\":\"overlay\",\"size\":10,\"solidity\":0.2}},\"type\":\"barpolar\"}],\"pie\":[{\"automargin\":true,\"type\":\"pie\"}]},\"layout\":{\"autotypenumbers\":\"strict\",\"colorway\":[\"#636efa\",\"#EF553B\",\"#00cc96\",\"#ab63fa\",\"#FFA15A\",\"#19d3f3\",\"#FF6692\",\"#B6E880\",\"#FF97FF\",\"#FECB52\"],\"font\":{\"color\":\"#2a3f5f\"},\"hovermode\":\"closest\",\"hoverlabel\":{\"align\":\"left\"},\"paper_bgcolor\":\"white\",\"plot_bgcolor\":\"#E5ECF6\",\"polar\":{\"bgcolor\":\"#E5ECF6\",\"angularaxis\":{\"gridcolor\":\"white\",\"linecolor\":\"white\",\"ticks\":\"\"},\"radialaxis\":{\"gridcolor\":\"white\",\"linecolor\":\"white\",\"ticks\":\"\"}},\"ternary\":{\"bgcolor\":\"#E5ECF6\",\"aaxis\":{\"gridcolor\":\"white\",\"linecolor\":\"white\",\"ticks\":\"\"},\"baxis\":{\"gridcolor\":\"white\",\"linecolor\":\"white\",\"ticks\":\"\"},\"caxis\":{\"gridcolor\":\"white\",\"linecolor\":\"white\",\"ticks\":\"\"}},\"coloraxis\":{\"colorbar\":{\"outlinewidth\":0,\"ticks\":\"\"}},\"colorscale\":{\"sequential\":[[0.0,\"#0d0887\"],[0.1111111111111111,\"#46039f\"],[0.2222222222222222,\"#7201a8\"],[0.3333333333333333,\"#9c179e\"],[0.4444444444444444,\"#bd3786\"],[0.5555555555555556,\"#d8576b\"],[0.6666666666666666,\"#ed7953\"],[0.7777777777777778,\"#fb9f3a\"],[0.8888888888888888,\"#fdca26\"],[1.0,\"#f0f921\"]],\"sequentialminus\":[[0.0,\"#0d0887\"],[0.1111111111111111,\"#46039f\"],[0.2222222222222222,\"#7201a8\"],[0.3333333333333333,\"#9c179e\"],[0.4444444444444444,\"#bd3786\"],[0.5555555555555556,\"#d8576b\"],[0.6666666666666666,\"#ed7953\"],[0.7777777777777778,\"#fb9f3a\"],[0.8888888888888888,\"#fdca26\"],[1.0,\"#f0f921\"]],\"diverging\":[[0,\"#8e0152\"],[0.1,\"#c51b7d\"],[0.2,\"#de77ae\"],[0.3,\"#f1b6da\"],[0.4,\"#fde0ef\"],[0.5,\"#f7f7f7\"],[0.6,\"#e6f5d0\"],[0.7,\"#b8e186\"],[0.8,\"#7fbc41\"],[0.9,\"#4d9221\"],[1,\"#276419\"]]},\"xaxis\":{\"gridcolor\":\"white\",\"linecolor\":\"white\",\"ticks\":\"\",\"title\":{\"standoff\":15},\"zerolinecolor\":\"white\",\"automargin\":true,\"zerolinewidth\":2},\"yaxis\":{\"gridcolor\":\"white\",\"linecolor\":\"white\",\"ticks\":\"\",\"title\":{\"standoff\":15},\"zerolinecolor\":\"white\",\"automargin\":true,\"zerolinewidth\":2},\"scene\":{\"xaxis\":{\"backgroundcolor\":\"#E5ECF6\",\"gridcolor\":\"white\",\"linecolor\":\"white\",\"showbackground\":true,\"ticks\":\"\",\"zerolinecolor\":\"white\",\"gridwidth\":2},\"yaxis\":{\"backgroundcolor\":\"#E5ECF6\",\"gridcolor\":\"white\",\"linecolor\":\"white\",\"showbackground\":true,\"ticks\":\"\",\"zerolinecolor\":\"white\",\"gridwidth\":2},\"zaxis\":{\"backgroundcolor\":\"#E5ECF6\",\"gridcolor\":\"white\",\"linecolor\":\"white\",\"showbackground\":true,\"ticks\":\"\",\"zerolinecolor\":\"white\",\"gridwidth\":2}},\"shapedefaults\":{\"line\":{\"color\":\"#2a3f5f\"}},\"annotationdefaults\":{\"arrowcolor\":\"#2a3f5f\",\"arrowhead\":0,\"arrowwidth\":1},\"geo\":{\"bgcolor\":\"white\",\"landcolor\":\"#E5ECF6\",\"subunitcolor\":\"white\",\"showland\":true,\"showlakes\":true,\"lakecolor\":\"white\"},\"title\":{\"x\":0.05},\"mapbox\":{\"style\":\"light\"}}},\"shapes\":[{\"layer\":\"below\",\"line\":{\"color\":\"#3b0280\",\"dash\":\"dash\",\"width\":1},\"type\":\"line\",\"x0\":\"2060-02-21T00:00:00\",\"x1\":\"2060-02-21T00:00:00\",\"xref\":\"x\",\"y0\":0,\"y1\":1,\"yref\":\"y domain\"},{\"fillcolor\":\"#DD4040\",\"layer\":\"below\",\"line\":{\"width\":0},\"opacity\":0.2,\"type\":\"rect\",\"x0\":\"2073-10-29T00:00:00\",\"x1\":\"2087-07-07T00:00:00\",\"xref\":\"x\",\"y0\":0,\"y1\":1,\"yref\":\"y domain\"},{\"fillcolor\":\"#DD4040\",\"layer\":\"below\",\"line\":{\"width\":0},\"opacity\":0.2,\"type\":\"rect\",\"x0\":\"2087-07-08T00:00:00\",\"x1\":\"2101-03-16T00:00:00\",\"xref\":\"x\",\"y0\":0,\"y1\":1,\"yref\":\"y domain\"},{\"fillcolor\":\"#DD4040\",\"layer\":\"below\",\"line\":{\"width\":0},\"opacity\":0.2,\"type\":\"rect\",\"x0\":\"2101-03-17T00:00:00\",\"x1\":\"2107-09-06T00:00:00\",\"xref\":\"x\",\"y0\":0,\"y1\":1,\"yref\":\"y domain\"}]},                        {\"responsive\": true}                    ).then(function(){\n",
       "                            \n",
       "var gd = document.getElementById('2cff9f8b-5f69-4744-b540-37638607618c');\n",
       "var x = new MutationObserver(function (mutations, observer) {{\n",
       "        var display = window.getComputedStyle(gd).display;\n",
       "        if (!display || display === 'none') {{\n",
       "            console.log([gd, 'removed!']);\n",
       "            Plotly.purge(gd);\n",
       "            observer.disconnect();\n",
       "        }}\n",
       "}});\n",
       "\n",
       "// Listen for the removal of the full notebook cells\n",
       "var notebookContainer = gd.closest('#notebook-container');\n",
       "if (notebookContainer) {{\n",
       "    x.observe(notebookContainer, {childList: true});\n",
       "}}\n",
       "\n",
       "// Listen for the clearing of the current output cell\n",
       "var outputEl = gd.closest('.output');\n",
       "if (outputEl) {{\n",
       "    x.observe(outputEl, {childList: true});\n",
       "}}\n",
       "\n",
       "                        })                };                });            </script>        </div>"
      ]
     },
     "metadata": {},
     "output_type": "display_data"
    },
    {
     "data": {
      "application/vnd.plotly.v1+json": {
       "config": {
        "plotlyServerURL": "https://plot.ly"
       },
       "data": [
        {
         "hoverinfo": "skip",
         "line": {
          "color": "rgba(0.23137254901960785, 0.00784313725490196, 0.5019607843137255, 0.2)",
          "width": 9
         },
         "mode": "lines",
         "showlegend": false,
         "type": "scatter",
         "x": [
          "2073-10-29T00:00:00",
          "2087-07-07T00:00:00"
         ],
         "y": [
          0.3968268115458969,
          0.3968268115458969
         ]
        },
        {
         "hoverinfo": "skip",
         "line": {
          "color": "rgba(0.23137254901960785, 0.00784313725490196, 0.5019607843137255, 0.2)",
          "width": 9
         },
         "mode": "lines",
         "showlegend": false,
         "type": "scatter",
         "x": [
          "2087-07-08T00:00:00",
          "2101-03-16T00:00:00"
         ],
         "y": [
          0.5160249983334445,
          0.5160249983334445
         ]
        },
        {
         "hoverinfo": "skip",
         "line": {
          "color": "rgba(0.23137254901960785, 0.00784313725490196, 0.5019607843137255, 0.2)",
          "width": 9
         },
         "mode": "lines",
         "showlegend": false,
         "type": "scatter",
         "x": [
          "2101-03-17T00:00:00",
          "2107-09-06T00:00:00"
         ],
         "y": [
          0.5372718915285846,
          0.5372718915285846
         ]
        },
        {
         "hoverinfo": "skip",
         "legendgroup": "1",
         "line": {
          "color": "#00c8e5",
          "shape": "hv",
          "width": 2
         },
         "mode": "lines",
         "name": "Reference period",
         "type": "scatter",
         "x": [
          "2019-01-27T00:00:00",
          "2032-10-05T00:00:00",
          "2046-06-14T00:00:00",
          "2060-02-20T00:00:00"
         ],
         "y": [
          0.5342246250249983,
          0.17050577961469238,
          0.3693753749750016,
          0.3693753749750016
         ]
        },
        {
         "hoverinfo": "skip",
         "legendgroup": "1",
         "line": {
          "color": "#3b0280",
          "shape": "hv",
          "width": 2
         },
         "mode": "lines",
         "name": "Analysis period",
         "type": "scatter",
         "x": [
          "2060-02-21T00:00:00",
          "2073-10-29T00:00:00",
          "2087-07-08T00:00:00",
          "2101-03-17T00:00:00",
          "2107-09-06T00:00:00"
         ],
         "y": [
          0.3694420371975201,
          0.3968268115458969,
          0.5160249983334445,
          0.5372718915285846,
          0.5372718915285846
         ]
        },
        {
         "customdata": [
          [
           "[0:4999]",
           "Jan-27-2019",
           "Oct-04-2032",
           "0.5342",
           "<b style=\"color:#00c8e5;line-height:60px\">Reference</b>",
           "",
           ""
          ],
          [
           "[5000:9999]",
           "Oct-05-2032",
           "Jun-13-2046",
           "0.1705",
           "<b style=\"color:#00c8e5;line-height:60px\">Reference</b>",
           "",
           ""
          ],
          [
           "[10000:14999]",
           "Jun-14-2046",
           "Feb-20-2060",
           "0.3694",
           "<b style=\"color:#00c8e5;line-height:60px\">Reference</b>",
           "",
           ""
          ]
         ],
         "hovertemplate": "%{customdata[4]} &nbsp; &nbsp; <span style=\"color:#AD0000\">%{customdata[5]}</span><br>Chunk: <b>%{customdata[0]}</b> &nbsp; &nbsp; From <b>%{customdata[1]}</b> to <b>%{customdata[2]}</b> &nbsp; &nbsp; <br>KS statistic: <b>%{customdata[3]}</b>  &nbsp; &nbsp; %{customdata[6]} <extra></extra>",
         "marker": {
          "color": "#00c8e5",
          "size": 6,
          "symbol": "square"
         },
         "mode": "markers",
         "name": "Reference",
         "showlegend": false,
         "type": "scatter",
         "x": [
          "2025-11-30T12:00:00",
          "2039-08-09T12:00:00",
          "2053-04-17T12:00:00"
         ],
         "y": [
          0.5342246250249983,
          0.17050577961469238,
          0.3693753749750016
         ]
        },
        {
         "customdata": [
          [
           "[15000:19999]",
           "Feb-21-2060",
           "Oct-28-2073",
           "0.3694",
           "<b style=\"color:#3b0280;line-height:60px\">Analysis</b>",
           "",
           ""
          ]
         ],
         "hovertemplate": "%{customdata[4]} &nbsp; &nbsp; <span style=\"color:#AD0000\">%{customdata[5]}</span><br>Chunk: <b>%{customdata[0]}</b> &nbsp; &nbsp; From <b>%{customdata[1]}</b> to <b>%{customdata[2]}</b> &nbsp; &nbsp; <br>KS statistic: <b>%{customdata[3]}</b>  &nbsp; &nbsp; %{customdata[6]} <extra></extra>",
         "marker": {
          "color": "#3b0280",
          "size": 6,
          "symbol": "square"
         },
         "mode": "markers",
         "name": "No data drift",
         "showlegend": false,
         "type": "scatter",
         "x": [
          "2066-12-25T00:00:00"
         ],
         "y": [
          0.3694420371975201
         ]
        },
        {
         "customdata": [
          [
           "[20000:24999]",
           "Oct-29-2073",
           "Jul-07-2087",
           "0.3968",
           "<b style=\"color:#3b0280;line-height:60px\">Analysis</b>",
           "⚠ <b>Drift detected</b>",
           ""
          ],
          [
           "[25000:29999]",
           "Jul-08-2087",
           "Mar-16-2101",
           "0.5160",
           "<b style=\"color:#3b0280;line-height:60px\">Analysis</b>",
           "⚠ <b>Drift detected</b>",
           ""
          ],
          [
           "[30000:32364]",
           "Mar-17-2101",
           "Sep-06-2107",
           "0.5373",
           "<b style=\"color:#3b0280;line-height:60px\">Analysis</b>",
           "⚠ <b>Drift detected</b>",
           ""
          ]
         ],
         "hovertemplate": "%{customdata[4]} &nbsp; &nbsp; <span style=\"color:#AD0000\">%{customdata[5]}</span><br>Chunk: <b>%{customdata[0]}</b> &nbsp; &nbsp; From <b>%{customdata[1]}</b> to <b>%{customdata[2]}</b> &nbsp; &nbsp; <br>KS statistic: <b>%{customdata[3]}</b>  &nbsp; &nbsp; %{customdata[6]} <extra></extra>",
         "marker": {
          "color": "#DD4040",
          "size": 6,
          "symbol": "diamond"
         },
         "mode": "markers",
         "name": "Data drift",
         "showlegend": false,
         "type": "scatter",
         "x": [
          "2080-09-01T12:00:00",
          "2094-05-11T12:00:00",
          "2104-06-11T00:00:00"
         ],
         "y": [
          0.3968268115458969,
          0.5160249983334445,
          0.5372718915285846
         ]
        },
        {
         "legendgroup": "1",
         "line": {
          "color": "rgba(0.23137254901960785, 0.00784313725490196, 0.5019607843137255, 0.2)",
          "width": 9
         },
         "mode": "lines",
         "name": "P-value is signficant",
         "type": "scatter",
         "x": [
          [
           1764504000000000000
          ],
          [
           4242585600000000000
          ]
         ],
         "y": [
          null,
          null
         ]
        },
        {
         "line": {
          "color": "rgba(0,0,0,0)"
         },
         "mode": "lines",
         "showlegend": false,
         "type": "scatter",
         "x": [
          [
           1764504000000000000
          ],
          [
           4242585600000000000
          ]
         ],
         "y": [
          null,
          null
         ]
        },
        {
         "fill": "tonexty",
         "fillcolor": "rgba(0.8666666666666667, 0.25098039215686274, 0.25098039215686274, 0.2)",
         "legendgroup": "1",
         "line": {
          "color": "rgba(0,0,0,0)"
         },
         "marker": {
          "color": "#DD4040",
          "size": 6,
          "symbol": "diamond"
         },
         "mode": "lines+markers",
         "name": "Data drift",
         "type": "scatter",
         "x": [
          [
           1764504000000000000
          ],
          [
           4242585600000000000
          ]
         ],
         "y": [
          null,
          null
         ]
        }
       ],
       "layout": {
        "hoverlabel": {
         "bgcolor": "white",
         "font": {
          "size": 14
         }
        },
        "legend": {
         "itemclick": false,
         "itemdoubleclick": false,
         "orientation": "h",
         "traceorder": "normal",
         "x": 0,
         "xanchor": "left",
         "y": -0.25,
         "yanchor": "top"
        },
        "paper_bgcolor": "rgba(255,255,255,1)",
        "plot_bgcolor": "rgba(255,255,255,1)",
        "shapes": [
         {
          "layer": "below",
          "line": {
           "color": "#3b0280",
           "dash": "dash",
           "width": 1
          },
          "type": "line",
          "x0": "2060-02-21T00:00:00",
          "x1": "2060-02-21T00:00:00",
          "xref": "x",
          "y0": 0,
          "y1": 1,
          "yref": "y domain"
         },
         {
          "fillcolor": "#DD4040",
          "layer": "below",
          "line": {
           "width": 0
          },
          "opacity": 0.2,
          "type": "rect",
          "x0": "2073-10-29T00:00:00",
          "x1": "2087-07-07T00:00:00",
          "xref": "x",
          "y0": 0,
          "y1": 1,
          "yref": "y domain"
         },
         {
          "fillcolor": "#DD4040",
          "layer": "below",
          "line": {
           "width": 0
          },
          "opacity": 0.2,
          "type": "rect",
          "x0": "2087-07-08T00:00:00",
          "x1": "2101-03-16T00:00:00",
          "xref": "x",
          "y0": 0,
          "y1": 1,
          "yref": "y domain"
         },
         {
          "fillcolor": "#DD4040",
          "layer": "below",
          "line": {
           "width": 0
          },
          "opacity": 0.2,
          "type": "rect",
          "x0": "2101-03-17T00:00:00",
          "x1": "2107-09-06T00:00:00",
          "xref": "x",
          "y0": 0,
          "y1": 1,
          "yref": "y domain"
         }
        ],
        "template": {
         "data": {
          "bar": [
           {
            "error_x": {
             "color": "#2a3f5f"
            },
            "error_y": {
             "color": "#2a3f5f"
            },
            "marker": {
             "line": {
              "color": "#E5ECF6",
              "width": 0.5
             },
             "pattern": {
              "fillmode": "overlay",
              "size": 10,
              "solidity": 0.2
             }
            },
            "type": "bar"
           }
          ],
          "barpolar": [
           {
            "marker": {
             "line": {
              "color": "#E5ECF6",
              "width": 0.5
             },
             "pattern": {
              "fillmode": "overlay",
              "size": 10,
              "solidity": 0.2
             }
            },
            "type": "barpolar"
           }
          ],
          "carpet": [
           {
            "aaxis": {
             "endlinecolor": "#2a3f5f",
             "gridcolor": "white",
             "linecolor": "white",
             "minorgridcolor": "white",
             "startlinecolor": "#2a3f5f"
            },
            "baxis": {
             "endlinecolor": "#2a3f5f",
             "gridcolor": "white",
             "linecolor": "white",
             "minorgridcolor": "white",
             "startlinecolor": "#2a3f5f"
            },
            "type": "carpet"
           }
          ],
          "choropleth": [
           {
            "colorbar": {
             "outlinewidth": 0,
             "ticks": ""
            },
            "type": "choropleth"
           }
          ],
          "contour": [
           {
            "colorbar": {
             "outlinewidth": 0,
             "ticks": ""
            },
            "colorscale": [
             [
              0,
              "#0d0887"
             ],
             [
              0.1111111111111111,
              "#46039f"
             ],
             [
              0.2222222222222222,
              "#7201a8"
             ],
             [
              0.3333333333333333,
              "#9c179e"
             ],
             [
              0.4444444444444444,
              "#bd3786"
             ],
             [
              0.5555555555555556,
              "#d8576b"
             ],
             [
              0.6666666666666666,
              "#ed7953"
             ],
             [
              0.7777777777777778,
              "#fb9f3a"
             ],
             [
              0.8888888888888888,
              "#fdca26"
             ],
             [
              1,
              "#f0f921"
             ]
            ],
            "type": "contour"
           }
          ],
          "contourcarpet": [
           {
            "colorbar": {
             "outlinewidth": 0,
             "ticks": ""
            },
            "type": "contourcarpet"
           }
          ],
          "heatmap": [
           {
            "colorbar": {
             "outlinewidth": 0,
             "ticks": ""
            },
            "colorscale": [
             [
              0,
              "#0d0887"
             ],
             [
              0.1111111111111111,
              "#46039f"
             ],
             [
              0.2222222222222222,
              "#7201a8"
             ],
             [
              0.3333333333333333,
              "#9c179e"
             ],
             [
              0.4444444444444444,
              "#bd3786"
             ],
             [
              0.5555555555555556,
              "#d8576b"
             ],
             [
              0.6666666666666666,
              "#ed7953"
             ],
             [
              0.7777777777777778,
              "#fb9f3a"
             ],
             [
              0.8888888888888888,
              "#fdca26"
             ],
             [
              1,
              "#f0f921"
             ]
            ],
            "type": "heatmap"
           }
          ],
          "heatmapgl": [
           {
            "colorbar": {
             "outlinewidth": 0,
             "ticks": ""
            },
            "colorscale": [
             [
              0,
              "#0d0887"
             ],
             [
              0.1111111111111111,
              "#46039f"
             ],
             [
              0.2222222222222222,
              "#7201a8"
             ],
             [
              0.3333333333333333,
              "#9c179e"
             ],
             [
              0.4444444444444444,
              "#bd3786"
             ],
             [
              0.5555555555555556,
              "#d8576b"
             ],
             [
              0.6666666666666666,
              "#ed7953"
             ],
             [
              0.7777777777777778,
              "#fb9f3a"
             ],
             [
              0.8888888888888888,
              "#fdca26"
             ],
             [
              1,
              "#f0f921"
             ]
            ],
            "type": "heatmapgl"
           }
          ],
          "histogram": [
           {
            "marker": {
             "pattern": {
              "fillmode": "overlay",
              "size": 10,
              "solidity": 0.2
             }
            },
            "type": "histogram"
           }
          ],
          "histogram2d": [
           {
            "colorbar": {
             "outlinewidth": 0,
             "ticks": ""
            },
            "colorscale": [
             [
              0,
              "#0d0887"
             ],
             [
              0.1111111111111111,
              "#46039f"
             ],
             [
              0.2222222222222222,
              "#7201a8"
             ],
             [
              0.3333333333333333,
              "#9c179e"
             ],
             [
              0.4444444444444444,
              "#bd3786"
             ],
             [
              0.5555555555555556,
              "#d8576b"
             ],
             [
              0.6666666666666666,
              "#ed7953"
             ],
             [
              0.7777777777777778,
              "#fb9f3a"
             ],
             [
              0.8888888888888888,
              "#fdca26"
             ],
             [
              1,
              "#f0f921"
             ]
            ],
            "type": "histogram2d"
           }
          ],
          "histogram2dcontour": [
           {
            "colorbar": {
             "outlinewidth": 0,
             "ticks": ""
            },
            "colorscale": [
             [
              0,
              "#0d0887"
             ],
             [
              0.1111111111111111,
              "#46039f"
             ],
             [
              0.2222222222222222,
              "#7201a8"
             ],
             [
              0.3333333333333333,
              "#9c179e"
             ],
             [
              0.4444444444444444,
              "#bd3786"
             ],
             [
              0.5555555555555556,
              "#d8576b"
             ],
             [
              0.6666666666666666,
              "#ed7953"
             ],
             [
              0.7777777777777778,
              "#fb9f3a"
             ],
             [
              0.8888888888888888,
              "#fdca26"
             ],
             [
              1,
              "#f0f921"
             ]
            ],
            "type": "histogram2dcontour"
           }
          ],
          "mesh3d": [
           {
            "colorbar": {
             "outlinewidth": 0,
             "ticks": ""
            },
            "type": "mesh3d"
           }
          ],
          "parcoords": [
           {
            "line": {
             "colorbar": {
              "outlinewidth": 0,
              "ticks": ""
             }
            },
            "type": "parcoords"
           }
          ],
          "pie": [
           {
            "automargin": true,
            "type": "pie"
           }
          ],
          "scatter": [
           {
            "fillpattern": {
             "fillmode": "overlay",
             "size": 10,
             "solidity": 0.2
            },
            "type": "scatter"
           }
          ],
          "scatter3d": [
           {
            "line": {
             "colorbar": {
              "outlinewidth": 0,
              "ticks": ""
             }
            },
            "marker": {
             "colorbar": {
              "outlinewidth": 0,
              "ticks": ""
             }
            },
            "type": "scatter3d"
           }
          ],
          "scattercarpet": [
           {
            "marker": {
             "colorbar": {
              "outlinewidth": 0,
              "ticks": ""
             }
            },
            "type": "scattercarpet"
           }
          ],
          "scattergeo": [
           {
            "marker": {
             "colorbar": {
              "outlinewidth": 0,
              "ticks": ""
             }
            },
            "type": "scattergeo"
           }
          ],
          "scattergl": [
           {
            "marker": {
             "colorbar": {
              "outlinewidth": 0,
              "ticks": ""
             }
            },
            "type": "scattergl"
           }
          ],
          "scattermapbox": [
           {
            "marker": {
             "colorbar": {
              "outlinewidth": 0,
              "ticks": ""
             }
            },
            "type": "scattermapbox"
           }
          ],
          "scatterpolar": [
           {
            "marker": {
             "colorbar": {
              "outlinewidth": 0,
              "ticks": ""
             }
            },
            "type": "scatterpolar"
           }
          ],
          "scatterpolargl": [
           {
            "marker": {
             "colorbar": {
              "outlinewidth": 0,
              "ticks": ""
             }
            },
            "type": "scatterpolargl"
           }
          ],
          "scatterternary": [
           {
            "marker": {
             "colorbar": {
              "outlinewidth": 0,
              "ticks": ""
             }
            },
            "type": "scatterternary"
           }
          ],
          "surface": [
           {
            "colorbar": {
             "outlinewidth": 0,
             "ticks": ""
            },
            "colorscale": [
             [
              0,
              "#0d0887"
             ],
             [
              0.1111111111111111,
              "#46039f"
             ],
             [
              0.2222222222222222,
              "#7201a8"
             ],
             [
              0.3333333333333333,
              "#9c179e"
             ],
             [
              0.4444444444444444,
              "#bd3786"
             ],
             [
              0.5555555555555556,
              "#d8576b"
             ],
             [
              0.6666666666666666,
              "#ed7953"
             ],
             [
              0.7777777777777778,
              "#fb9f3a"
             ],
             [
              0.8888888888888888,
              "#fdca26"
             ],
             [
              1,
              "#f0f921"
             ]
            ],
            "type": "surface"
           }
          ],
          "table": [
           {
            "cells": {
             "fill": {
              "color": "#EBF0F8"
             },
             "line": {
              "color": "white"
             }
            },
            "header": {
             "fill": {
              "color": "#C8D4E3"
             },
             "line": {
              "color": "white"
             }
            },
            "type": "table"
           }
          ]
         },
         "layout": {
          "annotationdefaults": {
           "arrowcolor": "#2a3f5f",
           "arrowhead": 0,
           "arrowwidth": 1
          },
          "autotypenumbers": "strict",
          "coloraxis": {
           "colorbar": {
            "outlinewidth": 0,
            "ticks": ""
           }
          },
          "colorscale": {
           "diverging": [
            [
             0,
             "#8e0152"
            ],
            [
             0.1,
             "#c51b7d"
            ],
            [
             0.2,
             "#de77ae"
            ],
            [
             0.3,
             "#f1b6da"
            ],
            [
             0.4,
             "#fde0ef"
            ],
            [
             0.5,
             "#f7f7f7"
            ],
            [
             0.6,
             "#e6f5d0"
            ],
            [
             0.7,
             "#b8e186"
            ],
            [
             0.8,
             "#7fbc41"
            ],
            [
             0.9,
             "#4d9221"
            ],
            [
             1,
             "#276419"
            ]
           ],
           "sequential": [
            [
             0,
             "#0d0887"
            ],
            [
             0.1111111111111111,
             "#46039f"
            ],
            [
             0.2222222222222222,
             "#7201a8"
            ],
            [
             0.3333333333333333,
             "#9c179e"
            ],
            [
             0.4444444444444444,
             "#bd3786"
            ],
            [
             0.5555555555555556,
             "#d8576b"
            ],
            [
             0.6666666666666666,
             "#ed7953"
            ],
            [
             0.7777777777777778,
             "#fb9f3a"
            ],
            [
             0.8888888888888888,
             "#fdca26"
            ],
            [
             1,
             "#f0f921"
            ]
           ],
           "sequentialminus": [
            [
             0,
             "#0d0887"
            ],
            [
             0.1111111111111111,
             "#46039f"
            ],
            [
             0.2222222222222222,
             "#7201a8"
            ],
            [
             0.3333333333333333,
             "#9c179e"
            ],
            [
             0.4444444444444444,
             "#bd3786"
            ],
            [
             0.5555555555555556,
             "#d8576b"
            ],
            [
             0.6666666666666666,
             "#ed7953"
            ],
            [
             0.7777777777777778,
             "#fb9f3a"
            ],
            [
             0.8888888888888888,
             "#fdca26"
            ],
            [
             1,
             "#f0f921"
            ]
           ]
          },
          "colorway": [
           "#636efa",
           "#EF553B",
           "#00cc96",
           "#ab63fa",
           "#FFA15A",
           "#19d3f3",
           "#FF6692",
           "#B6E880",
           "#FF97FF",
           "#FECB52"
          ],
          "font": {
           "color": "#2a3f5f"
          },
          "geo": {
           "bgcolor": "white",
           "lakecolor": "white",
           "landcolor": "#E5ECF6",
           "showlakes": true,
           "showland": true,
           "subunitcolor": "white"
          },
          "hoverlabel": {
           "align": "left"
          },
          "hovermode": "closest",
          "mapbox": {
           "style": "light"
          },
          "paper_bgcolor": "white",
          "plot_bgcolor": "#E5ECF6",
          "polar": {
           "angularaxis": {
            "gridcolor": "white",
            "linecolor": "white",
            "ticks": ""
           },
           "bgcolor": "#E5ECF6",
           "radialaxis": {
            "gridcolor": "white",
            "linecolor": "white",
            "ticks": ""
           }
          },
          "scene": {
           "xaxis": {
            "backgroundcolor": "#E5ECF6",
            "gridcolor": "white",
            "gridwidth": 2,
            "linecolor": "white",
            "showbackground": true,
            "ticks": "",
            "zerolinecolor": "white"
           },
           "yaxis": {
            "backgroundcolor": "#E5ECF6",
            "gridcolor": "white",
            "gridwidth": 2,
            "linecolor": "white",
            "showbackground": true,
            "ticks": "",
            "zerolinecolor": "white"
           },
           "zaxis": {
            "backgroundcolor": "#E5ECF6",
            "gridcolor": "white",
            "gridwidth": 2,
            "linecolor": "white",
            "showbackground": true,
            "ticks": "",
            "zerolinecolor": "white"
           }
          },
          "shapedefaults": {
           "line": {
            "color": "#2a3f5f"
           }
          },
          "ternary": {
           "aaxis": {
            "gridcolor": "white",
            "linecolor": "white",
            "ticks": ""
           },
           "baxis": {
            "gridcolor": "white",
            "linecolor": "white",
            "ticks": ""
           },
           "bgcolor": "#E5ECF6",
           "caxis": {
            "gridcolor": "white",
            "linecolor": "white",
            "ticks": ""
           }
          },
          "title": {
           "x": 0.05
          },
          "xaxis": {
           "automargin": true,
           "gridcolor": "white",
           "linecolor": "white",
           "ticks": "",
           "title": {
            "standoff": 15
           },
           "zerolinecolor": "white",
           "zerolinewidth": 2
          },
          "yaxis": {
           "automargin": true,
           "gridcolor": "white",
           "linecolor": "white",
           "ticks": "",
           "title": {
            "standoff": 15
           },
           "zerolinecolor": "white",
           "zerolinewidth": 2
          }
         }
        },
        "title": {
         "text": "KS statistic for y"
        },
        "xaxis": {
         "linecolor": "#666666",
         "mirror": true,
         "showgrid": false,
         "title": {
          "text": "Time"
         },
         "zeroline": false
        },
        "yaxis": {
         "linecolor": "#666666",
         "mirror": true,
         "showgrid": false,
         "title": {
          "text": "KS statistic"
         },
         "zeroline": false
        }
       }
      },
      "text/html": [
       "<div>                            <div id=\"2db603c1-8aa9-464b-be19-9c250f855fa9\" class=\"plotly-graph-div\" style=\"height:525px; width:100%;\"></div>            <script type=\"text/javascript\">                require([\"plotly\"], function(Plotly) {                    window.PLOTLYENV=window.PLOTLYENV || {};                                    if (document.getElementById(\"2db603c1-8aa9-464b-be19-9c250f855fa9\")) {                    Plotly.newPlot(                        \"2db603c1-8aa9-464b-be19-9c250f855fa9\",                        [{\"hoverinfo\":\"skip\",\"line\":{\"color\":\"rgba(0.23137254901960785, 0.00784313725490196, 0.5019607843137255, 0.2)\",\"width\":9},\"mode\":\"lines\",\"showlegend\":false,\"x\":[\"2073-10-29T00:00:00\",\"2087-07-07T00:00:00\"],\"y\":[0.3968268115458969,0.3968268115458969],\"type\":\"scatter\"},{\"hoverinfo\":\"skip\",\"line\":{\"color\":\"rgba(0.23137254901960785, 0.00784313725490196, 0.5019607843137255, 0.2)\",\"width\":9},\"mode\":\"lines\",\"showlegend\":false,\"x\":[\"2087-07-08T00:00:00\",\"2101-03-16T00:00:00\"],\"y\":[0.5160249983334445,0.5160249983334445],\"type\":\"scatter\"},{\"hoverinfo\":\"skip\",\"line\":{\"color\":\"rgba(0.23137254901960785, 0.00784313725490196, 0.5019607843137255, 0.2)\",\"width\":9},\"mode\":\"lines\",\"showlegend\":false,\"x\":[\"2101-03-17T00:00:00\",\"2107-09-06T00:00:00\"],\"y\":[0.5372718915285846,0.5372718915285846],\"type\":\"scatter\"},{\"hoverinfo\":\"skip\",\"legendgroup\":\"1\",\"line\":{\"color\":\"#00c8e5\",\"shape\":\"hv\",\"width\":2},\"mode\":\"lines\",\"name\":\"Reference period\",\"x\":[\"2019-01-27T00:00:00\",\"2032-10-05T00:00:00\",\"2046-06-14T00:00:00\",\"2060-02-20T00:00:00\"],\"y\":[0.5342246250249983,0.17050577961469238,0.3693753749750016,0.3693753749750016],\"type\":\"scatter\"},{\"hoverinfo\":\"skip\",\"legendgroup\":\"1\",\"line\":{\"color\":\"#3b0280\",\"shape\":\"hv\",\"width\":2},\"mode\":\"lines\",\"name\":\"Analysis period\",\"x\":[\"2060-02-21T00:00:00\",\"2073-10-29T00:00:00\",\"2087-07-08T00:00:00\",\"2101-03-17T00:00:00\",\"2107-09-06T00:00:00\"],\"y\":[0.3694420371975201,0.3968268115458969,0.5160249983334445,0.5372718915285846,0.5372718915285846],\"type\":\"scatter\"},{\"customdata\":[[\"[0:4999]\",\"Jan-27-2019\",\"Oct-04-2032\",\"0.5342\",\"<b style=\\\"color:#00c8e5;line-height:60px\\\">Reference</b>\",\"\",\"\"],[\"[5000:9999]\",\"Oct-05-2032\",\"Jun-13-2046\",\"0.1705\",\"<b style=\\\"color:#00c8e5;line-height:60px\\\">Reference</b>\",\"\",\"\"],[\"[10000:14999]\",\"Jun-14-2046\",\"Feb-20-2060\",\"0.3694\",\"<b style=\\\"color:#00c8e5;line-height:60px\\\">Reference</b>\",\"\",\"\"]],\"hovertemplate\":\"%{customdata[4]} &nbsp; &nbsp; <span style=\\\"color:#AD0000\\\">%{customdata[5]}</span><br>Chunk: <b>%{customdata[0]}</b> &nbsp; &nbsp; From <b>%{customdata[1]}</b> to <b>%{customdata[2]}</b> &nbsp; &nbsp; <br>KS statistic: <b>%{customdata[3]}</b>  &nbsp; &nbsp; %{customdata[6]} <extra></extra>\",\"marker\":{\"color\":\"#00c8e5\",\"size\":6,\"symbol\":\"square\"},\"mode\":\"markers\",\"name\":\"Reference\",\"showlegend\":false,\"x\":[\"2025-11-30T12:00:00\",\"2039-08-09T12:00:00\",\"2053-04-17T12:00:00\"],\"y\":[0.5342246250249983,0.17050577961469238,0.3693753749750016],\"type\":\"scatter\"},{\"customdata\":[[\"[15000:19999]\",\"Feb-21-2060\",\"Oct-28-2073\",\"0.3694\",\"<b style=\\\"color:#3b0280;line-height:60px\\\">Analysis</b>\",\"\",\"\"]],\"hovertemplate\":\"%{customdata[4]} &nbsp; &nbsp; <span style=\\\"color:#AD0000\\\">%{customdata[5]}</span><br>Chunk: <b>%{customdata[0]}</b> &nbsp; &nbsp; From <b>%{customdata[1]}</b> to <b>%{customdata[2]}</b> &nbsp; &nbsp; <br>KS statistic: <b>%{customdata[3]}</b>  &nbsp; &nbsp; %{customdata[6]} <extra></extra>\",\"marker\":{\"color\":\"#3b0280\",\"size\":6,\"symbol\":\"square\"},\"mode\":\"markers\",\"name\":\"No data drift\",\"showlegend\":false,\"x\":[\"2066-12-25T00:00:00\"],\"y\":[0.3694420371975201],\"type\":\"scatter\"},{\"customdata\":[[\"[20000:24999]\",\"Oct-29-2073\",\"Jul-07-2087\",\"0.3968\",\"<b style=\\\"color:#3b0280;line-height:60px\\\">Analysis</b>\",\"\\u26a0 <b>Drift detected</b>\",\"\"],[\"[25000:29999]\",\"Jul-08-2087\",\"Mar-16-2101\",\"0.5160\",\"<b style=\\\"color:#3b0280;line-height:60px\\\">Analysis</b>\",\"\\u26a0 <b>Drift detected</b>\",\"\"],[\"[30000:32364]\",\"Mar-17-2101\",\"Sep-06-2107\",\"0.5373\",\"<b style=\\\"color:#3b0280;line-height:60px\\\">Analysis</b>\",\"\\u26a0 <b>Drift detected</b>\",\"\"]],\"hovertemplate\":\"%{customdata[4]} &nbsp; &nbsp; <span style=\\\"color:#AD0000\\\">%{customdata[5]}</span><br>Chunk: <b>%{customdata[0]}</b> &nbsp; &nbsp; From <b>%{customdata[1]}</b> to <b>%{customdata[2]}</b> &nbsp; &nbsp; <br>KS statistic: <b>%{customdata[3]}</b>  &nbsp; &nbsp; %{customdata[6]} <extra></extra>\",\"marker\":{\"color\":\"#DD4040\",\"size\":6,\"symbol\":\"diamond\"},\"mode\":\"markers\",\"name\":\"Data drift\",\"showlegend\":false,\"x\":[\"2080-09-01T12:00:00\",\"2094-05-11T12:00:00\",\"2104-06-11T00:00:00\"],\"y\":[0.3968268115458969,0.5160249983334445,0.5372718915285846],\"type\":\"scatter\"},{\"legendgroup\":\"1\",\"line\":{\"color\":\"rgba(0.23137254901960785, 0.00784313725490196, 0.5019607843137255, 0.2)\",\"width\":9},\"mode\":\"lines\",\"name\":\"P-value is signficant\",\"x\":[[1764504000000000000],[4242585600000000000]],\"y\":[null,null],\"type\":\"scatter\"},{\"line\":{\"color\":\"rgba(0,0,0,0)\"},\"mode\":\"lines\",\"showlegend\":false,\"x\":[[1764504000000000000],[4242585600000000000]],\"y\":[null,null],\"type\":\"scatter\"},{\"fill\":\"tonexty\",\"fillcolor\":\"rgba(0.8666666666666667, 0.25098039215686274, 0.25098039215686274, 0.2)\",\"legendgroup\":\"1\",\"line\":{\"color\":\"rgba(0,0,0,0)\"},\"marker\":{\"color\":\"#DD4040\",\"size\":6,\"symbol\":\"diamond\"},\"mode\":\"lines+markers\",\"name\":\"Data drift\",\"x\":[[1764504000000000000],[4242585600000000000]],\"y\":[null,null],\"type\":\"scatter\"}],                        {\"hoverlabel\":{\"bgcolor\":\"white\",\"font\":{\"size\":14}},\"legend\":{\"itemclick\":false,\"itemdoubleclick\":false,\"traceorder\":\"normal\",\"yanchor\":\"top\",\"y\":-0.25,\"xanchor\":\"left\",\"x\":0,\"orientation\":\"h\"},\"paper_bgcolor\":\"rgba(255,255,255,1)\",\"plot_bgcolor\":\"rgba(255,255,255,1)\",\"title\":{\"text\":\"KS statistic for y\"},\"xaxis\":{\"linecolor\":\"#666666\",\"mirror\":true,\"showgrid\":false,\"title\":{\"text\":\"Time\"},\"zeroline\":false},\"yaxis\":{\"linecolor\":\"#666666\",\"mirror\":true,\"showgrid\":false,\"title\":{\"text\":\"KS statistic\"},\"zeroline\":false},\"template\":{\"data\":{\"histogram2dcontour\":[{\"type\":\"histogram2dcontour\",\"colorbar\":{\"outlinewidth\":0,\"ticks\":\"\"},\"colorscale\":[[0.0,\"#0d0887\"],[0.1111111111111111,\"#46039f\"],[0.2222222222222222,\"#7201a8\"],[0.3333333333333333,\"#9c179e\"],[0.4444444444444444,\"#bd3786\"],[0.5555555555555556,\"#d8576b\"],[0.6666666666666666,\"#ed7953\"],[0.7777777777777778,\"#fb9f3a\"],[0.8888888888888888,\"#fdca26\"],[1.0,\"#f0f921\"]]}],\"choropleth\":[{\"type\":\"choropleth\",\"colorbar\":{\"outlinewidth\":0,\"ticks\":\"\"}}],\"histogram2d\":[{\"type\":\"histogram2d\",\"colorbar\":{\"outlinewidth\":0,\"ticks\":\"\"},\"colorscale\":[[0.0,\"#0d0887\"],[0.1111111111111111,\"#46039f\"],[0.2222222222222222,\"#7201a8\"],[0.3333333333333333,\"#9c179e\"],[0.4444444444444444,\"#bd3786\"],[0.5555555555555556,\"#d8576b\"],[0.6666666666666666,\"#ed7953\"],[0.7777777777777778,\"#fb9f3a\"],[0.8888888888888888,\"#fdca26\"],[1.0,\"#f0f921\"]]}],\"heatmap\":[{\"type\":\"heatmap\",\"colorbar\":{\"outlinewidth\":0,\"ticks\":\"\"},\"colorscale\":[[0.0,\"#0d0887\"],[0.1111111111111111,\"#46039f\"],[0.2222222222222222,\"#7201a8\"],[0.3333333333333333,\"#9c179e\"],[0.4444444444444444,\"#bd3786\"],[0.5555555555555556,\"#d8576b\"],[0.6666666666666666,\"#ed7953\"],[0.7777777777777778,\"#fb9f3a\"],[0.8888888888888888,\"#fdca26\"],[1.0,\"#f0f921\"]]}],\"heatmapgl\":[{\"type\":\"heatmapgl\",\"colorbar\":{\"outlinewidth\":0,\"ticks\":\"\"},\"colorscale\":[[0.0,\"#0d0887\"],[0.1111111111111111,\"#46039f\"],[0.2222222222222222,\"#7201a8\"],[0.3333333333333333,\"#9c179e\"],[0.4444444444444444,\"#bd3786\"],[0.5555555555555556,\"#d8576b\"],[0.6666666666666666,\"#ed7953\"],[0.7777777777777778,\"#fb9f3a\"],[0.8888888888888888,\"#fdca26\"],[1.0,\"#f0f921\"]]}],\"contourcarpet\":[{\"type\":\"contourcarpet\",\"colorbar\":{\"outlinewidth\":0,\"ticks\":\"\"}}],\"contour\":[{\"type\":\"contour\",\"colorbar\":{\"outlinewidth\":0,\"ticks\":\"\"},\"colorscale\":[[0.0,\"#0d0887\"],[0.1111111111111111,\"#46039f\"],[0.2222222222222222,\"#7201a8\"],[0.3333333333333333,\"#9c179e\"],[0.4444444444444444,\"#bd3786\"],[0.5555555555555556,\"#d8576b\"],[0.6666666666666666,\"#ed7953\"],[0.7777777777777778,\"#fb9f3a\"],[0.8888888888888888,\"#fdca26\"],[1.0,\"#f0f921\"]]}],\"surface\":[{\"type\":\"surface\",\"colorbar\":{\"outlinewidth\":0,\"ticks\":\"\"},\"colorscale\":[[0.0,\"#0d0887\"],[0.1111111111111111,\"#46039f\"],[0.2222222222222222,\"#7201a8\"],[0.3333333333333333,\"#9c179e\"],[0.4444444444444444,\"#bd3786\"],[0.5555555555555556,\"#d8576b\"],[0.6666666666666666,\"#ed7953\"],[0.7777777777777778,\"#fb9f3a\"],[0.8888888888888888,\"#fdca26\"],[1.0,\"#f0f921\"]]}],\"mesh3d\":[{\"type\":\"mesh3d\",\"colorbar\":{\"outlinewidth\":0,\"ticks\":\"\"}}],\"scatter\":[{\"fillpattern\":{\"fillmode\":\"overlay\",\"size\":10,\"solidity\":0.2},\"type\":\"scatter\"}],\"parcoords\":[{\"type\":\"parcoords\",\"line\":{\"colorbar\":{\"outlinewidth\":0,\"ticks\":\"\"}}}],\"scatterpolargl\":[{\"type\":\"scatterpolargl\",\"marker\":{\"colorbar\":{\"outlinewidth\":0,\"ticks\":\"\"}}}],\"bar\":[{\"error_x\":{\"color\":\"#2a3f5f\"},\"error_y\":{\"color\":\"#2a3f5f\"},\"marker\":{\"line\":{\"color\":\"#E5ECF6\",\"width\":0.5},\"pattern\":{\"fillmode\":\"overlay\",\"size\":10,\"solidity\":0.2}},\"type\":\"bar\"}],\"scattergeo\":[{\"type\":\"scattergeo\",\"marker\":{\"colorbar\":{\"outlinewidth\":0,\"ticks\":\"\"}}}],\"scatterpolar\":[{\"type\":\"scatterpolar\",\"marker\":{\"colorbar\":{\"outlinewidth\":0,\"ticks\":\"\"}}}],\"histogram\":[{\"marker\":{\"pattern\":{\"fillmode\":\"overlay\",\"size\":10,\"solidity\":0.2}},\"type\":\"histogram\"}],\"scattergl\":[{\"type\":\"scattergl\",\"marker\":{\"colorbar\":{\"outlinewidth\":0,\"ticks\":\"\"}}}],\"scatter3d\":[{\"type\":\"scatter3d\",\"line\":{\"colorbar\":{\"outlinewidth\":0,\"ticks\":\"\"}},\"marker\":{\"colorbar\":{\"outlinewidth\":0,\"ticks\":\"\"}}}],\"scattermapbox\":[{\"type\":\"scattermapbox\",\"marker\":{\"colorbar\":{\"outlinewidth\":0,\"ticks\":\"\"}}}],\"scatterternary\":[{\"type\":\"scatterternary\",\"marker\":{\"colorbar\":{\"outlinewidth\":0,\"ticks\":\"\"}}}],\"scattercarpet\":[{\"type\":\"scattercarpet\",\"marker\":{\"colorbar\":{\"outlinewidth\":0,\"ticks\":\"\"}}}],\"carpet\":[{\"aaxis\":{\"endlinecolor\":\"#2a3f5f\",\"gridcolor\":\"white\",\"linecolor\":\"white\",\"minorgridcolor\":\"white\",\"startlinecolor\":\"#2a3f5f\"},\"baxis\":{\"endlinecolor\":\"#2a3f5f\",\"gridcolor\":\"white\",\"linecolor\":\"white\",\"minorgridcolor\":\"white\",\"startlinecolor\":\"#2a3f5f\"},\"type\":\"carpet\"}],\"table\":[{\"cells\":{\"fill\":{\"color\":\"#EBF0F8\"},\"line\":{\"color\":\"white\"}},\"header\":{\"fill\":{\"color\":\"#C8D4E3\"},\"line\":{\"color\":\"white\"}},\"type\":\"table\"}],\"barpolar\":[{\"marker\":{\"line\":{\"color\":\"#E5ECF6\",\"width\":0.5},\"pattern\":{\"fillmode\":\"overlay\",\"size\":10,\"solidity\":0.2}},\"type\":\"barpolar\"}],\"pie\":[{\"automargin\":true,\"type\":\"pie\"}]},\"layout\":{\"autotypenumbers\":\"strict\",\"colorway\":[\"#636efa\",\"#EF553B\",\"#00cc96\",\"#ab63fa\",\"#FFA15A\",\"#19d3f3\",\"#FF6692\",\"#B6E880\",\"#FF97FF\",\"#FECB52\"],\"font\":{\"color\":\"#2a3f5f\"},\"hovermode\":\"closest\",\"hoverlabel\":{\"align\":\"left\"},\"paper_bgcolor\":\"white\",\"plot_bgcolor\":\"#E5ECF6\",\"polar\":{\"bgcolor\":\"#E5ECF6\",\"angularaxis\":{\"gridcolor\":\"white\",\"linecolor\":\"white\",\"ticks\":\"\"},\"radialaxis\":{\"gridcolor\":\"white\",\"linecolor\":\"white\",\"ticks\":\"\"}},\"ternary\":{\"bgcolor\":\"#E5ECF6\",\"aaxis\":{\"gridcolor\":\"white\",\"linecolor\":\"white\",\"ticks\":\"\"},\"baxis\":{\"gridcolor\":\"white\",\"linecolor\":\"white\",\"ticks\":\"\"},\"caxis\":{\"gridcolor\":\"white\",\"linecolor\":\"white\",\"ticks\":\"\"}},\"coloraxis\":{\"colorbar\":{\"outlinewidth\":0,\"ticks\":\"\"}},\"colorscale\":{\"sequential\":[[0.0,\"#0d0887\"],[0.1111111111111111,\"#46039f\"],[0.2222222222222222,\"#7201a8\"],[0.3333333333333333,\"#9c179e\"],[0.4444444444444444,\"#bd3786\"],[0.5555555555555556,\"#d8576b\"],[0.6666666666666666,\"#ed7953\"],[0.7777777777777778,\"#fb9f3a\"],[0.8888888888888888,\"#fdca26\"],[1.0,\"#f0f921\"]],\"sequentialminus\":[[0.0,\"#0d0887\"],[0.1111111111111111,\"#46039f\"],[0.2222222222222222,\"#7201a8\"],[0.3333333333333333,\"#9c179e\"],[0.4444444444444444,\"#bd3786\"],[0.5555555555555556,\"#d8576b\"],[0.6666666666666666,\"#ed7953\"],[0.7777777777777778,\"#fb9f3a\"],[0.8888888888888888,\"#fdca26\"],[1.0,\"#f0f921\"]],\"diverging\":[[0,\"#8e0152\"],[0.1,\"#c51b7d\"],[0.2,\"#de77ae\"],[0.3,\"#f1b6da\"],[0.4,\"#fde0ef\"],[0.5,\"#f7f7f7\"],[0.6,\"#e6f5d0\"],[0.7,\"#b8e186\"],[0.8,\"#7fbc41\"],[0.9,\"#4d9221\"],[1,\"#276419\"]]},\"xaxis\":{\"gridcolor\":\"white\",\"linecolor\":\"white\",\"ticks\":\"\",\"title\":{\"standoff\":15},\"zerolinecolor\":\"white\",\"automargin\":true,\"zerolinewidth\":2},\"yaxis\":{\"gridcolor\":\"white\",\"linecolor\":\"white\",\"ticks\":\"\",\"title\":{\"standoff\":15},\"zerolinecolor\":\"white\",\"automargin\":true,\"zerolinewidth\":2},\"scene\":{\"xaxis\":{\"backgroundcolor\":\"#E5ECF6\",\"gridcolor\":\"white\",\"linecolor\":\"white\",\"showbackground\":true,\"ticks\":\"\",\"zerolinecolor\":\"white\",\"gridwidth\":2},\"yaxis\":{\"backgroundcolor\":\"#E5ECF6\",\"gridcolor\":\"white\",\"linecolor\":\"white\",\"showbackground\":true,\"ticks\":\"\",\"zerolinecolor\":\"white\",\"gridwidth\":2},\"zaxis\":{\"backgroundcolor\":\"#E5ECF6\",\"gridcolor\":\"white\",\"linecolor\":\"white\",\"showbackground\":true,\"ticks\":\"\",\"zerolinecolor\":\"white\",\"gridwidth\":2}},\"shapedefaults\":{\"line\":{\"color\":\"#2a3f5f\"}},\"annotationdefaults\":{\"arrowcolor\":\"#2a3f5f\",\"arrowhead\":0,\"arrowwidth\":1},\"geo\":{\"bgcolor\":\"white\",\"landcolor\":\"#E5ECF6\",\"subunitcolor\":\"white\",\"showland\":true,\"showlakes\":true,\"lakecolor\":\"white\"},\"title\":{\"x\":0.05},\"mapbox\":{\"style\":\"light\"}}},\"shapes\":[{\"layer\":\"below\",\"line\":{\"color\":\"#3b0280\",\"dash\":\"dash\",\"width\":1},\"type\":\"line\",\"x0\":\"2060-02-21T00:00:00\",\"x1\":\"2060-02-21T00:00:00\",\"xref\":\"x\",\"y0\":0,\"y1\":1,\"yref\":\"y domain\"},{\"fillcolor\":\"#DD4040\",\"layer\":\"below\",\"line\":{\"width\":0},\"opacity\":0.2,\"type\":\"rect\",\"x0\":\"2073-10-29T00:00:00\",\"x1\":\"2087-07-07T00:00:00\",\"xref\":\"x\",\"y0\":0,\"y1\":1,\"yref\":\"y domain\"},{\"fillcolor\":\"#DD4040\",\"layer\":\"below\",\"line\":{\"width\":0},\"opacity\":0.2,\"type\":\"rect\",\"x0\":\"2087-07-08T00:00:00\",\"x1\":\"2101-03-16T00:00:00\",\"xref\":\"x\",\"y0\":0,\"y1\":1,\"yref\":\"y domain\"},{\"fillcolor\":\"#DD4040\",\"layer\":\"below\",\"line\":{\"width\":0},\"opacity\":0.2,\"type\":\"rect\",\"x0\":\"2101-03-17T00:00:00\",\"x1\":\"2107-09-06T00:00:00\",\"xref\":\"x\",\"y0\":0,\"y1\":1,\"yref\":\"y domain\"}]},                        {\"responsive\": true}                    ).then(function(){\n",
       "                            \n",
       "var gd = document.getElementById('2db603c1-8aa9-464b-be19-9c250f855fa9');\n",
       "var x = new MutationObserver(function (mutations, observer) {{\n",
       "        var display = window.getComputedStyle(gd).display;\n",
       "        if (!display || display === 'none') {{\n",
       "            console.log([gd, 'removed!']);\n",
       "            Plotly.purge(gd);\n",
       "            observer.disconnect();\n",
       "        }}\n",
       "}});\n",
       "\n",
       "// Listen for the removal of the full notebook cells\n",
       "var notebookContainer = gd.closest('#notebook-container');\n",
       "if (notebookContainer) {{\n",
       "    x.observe(notebookContainer, {childList: true});\n",
       "}}\n",
       "\n",
       "// Listen for the clearing of the current output cell\n",
       "var outputEl = gd.closest('.output');\n",
       "if (outputEl) {{\n",
       "    x.observe(outputEl, {childList: true});\n",
       "}}\n",
       "\n",
       "                        })                };                });            </script>        </div>"
      ]
     },
     "metadata": {},
     "output_type": "display_data"
    },
    {
     "data": {
      "application/vnd.plotly.v1+json": {
       "config": {
        "plotlyServerURL": "https://plot.ly"
       },
       "data": [
        {
         "hoverinfo": "skip",
         "line": {
          "color": "rgba(0.23137254901960785, 0.00784313725490196, 0.5019607843137255, 0.2)",
          "width": 9
         },
         "mode": "lines",
         "showlegend": false,
         "type": "scatter",
         "x": [
          "2073-10-29T00:00:00",
          "2087-07-07T00:00:00"
         ],
         "y": [
          0.3848259049396706,
          0.3848259049396706
         ]
        },
        {
         "hoverinfo": "skip",
         "line": {
          "color": "rgba(0.23137254901960785, 0.00784313725490196, 0.5019607843137255, 0.2)",
          "width": 9
         },
         "mode": "lines",
         "showlegend": false,
         "type": "scatter",
         "x": [
          "2087-07-08T00:00:00",
          "2101-03-16T00:00:00"
         ],
         "y": [
          0.5110919005399639,
          0.5110919005399639
         ]
        },
        {
         "hoverinfo": "skip",
         "line": {
          "color": "rgba(0.23137254901960785, 0.00784313725490196, 0.5019607843137255, 0.2)",
          "width": 9
         },
         "mode": "lines",
         "showlegend": false,
         "type": "scatter",
         "x": [
          "2101-03-17T00:00:00",
          "2107-09-06T00:00:00"
         ],
         "y": [
          0.5356072526806881,
          0.5356072526806881
         ]
        },
        {
         "hoverinfo": "skip",
         "legendgroup": "1",
         "line": {
          "color": "#00c8e5",
          "shape": "hv",
          "width": 2
         },
         "mode": "lines",
         "name": "Reference period",
         "type": "scatter",
         "x": [
          "2019-01-27T00:00:00",
          "2032-10-05T00:00:00",
          "2046-06-14T00:00:00",
          "2060-02-20T00:00:00"
         ],
         "y": [
          0.5339579361375909,
          0.16964161055929605,
          0.36884206386240914,
          0.36884206386240914
         ]
        },
        {
         "hoverinfo": "skip",
         "legendgroup": "1",
         "line": {
          "color": "#3b0280",
          "shape": "hv",
          "width": 2
         },
         "mode": "lines",
         "name": "Analysis period",
         "type": "scatter",
         "x": [
          "2060-02-21T00:00:00",
          "2073-10-29T00:00:00",
          "2087-07-08T00:00:00",
          "2101-03-17T00:00:00",
          "2107-09-06T00:00:00"
         ],
         "y": [
          0.3689754016398906,
          0.3848259049396706,
          0.5110919005399639,
          0.5356072526806881,
          0.5356072526806881
         ]
        },
        {
         "customdata": [
          [
           "[0:4999]",
           "Jan-27-2019",
           "Oct-04-2032",
           "0.5340",
           "<b style=\"color:#00c8e5;line-height:60px\">Reference</b>",
           "",
           ""
          ],
          [
           "[5000:9999]",
           "Oct-05-2032",
           "Jun-13-2046",
           "0.1696",
           "<b style=\"color:#00c8e5;line-height:60px\">Reference</b>",
           "",
           ""
          ],
          [
           "[10000:14999]",
           "Jun-14-2046",
           "Feb-20-2060",
           "0.3688",
           "<b style=\"color:#00c8e5;line-height:60px\">Reference</b>",
           "",
           ""
          ]
         ],
         "hovertemplate": "%{customdata[4]} &nbsp; &nbsp; <span style=\"color:#AD0000\">%{customdata[5]}</span><br>Chunk: <b>%{customdata[0]}</b> &nbsp; &nbsp; From <b>%{customdata[1]}</b> to <b>%{customdata[2]}</b> &nbsp; &nbsp; <br>KS statistic: <b>%{customdata[3]}</b>  &nbsp; &nbsp; %{customdata[6]} <extra></extra>",
         "marker": {
          "color": "#00c8e5",
          "size": 6,
          "symbol": "square"
         },
         "mode": "markers",
         "name": "Reference",
         "showlegend": false,
         "type": "scatter",
         "x": [
          "2025-11-30T12:00:00",
          "2039-08-09T12:00:00",
          "2053-04-17T12:00:00"
         ],
         "y": [
          0.5339579361375909,
          0.16964161055929605,
          0.36884206386240914
         ]
        },
        {
         "customdata": [
          [
           "[15000:19999]",
           "Feb-21-2060",
           "Oct-28-2073",
           "0.3690",
           "<b style=\"color:#3b0280;line-height:60px\">Analysis</b>",
           "",
           ""
          ]
         ],
         "hovertemplate": "%{customdata[4]} &nbsp; &nbsp; <span style=\"color:#AD0000\">%{customdata[5]}</span><br>Chunk: <b>%{customdata[0]}</b> &nbsp; &nbsp; From <b>%{customdata[1]}</b> to <b>%{customdata[2]}</b> &nbsp; &nbsp; <br>KS statistic: <b>%{customdata[3]}</b>  &nbsp; &nbsp; %{customdata[6]} <extra></extra>",
         "marker": {
          "color": "#3b0280",
          "size": 6,
          "symbol": "square"
         },
         "mode": "markers",
         "name": "No data drift",
         "showlegend": false,
         "type": "scatter",
         "x": [
          "2066-12-25T00:00:00"
         ],
         "y": [
          0.3689754016398906
         ]
        },
        {
         "customdata": [
          [
           "[20000:24999]",
           "Oct-29-2073",
           "Jul-07-2087",
           "0.3848",
           "<b style=\"color:#3b0280;line-height:60px\">Analysis</b>",
           "⚠ <b>Drift detected</b>",
           ""
          ],
          [
           "[25000:29999]",
           "Jul-08-2087",
           "Mar-16-2101",
           "0.5111",
           "<b style=\"color:#3b0280;line-height:60px\">Analysis</b>",
           "⚠ <b>Drift detected</b>",
           ""
          ],
          [
           "[30000:32364]",
           "Mar-17-2101",
           "Sep-06-2107",
           "0.5356",
           "<b style=\"color:#3b0280;line-height:60px\">Analysis</b>",
           "⚠ <b>Drift detected</b>",
           ""
          ]
         ],
         "hovertemplate": "%{customdata[4]} &nbsp; &nbsp; <span style=\"color:#AD0000\">%{customdata[5]}</span><br>Chunk: <b>%{customdata[0]}</b> &nbsp; &nbsp; From <b>%{customdata[1]}</b> to <b>%{customdata[2]}</b> &nbsp; &nbsp; <br>KS statistic: <b>%{customdata[3]}</b>  &nbsp; &nbsp; %{customdata[6]} <extra></extra>",
         "marker": {
          "color": "#DD4040",
          "size": 6,
          "symbol": "diamond"
         },
         "mode": "markers",
         "name": "Data drift",
         "showlegend": false,
         "type": "scatter",
         "x": [
          "2080-09-01T12:00:00",
          "2094-05-11T12:00:00",
          "2104-06-11T00:00:00"
         ],
         "y": [
          0.3848259049396706,
          0.5110919005399639,
          0.5356072526806881
         ]
        },
        {
         "legendgroup": "1",
         "line": {
          "color": "rgba(0.23137254901960785, 0.00784313725490196, 0.5019607843137255, 0.2)",
          "width": 9
         },
         "mode": "lines",
         "name": "P-value is signficant",
         "type": "scatter",
         "x": [
          [
           1764504000000000000
          ],
          [
           4242585600000000000
          ]
         ],
         "y": [
          null,
          null
         ]
        },
        {
         "line": {
          "color": "rgba(0,0,0,0)"
         },
         "mode": "lines",
         "showlegend": false,
         "type": "scatter",
         "x": [
          [
           1764504000000000000
          ],
          [
           4242585600000000000
          ]
         ],
         "y": [
          null,
          null
         ]
        },
        {
         "fill": "tonexty",
         "fillcolor": "rgba(0.8666666666666667, 0.25098039215686274, 0.25098039215686274, 0.2)",
         "legendgroup": "1",
         "line": {
          "color": "rgba(0,0,0,0)"
         },
         "marker": {
          "color": "#DD4040",
          "size": 6,
          "symbol": "diamond"
         },
         "mode": "lines+markers",
         "name": "Data drift",
         "type": "scatter",
         "x": [
          [
           1764504000000000000
          ],
          [
           4242585600000000000
          ]
         ],
         "y": [
          null,
          null
         ]
        }
       ],
       "layout": {
        "hoverlabel": {
         "bgcolor": "white",
         "font": {
          "size": 14
         }
        },
        "legend": {
         "itemclick": false,
         "itemdoubleclick": false,
         "orientation": "h",
         "traceorder": "normal",
         "x": 0,
         "xanchor": "left",
         "y": -0.25,
         "yanchor": "top"
        },
        "paper_bgcolor": "rgba(255,255,255,1)",
        "plot_bgcolor": "rgba(255,255,255,1)",
        "shapes": [
         {
          "layer": "below",
          "line": {
           "color": "#3b0280",
           "dash": "dash",
           "width": 1
          },
          "type": "line",
          "x0": "2060-02-21T00:00:00",
          "x1": "2060-02-21T00:00:00",
          "xref": "x",
          "y0": 0,
          "y1": 1,
          "yref": "y domain"
         },
         {
          "fillcolor": "#DD4040",
          "layer": "below",
          "line": {
           "width": 0
          },
          "opacity": 0.2,
          "type": "rect",
          "x0": "2073-10-29T00:00:00",
          "x1": "2087-07-07T00:00:00",
          "xref": "x",
          "y0": 0,
          "y1": 1,
          "yref": "y domain"
         },
         {
          "fillcolor": "#DD4040",
          "layer": "below",
          "line": {
           "width": 0
          },
          "opacity": 0.2,
          "type": "rect",
          "x0": "2087-07-08T00:00:00",
          "x1": "2101-03-16T00:00:00",
          "xref": "x",
          "y0": 0,
          "y1": 1,
          "yref": "y domain"
         },
         {
          "fillcolor": "#DD4040",
          "layer": "below",
          "line": {
           "width": 0
          },
          "opacity": 0.2,
          "type": "rect",
          "x0": "2101-03-17T00:00:00",
          "x1": "2107-09-06T00:00:00",
          "xref": "x",
          "y0": 0,
          "y1": 1,
          "yref": "y domain"
         }
        ],
        "template": {
         "data": {
          "bar": [
           {
            "error_x": {
             "color": "#2a3f5f"
            },
            "error_y": {
             "color": "#2a3f5f"
            },
            "marker": {
             "line": {
              "color": "#E5ECF6",
              "width": 0.5
             },
             "pattern": {
              "fillmode": "overlay",
              "size": 10,
              "solidity": 0.2
             }
            },
            "type": "bar"
           }
          ],
          "barpolar": [
           {
            "marker": {
             "line": {
              "color": "#E5ECF6",
              "width": 0.5
             },
             "pattern": {
              "fillmode": "overlay",
              "size": 10,
              "solidity": 0.2
             }
            },
            "type": "barpolar"
           }
          ],
          "carpet": [
           {
            "aaxis": {
             "endlinecolor": "#2a3f5f",
             "gridcolor": "white",
             "linecolor": "white",
             "minorgridcolor": "white",
             "startlinecolor": "#2a3f5f"
            },
            "baxis": {
             "endlinecolor": "#2a3f5f",
             "gridcolor": "white",
             "linecolor": "white",
             "minorgridcolor": "white",
             "startlinecolor": "#2a3f5f"
            },
            "type": "carpet"
           }
          ],
          "choropleth": [
           {
            "colorbar": {
             "outlinewidth": 0,
             "ticks": ""
            },
            "type": "choropleth"
           }
          ],
          "contour": [
           {
            "colorbar": {
             "outlinewidth": 0,
             "ticks": ""
            },
            "colorscale": [
             [
              0,
              "#0d0887"
             ],
             [
              0.1111111111111111,
              "#46039f"
             ],
             [
              0.2222222222222222,
              "#7201a8"
             ],
             [
              0.3333333333333333,
              "#9c179e"
             ],
             [
              0.4444444444444444,
              "#bd3786"
             ],
             [
              0.5555555555555556,
              "#d8576b"
             ],
             [
              0.6666666666666666,
              "#ed7953"
             ],
             [
              0.7777777777777778,
              "#fb9f3a"
             ],
             [
              0.8888888888888888,
              "#fdca26"
             ],
             [
              1,
              "#f0f921"
             ]
            ],
            "type": "contour"
           }
          ],
          "contourcarpet": [
           {
            "colorbar": {
             "outlinewidth": 0,
             "ticks": ""
            },
            "type": "contourcarpet"
           }
          ],
          "heatmap": [
           {
            "colorbar": {
             "outlinewidth": 0,
             "ticks": ""
            },
            "colorscale": [
             [
              0,
              "#0d0887"
             ],
             [
              0.1111111111111111,
              "#46039f"
             ],
             [
              0.2222222222222222,
              "#7201a8"
             ],
             [
              0.3333333333333333,
              "#9c179e"
             ],
             [
              0.4444444444444444,
              "#bd3786"
             ],
             [
              0.5555555555555556,
              "#d8576b"
             ],
             [
              0.6666666666666666,
              "#ed7953"
             ],
             [
              0.7777777777777778,
              "#fb9f3a"
             ],
             [
              0.8888888888888888,
              "#fdca26"
             ],
             [
              1,
              "#f0f921"
             ]
            ],
            "type": "heatmap"
           }
          ],
          "heatmapgl": [
           {
            "colorbar": {
             "outlinewidth": 0,
             "ticks": ""
            },
            "colorscale": [
             [
              0,
              "#0d0887"
             ],
             [
              0.1111111111111111,
              "#46039f"
             ],
             [
              0.2222222222222222,
              "#7201a8"
             ],
             [
              0.3333333333333333,
              "#9c179e"
             ],
             [
              0.4444444444444444,
              "#bd3786"
             ],
             [
              0.5555555555555556,
              "#d8576b"
             ],
             [
              0.6666666666666666,
              "#ed7953"
             ],
             [
              0.7777777777777778,
              "#fb9f3a"
             ],
             [
              0.8888888888888888,
              "#fdca26"
             ],
             [
              1,
              "#f0f921"
             ]
            ],
            "type": "heatmapgl"
           }
          ],
          "histogram": [
           {
            "marker": {
             "pattern": {
              "fillmode": "overlay",
              "size": 10,
              "solidity": 0.2
             }
            },
            "type": "histogram"
           }
          ],
          "histogram2d": [
           {
            "colorbar": {
             "outlinewidth": 0,
             "ticks": ""
            },
            "colorscale": [
             [
              0,
              "#0d0887"
             ],
             [
              0.1111111111111111,
              "#46039f"
             ],
             [
              0.2222222222222222,
              "#7201a8"
             ],
             [
              0.3333333333333333,
              "#9c179e"
             ],
             [
              0.4444444444444444,
              "#bd3786"
             ],
             [
              0.5555555555555556,
              "#d8576b"
             ],
             [
              0.6666666666666666,
              "#ed7953"
             ],
             [
              0.7777777777777778,
              "#fb9f3a"
             ],
             [
              0.8888888888888888,
              "#fdca26"
             ],
             [
              1,
              "#f0f921"
             ]
            ],
            "type": "histogram2d"
           }
          ],
          "histogram2dcontour": [
           {
            "colorbar": {
             "outlinewidth": 0,
             "ticks": ""
            },
            "colorscale": [
             [
              0,
              "#0d0887"
             ],
             [
              0.1111111111111111,
              "#46039f"
             ],
             [
              0.2222222222222222,
              "#7201a8"
             ],
             [
              0.3333333333333333,
              "#9c179e"
             ],
             [
              0.4444444444444444,
              "#bd3786"
             ],
             [
              0.5555555555555556,
              "#d8576b"
             ],
             [
              0.6666666666666666,
              "#ed7953"
             ],
             [
              0.7777777777777778,
              "#fb9f3a"
             ],
             [
              0.8888888888888888,
              "#fdca26"
             ],
             [
              1,
              "#f0f921"
             ]
            ],
            "type": "histogram2dcontour"
           }
          ],
          "mesh3d": [
           {
            "colorbar": {
             "outlinewidth": 0,
             "ticks": ""
            },
            "type": "mesh3d"
           }
          ],
          "parcoords": [
           {
            "line": {
             "colorbar": {
              "outlinewidth": 0,
              "ticks": ""
             }
            },
            "type": "parcoords"
           }
          ],
          "pie": [
           {
            "automargin": true,
            "type": "pie"
           }
          ],
          "scatter": [
           {
            "fillpattern": {
             "fillmode": "overlay",
             "size": 10,
             "solidity": 0.2
            },
            "type": "scatter"
           }
          ],
          "scatter3d": [
           {
            "line": {
             "colorbar": {
              "outlinewidth": 0,
              "ticks": ""
             }
            },
            "marker": {
             "colorbar": {
              "outlinewidth": 0,
              "ticks": ""
             }
            },
            "type": "scatter3d"
           }
          ],
          "scattercarpet": [
           {
            "marker": {
             "colorbar": {
              "outlinewidth": 0,
              "ticks": ""
             }
            },
            "type": "scattercarpet"
           }
          ],
          "scattergeo": [
           {
            "marker": {
             "colorbar": {
              "outlinewidth": 0,
              "ticks": ""
             }
            },
            "type": "scattergeo"
           }
          ],
          "scattergl": [
           {
            "marker": {
             "colorbar": {
              "outlinewidth": 0,
              "ticks": ""
             }
            },
            "type": "scattergl"
           }
          ],
          "scattermapbox": [
           {
            "marker": {
             "colorbar": {
              "outlinewidth": 0,
              "ticks": ""
             }
            },
            "type": "scattermapbox"
           }
          ],
          "scatterpolar": [
           {
            "marker": {
             "colorbar": {
              "outlinewidth": 0,
              "ticks": ""
             }
            },
            "type": "scatterpolar"
           }
          ],
          "scatterpolargl": [
           {
            "marker": {
             "colorbar": {
              "outlinewidth": 0,
              "ticks": ""
             }
            },
            "type": "scatterpolargl"
           }
          ],
          "scatterternary": [
           {
            "marker": {
             "colorbar": {
              "outlinewidth": 0,
              "ticks": ""
             }
            },
            "type": "scatterternary"
           }
          ],
          "surface": [
           {
            "colorbar": {
             "outlinewidth": 0,
             "ticks": ""
            },
            "colorscale": [
             [
              0,
              "#0d0887"
             ],
             [
              0.1111111111111111,
              "#46039f"
             ],
             [
              0.2222222222222222,
              "#7201a8"
             ],
             [
              0.3333333333333333,
              "#9c179e"
             ],
             [
              0.4444444444444444,
              "#bd3786"
             ],
             [
              0.5555555555555556,
              "#d8576b"
             ],
             [
              0.6666666666666666,
              "#ed7953"
             ],
             [
              0.7777777777777778,
              "#fb9f3a"
             ],
             [
              0.8888888888888888,
              "#fdca26"
             ],
             [
              1,
              "#f0f921"
             ]
            ],
            "type": "surface"
           }
          ],
          "table": [
           {
            "cells": {
             "fill": {
              "color": "#EBF0F8"
             },
             "line": {
              "color": "white"
             }
            },
            "header": {
             "fill": {
              "color": "#C8D4E3"
             },
             "line": {
              "color": "white"
             }
            },
            "type": "table"
           }
          ]
         },
         "layout": {
          "annotationdefaults": {
           "arrowcolor": "#2a3f5f",
           "arrowhead": 0,
           "arrowwidth": 1
          },
          "autotypenumbers": "strict",
          "coloraxis": {
           "colorbar": {
            "outlinewidth": 0,
            "ticks": ""
           }
          },
          "colorscale": {
           "diverging": [
            [
             0,
             "#8e0152"
            ],
            [
             0.1,
             "#c51b7d"
            ],
            [
             0.2,
             "#de77ae"
            ],
            [
             0.3,
             "#f1b6da"
            ],
            [
             0.4,
             "#fde0ef"
            ],
            [
             0.5,
             "#f7f7f7"
            ],
            [
             0.6,
             "#e6f5d0"
            ],
            [
             0.7,
             "#b8e186"
            ],
            [
             0.8,
             "#7fbc41"
            ],
            [
             0.9,
             "#4d9221"
            ],
            [
             1,
             "#276419"
            ]
           ],
           "sequential": [
            [
             0,
             "#0d0887"
            ],
            [
             0.1111111111111111,
             "#46039f"
            ],
            [
             0.2222222222222222,
             "#7201a8"
            ],
            [
             0.3333333333333333,
             "#9c179e"
            ],
            [
             0.4444444444444444,
             "#bd3786"
            ],
            [
             0.5555555555555556,
             "#d8576b"
            ],
            [
             0.6666666666666666,
             "#ed7953"
            ],
            [
             0.7777777777777778,
             "#fb9f3a"
            ],
            [
             0.8888888888888888,
             "#fdca26"
            ],
            [
             1,
             "#f0f921"
            ]
           ],
           "sequentialminus": [
            [
             0,
             "#0d0887"
            ],
            [
             0.1111111111111111,
             "#46039f"
            ],
            [
             0.2222222222222222,
             "#7201a8"
            ],
            [
             0.3333333333333333,
             "#9c179e"
            ],
            [
             0.4444444444444444,
             "#bd3786"
            ],
            [
             0.5555555555555556,
             "#d8576b"
            ],
            [
             0.6666666666666666,
             "#ed7953"
            ],
            [
             0.7777777777777778,
             "#fb9f3a"
            ],
            [
             0.8888888888888888,
             "#fdca26"
            ],
            [
             1,
             "#f0f921"
            ]
           ]
          },
          "colorway": [
           "#636efa",
           "#EF553B",
           "#00cc96",
           "#ab63fa",
           "#FFA15A",
           "#19d3f3",
           "#FF6692",
           "#B6E880",
           "#FF97FF",
           "#FECB52"
          ],
          "font": {
           "color": "#2a3f5f"
          },
          "geo": {
           "bgcolor": "white",
           "lakecolor": "white",
           "landcolor": "#E5ECF6",
           "showlakes": true,
           "showland": true,
           "subunitcolor": "white"
          },
          "hoverlabel": {
           "align": "left"
          },
          "hovermode": "closest",
          "mapbox": {
           "style": "light"
          },
          "paper_bgcolor": "white",
          "plot_bgcolor": "#E5ECF6",
          "polar": {
           "angularaxis": {
            "gridcolor": "white",
            "linecolor": "white",
            "ticks": ""
           },
           "bgcolor": "#E5ECF6",
           "radialaxis": {
            "gridcolor": "white",
            "linecolor": "white",
            "ticks": ""
           }
          },
          "scene": {
           "xaxis": {
            "backgroundcolor": "#E5ECF6",
            "gridcolor": "white",
            "gridwidth": 2,
            "linecolor": "white",
            "showbackground": true,
            "ticks": "",
            "zerolinecolor": "white"
           },
           "yaxis": {
            "backgroundcolor": "#E5ECF6",
            "gridcolor": "white",
            "gridwidth": 2,
            "linecolor": "white",
            "showbackground": true,
            "ticks": "",
            "zerolinecolor": "white"
           },
           "zaxis": {
            "backgroundcolor": "#E5ECF6",
            "gridcolor": "white",
            "gridwidth": 2,
            "linecolor": "white",
            "showbackground": true,
            "ticks": "",
            "zerolinecolor": "white"
           }
          },
          "shapedefaults": {
           "line": {
            "color": "#2a3f5f"
           }
          },
          "ternary": {
           "aaxis": {
            "gridcolor": "white",
            "linecolor": "white",
            "ticks": ""
           },
           "baxis": {
            "gridcolor": "white",
            "linecolor": "white",
            "ticks": ""
           },
           "bgcolor": "#E5ECF6",
           "caxis": {
            "gridcolor": "white",
            "linecolor": "white",
            "ticks": ""
           }
          },
          "title": {
           "x": 0.05
          },
          "xaxis": {
           "automargin": true,
           "gridcolor": "white",
           "linecolor": "white",
           "ticks": "",
           "title": {
            "standoff": 15
           },
           "zerolinecolor": "white",
           "zerolinewidth": 2
          },
          "yaxis": {
           "automargin": true,
           "gridcolor": "white",
           "linecolor": "white",
           "ticks": "",
           "title": {
            "standoff": 15
           },
           "zerolinecolor": "white",
           "zerolinewidth": 2
          }
         }
        },
        "title": {
         "text": "KS statistic for z"
        },
        "xaxis": {
         "linecolor": "#666666",
         "mirror": true,
         "showgrid": false,
         "title": {
          "text": "Time"
         },
         "zeroline": false
        },
        "yaxis": {
         "linecolor": "#666666",
         "mirror": true,
         "showgrid": false,
         "title": {
          "text": "KS statistic"
         },
         "zeroline": false
        }
       }
      },
      "text/html": [
       "<div>                            <div id=\"122f76d5-c90f-4a59-a915-514cc4b4b816\" class=\"plotly-graph-div\" style=\"height:525px; width:100%;\"></div>            <script type=\"text/javascript\">                require([\"plotly\"], function(Plotly) {                    window.PLOTLYENV=window.PLOTLYENV || {};                                    if (document.getElementById(\"122f76d5-c90f-4a59-a915-514cc4b4b816\")) {                    Plotly.newPlot(                        \"122f76d5-c90f-4a59-a915-514cc4b4b816\",                        [{\"hoverinfo\":\"skip\",\"line\":{\"color\":\"rgba(0.23137254901960785, 0.00784313725490196, 0.5019607843137255, 0.2)\",\"width\":9},\"mode\":\"lines\",\"showlegend\":false,\"x\":[\"2073-10-29T00:00:00\",\"2087-07-07T00:00:00\"],\"y\":[0.3848259049396706,0.3848259049396706],\"type\":\"scatter\"},{\"hoverinfo\":\"skip\",\"line\":{\"color\":\"rgba(0.23137254901960785, 0.00784313725490196, 0.5019607843137255, 0.2)\",\"width\":9},\"mode\":\"lines\",\"showlegend\":false,\"x\":[\"2087-07-08T00:00:00\",\"2101-03-16T00:00:00\"],\"y\":[0.5110919005399639,0.5110919005399639],\"type\":\"scatter\"},{\"hoverinfo\":\"skip\",\"line\":{\"color\":\"rgba(0.23137254901960785, 0.00784313725490196, 0.5019607843137255, 0.2)\",\"width\":9},\"mode\":\"lines\",\"showlegend\":false,\"x\":[\"2101-03-17T00:00:00\",\"2107-09-06T00:00:00\"],\"y\":[0.5356072526806881,0.5356072526806881],\"type\":\"scatter\"},{\"hoverinfo\":\"skip\",\"legendgroup\":\"1\",\"line\":{\"color\":\"#00c8e5\",\"shape\":\"hv\",\"width\":2},\"mode\":\"lines\",\"name\":\"Reference period\",\"x\":[\"2019-01-27T00:00:00\",\"2032-10-05T00:00:00\",\"2046-06-14T00:00:00\",\"2060-02-20T00:00:00\"],\"y\":[0.5339579361375909,0.16964161055929605,0.36884206386240914,0.36884206386240914],\"type\":\"scatter\"},{\"hoverinfo\":\"skip\",\"legendgroup\":\"1\",\"line\":{\"color\":\"#3b0280\",\"shape\":\"hv\",\"width\":2},\"mode\":\"lines\",\"name\":\"Analysis period\",\"x\":[\"2060-02-21T00:00:00\",\"2073-10-29T00:00:00\",\"2087-07-08T00:00:00\",\"2101-03-17T00:00:00\",\"2107-09-06T00:00:00\"],\"y\":[0.3689754016398906,0.3848259049396706,0.5110919005399639,0.5356072526806881,0.5356072526806881],\"type\":\"scatter\"},{\"customdata\":[[\"[0:4999]\",\"Jan-27-2019\",\"Oct-04-2032\",\"0.5340\",\"<b style=\\\"color:#00c8e5;line-height:60px\\\">Reference</b>\",\"\",\"\"],[\"[5000:9999]\",\"Oct-05-2032\",\"Jun-13-2046\",\"0.1696\",\"<b style=\\\"color:#00c8e5;line-height:60px\\\">Reference</b>\",\"\",\"\"],[\"[10000:14999]\",\"Jun-14-2046\",\"Feb-20-2060\",\"0.3688\",\"<b style=\\\"color:#00c8e5;line-height:60px\\\">Reference</b>\",\"\",\"\"]],\"hovertemplate\":\"%{customdata[4]} &nbsp; &nbsp; <span style=\\\"color:#AD0000\\\">%{customdata[5]}</span><br>Chunk: <b>%{customdata[0]}</b> &nbsp; &nbsp; From <b>%{customdata[1]}</b> to <b>%{customdata[2]}</b> &nbsp; &nbsp; <br>KS statistic: <b>%{customdata[3]}</b>  &nbsp; &nbsp; %{customdata[6]} <extra></extra>\",\"marker\":{\"color\":\"#00c8e5\",\"size\":6,\"symbol\":\"square\"},\"mode\":\"markers\",\"name\":\"Reference\",\"showlegend\":false,\"x\":[\"2025-11-30T12:00:00\",\"2039-08-09T12:00:00\",\"2053-04-17T12:00:00\"],\"y\":[0.5339579361375909,0.16964161055929605,0.36884206386240914],\"type\":\"scatter\"},{\"customdata\":[[\"[15000:19999]\",\"Feb-21-2060\",\"Oct-28-2073\",\"0.3690\",\"<b style=\\\"color:#3b0280;line-height:60px\\\">Analysis</b>\",\"\",\"\"]],\"hovertemplate\":\"%{customdata[4]} &nbsp; &nbsp; <span style=\\\"color:#AD0000\\\">%{customdata[5]}</span><br>Chunk: <b>%{customdata[0]}</b> &nbsp; &nbsp; From <b>%{customdata[1]}</b> to <b>%{customdata[2]}</b> &nbsp; &nbsp; <br>KS statistic: <b>%{customdata[3]}</b>  &nbsp; &nbsp; %{customdata[6]} <extra></extra>\",\"marker\":{\"color\":\"#3b0280\",\"size\":6,\"symbol\":\"square\"},\"mode\":\"markers\",\"name\":\"No data drift\",\"showlegend\":false,\"x\":[\"2066-12-25T00:00:00\"],\"y\":[0.3689754016398906],\"type\":\"scatter\"},{\"customdata\":[[\"[20000:24999]\",\"Oct-29-2073\",\"Jul-07-2087\",\"0.3848\",\"<b style=\\\"color:#3b0280;line-height:60px\\\">Analysis</b>\",\"\\u26a0 <b>Drift detected</b>\",\"\"],[\"[25000:29999]\",\"Jul-08-2087\",\"Mar-16-2101\",\"0.5111\",\"<b style=\\\"color:#3b0280;line-height:60px\\\">Analysis</b>\",\"\\u26a0 <b>Drift detected</b>\",\"\"],[\"[30000:32364]\",\"Mar-17-2101\",\"Sep-06-2107\",\"0.5356\",\"<b style=\\\"color:#3b0280;line-height:60px\\\">Analysis</b>\",\"\\u26a0 <b>Drift detected</b>\",\"\"]],\"hovertemplate\":\"%{customdata[4]} &nbsp; &nbsp; <span style=\\\"color:#AD0000\\\">%{customdata[5]}</span><br>Chunk: <b>%{customdata[0]}</b> &nbsp; &nbsp; From <b>%{customdata[1]}</b> to <b>%{customdata[2]}</b> &nbsp; &nbsp; <br>KS statistic: <b>%{customdata[3]}</b>  &nbsp; &nbsp; %{customdata[6]} <extra></extra>\",\"marker\":{\"color\":\"#DD4040\",\"size\":6,\"symbol\":\"diamond\"},\"mode\":\"markers\",\"name\":\"Data drift\",\"showlegend\":false,\"x\":[\"2080-09-01T12:00:00\",\"2094-05-11T12:00:00\",\"2104-06-11T00:00:00\"],\"y\":[0.3848259049396706,0.5110919005399639,0.5356072526806881],\"type\":\"scatter\"},{\"legendgroup\":\"1\",\"line\":{\"color\":\"rgba(0.23137254901960785, 0.00784313725490196, 0.5019607843137255, 0.2)\",\"width\":9},\"mode\":\"lines\",\"name\":\"P-value is signficant\",\"x\":[[1764504000000000000],[4242585600000000000]],\"y\":[null,null],\"type\":\"scatter\"},{\"line\":{\"color\":\"rgba(0,0,0,0)\"},\"mode\":\"lines\",\"showlegend\":false,\"x\":[[1764504000000000000],[4242585600000000000]],\"y\":[null,null],\"type\":\"scatter\"},{\"fill\":\"tonexty\",\"fillcolor\":\"rgba(0.8666666666666667, 0.25098039215686274, 0.25098039215686274, 0.2)\",\"legendgroup\":\"1\",\"line\":{\"color\":\"rgba(0,0,0,0)\"},\"marker\":{\"color\":\"#DD4040\",\"size\":6,\"symbol\":\"diamond\"},\"mode\":\"lines+markers\",\"name\":\"Data drift\",\"x\":[[1764504000000000000],[4242585600000000000]],\"y\":[null,null],\"type\":\"scatter\"}],                        {\"hoverlabel\":{\"bgcolor\":\"white\",\"font\":{\"size\":14}},\"legend\":{\"itemclick\":false,\"itemdoubleclick\":false,\"traceorder\":\"normal\",\"yanchor\":\"top\",\"y\":-0.25,\"xanchor\":\"left\",\"x\":0,\"orientation\":\"h\"},\"paper_bgcolor\":\"rgba(255,255,255,1)\",\"plot_bgcolor\":\"rgba(255,255,255,1)\",\"title\":{\"text\":\"KS statistic for z\"},\"xaxis\":{\"linecolor\":\"#666666\",\"mirror\":true,\"showgrid\":false,\"title\":{\"text\":\"Time\"},\"zeroline\":false},\"yaxis\":{\"linecolor\":\"#666666\",\"mirror\":true,\"showgrid\":false,\"title\":{\"text\":\"KS statistic\"},\"zeroline\":false},\"template\":{\"data\":{\"histogram2dcontour\":[{\"type\":\"histogram2dcontour\",\"colorbar\":{\"outlinewidth\":0,\"ticks\":\"\"},\"colorscale\":[[0.0,\"#0d0887\"],[0.1111111111111111,\"#46039f\"],[0.2222222222222222,\"#7201a8\"],[0.3333333333333333,\"#9c179e\"],[0.4444444444444444,\"#bd3786\"],[0.5555555555555556,\"#d8576b\"],[0.6666666666666666,\"#ed7953\"],[0.7777777777777778,\"#fb9f3a\"],[0.8888888888888888,\"#fdca26\"],[1.0,\"#f0f921\"]]}],\"choropleth\":[{\"type\":\"choropleth\",\"colorbar\":{\"outlinewidth\":0,\"ticks\":\"\"}}],\"histogram2d\":[{\"type\":\"histogram2d\",\"colorbar\":{\"outlinewidth\":0,\"ticks\":\"\"},\"colorscale\":[[0.0,\"#0d0887\"],[0.1111111111111111,\"#46039f\"],[0.2222222222222222,\"#7201a8\"],[0.3333333333333333,\"#9c179e\"],[0.4444444444444444,\"#bd3786\"],[0.5555555555555556,\"#d8576b\"],[0.6666666666666666,\"#ed7953\"],[0.7777777777777778,\"#fb9f3a\"],[0.8888888888888888,\"#fdca26\"],[1.0,\"#f0f921\"]]}],\"heatmap\":[{\"type\":\"heatmap\",\"colorbar\":{\"outlinewidth\":0,\"ticks\":\"\"},\"colorscale\":[[0.0,\"#0d0887\"],[0.1111111111111111,\"#46039f\"],[0.2222222222222222,\"#7201a8\"],[0.3333333333333333,\"#9c179e\"],[0.4444444444444444,\"#bd3786\"],[0.5555555555555556,\"#d8576b\"],[0.6666666666666666,\"#ed7953\"],[0.7777777777777778,\"#fb9f3a\"],[0.8888888888888888,\"#fdca26\"],[1.0,\"#f0f921\"]]}],\"heatmapgl\":[{\"type\":\"heatmapgl\",\"colorbar\":{\"outlinewidth\":0,\"ticks\":\"\"},\"colorscale\":[[0.0,\"#0d0887\"],[0.1111111111111111,\"#46039f\"],[0.2222222222222222,\"#7201a8\"],[0.3333333333333333,\"#9c179e\"],[0.4444444444444444,\"#bd3786\"],[0.5555555555555556,\"#d8576b\"],[0.6666666666666666,\"#ed7953\"],[0.7777777777777778,\"#fb9f3a\"],[0.8888888888888888,\"#fdca26\"],[1.0,\"#f0f921\"]]}],\"contourcarpet\":[{\"type\":\"contourcarpet\",\"colorbar\":{\"outlinewidth\":0,\"ticks\":\"\"}}],\"contour\":[{\"type\":\"contour\",\"colorbar\":{\"outlinewidth\":0,\"ticks\":\"\"},\"colorscale\":[[0.0,\"#0d0887\"],[0.1111111111111111,\"#46039f\"],[0.2222222222222222,\"#7201a8\"],[0.3333333333333333,\"#9c179e\"],[0.4444444444444444,\"#bd3786\"],[0.5555555555555556,\"#d8576b\"],[0.6666666666666666,\"#ed7953\"],[0.7777777777777778,\"#fb9f3a\"],[0.8888888888888888,\"#fdca26\"],[1.0,\"#f0f921\"]]}],\"surface\":[{\"type\":\"surface\",\"colorbar\":{\"outlinewidth\":0,\"ticks\":\"\"},\"colorscale\":[[0.0,\"#0d0887\"],[0.1111111111111111,\"#46039f\"],[0.2222222222222222,\"#7201a8\"],[0.3333333333333333,\"#9c179e\"],[0.4444444444444444,\"#bd3786\"],[0.5555555555555556,\"#d8576b\"],[0.6666666666666666,\"#ed7953\"],[0.7777777777777778,\"#fb9f3a\"],[0.8888888888888888,\"#fdca26\"],[1.0,\"#f0f921\"]]}],\"mesh3d\":[{\"type\":\"mesh3d\",\"colorbar\":{\"outlinewidth\":0,\"ticks\":\"\"}}],\"scatter\":[{\"fillpattern\":{\"fillmode\":\"overlay\",\"size\":10,\"solidity\":0.2},\"type\":\"scatter\"}],\"parcoords\":[{\"type\":\"parcoords\",\"line\":{\"colorbar\":{\"outlinewidth\":0,\"ticks\":\"\"}}}],\"scatterpolargl\":[{\"type\":\"scatterpolargl\",\"marker\":{\"colorbar\":{\"outlinewidth\":0,\"ticks\":\"\"}}}],\"bar\":[{\"error_x\":{\"color\":\"#2a3f5f\"},\"error_y\":{\"color\":\"#2a3f5f\"},\"marker\":{\"line\":{\"color\":\"#E5ECF6\",\"width\":0.5},\"pattern\":{\"fillmode\":\"overlay\",\"size\":10,\"solidity\":0.2}},\"type\":\"bar\"}],\"scattergeo\":[{\"type\":\"scattergeo\",\"marker\":{\"colorbar\":{\"outlinewidth\":0,\"ticks\":\"\"}}}],\"scatterpolar\":[{\"type\":\"scatterpolar\",\"marker\":{\"colorbar\":{\"outlinewidth\":0,\"ticks\":\"\"}}}],\"histogram\":[{\"marker\":{\"pattern\":{\"fillmode\":\"overlay\",\"size\":10,\"solidity\":0.2}},\"type\":\"histogram\"}],\"scattergl\":[{\"type\":\"scattergl\",\"marker\":{\"colorbar\":{\"outlinewidth\":0,\"ticks\":\"\"}}}],\"scatter3d\":[{\"type\":\"scatter3d\",\"line\":{\"colorbar\":{\"outlinewidth\":0,\"ticks\":\"\"}},\"marker\":{\"colorbar\":{\"outlinewidth\":0,\"ticks\":\"\"}}}],\"scattermapbox\":[{\"type\":\"scattermapbox\",\"marker\":{\"colorbar\":{\"outlinewidth\":0,\"ticks\":\"\"}}}],\"scatterternary\":[{\"type\":\"scatterternary\",\"marker\":{\"colorbar\":{\"outlinewidth\":0,\"ticks\":\"\"}}}],\"scattercarpet\":[{\"type\":\"scattercarpet\",\"marker\":{\"colorbar\":{\"outlinewidth\":0,\"ticks\":\"\"}}}],\"carpet\":[{\"aaxis\":{\"endlinecolor\":\"#2a3f5f\",\"gridcolor\":\"white\",\"linecolor\":\"white\",\"minorgridcolor\":\"white\",\"startlinecolor\":\"#2a3f5f\"},\"baxis\":{\"endlinecolor\":\"#2a3f5f\",\"gridcolor\":\"white\",\"linecolor\":\"white\",\"minorgridcolor\":\"white\",\"startlinecolor\":\"#2a3f5f\"},\"type\":\"carpet\"}],\"table\":[{\"cells\":{\"fill\":{\"color\":\"#EBF0F8\"},\"line\":{\"color\":\"white\"}},\"header\":{\"fill\":{\"color\":\"#C8D4E3\"},\"line\":{\"color\":\"white\"}},\"type\":\"table\"}],\"barpolar\":[{\"marker\":{\"line\":{\"color\":\"#E5ECF6\",\"width\":0.5},\"pattern\":{\"fillmode\":\"overlay\",\"size\":10,\"solidity\":0.2}},\"type\":\"barpolar\"}],\"pie\":[{\"automargin\":true,\"type\":\"pie\"}]},\"layout\":{\"autotypenumbers\":\"strict\",\"colorway\":[\"#636efa\",\"#EF553B\",\"#00cc96\",\"#ab63fa\",\"#FFA15A\",\"#19d3f3\",\"#FF6692\",\"#B6E880\",\"#FF97FF\",\"#FECB52\"],\"font\":{\"color\":\"#2a3f5f\"},\"hovermode\":\"closest\",\"hoverlabel\":{\"align\":\"left\"},\"paper_bgcolor\":\"white\",\"plot_bgcolor\":\"#E5ECF6\",\"polar\":{\"bgcolor\":\"#E5ECF6\",\"angularaxis\":{\"gridcolor\":\"white\",\"linecolor\":\"white\",\"ticks\":\"\"},\"radialaxis\":{\"gridcolor\":\"white\",\"linecolor\":\"white\",\"ticks\":\"\"}},\"ternary\":{\"bgcolor\":\"#E5ECF6\",\"aaxis\":{\"gridcolor\":\"white\",\"linecolor\":\"white\",\"ticks\":\"\"},\"baxis\":{\"gridcolor\":\"white\",\"linecolor\":\"white\",\"ticks\":\"\"},\"caxis\":{\"gridcolor\":\"white\",\"linecolor\":\"white\",\"ticks\":\"\"}},\"coloraxis\":{\"colorbar\":{\"outlinewidth\":0,\"ticks\":\"\"}},\"colorscale\":{\"sequential\":[[0.0,\"#0d0887\"],[0.1111111111111111,\"#46039f\"],[0.2222222222222222,\"#7201a8\"],[0.3333333333333333,\"#9c179e\"],[0.4444444444444444,\"#bd3786\"],[0.5555555555555556,\"#d8576b\"],[0.6666666666666666,\"#ed7953\"],[0.7777777777777778,\"#fb9f3a\"],[0.8888888888888888,\"#fdca26\"],[1.0,\"#f0f921\"]],\"sequentialminus\":[[0.0,\"#0d0887\"],[0.1111111111111111,\"#46039f\"],[0.2222222222222222,\"#7201a8\"],[0.3333333333333333,\"#9c179e\"],[0.4444444444444444,\"#bd3786\"],[0.5555555555555556,\"#d8576b\"],[0.6666666666666666,\"#ed7953\"],[0.7777777777777778,\"#fb9f3a\"],[0.8888888888888888,\"#fdca26\"],[1.0,\"#f0f921\"]],\"diverging\":[[0,\"#8e0152\"],[0.1,\"#c51b7d\"],[0.2,\"#de77ae\"],[0.3,\"#f1b6da\"],[0.4,\"#fde0ef\"],[0.5,\"#f7f7f7\"],[0.6,\"#e6f5d0\"],[0.7,\"#b8e186\"],[0.8,\"#7fbc41\"],[0.9,\"#4d9221\"],[1,\"#276419\"]]},\"xaxis\":{\"gridcolor\":\"white\",\"linecolor\":\"white\",\"ticks\":\"\",\"title\":{\"standoff\":15},\"zerolinecolor\":\"white\",\"automargin\":true,\"zerolinewidth\":2},\"yaxis\":{\"gridcolor\":\"white\",\"linecolor\":\"white\",\"ticks\":\"\",\"title\":{\"standoff\":15},\"zerolinecolor\":\"white\",\"automargin\":true,\"zerolinewidth\":2},\"scene\":{\"xaxis\":{\"backgroundcolor\":\"#E5ECF6\",\"gridcolor\":\"white\",\"linecolor\":\"white\",\"showbackground\":true,\"ticks\":\"\",\"zerolinecolor\":\"white\",\"gridwidth\":2},\"yaxis\":{\"backgroundcolor\":\"#E5ECF6\",\"gridcolor\":\"white\",\"linecolor\":\"white\",\"showbackground\":true,\"ticks\":\"\",\"zerolinecolor\":\"white\",\"gridwidth\":2},\"zaxis\":{\"backgroundcolor\":\"#E5ECF6\",\"gridcolor\":\"white\",\"linecolor\":\"white\",\"showbackground\":true,\"ticks\":\"\",\"zerolinecolor\":\"white\",\"gridwidth\":2}},\"shapedefaults\":{\"line\":{\"color\":\"#2a3f5f\"}},\"annotationdefaults\":{\"arrowcolor\":\"#2a3f5f\",\"arrowhead\":0,\"arrowwidth\":1},\"geo\":{\"bgcolor\":\"white\",\"landcolor\":\"#E5ECF6\",\"subunitcolor\":\"white\",\"showland\":true,\"showlakes\":true,\"lakecolor\":\"white\"},\"title\":{\"x\":0.05},\"mapbox\":{\"style\":\"light\"}}},\"shapes\":[{\"layer\":\"below\",\"line\":{\"color\":\"#3b0280\",\"dash\":\"dash\",\"width\":1},\"type\":\"line\",\"x0\":\"2060-02-21T00:00:00\",\"x1\":\"2060-02-21T00:00:00\",\"xref\":\"x\",\"y0\":0,\"y1\":1,\"yref\":\"y domain\"},{\"fillcolor\":\"#DD4040\",\"layer\":\"below\",\"line\":{\"width\":0},\"opacity\":0.2,\"type\":\"rect\",\"x0\":\"2073-10-29T00:00:00\",\"x1\":\"2087-07-07T00:00:00\",\"xref\":\"x\",\"y0\":0,\"y1\":1,\"yref\":\"y domain\"},{\"fillcolor\":\"#DD4040\",\"layer\":\"below\",\"line\":{\"width\":0},\"opacity\":0.2,\"type\":\"rect\",\"x0\":\"2087-07-08T00:00:00\",\"x1\":\"2101-03-16T00:00:00\",\"xref\":\"x\",\"y0\":0,\"y1\":1,\"yref\":\"y domain\"},{\"fillcolor\":\"#DD4040\",\"layer\":\"below\",\"line\":{\"width\":0},\"opacity\":0.2,\"type\":\"rect\",\"x0\":\"2101-03-17T00:00:00\",\"x1\":\"2107-09-06T00:00:00\",\"xref\":\"x\",\"y0\":0,\"y1\":1,\"yref\":\"y domain\"}]},                        {\"responsive\": true}                    ).then(function(){\n",
       "                            \n",
       "var gd = document.getElementById('122f76d5-c90f-4a59-a915-514cc4b4b816');\n",
       "var x = new MutationObserver(function (mutations, observer) {{\n",
       "        var display = window.getComputedStyle(gd).display;\n",
       "        if (!display || display === 'none') {{\n",
       "            console.log([gd, 'removed!']);\n",
       "            Plotly.purge(gd);\n",
       "            observer.disconnect();\n",
       "        }}\n",
       "}});\n",
       "\n",
       "// Listen for the removal of the full notebook cells\n",
       "var notebookContainer = gd.closest('#notebook-container');\n",
       "if (notebookContainer) {{\n",
       "    x.observe(notebookContainer, {childList: true});\n",
       "}}\n",
       "\n",
       "// Listen for the clearing of the current output cell\n",
       "var outputEl = gd.closest('.output');\n",
       "if (outputEl) {{\n",
       "    x.observe(outputEl, {childList: true});\n",
       "}}\n",
       "\n",
       "                        })                };                });            </script>        </div>"
      ]
     },
     "metadata": {},
     "output_type": "display_data"
    }
   ],
   "source": [
    "# Let's initialize the object that will perform the Univariate Drift calculations\n",
    "univariate_calculator = nml.UnivariateStatisticalDriftCalculator(model_metadata=metadata, chunk_size=5000)\n",
    "univariate_calculator = univariate_calculator.fit(reference_data=reference)\n",
    "univariate_results = univariate_calculator.calculate(data=data)\n",
    "# let's plot drift results for all model inputs\n",
    "for feature in metadata.features:\n",
    "    figure = univariate_results.plot(kind='feature_drift', metric='statistic', feature_label=feature.label)\n",
    "    figure.show()"
   ]
  },
  {
   "cell_type": "code",
   "execution_count": 277,
   "id": "5f6de49d",
   "metadata": {},
   "outputs": [
    {
     "data": {
      "text/plain": [
       "             key  start_index  end_index start_date   end_date  partition  \\\n",
       "0       [0:4999]            0       4999 2019-01-27 2032-10-04  reference   \n",
       "1    [5000:9999]         5000       9999 2032-10-05 2046-06-13  reference   \n",
       "2  [10000:14999]        10000      14999 2046-06-14 2060-02-20  reference   \n",
       "3  [15000:19999]        15000      19999 2060-02-21 2073-10-28   analysis   \n",
       "4  [20000:24999]        20000      24999 2073-10-29 2087-07-07   analysis   \n",
       "5  [25000:29999]        25000      29999 2087-07-08 2101-03-16   analysis   \n",
       "6  [30000:32364]        30000      32364 2101-03-17 2107-09-06   analysis   \n",
       "\n",
       "   color_chi2  color_p_value  color_alert  color_threshold  ...  \\\n",
       "0  289.833122            0.0        False             0.05  ...   \n",
       "1   43.359986            0.0        False             0.05  ...   \n",
       "2  270.228819            0.0        False             0.05  ...   \n",
       "3  249.033662            0.0        False             0.05  ...   \n",
       "4  308.376434            0.0         True             0.05  ...   \n",
       "5   66.257108            0.0         True             0.05  ...   \n",
       "6  118.485337            0.0         True             0.05  ...   \n",
       "\n",
       "   y_pred_proba_premium_alert  y_pred_proba_premium_threshold  \\\n",
       "0                       False                            0.05   \n",
       "1                       False                            0.05   \n",
       "2                       False                            0.05   \n",
       "3                       False                            0.05   \n",
       "4                        True                            0.05   \n",
       "5                        True                            0.05   \n",
       "6                        True                            0.05   \n",
       "\n",
       "   y_pred_proba_very_good_dstat  y_pred_proba_very_good_p_value  \\\n",
       "0                      0.116214                           0.000   \n",
       "1                      0.033858                           0.000   \n",
       "2                      0.093312                           0.000   \n",
       "3                      0.135173                           0.000   \n",
       "4                      0.046951                           0.000   \n",
       "5                      0.028847                           0.004   \n",
       "6                      0.041281                           0.002   \n",
       "\n",
       "   y_pred_proba_very_good_alert  y_pred_proba_very_good_threshold  \\\n",
       "0                         False                              0.05   \n",
       "1                         False                              0.05   \n",
       "2                         False                              0.05   \n",
       "3                         False                              0.05   \n",
       "4                          True                              0.05   \n",
       "5                          True                              0.05   \n",
       "6                          True                              0.05   \n",
       "\n",
       "   table_dstat  table_p_value  table_alert  table_threshold  \n",
       "0     0.110840          0.000        False             0.05  \n",
       "1     0.028838          0.004        False             0.05  \n",
       "2     0.086560          0.000        False             0.05  \n",
       "3     0.063505          0.000        False             0.05  \n",
       "4     0.060638          0.000         True             0.05  \n",
       "5     0.032938          0.001         True             0.05  \n",
       "6     0.049567          0.000         True             0.05  \n",
       "\n",
       "[7 rows x 62 columns]"
      ]
     },
     "execution_count": 277,
     "metadata": {},
     "output_type": "execute_result"
    }
   ],
   "source": [
    "univariate_results"
   ]
  },
  {
   "cell_type": "markdown",
   "id": "43401996",
   "metadata": {},
   "source": [
    "# Obs\n",
    "\n",
    "The model seems to perform porrly between on the roc auc metric between april and may 2068 and regain a good score between septembre and novembre 2084.\n",
    "\n",
    "We have data drift for all the features!! although it doesnt seems to make the model drift, lets take a closer look at that."
   ]
  },
  {
   "cell_type": "code",
   "execution_count": 274,
   "id": "0477d065",
   "metadata": {},
   "outputs": [],
   "source": [
    "# check distribution of data before and after \n",
    "\n",
    "# all the feature are drifting at the same time (noviembre 2073), lets investigate\n",
    "\n",
    "# price goes upppppp and new size of dimanods after our trainnig time --> should be that \n",
    "\n",
    "data.reset_index(drop=True, inplace=True)\n",
    "data.to_csv(\"data_production.csv\", encoding = 'utf-8', index=False)\n",
    "analysis_targets.to_csv('targets_analysis.csv', encoding = 'utf-8', index=False)"
   ]
  }
 ],
 "metadata": {
  "kernelspec": {
   "display_name": "Python 3 (ipykernel)",
   "language": "python",
   "name": "python3"
  },
  "language_info": {
   "codemirror_mode": {
    "name": "ipython",
    "version": 3
   },
   "file_extension": ".py",
   "mimetype": "text/x-python",
   "name": "python",
   "nbconvert_exporter": "python",
   "pygments_lexer": "ipython3",
   "version": "3.8.13"
  }
 },
 "nbformat": 4,
 "nbformat_minor": 5
}
